{
 "cells": [
  {
   "cell_type": "markdown",
   "metadata": {},
   "source": [
    "- last two weeks we used all kinds of linear regression models\n",
    "- including forward stepwise regression, lasso, ridge, and elastic net\n",
    "- this week we move on to multiple addictive regression models\n",
    "- such as gradient boosting trees\n",
    "- other models like random forest, bagging are quite similar\n",
    "\n",
    "\n",
    "- among them boosting tress are the most famous and powerful\n",
    "- there are several packages in this filed\n",
    "- the oldest one is gbm\n",
    "- the package h2o includes a parallel version of gbm\n",
    "- and a newer one which has the best performance on kaggle competition is xgboost\n",
    "- and currently Microsoft developed an even better package called lightgbm\n",
    "- these week we can try on these models to see whether they can acutally boost our performance\n",
    "\n",
    "\n",
    "- first we can install lightgbm from the zip file I sent to you\n",
    "- for linux users maybe you can follow the instruction online, and it would be easier"
   ]
  },
  {
   "cell_type": "code",
   "execution_count": 1,
   "metadata": {},
   "outputs": [],
   "source": [
    "# https://github.com/Laurae2/lgbdl\n",
    "# https://github.com/r-dbi/RPostgres/issues/110"
   ]
  },
  {
   "cell_type": "code",
   "execution_count": 1,
   "metadata": {},
   "outputs": [
    {
     "data": {
      "text/plain": [
       "<module 'stats' from 'C:\\\\Users\\\\dell\\\\stats.py'>"
      ]
     },
     "execution_count": 1,
     "metadata": {},
     "output_type": "execute_result"
    }
   ],
   "source": [
    "from helper import *\n",
    "from stats import *\n",
    "from product_info import *\n",
    "from imp import reload  \n",
    "import helper\n",
    "import stats\n",
    "reload(helper)\n",
    "reload(stats)"
   ]
  },
  {
   "cell_type": "code",
   "execution_count": 2,
   "metadata": {},
   "outputs": [],
   "source": [
    "import warnings\n",
    " \n",
    "warnings.filterwarnings('ignore')"
   ]
  },
  {
   "cell_type": "code",
   "execution_count": 3,
   "metadata": {},
   "outputs": [
    {
     "data": {
      "text/plain": [
       "16"
      ]
     },
     "execution_count": 3,
     "metadata": {},
     "output_type": "execute_result"
    }
   ],
   "source": [
    "CORE_NUM = int(os.environ['NUMBER_OF_PROCESSORS'])\n",
    "CORE_NUM\n",
    "## 16"
   ]
  },
  {
   "cell_type": "code",
   "execution_count": 4,
   "metadata": {},
   "outputs": [],
   "source": [
    "product_list = [\"bu\", \"ru\", \"v\", \"pp\", \"l\", \"jd\"]"
   ]
  },
  {
   "cell_type": "code",
   "execution_count": 5,
   "metadata": {},
   "outputs": [],
   "source": [
    "period = 4096"
   ]
  },
  {
   "cell_type": "code",
   "execution_count": 6,
   "metadata": {},
   "outputs": [
    {
     "data": {
      "text/plain": [
       "1066"
      ]
     },
     "execution_count": 6,
     "metadata": {},
     "output_type": "execute_result"
    }
   ],
   "source": [
    "all_dates = os.listdir(DATA_PATH + product_list[0])\n",
    "all_dates.sort()\n",
    "all_dates = np.array(all_dates)\n",
    "n_days = len(all_dates)\n",
    "n_days\n",
    "## 1066"
   ]
  },
  {
   "cell_type": "code",
   "execution_count": 7,
   "metadata": {},
   "outputs": [],
   "source": [
    "import dask\n",
    "from dask import compute, delayed\n",
    "import sklearn.preprocessing"
   ]
  },
  {
   "cell_type": "markdown",
   "metadata": {},
   "source": [
    "- fix a bug in week2\n",
    "- it may affect previous result but the result is still accpetable"
   ]
  },
  {
   "cell_type": "code",
   "execution_count": 9,
   "metadata": {},
   "outputs": [],
   "source": [
    "split_date = \"201910\"\n",
    "train_sample = all_dates<split_date\n",
    "test_sample = all_dates>split_date\n",
    "date_str = [n[0:8] for n in all_dates]\n",
    "format_dates = np.array([pd.to_datetime(d) for d in date_str])"
   ]
  },
  {
   "cell_type": "code",
   "execution_count": 10,
   "metadata": {},
   "outputs": [],
   "source": [
    "os.makedirs(HEAD_PATH+\"/all signal\", exist_ok=True)\n",
    "dire_signal_list = [\"trade.imb\", \"total.trade.imb\", \"nr\", \"dbook\", \"range.pos\", \"price.osci\", \"ma.dif.10\", \"kdj.k\", \"kdj.j\"]\n",
    "range_signal_list = [\"\", \"range\", \"std\", \"volume.open.ratio\", \"trend.index\"]\n",
    "all_signal_list = np.array([])\n",
    "for range_signal in range_signal_list:\n",
    "    for dire_signal in dire_signal_list:\n",
    "        if len(range_signal)==0:\n",
    "            signal_name = dire_signal\n",
    "        else:\n",
    "            signal_name = dire_signal+\".\"+range_signal\n",
    "        all_signal_list = np.append(all_signal_list,signal_name)\n",
    "signal_list = [signal+\".4096\" for signal in all_signal_list]\n",
    "np.append(signal_list, [\"ret.4096\", \"ret.4096.001\", \"ret.4096.002\"])\n",
    "n_signal = len(signal_list)"
   ]
  },
  {
   "cell_type": "code",
   "execution_count": 11,
   "metadata": {},
   "outputs": [],
   "source": [
    "from sklearn import linear_model\n",
    "from sklearn.model_selection import cross_val_score\n",
    "from sklearn.linear_model import lasso_path, LassoCV\n",
    "from sklearn.preprocessing import StandardScaler\n",
    "y_signal = \"ret.\"+str(period)+\".004\""
   ]
  },
  {
   "cell_type": "markdown",
   "metadata": {},
   "source": [
    "- let's begin with week 10\n",
    "- we can load xgboost and lightgbm at first"
   ]
  },
  {
   "cell_type": "code",
   "execution_count": 12,
   "metadata": {},
   "outputs": [],
   "source": [
    "import xgboost as xgb\n",
    "import lightgbm as lgb\n",
    "import os"
   ]
  },
  {
   "cell_type": "code",
   "execution_count": 13,
   "metadata": {},
   "outputs": [],
   "source": [
    "from sklearn.ensemble import GradientBoostingRegressor\n",
    "from sklearn.model_selection import GridSearchCV"
   ]
  },
  {
   "cell_type": "code",
   "execution_count": 14,
   "metadata": {},
   "outputs": [],
   "source": [
    "ori_mat = load(HEAD_PATH+\"/train test mat/\"+product_list[0]+\".train.mat.pkl\")\n",
    "signal_names = ori_mat.columns[0:-3]\n",
    "signal_names\n",
    "col_names = ori_mat.columns"
   ]
  },
  {
   "cell_type": "code",
   "execution_count": 15,
   "metadata": {},
   "outputs": [
    {
     "name": "stdout",
     "output_type": "stream",
     "text": [
      "ru (4164, 49)\n",
      "v (1756, 49)\n",
      "pp (2674, 49)\n",
      "l (1937, 49)\n",
      "jd (1563, 49)\n"
     ]
    }
   ],
   "source": [
    "train_mat = load(HEAD_PATH+\"/train test mat/\"+product_list[0]+\".train.mat.pkl\")\n",
    "for product in product_list[1:]:\n",
    "    cur_mat = load(HEAD_PATH+\"/train test mat/\"+product+\".train.mat.pkl\")\n",
    "    cur_mat = pd.DataFrame(data=sklearn.preprocessing.scale(cur_mat, with_mean=True), columns=col_names)\n",
    "    print(product, cur_mat.shape)\n",
    "    train_mat = train_mat.append(cur_mat)\n",
    "\n",
    "# ru (4164, 49)\n",
    "# v (1756, 49)\n",
    "# pp (2674, 49)\n",
    "# l (1937, 49)\n",
    "# jd (1563, 49)\n",
    "\n",
    "\n",
    "\n"
   ]
  },
  {
   "cell_type": "code",
   "execution_count": 16,
   "metadata": {},
   "outputs": [],
   "source": [
    "train_std_mat = dict([])\n",
    "train_mat = load(HEAD_PATH+\"/train test mat/\"+product_list[0]+\".train.mat.pkl\")\n",
    "train_mat = train_mat[0:0]\n",
    "test_mat = train_mat\n",
    "for product in product_list:\n",
    "    cur_train_mat = load(HEAD_PATH+\"/train test mat/\"+product+\".train.mat.pkl\")\n",
    "    train_std_mat[product] = np.std(cur_train_mat)\n",
    "    train_mat = train_mat.append(cur_train_mat/train_std_mat[product])\n",
    "    cur_test_mat = load(HEAD_PATH+\"/train test mat/\"+product+\".test.mat.pkl\")\n",
    "    test_mat = test_mat.append(cur_test_mat/train_std_mat[product])"
   ]
  },
  {
   "cell_type": "code",
   "execution_count": 17,
   "metadata": {},
   "outputs": [
    {
     "name": "stdout",
     "output_type": "stream",
     "text": [
      "(16094, 49)\n",
      "(24087, 49)\n"
     ]
    }
   ],
   "source": [
    "print(train_mat.shape)\n",
    "print(test_mat.shape)\n",
    "\n",
    "# (16094, 49)\n",
    "# (24087, 49)\n",
    "\n",
    "\n",
    "\n"
   ]
  },
  {
   "cell_type": "code",
   "execution_count": 18,
   "metadata": {},
   "outputs": [],
   "source": [
    "x_train = train_mat.iloc[:, :n_signal].values\n",
    "y_train = train_mat.loc[:, y_signal].values"
   ]
  },
  {
   "cell_type": "code",
   "execution_count": 19,
   "metadata": {},
   "outputs": [],
   "source": [
    "strat = \"energy.gbm.4096\""
   ]
  },
  {
   "cell_type": "markdown",
   "metadata": {},
   "source": [
    "- create a directory for the first strate"
   ]
  },
  {
   "cell_type": "code",
   "execution_count": 20,
   "metadata": {},
   "outputs": [],
   "source": [
    "for product in product_list:\n",
    "    os.makedirs(\"e:/intern\"+\"/tmp pkl/\"+product+\"/\"+strat, exist_ok=True)"
   ]
  },
  {
   "cell_type": "code",
   "execution_count": 21,
   "metadata": {},
   "outputs": [],
   "source": [
    "gb1 = GradientBoostingRegressor(random_state=0)\n",
    "param_grid = {\n",
    "        'n_estimators': np.arange(10,200,10),\n",
    "        'max_depth': [3,4,5,6,7,8,9,10],\n",
    "        'learning_rate':[0.01,0.1],\n",
    "        'min_samples_leaf': [10,20], \n",
    "    \n",
    "}\n"
   ]
  },
  {
   "cell_type": "code",
   "execution_count": 22,
   "metadata": {},
   "outputs": [
    {
     "name": "stdout",
     "output_type": "stream",
     "text": [
      "Wall time: 4h 34min 37s\n"
     ]
    },
    {
     "data": {
      "text/plain": [
       "GridSearchCV(cv=5, estimator=GradientBoostingRegressor(random_state=0),\n",
       "             n_jobs=16,\n",
       "             param_grid={'learning_rate': [0.01, 0.1],\n",
       "                         'max_depth': [3, 4, 5, 6, 7, 8, 9, 10],\n",
       "                         'min_samples_leaf': [10, 20],\n",
       "                         'n_estimators': array([ 10,  20,  30,  40,  50,  60,  70,  80,  90, 100, 110, 120, 130,\n",
       "       140, 150, 160, 170, 180, 190])})"
      ]
     },
     "execution_count": 22,
     "metadata": {},
     "output_type": "execute_result"
    }
   ],
   "source": [
    "%%time\n",
    "gbm1 = GridSearchCV(gb1, param_grid, n_jobs=CORE_NUM, cv=5);\n",
    "gbm1.fit(x_train, y_train);\n",
    "\n",
    "# Wall time: 4h 34min 37s\n",
    "\n",
    "# GridSearchCV(cv=5, estimator=GradientBoostingRegressor(random_state=0),\n",
    "#              n_jobs=16,\n",
    "#              param_grid={'learning_rate': [0.01, 0.1],\n",
    "#                          'max_depth': [3, 4, 5, 6, 7, 8, 9, 10],\n",
    "#                          'min_samples_leaf': [10, 20],\n",
    "#                          'n_estimators': array([ 10,  20,  30,  40,  50,  60,  70,  80,  90, 100, 110, 120, 130,\n",
    "#        140, 150, 160, 170, 180, 190])})\n",
    "\n",
    "\n",
    "\n",
    "\n"
   ]
  },
  {
   "cell_type": "code",
   "execution_count": 23,
   "metadata": {},
   "outputs": [
    {
     "data": {
      "text/plain": [
       "(16094, 45)"
      ]
     },
     "execution_count": 23,
     "metadata": {},
     "output_type": "execute_result"
    }
   ],
   "source": [
    "x_train.shape"
   ]
  },
  {
   "cell_type": "code",
   "execution_count": 24,
   "metadata": {},
   "outputs": [
    {
     "name": "stdout",
     "output_type": "stream",
     "text": [
      "Gradient boosted tree regression...\n",
      "Best Params:\n",
      "{'learning_rate': 0.01, 'max_depth': 8, 'min_samples_leaf': 10, 'n_estimators': 20}\n",
      "Best CV Score:\n",
      "-0.0002828421285822946\n"
     ]
    }
   ],
   "source": [
    "print('Gradient boosted tree regression...')\n",
    "print('Best Params:')\n",
    "print(gbm1.best_params_)\n",
    "print('Best CV Score:')\n",
    "print(gbm1.best_score_)\n",
    "save(gbm1, HEAD_PATH+\"/metal.gbm.4096.pkl\")\n",
    "\n",
    "# Gradient boosted tree regression...\n",
    "# Best Params:\n",
    "# {'learning_rate': 0.01, 'max_depth': 8, 'min_samples_leaf': 10, 'n_estimators': 20}\n",
    "# Best CV Score:\n",
    "# -0.0002828421285822946\n"
   ]
  },
  {
   "cell_type": "code",
   "execution_count": 25,
   "metadata": {},
   "outputs": [
    {
     "name": "stdout",
     "output_type": "stream",
     "text": [
      "Wall time: 53min 6s\n"
     ]
    },
    {
     "data": {
      "text/plain": [
       "''"
      ]
     },
     "execution_count": 25,
     "metadata": {},
     "output_type": "execute_result"
    }
   ],
   "source": [
    "%%time\n",
    "for product in product_list:\n",
    "    parLapply(CORE_NUM, all_dates, get_daily_gbm, \n",
    "          product=product, signal_list=signal_list, \n",
    "          model=gbm1, strat=strat, HEAD_PATH=HEAD_PATH, SAVE_PATH=\"e:/intern\", train_std=np.array(train_std_mat[product][:n_signal]))\n",
    ";\n",
    "# Wall time: 53min 6s"
   ]
  },
  {
   "cell_type": "code",
   "execution_count": 26,
   "metadata": {},
   "outputs": [],
   "source": [
    "signal_name = strat\n",
    "SAVE_PATH = \"e:/intern\""
   ]
  },
  {
   "cell_type": "code",
   "execution_count": 27,
   "metadata": {},
   "outputs": [
    {
     "name": "stdout",
     "output_type": "stream",
     "text": [
      "Wall time: 2min 26s\n"
     ]
    }
   ],
   "source": [
    "%%time\n",
    "for product in product_list:\n",
    "    par_get_all_signal(strat, all_dates, product, 4096, SAVE_PATH=\"e:/intern\")\n",
    "\n",
    "## Wall time: 2min 26s"
   ]
  },
  {
   "cell_type": "code",
   "execution_count": 28,
   "metadata": {},
   "outputs": [
    {
     "name": "stdout",
     "output_type": "stream",
     "text": [
      "reverse=1\n",
      "reverse=1\n",
      "reverse=1\n",
      "reverse=1\n",
      "reverse=1\n",
      "reverse=1\n",
      "Wall time: 16min 20s\n"
     ]
    }
   ],
   "source": [
    "%%time\n",
    "for product in product_list:\n",
    "    spread = product_info[product][\"spread\"]\n",
    "    tranct = product_info[product][\"tranct\"]\n",
    "    tranct_ratio = product_info[product][\"tranct.ratio\"]\n",
    "    evaluate_signal(\"energy.gbm\", all_dates, product, 2, 20, CORE_NUM, HEAD_PATH, SAVE_PATH,\n",
    "                    period=4096, split_str=split_date, tranct=tranct, \n",
    "                    max_spread=spread+0.1, tranct_ratio=tranct_ratio, atr_filter=0.01, save_path=\"signal result atr\",reverse=1)\n",
    "\n",
    "# reverse=1\n",
    "# reverse=1\n",
    "# reverse=1\n",
    "# reverse=1\n",
    "# reverse=1\n",
    "# reverse=1\n",
    "# Wall time: 16min 20s\n",
    "\n"
   ]
  },
  {
   "cell_type": "code",
   "execution_count": 29,
   "metadata": {},
   "outputs": [
    {
     "name": "stdout",
     "output_type": "stream",
     "text": [
      "pp train sharpe  0.87810887225566 test sharpe  -0.4795506477194235\n",
      "train sharpe:  0.8781088722556619 test sharpe:  -0.4795506477194255\n"
     ]
    },
    {
     "data": {
      "image/png": "[encoded data removed]",
      "text/plain": [
       "<Figure size 1152x720 with 1 Axes>"
      ]
     },
     "metadata": {
      "needs_background": "light"
     },
     "output_type": "display_data"
    }
   ],
   "source": [
    "i = 0\n",
    "strat = \"energy.gbm.4096\"\n",
    "test_all_pnl = np.zeros([sum(test_sample), len(product_list)])\n",
    "train_all_pnl = np.zeros([sum(train_sample), len(product_list)])\n",
    "min_pnl = 10\n",
    "min_num = 10\n",
    "for product in product_list:\n",
    "    spread = product_info[product][\"spread\"]\n",
    "    signal_stat = load(HEAD_PATH+\"/signal result atr/\"+product+\".\"+strat+\".trend.pkl\")\n",
    "    train_stat = signal_stat[\"train.stat\"]\n",
    "    good_strat = (train_stat[\"final.result\"][\"avg.pnl\"]>min_pnl*spread) & (train_stat[\"final.result\"][\"num\"]>min_num)\n",
    "    if (sum(good_strat)>0):\n",
    "        train_pnl = train_stat[\"daily.ret\"].loc[:, good_strat].sum(axis=1)/sum(good_strat)\n",
    "        test_stat = signal_stat[\"test.stat\"]\n",
    "        test_pnl = test_stat[\"daily.ret\"].loc[:, good_strat].sum(axis=1)/sum(good_strat)\n",
    "        print(product, \"train sharpe \", sharpe(train_pnl), \"test sharpe \", sharpe(test_pnl))\n",
    "        test_all_pnl[:,i] = test_pnl\n",
    "        train_all_pnl[:,i] = train_pnl\n",
    "        i = i+1\n",
    "train_portfolio = np.array(np.mean(train_all_pnl, axis=1))\n",
    "test_portfolio = np.array(np.mean(test_all_pnl, axis=1))\n",
    "all_portfolio = np.append(train_portfolio, test_portfolio)\n",
    "plt.figure(1, figsize=(16, 10));\n",
    "plt.title(\"\");\n",
    "plt.xlabel(\"date\");\n",
    "plt.ylabel(\"pnl\");\n",
    "plt.title(\"portfolio\");\n",
    "plt.plot(format_dates, all_portfolio.cumsum());\n",
    "plt.plot(format_dates[test_sample], all_portfolio.cumsum()[test_sample])\n",
    "print(\"train sharpe: \", sharpe(train_portfolio), \"test sharpe: \", sharpe(test_portfolio))    \n",
    "\n",
    "# pp train sharpe  0.87810887225566 test sharpe  -0.4795506477194235\n",
    "# train sharpe:  0.8781088722556619 test sharpe:  -0.4795506477194255\n",
    "\n",
    "\n",
    "    "
   ]
  },
  {
   "cell_type": "markdown",
   "metadata": {},
   "source": [
    "- now we can go on with rolling gbm model\n",
    "- it's added this term of course"
   ]
  },
  {
   "cell_type": "code",
   "execution_count": 30,
   "metadata": {},
   "outputs": [],
   "source": [
    "month = np.array([file[:6] for file in all_dates])\n",
    "month_len = np.unique(month, return_counts=True)"
   ]
  },
  {
   "cell_type": "code",
   "execution_count": 31,
   "metadata": {},
   "outputs": [],
   "source": [
    "## rolling model for gradient boosting machine\n",
    "## returned value is the training sample standard deviation and the final model\n",
    "def get_multiple_gbm_roll_model(train_start, train_end, y_signal, forward_len, strat, \n",
    "                          product_list, period=4096, SAVE_PATH=\"e:/intern\"):\n",
    "    cum_daily_ticks = dict([])\n",
    "    train_tick_start = dict([])\n",
    "    train_tick_end = dict([])   \n",
    "    test_tick_start = dict([])\n",
    "    test_tick_end = dict([])\n",
    "    for product in product_list:\n",
    "        cum_daily_ticks[product] = daily_ticks[product].cumsum()\n",
    "        if train_start==0:\n",
    "            train_tick_start[product] = 0\n",
    "        else:\n",
    "            train_tick_start[product] = int(cum_daily_ticks[product][train_start-1]+1)\n",
    "        train_tick_end[product] = int(cum_daily_ticks[product][train_end]-1)\n",
    "        test_tick_start[product] = int(train_tick_end[product]+2)\n",
    "        test_tick_end[product] = int(cum_daily_ticks[product][train_end+1])\n",
    "    coef_list = dict([])\n",
    "    gb1 = GradientBoostingRegressor(random_state=0)\n",
    "    param_grid = {\n",
    "            'n_estimators': np.arange(10,100,10),\n",
    "            'max_depth': [3,4,5],\n",
    "            'learning_rate':[0.01],\n",
    "            'min_samples_leaf': [20], \n",
    "    }\n",
    "    model = GridSearchCV(gb1, param_grid, n_jobs=CORE_NUM, cv=5);\n",
    "    train_mat = np.zeros((0,n_signal))\n",
    "    y_train = np.array([])\n",
    "    train_std_mat = dict([])\n",
    "    y_std = dict([])\n",
    "    for product in product_list:\n",
    "        x_train = all_mat[product].iloc[train_tick_start[product]:train_tick_end[product], :n_signal].values\n",
    "        cur_y_train = all_mat[product][y_signal][train_tick_start[product]:train_tick_end[product]]\n",
    "        train_std_mat[product] = np.std(x_train)\n",
    "        y_std[product] = np.std(cur_y_train)\n",
    "        train_mat = np.append(train_mat,x_train/train_std_mat[product], axis=0)\n",
    "        y_train = np.append(y_train, cur_y_train/y_std[product])\n",
    "    model.fit(train_mat, y_train);\n",
    "    os.makedirs(SAVE_PATH+\"/model\", exist_ok=True)\n",
    "    save([train_std_mat, y_std, model], SAVE_PATH+\"/model/\"+strat+\".pkl\")\n",
    "    \n"
   ]
  },
  {
   "cell_type": "code",
   "execution_count": 32,
   "metadata": {},
   "outputs": [
    {
     "name": "stdout",
     "output_type": "stream",
     "text": [
      "['201910' '201911' '201912' '202001' '202002' '202003' '202004' '202005'\n",
      " '202006' '202007' '202008' '202009' '202010' '202011' '202012' '202101'\n",
      " '202102' '202103' '202104' '202105' '202106' '202107' '202108' '202109'\n",
      " '202110' '202111' '202112' '202201' '202202']\n"
     ]
    }
   ],
   "source": [
    "test_range = np.where(month_len[0] >= split_date )[0]\n",
    "print(month_len[0][test_range])\n",
    "start_month = 0\n",
    "end_month = sum(month_len[0] < split_date)-1\n",
    "cum_month_len = np.cumsum(month_len[1])\n",
    "\n",
    "# ['201910' '201911' '201912' '202001' '202002' '202003' '202004' '202005'\n",
    "#  '202006' '202007' '202008' '202009' '202010' '202011' '202012' '202101'\n",
    "#  '202102' '202103' '202104' '202105' '202106' '202107' '202108' '202109'\n",
    "#  '202110' '202111' '202112' '202201' '202202']\n",
    "\n",
    "\n",
    "\n"
   ]
  },
  {
   "cell_type": "code",
   "execution_count": 33,
   "metadata": {},
   "outputs": [],
   "source": [
    "daily_ticks = dict([])\n",
    "all_mat = dict([])\n",
    "for product in product_list:\n",
    "    daily_num = load(HEAD_PATH+\"/daily num/\"+product+\".pkl\")\n",
    "    daily_ticks[product] = daily_num\n",
    "    test_mat = load(HEAD_PATH+\"/train test mat/\"+product+\".test.mat.pkl\")\n",
    "    train_mat = load(HEAD_PATH+\"/train test mat/\"+product+\".train.mat.pkl\")\n",
    "    all_mat[product] = pd.concat((train_mat, test_mat))"
   ]
  },
  {
   "cell_type": "code",
   "execution_count": 34,
   "metadata": {},
   "outputs": [
    {
     "name": "stdout",
     "output_type": "stream",
     "text": [
      "24 201910\n",
      "25 201911\n",
      "26 201912\n",
      "27 202001\n",
      "28 202002\n",
      "29 202003\n",
      "30 202004\n",
      "31 202005\n",
      "32 202006\n",
      "33 202007\n",
      "34 202008\n",
      "35 202009\n",
      "36 202010\n",
      "37 202011\n",
      "38 202012\n",
      "39 202101\n",
      "40 202102\n",
      "41 202103\n",
      "42 202104\n",
      "43 202105\n",
      "44 202106\n",
      "45 202107\n",
      "46 202108\n",
      "47 202109\n",
      "48 202110\n",
      "49 202111\n",
      "50 202112\n",
      "51 202201\n",
      "52 202202\n",
      "Wall time: 2h 19min 50s\n"
     ]
    }
   ],
   "source": [
    "%%time\n",
    "#strat = \"gbm.4096\"\n",
    "strat = \"energy.gbm.4096\"\n",
    "y_signal = \"ret.4096.004\"\n",
    "start_month = 0\n",
    "end_month = sum(month_len[0] < split_date)-1\n",
    "for i_test in test_range:\n",
    "    forward_len = month_len[1][i_test]\n",
    "    train_start = 0 if start_month==0 else cum_month_len[start_month-1]\n",
    "    train_end = cum_month_len[end_month]-1\n",
    "    print(i_test, month_len[0][i_test])\n",
    "    get_multiple_gbm_roll_model(train_start, train_end, y_signal, forward_len, strat+\".\"+month_len[0][i_test], \n",
    "                          product_list, period=4096, SAVE_PATH=\"e:/intern\")\n",
    "    start_month = start_month+1\n",
    "    end_month = end_month+1\n",
    "\n",
    "# 24 201910\n",
    "# 25 201911\n",
    "# 26 201912\n",
    "# 27 202001\n",
    "# 28 202002\n",
    "# 29 202003\n",
    "# 30 202004\n",
    "# 31 202005\n",
    "# 32 202006\n",
    "# 33 202007\n",
    "# 34 202008\n",
    "# 35 202009\n",
    "# 36 202010\n",
    "# 37 202011\n",
    "# 38 202012\n",
    "# 39 202101\n",
    "# 40 202102\n",
    "# 41 202103\n",
    "# 42 202104\n",
    "# 43 202105\n",
    "# 44 202106\n",
    "# 45 202107\n",
    "# 46 202108\n",
    "# 47 202109\n",
    "# 48 202110\n",
    "# 49 202111\n",
    "# 50 202112\n",
    "# 51 202201\n",
    "# 52 202202\n",
    "# Wall time: 2h 19min 50s"
   ]
  },
  {
   "cell_type": "markdown",
   "metadata": {},
   "source": [
    "- now we can generate values of each model"
   ]
  },
  {
   "cell_type": "code",
   "execution_count": 35,
   "metadata": {},
   "outputs": [],
   "source": [
    "def get_daily_gbm(file_name, product, signal_list, model, strat, HEAD_PATH, SAVE_PATH, train_std, y_std, thre=float('Inf')):\n",
    "    signal_mat = load(SAVE_PATH+\"/signal mat pkl/\"+product+\"/\"+file_name).T/train_std\n",
    "    S = model.predict(signal_mat)*y_std\n",
    "    S[np.abs(S)>thre] = 0\n",
    "    save(S, SAVE_PATH+\"/tmp pkl/\"+product+\"/\"+strat+\"/\"+file_name)"
   ]
  },
  {
   "cell_type": "code",
   "execution_count": 36,
   "metadata": {},
   "outputs": [
    {
     "name": "stdout",
     "output_type": "stream",
     "text": [
      "24 201910\n",
      "25 201911\n",
      "26 201912\n",
      "27 202001\n",
      "28 202002\n",
      "29 202003\n",
      "30 202004\n",
      "31 202005\n",
      "32 202006\n",
      "33 202007\n",
      "34 202008\n",
      "35 202009\n",
      "36 202010\n",
      "37 202011\n",
      "38 202012\n",
      "39 202101\n",
      "40 202102\n",
      "41 202103\n",
      "42 202104\n",
      "43 202105\n",
      "44 202106\n",
      "45 202107\n",
      "46 202108\n",
      "47 202109\n",
      "48 202110\n",
      "49 202111\n",
      "50 202112\n",
      "51 202201\n",
      "52 202202\n",
      "Wall time: 12h 39min 28s\n"
     ]
    }
   ],
   "source": [
    "%%time\n",
    "start_month = 0\n",
    "SAVE_PATH = \"e:/intern\"\n",
    "end_month = sum(month_len[0] < split_date)-1\n",
    "for i_test in test_range:\n",
    "    forward_len = month_len[1][i_test]\n",
    "    train_start = 0 if start_month==0 else cum_month_len[start_month-1]\n",
    "    train_end = cum_month_len[end_month]-1\n",
    "    print(i_test, month_len[0][i_test])\n",
    "    strat_name = strat+\".\"+month_len[0][i_test]\n",
    "    [train_std_mat, y_std, model] = load(SAVE_PATH+\"/model/\"+strat_name+\".pkl\")\n",
    "    for product in product_list:\n",
    "        os.makedirs(SAVE_PATH+\"/tmp pkl/\"+product+\"/\"+strat_name, exist_ok=True)\n",
    "        parLapply(CORE_NUM,all_dates[train_start:(train_end+forward_len+1)], get_daily_gbm, \n",
    "          product=product, signal_list=signal_list, \n",
    "          model=model, strat=strat_name, HEAD_PATH=HEAD_PATH, SAVE_PATH=\"e:/intern\", train_std=train_std_mat[product], y_std=y_std[product])\n",
    "    start_month = start_month+1\n",
    "    end_month = end_month+1\n",
    "\n",
    "# 24 201910\n",
    "# 25 201911\n",
    "# 26 201912\n",
    "# 27 202001\n",
    "# 28 202002\n",
    "# 29 202003\n",
    "# 30 202004\n",
    "# 31 202005\n",
    "# 32 202006\n",
    "# 33 202007\n",
    "# 34 202008\n",
    "# 35 202009\n",
    "# 36 202010\n",
    "# 37 202011\n",
    "# 38 202012\n",
    "# 39 202101\n",
    "# 40 202102\n",
    "# 41 202103\n",
    "# 42 202104\n",
    "# 43 202105\n",
    "# 44 202106\n",
    "# 45 202107\n",
    "# 46 202108\n",
    "# 47 202109\n",
    "# 48 202110\n",
    "# 49 202111\n",
    "# 50 202112\n",
    "# 51 202201\n",
    "# 52 202202\n",
    "# Wall time: 12h 39min 28s\n"
   ]
  },
  {
   "cell_type": "code",
   "execution_count": 37,
   "metadata": {
    "scrolled": false
   },
   "outputs": [
    {
     "name": "stdout",
     "output_type": "stream",
     "text": [
      "201910 20171009.pkl 20190930.pkl\n",
      "201911 20171101.pkl 20191031.pkl\n",
      "201912 20171201.pkl 20191129.pkl\n",
      "202001 20180102.pkl 20191231.pkl\n",
      "202002 20180201.pkl 20200123.pkl\n",
      "202003 20180301.pkl 20200228.pkl\n",
      "202004 20180402.pkl 20200331.pkl\n",
      "202005 20180502.pkl 20200430.pkl\n",
      "202006 20180601.pkl 20200529.pkl\n",
      "202007 20180702.pkl 20200630.pkl\n",
      "202008 20180801.pkl 20200731.pkl\n",
      "202009 20180903.pkl 20200831.pkl\n",
      "202010 20181008.pkl 20200930.pkl\n",
      "202011 20181101.pkl 20201030.pkl\n",
      "202012 20181203.pkl 20201130.pkl\n",
      "202101 20190102.pkl 20201231.pkl\n",
      "202102 20190201.pkl 20210129.pkl\n",
      "202103 20190301.pkl 20210226.pkl\n",
      "202104 20190401.pkl 20210331.pkl\n",
      "202105 20190506.pkl 20210430.pkl\n",
      "202106 20190603.pkl 20210531.pkl\n",
      "202107 20190701.pkl 20210630.pkl\n",
      "202108 20190801.pkl 20210730.pkl\n",
      "202109 20190902.pkl 20210831.pkl\n",
      "202110 20191008.pkl 20210930.pkl\n",
      "202111 20191101.pkl 20211029.pkl\n",
      "202112 20191202.pkl 20211130.pkl\n",
      "202201 20200102.pkl 20211231.pkl\n",
      "202202 20200203.pkl 20220128.pkl\n",
      "Wall time: 17min 4s\n"
     ]
    }
   ],
   "source": [
    "%%time\n",
    "strat = \"energy.gbm.4096\"\n",
    "start_month = 0\n",
    "end_month = sum(month_len[0] < split_date)-1\n",
    "for i_test in test_range:\n",
    "    train_start = 0 if start_month==0 else cum_month_len[start_month-1]\n",
    "    train_end = cum_month_len[end_month]-1\n",
    "    print(month_len[0][i_test], all_dates[train_start], all_dates[train_end])\n",
    "    for product in product_list:\n",
    "        par_get_all_signal(strat+\".\"+month_len[0][i_test], all_dates[train_start:(train_end+1)], product, 4096, SAVE_PATH=\"e:/intern\")\n",
    "    start_month = start_month+1\n",
    "    end_month = end_month+1\n",
    "\n",
    "# 201807 20160601.pkl 20180629.pkl\n",
    "# 201808 20160701.pkl 20180731.pkl\n",
    "# 201809 20160801.pkl 20180831.pkl\n",
    "# 201810 20160901.pkl 20180928.pkl\n",
    "# 201811 20161010.pkl 20181031.pkl\n",
    "# 201812 20161101.pkl 20181130.pkl\n",
    "# 201901 20161201.pkl 20181228.pkl\n",
    "# 201902 20170103.pkl 20190131.pkl\n",
    "# 201903 20170203.pkl 20190228.pkl\n",
    "# 201904 20170301.pkl 20190329.pkl\n",
    "# 201905 20170405.pkl 20190430.pkl\n",
    "# 201906 20170502.pkl 20190531.pkl\n",
    "# 201907 20170601.pkl 20190628.pkl\n",
    "# 201908 20170703.pkl 20190731.pkl\n",
    "# 201909 20170801.pkl 20190830.pkl\n",
    "# 201910 20170901.pkl 20190930.pkl\n",
    "# 201911 20171009.pkl 20191031.pkl\n",
    "# 201912 20171101.pkl 20191129.pkl\n",
    "# 202001 20171201.pkl 20191231.pkl\n",
    "# 202002 20180102.pkl 20200123.pkl\n",
    "# 202003 20180201.pkl 20200228.pkl\n",
    "# 202004 20180301.pkl 20200331.pkl\n",
    "# 202005 20180402.pkl 20200430.pkl\n",
    "# 202006 20180502.pkl 20200529.pkl\n",
    "# 202007 20180601.pkl 20200630.pkl\n",
    "# 202008 20180702.pkl 20200731.pkl\n",
    "# 202009 20180801.pkl 20200831.pkl\n",
    "# 202010 20180903.pkl 20200930.pkl\n",
    "# 202011 20181008.pkl 20201030.pkl\n",
    "# Wall time: 9min 30s\n"
   ]
  },
  {
   "cell_type": "code",
   "execution_count": 38,
   "metadata": {},
   "outputs": [],
   "source": [
    "def get_roll_result(product, strat,test_range, month_len, split_date, atr_filter=0, save_path=\"signal result atr\", \n",
    "                          HEAD_PATH=\"d:/intern\", SIGNAL_PATH=\"e:/intern\"):\n",
    "    start_month = 0\n",
    "    end_month = sum(month_len[0] < split_date)-1\n",
    "    tranct = product_info[product][\"tranct\"]\n",
    "    tranct_ratio = product_info[product][\"tranct.ratio\"]\n",
    "    spread = product_info[product][\"spread\"]\n",
    "    for i_test in test_range:\n",
    "        forward_len = month_len[1][i_test]\n",
    "        train_start = 0 if start_month==0 else cum_month_len[start_month-1]\n",
    "        train_end = cum_month_len[end_month]-1\n",
    "        strat_name = strat+\".\"+month_len[0][i_test]\n",
    "        print(product, i_test, strat_name)\n",
    "        all_signal = load(SIGNAL_PATH+\"/all signal/\"+product+\".\"+strat_name+\".pkl\")\n",
    "        open_list = np.quantile(abs(all_signal), np.append(np.arange(0.991,0.999,0.001),np.arange(0.9991,0.9999,0.0001)))\n",
    "        thre_list = []\n",
    "        for cartesian in itertools.product(open_list, np.array([0.2, 0.4, 0.6, 0.8, 1.0])):\n",
    "            thre_list.append((cartesian[0], -cartesian[0] * cartesian[1]))\n",
    "        thre_list = np.array(thre_list)\n",
    "        thre_mat = pd.DataFrame(data=OrderedDict([(\"open\", thre_list[:, 0]), (\"close\", thre_list[:, 1])]))\n",
    "        train_result = parLapply(CORE_NUM, all_dates[train_start:(train_end+1)], get_signal_pnl, \n",
    "                             product=product, signal_name=strat_name, thre_mat=thre_mat, reverse=1, tranct=tranct, \n",
    "                             max_spread=spread*1.1, tranct_ratio=tranct_ratio, HEAD_PATH=HEAD_PATH, SIGNAL_PATH=SIGNAL_PATH,\n",
    "                            atr_filter=atr_filter, rebate=0)\n",
    "        train_stat = get_hft_summary(train_result, thre_mat, train_end-train_start+1)\n",
    "        test_result = parLapply(CORE_NUM, all_dates[(train_end+1):(train_end+forward_len+1)], get_signal_pnl, \n",
    "                            product=product, signal_name=strat_name, thre_mat=thre_mat, reverse=1, tranct=tranct, \n",
    "                             max_spread=spread*1.1, tranct_ratio=tranct_ratio, HEAD_PATH=HEAD_PATH, SIGNAL_PATH=SIGNAL_PATH,\n",
    "                            atr_filter=atr_filter, rebate=0)\n",
    "        test_stat = get_hft_summary(test_result, thre_mat, forward_len)\n",
    "        stat_result = OrderedDict([(\"train.stat\", train_stat), (\"test.stat\", test_stat)])    \n",
    "        save(stat_result, HEAD_PATH+\"/\"+save_path+\"/\"+product+\".\"+strat_name+\".pkl\")\n",
    "        start_month = start_month+1\n",
    "        end_month = end_month+1\n"
   ]
  },
  {
   "cell_type": "code",
   "execution_count": 39,
   "metadata": {
    "scrolled": false
   },
   "outputs": [
    {
     "name": "stdout",
     "output_type": "stream",
     "text": [
      "bu 24 energy.gbm.4096.201910\n",
      "bu 25 energy.gbm.4096.201911\n",
      "bu 26 energy.gbm.4096.201912\n",
      "bu 27 energy.gbm.4096.202001\n",
      "bu 28 energy.gbm.4096.202002\n",
      "bu 29 energy.gbm.4096.202003\n",
      "bu 30 energy.gbm.4096.202004\n",
      "bu 31 energy.gbm.4096.202005\n",
      "bu 32 energy.gbm.4096.202006\n",
      "bu 33 energy.gbm.4096.202007\n",
      "bu 34 energy.gbm.4096.202008\n",
      "bu 35 energy.gbm.4096.202009\n",
      "bu 36 energy.gbm.4096.202010\n",
      "bu 37 energy.gbm.4096.202011\n",
      "bu 38 energy.gbm.4096.202012\n",
      "bu 39 energy.gbm.4096.202101\n",
      "bu 40 energy.gbm.4096.202102\n",
      "bu 41 energy.gbm.4096.202103\n",
      "bu 42 energy.gbm.4096.202104\n",
      "bu 43 energy.gbm.4096.202105\n",
      "bu 44 energy.gbm.4096.202106\n",
      "bu 45 energy.gbm.4096.202107\n",
      "bu 46 energy.gbm.4096.202108\n",
      "bu 47 energy.gbm.4096.202109\n",
      "bu 48 energy.gbm.4096.202110\n",
      "bu 49 energy.gbm.4096.202111\n",
      "bu 50 energy.gbm.4096.202112\n",
      "bu 51 energy.gbm.4096.202201\n",
      "bu 52 energy.gbm.4096.202202\n",
      "ru 24 energy.gbm.4096.201910\n",
      "ru 25 energy.gbm.4096.201911\n",
      "ru 26 energy.gbm.4096.201912\n",
      "ru 27 energy.gbm.4096.202001\n",
      "ru 28 energy.gbm.4096.202002\n",
      "ru 29 energy.gbm.4096.202003\n",
      "ru 30 energy.gbm.4096.202004\n",
      "ru 31 energy.gbm.4096.202005\n",
      "ru 32 energy.gbm.4096.202006\n",
      "ru 33 energy.gbm.4096.202007\n",
      "ru 34 energy.gbm.4096.202008\n",
      "ru 35 energy.gbm.4096.202009\n",
      "ru 36 energy.gbm.4096.202010\n",
      "ru 37 energy.gbm.4096.202011\n",
      "ru 38 energy.gbm.4096.202012\n",
      "ru 39 energy.gbm.4096.202101\n",
      "ru 40 energy.gbm.4096.202102\n",
      "ru 41 energy.gbm.4096.202103\n",
      "ru 42 energy.gbm.4096.202104\n",
      "ru 43 energy.gbm.4096.202105\n",
      "ru 44 energy.gbm.4096.202106\n",
      "ru 45 energy.gbm.4096.202107\n",
      "ru 46 energy.gbm.4096.202108\n",
      "ru 47 energy.gbm.4096.202109\n",
      "ru 48 energy.gbm.4096.202110\n",
      "ru 49 energy.gbm.4096.202111\n",
      "ru 50 energy.gbm.4096.202112\n",
      "ru 51 energy.gbm.4096.202201\n",
      "ru 52 energy.gbm.4096.202202\n",
      "v 24 energy.gbm.4096.201910\n",
      "v 25 energy.gbm.4096.201911\n",
      "v 26 energy.gbm.4096.201912\n",
      "v 27 energy.gbm.4096.202001\n",
      "v 28 energy.gbm.4096.202002\n",
      "v 29 energy.gbm.4096.202003\n",
      "v 30 energy.gbm.4096.202004\n",
      "v 31 energy.gbm.4096.202005\n",
      "v 32 energy.gbm.4096.202006\n",
      "v 33 energy.gbm.4096.202007\n",
      "v 34 energy.gbm.4096.202008\n",
      "v 35 energy.gbm.4096.202009\n",
      "v 36 energy.gbm.4096.202010\n",
      "v 37 energy.gbm.4096.202011\n",
      "v 38 energy.gbm.4096.202012\n",
      "v 39 energy.gbm.4096.202101\n",
      "v 40 energy.gbm.4096.202102\n",
      "v 41 energy.gbm.4096.202103\n",
      "v 42 energy.gbm.4096.202104\n",
      "v 43 energy.gbm.4096.202105\n",
      "v 44 energy.gbm.4096.202106\n",
      "v 45 energy.gbm.4096.202107\n",
      "v 46 energy.gbm.4096.202108\n",
      "v 47 energy.gbm.4096.202109\n",
      "v 48 energy.gbm.4096.202110\n",
      "v 49 energy.gbm.4096.202111\n",
      "v 50 energy.gbm.4096.202112\n",
      "v 51 energy.gbm.4096.202201\n",
      "v 52 energy.gbm.4096.202202\n",
      "pp 24 energy.gbm.4096.201910\n",
      "pp 25 energy.gbm.4096.201911\n",
      "pp 26 energy.gbm.4096.201912\n",
      "pp 27 energy.gbm.4096.202001\n",
      "pp 28 energy.gbm.4096.202002\n",
      "pp 29 energy.gbm.4096.202003\n",
      "pp 30 energy.gbm.4096.202004\n",
      "pp 31 energy.gbm.4096.202005\n",
      "pp 32 energy.gbm.4096.202006\n",
      "pp 33 energy.gbm.4096.202007\n",
      "pp 34 energy.gbm.4096.202008\n",
      "pp 35 energy.gbm.4096.202009\n",
      "pp 36 energy.gbm.4096.202010\n",
      "pp 37 energy.gbm.4096.202011\n",
      "pp 38 energy.gbm.4096.202012\n",
      "pp 39 energy.gbm.4096.202101\n",
      "pp 40 energy.gbm.4096.202102\n",
      "pp 41 energy.gbm.4096.202103\n",
      "pp 42 energy.gbm.4096.202104\n",
      "pp 43 energy.gbm.4096.202105\n",
      "pp 44 energy.gbm.4096.202106\n",
      "pp 45 energy.gbm.4096.202107\n",
      "pp 46 energy.gbm.4096.202108\n",
      "pp 47 energy.gbm.4096.202109\n",
      "pp 48 energy.gbm.4096.202110\n",
      "pp 49 energy.gbm.4096.202111\n",
      "pp 50 energy.gbm.4096.202112\n",
      "pp 51 energy.gbm.4096.202201\n",
      "pp 52 energy.gbm.4096.202202\n",
      "l 24 energy.gbm.4096.201910\n",
      "l 25 energy.gbm.4096.201911\n",
      "l 26 energy.gbm.4096.201912\n",
      "l 27 energy.gbm.4096.202001\n",
      "l 28 energy.gbm.4096.202002\n",
      "l 29 energy.gbm.4096.202003\n",
      "l 30 energy.gbm.4096.202004\n",
      "l 31 energy.gbm.4096.202005\n",
      "l 32 energy.gbm.4096.202006\n",
      "l 33 energy.gbm.4096.202007\n",
      "l 34 energy.gbm.4096.202008\n",
      "l 35 energy.gbm.4096.202009\n",
      "l 36 energy.gbm.4096.202010\n",
      "l 37 energy.gbm.4096.202011\n",
      "l 38 energy.gbm.4096.202012\n",
      "l 39 energy.gbm.4096.202101\n",
      "l 40 energy.gbm.4096.202102\n",
      "l 41 energy.gbm.4096.202103\n",
      "l 42 energy.gbm.4096.202104\n",
      "l 43 energy.gbm.4096.202105\n",
      "l 44 energy.gbm.4096.202106\n",
      "l 45 energy.gbm.4096.202107\n",
      "l 46 energy.gbm.4096.202108\n",
      "l 47 energy.gbm.4096.202109\n",
      "l 48 energy.gbm.4096.202110\n",
      "l 49 energy.gbm.4096.202111\n",
      "l 50 energy.gbm.4096.202112\n",
      "l 51 energy.gbm.4096.202201\n",
      "l 52 energy.gbm.4096.202202\n",
      "jd 24 energy.gbm.4096.201910\n",
      "jd 25 energy.gbm.4096.201911\n",
      "jd 26 energy.gbm.4096.201912\n",
      "jd 27 energy.gbm.4096.202001\n",
      "jd 28 energy.gbm.4096.202002\n",
      "jd 29 energy.gbm.4096.202003\n",
      "jd 30 energy.gbm.4096.202004\n",
      "jd 31 energy.gbm.4096.202005\n",
      "jd 32 energy.gbm.4096.202006\n",
      "jd 33 energy.gbm.4096.202007\n",
      "jd 34 energy.gbm.4096.202008\n",
      "jd 35 energy.gbm.4096.202009\n",
      "jd 36 energy.gbm.4096.202010\n",
      "jd 37 energy.gbm.4096.202011\n",
      "jd 38 energy.gbm.4096.202012\n",
      "jd 39 energy.gbm.4096.202101\n",
      "jd 40 energy.gbm.4096.202102\n",
      "jd 41 energy.gbm.4096.202103\n",
      "jd 42 energy.gbm.4096.202104\n",
      "jd 43 energy.gbm.4096.202105\n",
      "jd 44 energy.gbm.4096.202106\n",
      "jd 45 energy.gbm.4096.202107\n",
      "jd 46 energy.gbm.4096.202108\n",
      "jd 47 energy.gbm.4096.202109\n",
      "jd 48 energy.gbm.4096.202110\n",
      "jd 49 energy.gbm.4096.202111\n",
      "jd 50 energy.gbm.4096.202112\n",
      "jd 51 energy.gbm.4096.202201\n",
      "jd 52 energy.gbm.4096.202202\n",
      "Wall time: 3h 51min 43s\n"
     ]
    }
   ],
   "source": [
    "%%time\n",
    "strat = \"energy.gbm.4096\"\n",
    "for product in product_list:\n",
    "    get_roll_result(product, strat, test_range, month_len, split_date=split_date,atr_filter=0.01)\n",
    "\n",
    "## Wall time: 3h 51min 43s"
   ]
  },
  {
   "cell_type": "code",
   "execution_count": 40,
   "metadata": {},
   "outputs": [
    {
     "name": "stdout",
     "output_type": "stream",
     "text": [
      "sharpe  -0.5136771820430899\n"
     ]
    },
    {
     "data": {
      "image/png": "[encoded data removed]",
      "text/plain": [
       "<Figure size 1152x720 with 1 Axes>"
      ]
     },
     "metadata": {
      "needs_background": "light"
     },
     "output_type": "display_data"
    }
   ],
   "source": [
    "n_product = len(product_list)\n",
    "save_path = \"signal result atr\"\n",
    "strat = \"energy.gbm.4096\"\n",
    "start_month = 0\n",
    "end_month = sum(month_len[0] < split_date)-1\n",
    "all_pnl = np.array([])\n",
    "for i_test in test_range:\n",
    "    forward_len = month_len[1][i_test]\n",
    "    train_start = 0 if start_month==0 else cum_month_len[start_month-1]\n",
    "    train_end = cum_month_len[end_month]-1\n",
    "    strat_name = strat+\".\"+month_len[0][i_test]\n",
    "    train_mat = np.zeros((train_end-train_start+1, n_product))\n",
    "    test_mat = np.zeros((forward_len, n_product))\n",
    "    for i_product in range(n_product):\n",
    "        product = product_list[i_product]\n",
    "        stat_result = load(HEAD_PATH+\"/\"+save_path+\"/\"+product+\".\"+strat_name+\".pkl\")\n",
    "        train_stat = stat_result[\"train.stat\"]\n",
    "        test_stat = stat_result[\"test.stat\"]\n",
    "        spread = product_info[product][\"spread\"]\n",
    "        good_strat = (train_stat[\"final.result\"][\"avg.pnl\"]>10*spread)\n",
    "        train_pnl = train_stat[\"daily.ret\"].loc[:, good_strat].sum(axis=1)/sum(good_strat) \n",
    "        train_pnl[np.isnan(train_pnl)]=0\n",
    "        train_mat[:,i_product] = train_pnl\n",
    "        test_pnl = test_stat[\"daily.ret\"].loc[:, good_strat].sum(axis=1)/sum(good_strat)\n",
    "        test_pnl[np.isnan(test_pnl)]=0\n",
    "        test_mat[:,i_product] = test_pnl\n",
    "    sharpe_mat = np.apply_along_axis(sharpe, 0, train_mat)\n",
    "    sharpe_weight = zero_divide(sharpe_mat, np.sum(sharpe_mat))\n",
    "    #parity_weight = risk_parity(train_mat)\n",
    "    #diagonal_weight = risk_parity(train_mat, only_diag=True)\n",
    "    #avg_test_pnl = test_mat.mean(axis=1)\n",
    "    avg_test_pnl = np.dot(test_mat, sharpe_weight)\n",
    "    #avg_test_pnl = np.dot(test_mat, parity_weight)\n",
    "    #avg_test_pnl = np.dot(test_mat, diagonal_weight)\n",
    "    all_pnl = np.append(all_pnl, avg_test_pnl)\n",
    "    start_month = start_month+1\n",
    "    end_month = end_month+1\n",
    "plt.figure(1, figsize=(16, 10))\n",
    "plt.title(\"monthly roll lasso\")\n",
    "plt.xlabel(\"date\")\n",
    "plt.ylabel(\"pnl\")\n",
    "plt.plot(all_pnl.cumsum());\n",
    "print(\"sharpe \", sharpe(all_pnl))\n",
    "\n",
    "## sharpe -0.5136771820430899\n",
    "\n"
   ]
  },
  {
   "cell_type": "markdown",
   "metadata": {},
   "source": [
    "- Now let's start with xgboost"
   ]
  },
  {
   "cell_type": "code",
   "execution_count": 41,
   "metadata": {},
   "outputs": [],
   "source": [
    "import xgboost as xgb"
   ]
  },
  {
   "cell_type": "markdown",
   "metadata": {},
   "source": [
    "- we need to create specific train and test data sets for xgboost"
   ]
  },
  {
   "cell_type": "code",
   "execution_count": 42,
   "metadata": {
    "scrolled": false
   },
   "outputs": [],
   "source": [
    "cv_params = {'max_depth': [3,4,5,6,7,8,9,10], \n",
    "             'n_estimators': np.arange(10,200,10)}\n",
    "ind_params = {'learning_rate': 0.1,\n",
    "              \"min_samples_leaf\":[10,20],\n",
    "              'seed':100, 'objective': 'reg:linear'}\n",
    "xgb_cv = GridSearchCV(xgb.XGBRegressor(**ind_params), \n",
    "                            cv_params, \n",
    "                            cv = 5, n_jobs = -1) "
   ]
  },
  {
   "cell_type": "code",
   "execution_count": 43,
   "metadata": {},
   "outputs": [
    {
     "name": "stdout",
     "output_type": "stream",
     "text": [
      "[04:47:55] WARNING: c:\\ci\\xgboost-split_1638290375667\\work\\src\\objective\\regression_obj.cu:188: reg:linear is now deprecated in favor of reg:squarederror.\n",
      "[04:47:55] WARNING: ..\\src\\learner.cc:576: \n",
      "Parameters: { \"min_samples_leaf\" } might not be used.\n",
      "\n",
      "  This could be a false alarm, with some parameters getting used by language bindings but\n",
      "  then being mistakenly passed down to XGBoost core, or some parameter actually being used\n",
      "  but getting flagged wrongly here. Please open an issue if you find any such cases.\n",
      "\n",
      "\n",
      "Wall time: 36min 36s\n"
     ]
    },
    {
     "data": {
      "text/plain": [
       "GridSearchCV(cv=5,\n",
       "             estimator=XGBRegressor(base_score=None, booster=None,\n",
       "                                    colsample_bylevel=None,\n",
       "                                    colsample_bynode=None,\n",
       "                                    colsample_bytree=None,\n",
       "                                    enable_categorical=False, gamma=None,\n",
       "                                    gpu_id=None, importance_type=None,\n",
       "                                    interaction_constraints=None,\n",
       "                                    learning_rate=0.1, max_delta_step=None,\n",
       "                                    max_depth=None, min_child_weight=None,\n",
       "                                    min_samples_leaf=[10, 20], missing=nan,\n",
       "                                    mon...\n",
       "                                    n_jobs=None, num_parallel_tree=None,\n",
       "                                    objective='reg:linear', predictor=None,\n",
       "                                    random_state=None, reg_alpha=None,\n",
       "                                    reg_lambda=None, scale_pos_weight=None,\n",
       "                                    seed=100, subsample=None, tree_method=None,\n",
       "                                    validate_parameters=None, ...),\n",
       "             n_jobs=-1,\n",
       "             param_grid={'max_depth': [3, 4, 5, 6, 7, 8, 9, 10],\n",
       "                         'n_estimators': array([ 10,  20,  30,  40,  50,  60,  70,  80,  90, 100, 110, 120, 130,\n",
       "       140, 150, 160, 170, 180, 190])})"
      ]
     },
     "execution_count": 43,
     "metadata": {},
     "output_type": "execute_result"
    }
   ],
   "source": [
    "%%time\n",
    "xgb_cv.fit(x_train, y_train);\n",
    "\n",
    "# Wall time: 36min 36s\n",
    "\n",
    "# GridSearchCV(cv=5, error_score='raise-deprecating',\n",
    "#              estimator=XGBRegressor(base_score=0.5, booster='gbtree',\n",
    "#                                     colsample_bylevel=1, colsample_bytree=1,\n",
    "#                                     gamma=0, importance_type='gain',\n",
    "#                                     learning_rate=0.1, max_delta_step=0,\n",
    "#                                     max_depth=3, min_child_weight=1,\n",
    "#                                     min_samples_leaf=[10, 20], missing=None,\n",
    "#                                     n_estimators=100, n_jobs=1, nthread=None,\n",
    "#                                     objective='reg:linear', random_state=0,\n",
    "#                                     reg_alpha=0, reg_lambda=1,\n",
    "#                                     scale_pos_weight=1, seed=100, silent=True,\n",
    "#                                     subsample=1),\n",
    "#              iid='warn', n_jobs=-1,\n",
    "#              param_grid={'max_depth': [3, 4, 5, 6, 7, 8, 9, 10],\n",
    "#                          'n_estimators': array([ 10,  20,  30,  40,  50,  60,  70,  80,  90, 100, 110, 120, 130,\n",
    "#        140, 150, 160, 170, 180, 190])},\n",
    "#              pre_dispatch='2*n_jobs', refit=True, return_train_score=False,\n",
    "#              scoring=None, verbose=0)"
   ]
  },
  {
   "cell_type": "code",
   "execution_count": 44,
   "metadata": {},
   "outputs": [
    {
     "data": {
      "text/plain": [
       "{'max_depth': 3, 'n_estimators': 30}"
      ]
     },
     "execution_count": 44,
     "metadata": {},
     "output_type": "execute_result"
    }
   ],
   "source": [
    "#best_parameters, score, _ = max(xgb_cv.grid_scorer, key=lambda x: x[1])\n",
    "xgb_cv.best_params_\n",
    "## {'max_depth': 3, 'n_estimators': 30}"
   ]
  },
  {
   "cell_type": "code",
   "execution_count": 45,
   "metadata": {},
   "outputs": [],
   "source": [
    "strat = \"xgb.energy.4096\"\n",
    "signal_name = strat"
   ]
  },
  {
   "cell_type": "code",
   "execution_count": 46,
   "metadata": {},
   "outputs": [],
   "source": [
    "SAVE_PATH = \"e:/intern\"\n",
    "for product in product_list:\n",
    "    os.makedirs(SAVE_PATH+\"/tmp pkl/\"+product+\"/\"+strat, exist_ok=True)\n"
   ]
  },
  {
   "cell_type": "markdown",
   "metadata": {},
   "source": [
    "- we can plot them to check the result"
   ]
  },
  {
   "cell_type": "code",
   "execution_count": 47,
   "metadata": {},
   "outputs": [],
   "source": [
    "train_std_mat = dict([])\n",
    "train_mat = load(HEAD_PATH+\"/train test mat/\"+product_list[0]+\".train.mat.pkl\")\n",
    "train_mat = train_mat[0:0]\n",
    "test_mat = train_mat\n",
    "for product in product_list:\n",
    "    cur_train_mat = load(HEAD_PATH+\"/train test mat/\"+product+\".train.mat.pkl\")\n",
    "    train_std_mat[product] = np.std(cur_train_mat)\n",
    "    train_mat = train_mat.append(cur_train_mat/train_std_mat[product])\n",
    "    cur_test_mat = load(HEAD_PATH+\"/train test mat/\"+product+\".test.mat.pkl\")\n",
    "    test_mat = test_mat.append(cur_test_mat/train_std_mat[product])"
   ]
  },
  {
   "cell_type": "code",
   "execution_count": 48,
   "metadata": {},
   "outputs": [],
   "source": [
    "def get_daily_gbm_old(file_name, product, signal_list, model, strat, HEAD_PATH, SAVE_PATH, train_std, thre=float('Inf')):\n",
    "    signal_mat = load(SAVE_PATH+\"/signal mat pkl/\"+product+\"/\"+file_name).T/train_std\n",
    "    S = model.predict(signal_mat)\n",
    "    S[np.abs(S)>thre] = 0\n",
    "    save(S, SAVE_PATH+\"/tmp pkl/\"+product+\"/\"+strat+\"/\"+file_name)"
   ]
  },
  {
   "cell_type": "code",
   "execution_count": 49,
   "metadata": {},
   "outputs": [
    {
     "name": "stdout",
     "output_type": "stream",
     "text": [
      "Wall time: 54min 4s\n"
     ]
    },
    {
     "data": {
      "text/plain": [
       "''"
      ]
     },
     "execution_count": 49,
     "metadata": {},
     "output_type": "execute_result"
    }
   ],
   "source": [
    "%%time\n",
    "for product in product_list:\n",
    "    parLapply(CORE_NUM, all_dates, get_daily_gbm_old, \n",
    "          product=product, signal_list=signal_list, \n",
    "          model=xgb_cv, strat=strat, HEAD_PATH=HEAD_PATH, SAVE_PATH=\"e:/intern\", train_std=np.array(train_std_mat[product][:n_signal]),)\n",
    ";\n",
    "# Wall time: 54min 4s"
   ]
  },
  {
   "cell_type": "code",
   "execution_count": 50,
   "metadata": {},
   "outputs": [
    {
     "data": {
      "text/plain": [
       "'xgb.energy.4096'"
      ]
     },
     "execution_count": 50,
     "metadata": {},
     "output_type": "execute_result"
    }
   ],
   "source": [
    "strat"
   ]
  },
  {
   "cell_type": "code",
   "execution_count": 51,
   "metadata": {},
   "outputs": [
    {
     "name": "stdout",
     "output_type": "stream",
     "text": [
      "Wall time: 2min 15s\n"
     ]
    }
   ],
   "source": [
    "%%time\n",
    "for product in product_list:\n",
    "    par_get_all_signal(strat, all_dates, product, 4096, SAVE_PATH=\"e:/intern\")\n",
    "    \n",
    "#  Wall time: 20min 8s"
   ]
  },
  {
   "cell_type": "code",
   "execution_count": 52,
   "metadata": {},
   "outputs": [
    {
     "name": "stdout",
     "output_type": "stream",
     "text": [
      "reverse=1\n",
      "reverse=1\n",
      "reverse=1\n",
      "reverse=1\n",
      "reverse=1\n",
      "reverse=1\n",
      "Wall time: 19min 23s\n"
     ]
    }
   ],
   "source": [
    "%%time\n",
    "for product in product_list:\n",
    "    spread = product_info[product][\"spread\"]\n",
    "    tranct = product_info[product][\"tranct\"]\n",
    "    tranct_ratio = product_info[product][\"tranct.ratio\"]\n",
    "    evaluate_signal(\"xgb.energy\", all_dates, product, 10, 20, CORE_NUM, HEAD_PATH, SAVE_PATH,\n",
    "                    period=4096, split_str=split_date, tranct=tranct, \n",
    "                    max_spread=spread*1.1, tranct_ratio=tranct_ratio, atr_filter=0.01, save_path=\"signal result atr\",reverse=1)\n",
    "\n",
    "# reverse=1\n",
    "# reverse=1\n",
    "# reverse=1\n",
    "# reverse=1\n",
    "# reverse=1\n",
    "# reverse=1\n",
    "# Wall time: 19min 23s\n",
    "\n",
    "\n"
   ]
  },
  {
   "cell_type": "code",
   "execution_count": 53,
   "metadata": {
    "scrolled": false
   },
   "outputs": [
    {
     "name": "stdout",
     "output_type": "stream",
     "text": [
      "bu train sharpe  0.26629909315867895 test sharpe  -1.2049780003350867\n",
      "ru train sharpe  1.132634612462477 test sharpe  1.3111859421803307\n",
      "v train sharpe  0.8032428366612385 test sharpe  0.13404744102361166\n",
      "pp train sharpe  0.5806851905151754 test sharpe  0.47774052258356603\n",
      "l train sharpe  0.8048833281914874 test sharpe  0.7192840701812405\n",
      "train sharpe:  1.3848452032124212 test sharpe:  0.16202196308038483\n"
     ]
    },
    {
     "data": {
      "image/png": "[encoded data removed]",
      "text/plain": [
       "<Figure size 1152x720 with 1 Axes>"
      ]
     },
     "metadata": {
      "needs_background": "light"
     },
     "output_type": "display_data"
    }
   ],
   "source": [
    "i = 0\n",
    "strat = \"xgb.energy.4096\"\n",
    "test_all_pnl = np.zeros([sum(test_sample), len(product_list[0:5])])\n",
    "train_all_pnl = np.zeros([sum(train_sample), len(product_list[0:5])])\n",
    "min_pnl = 2\n",
    "min_num = 10\n",
    "for product in product_list[0:5]:\n",
    "    spread = product_info[product][\"spread\"]\n",
    "    signal_stat = load(HEAD_PATH+\"/signal result atr/\"+product+\".\"+strat+\".trend.pkl\")\n",
    "    train_stat = signal_stat[\"train.stat\"]\n",
    "    good_strat = (train_stat[\"final.result\"][\"avg.pnl\"]>min_pnl*spread) & (train_stat[\"final.result\"][\"num\"]>min_num)\n",
    "    if sum(good_strat)>0:\n",
    "        train_pnl = train_stat[\"daily.ret\"].loc[:, good_strat].sum(axis=1)/sum(good_strat)\n",
    "        test_stat = signal_stat[\"test.stat\"]\n",
    "        test_pnl = test_stat[\"daily.ret\"].loc[:, good_strat].sum(axis=1)/sum(good_strat)\n",
    "        print(product, \"train sharpe \", sharpe(train_pnl), \"test sharpe \", sharpe(test_pnl))\n",
    "        test_all_pnl[:,i] = test_pnl\n",
    "        train_all_pnl[:,i] = train_pnl\n",
    "    else:\n",
    "        train_pnl = np.zeros(np.shape(train_stat[\"daily.ret\"])[0])\n",
    "        test_stat = signal_stat[\"test.stat\"]\n",
    "        test_pnl = np.zeros(np.shape(test_stat[\"daily.ret\"])[0])\n",
    "    test_all_pnl[:,i] = test_pnl\n",
    "    train_all_pnl[:,i] = train_pnl\n",
    "    i = i+1\n",
    "train_portfolio = np.array(np.mean(train_all_pnl, axis=1))\n",
    "test_portfolio = np.array(np.mean(test_all_pnl, axis=1))\n",
    "all_portfolio = np.append(train_portfolio, test_portfolio)\n",
    "plt.figure(1, figsize=(16, 10));\n",
    "plt.title(\"\");\n",
    "plt.xlabel(\"date\");\n",
    "plt.ylabel(\"pnl\");\n",
    "plt.title(\"portfolio\");\n",
    "plt.plot(format_dates, all_portfolio.cumsum());\n",
    "plt.plot(format_dates[test_sample], all_portfolio.cumsum()[test_sample])\n",
    "print(\"train sharpe: \", sharpe(train_portfolio), \"test sharpe: \", sharpe(test_portfolio))    \n",
    "\n",
    "# bu train sharpe  0.26629909315867895 test sharpe  -1.2049780003350867\n",
    "# ru train sharpe  1.132634612462477 test sharpe  1.3111859421803307\n",
    "# v train sharpe  0.8032428366612385 test sharpe  0.13404744102361166\n",
    "# pp train sharpe  0.5806851905151754 test sharpe  0.47774052258356603\n",
    "# l train sharpe  0.8048833281914874 test sharpe  0.7192840701812405\n",
    "# train sharpe:  1.3848452032124212 test sharpe:  0.16202196308038483\n",
    "\n",
    "\n",
    "\n"
   ]
  },
  {
   "cell_type": "markdown",
   "metadata": {},
   "source": [
    "\n",
    "- SUMMARY\n",
    "\n",
    "\n",
    "- today we compare two tree-based models: gradient boosting machine and xgboost\n",
    "- but the result is pretty bad\n",
    "- you can try to tune the parameter to see whether we could improve it"
   ]
  },
  {
   "cell_type": "code",
   "execution_count": null,
   "metadata": {},
   "outputs": [],
   "source": []
  }
 ],
 "metadata": {
  "kernelspec": {
   "display_name": "Python 3 (ipykernel)",
   "language": "python",
   "name": "python3"
  },
  "language_info": {
   "codemirror_mode": {
    "name": "ipython",
    "version": 3
   },
   "file_extension": ".py",
   "mimetype": "text/x-python",
   "name": "python",
   "nbconvert_exporter": "python",
   "pygments_lexer": "ipython3",
   "version": "3.8.12"
  }
 },
 "nbformat": 4,
 "nbformat_minor": 2
}
