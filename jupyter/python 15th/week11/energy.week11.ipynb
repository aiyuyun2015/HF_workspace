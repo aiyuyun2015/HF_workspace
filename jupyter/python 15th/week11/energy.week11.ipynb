{
 "cells": [
  {
   "cell_type": "markdown",
   "metadata": {},
   "source": [
    "- last week we learnt the rolling model\n",
    "- this week we would learn ensemble methods and intraday trading"
   ]
  },
  {
   "cell_type": "code",
   "execution_count": 1,
   "metadata": {
    "scrolled": true
   },
   "outputs": [
    {
     "data": {
      "text/plain": [
       "<module 'stats' from 'C:\\\\Users\\\\dell\\\\stats.py'>"
      ]
     },
     "execution_count": 1,
     "metadata": {},
     "output_type": "execute_result"
    }
   ],
   "source": [
    "from helper import *\n",
    "from stats import *\n",
    "from product_info import *\n",
    "from imp import reload  \n",
    "import helper\n",
    "import stats\n",
    "reload(helper)\n",
    "reload(stats)"
   ]
  },
  {
   "cell_type": "code",
   "execution_count": 2,
   "metadata": {},
   "outputs": [
    {
     "data": {
      "text/plain": [
       "16"
      ]
     },
     "execution_count": 2,
     "metadata": {},
     "output_type": "execute_result"
    }
   ],
   "source": [
    "CORE_NUM = int(os.environ['NUMBER_OF_PROCESSORS'])\n",
    "CORE_NUM\n",
    "## 16"
   ]
  },
  {
   "cell_type": "code",
   "execution_count": 3,
   "metadata": {},
   "outputs": [],
   "source": [
    "import warnings\n",
    " \n",
    "warnings.filterwarnings('ignore')"
   ]
  },
  {
   "cell_type": "code",
   "execution_count": 4,
   "metadata": {},
   "outputs": [],
   "source": [
    "product_list = [\"bu\", \"ru\", \"v\", \"pp\", \"l\", \"jd\"]"
   ]
  },
  {
   "cell_type": "code",
   "execution_count": 5,
   "metadata": {},
   "outputs": [],
   "source": [
    "period = 4096"
   ]
  },
  {
   "cell_type": "code",
   "execution_count": 8,
   "metadata": {},
   "outputs": [
    {
     "data": {
      "text/plain": [
       "1066"
      ]
     },
     "execution_count": 8,
     "metadata": {},
     "output_type": "execute_result"
    }
   ],
   "source": [
    "all_dates = os.listdir(DATA_PATH + product_list[0])\n",
    "all_dates.sort()\n",
    "all_dates = np.array(all_dates)\n",
    "n_days = len(all_dates)\n",
    "n_days\n",
    "## 1066"
   ]
  },
  {
   "cell_type": "code",
   "execution_count": 9,
   "metadata": {},
   "outputs": [],
   "source": [
    "import dask\n",
    "from dask import compute, delayed\n",
    "import sklearn.preprocessing"
   ]
  },
  {
   "cell_type": "code",
   "execution_count": 10,
   "metadata": {},
   "outputs": [],
   "source": [
    "split_date = \"201910\"\n",
    "train_sample = all_dates<split_date\n",
    "test_sample = all_dates>split_date\n",
    "date_str = [n[0:8] for n in all_dates]\n",
    "format_dates = np.array([pd.to_datetime(d) for d in date_str])"
   ]
  },
  {
   "cell_type": "code",
   "execution_count": 11,
   "metadata": {},
   "outputs": [],
   "source": [
    "os.makedirs(HEAD_PATH+\"/all signal\", exist_ok=True)\n",
    "dire_signal_list = [\"trade.imb\", \"total.trade.imb\", \"nr\", \"dbook\", \"range.pos\", \"price.osci\", \"ma.dif.10\", \"kdj.k\", \"kdj.j\"]\n",
    "range_signal_list = [\"\", \"range\", \"std\", \"volume.open.ratio\", \"trend.index\"]\n",
    "all_signal_list = np.array([])\n",
    "for range_signal in range_signal_list:\n",
    "    for dire_signal in dire_signal_list:\n",
    "        if len(range_signal)==0:\n",
    "            signal_name = dire_signal\n",
    "        else:\n",
    "            signal_name = dire_signal+\".\"+range_signal\n",
    "        all_signal_list = np.append(all_signal_list,signal_name)\n",
    "signal_list = [signal+\".4096\" for signal in all_signal_list]\n",
    "n_signal = len(signal_list)"
   ]
  },
  {
   "cell_type": "code",
   "execution_count": 12,
   "metadata": {},
   "outputs": [],
   "source": [
    "from sklearn import linear_model\n",
    "from sklearn.model_selection import cross_val_score\n",
    "from sklearn.linear_model import lasso_path, LassoCV,RidgeCV\n",
    "\n",
    "from sklearn.preprocessing import StandardScaler\n",
    "y_signal = \"ret.\"+str(period)+\".004\"\n",
    "#y_signal = \"ret.\"+str(period)"
   ]
  },
  {
   "cell_type": "code",
   "execution_count": 13,
   "metadata": {},
   "outputs": [],
   "source": [
    "## get multiple samples of the singal matrix\n",
    "def get_multiple_sample_signal(good_night_files, sample, product, signal_name, period, daily_num, mod=np.array([0])):\n",
    "    n_samples = int(sum(daily_num[sample])) ## number of samples\n",
    "    n_mod = len(mod) ## number of different copies of the same signal\n",
    "    if n_mod==1: ## if there is one copy then the same as before\n",
    "        all_signal = np.zeros(n_samples)\n",
    "    else:\n",
    "        all_signal = np.zeros((n_mod, n_samples)) ## if there are multiple copies then use a matrix for one signal instead\n",
    "    cur = 0\n",
    "    for file in good_night_files[sample]: ## iterate for files\n",
    "        good = load(SAVE_PATH+\"/good pkl/\"+product+\"/\"+file)\n",
    "        S = load(SAVE_PATH+\"/tmp pkl/\"+product+\"/\"+signal_name+\"/\"+file)\n",
    "        S = S[good]\n",
    "        for i in range(n_mod):\n",
    "            signal = S[(np.arange(len(S))+1) % period == mod[i]]\n",
    "            ## the ret.cor has some bad records\n",
    "            signal[np.isnan(signal)] = 0\n",
    "            signal[np.isinf(signal)] = 0\n",
    "            if mod[i]==0: \n",
    "                cur_end = np.min((cur+len(signal),n_samples)) ## to avoid exceed the number of samoes, mod[i]==0 has most signals, \n",
    "                ## so if it doesn't exceed, others would not exceed\n",
    "            if n_mod==1:\n",
    "                all_signal[cur:cur_end] = signal[0:(cur_end-cur)]\n",
    "            else:\n",
    "                all_signal[i, cur:cur_end] = signal[0:(cur_end-cur)]\n",
    "        cur = cur_end\n",
    "    return all_signal"
   ]
  },
  {
   "cell_type": "code",
   "execution_count": 14,
   "metadata": {},
   "outputs": [
    {
     "data": {
      "text/plain": [
       "array([   0.,  409.,  818., 1227., 1636., 2045., 2454., 2863., 3272.,\n",
       "       3681.])"
      ]
     },
     "execution_count": 14,
     "metadata": {},
     "output_type": "execute_result"
    }
   ],
   "source": [
    "mod = np.arange(0, np.floor(period/10)*10, np.floor(period/10))\n",
    "n_mod = len(mod)\n",
    "mod\n",
    "## array([   0.,  409.,  818., 1227., 1636., 2045., 2454., 2863., 3272.,\n",
    "##        3681.])"
   ]
  },
  {
   "cell_type": "code",
   "execution_count": 15,
   "metadata": {},
   "outputs": [],
   "source": [
    "SAVE_PATH = \"e:/intern\"\n",
    "os.makedirs(SAVE_PATH+\"/train test array\", exist_ok=True)"
   ]
  },
  {
   "cell_type": "code",
   "execution_count": 16,
   "metadata": {},
   "outputs": [
    {
     "name": "stdout",
     "output_type": "stream",
     "text": [
      "bu\n",
      "ru\n",
      "v\n",
      "pp\n",
      "l\n",
      "jd\n",
      "Wall time: 1h 5min 5s\n"
     ]
    }
   ],
   "source": [
    "%%time\n",
    "for product in product_list:\n",
    "    print(product)\n",
    "    daily_num = load(HEAD_PATH+\"/daily num/\"+product+\".pkl\")\n",
    "    n_train = sum(daily_num[train_sample])\n",
    "    n_test = sum(daily_num[test_sample])\n",
    "    train_array = np.zeros((n_mod, int(n_train), n_signal+1))\n",
    "    for i in range(n_signal):\n",
    "        train_array[:,:,i] = get_multiple_sample_signal(all_dates, train_sample, product, signal_list[i], period, daily_num, mod)\n",
    "    train_array[:,:,n_signal] = get_multiple_sample_signal(all_dates, train_sample, product, \"ret.\"+str(period), period, daily_num, mod)\n",
    "    save(train_array, SAVE_PATH+\"/train test array/\"+product+\".train.array.pkl\")\n",
    "    \n",
    "# bu\n",
    "# ru\n",
    "# v\n",
    "# pp\n",
    "# l\n",
    "# jd\n",
    "# Wall time: 1h 5min 5s\n"
   ]
  },
  {
   "cell_type": "code",
   "execution_count": 17,
   "metadata": {},
   "outputs": [],
   "source": [
    "all_train_array = dict([])\n",
    "for product in product_list:\n",
    "    all_train_array[product] = load(SAVE_PATH+\"/train test array/\"+product+\".train.array.pkl\")"
   ]
  },
  {
   "cell_type": "code",
   "execution_count": 18,
   "metadata": {},
   "outputs": [],
   "source": [
    "## get the result of 10 models\n",
    "## save them in to a model_coef dictionary\n",
    "nfold = 10\n",
    "model_coef = dict([])\n",
    "for product in product_list:\n",
    "    model_coef[product] = np.zeros(n_signal)\n",
    "for i_mod in range(n_mod):\n",
    "    train_std_mat = dict([])\n",
    "    x_train = np.zeros((0, n_signal))\n",
    "    y_train = np.array([])\n",
    "    for product in product_list:\n",
    "        cur_mat = all_train_array[product][i_mod,:,:]\n",
    "        train_std_mat[product] = np.std(cur_mat, axis=0)\n",
    "        x_train = np.vstack((x_train, cur_mat[:,:n_signal]/train_std_mat[product][:n_signal]))\n",
    "        y_train = np.concatenate((y_train, cur_mat[:,n_signal]/train_std_mat[product][n_signal]))\n",
    "    scaler =  StandardScaler(copy=True, with_mean=False, with_std=True)\n",
    "    scaler.fit(x_train)\n",
    "    x_std = np.sqrt(scaler.var_)\n",
    "    x_train_normal = scaler.transform(x_train)\n",
    "    model = LassoCV(n_alphas=100, fit_intercept=False, cv=10, max_iter=10000).fit(x_train_normal, y_train)\n",
    "    fit_coef = model.coef_/x_std\n",
    "    for product in product_list:\n",
    "        coef = fit_coef*train_std_mat[product][n_signal]/train_std_mat[product][:n_signal]\n",
    "        model_coef[product] = model_coef[product]+coef/n_mod\n"
   ]
  },
  {
   "cell_type": "code",
   "execution_count": 19,
   "metadata": {},
   "outputs": [],
   "source": [
    "save(model_coef, SAVE_PATH+\"/energy.ensemble.model.pkl\")"
   ]
  },
  {
   "cell_type": "code",
   "execution_count": 20,
   "metadata": {},
   "outputs": [],
   "source": [
    "model_coef = load(SAVE_PATH+\"/energy.ensemble.model.pkl\")"
   ]
  },
  {
   "cell_type": "code",
   "execution_count": 21,
   "metadata": {},
   "outputs": [
    {
     "data": {
      "text/plain": [
       "{'bu': array([-4.14502155e-04,  4.63891651e-05,  6.74520178e-06, -2.41615432e-04,\n",
       "        -4.20628658e-05,  1.40455045e-05,  0.00000000e+00, -1.37987174e-05,\n",
       "        -5.28223035e-05,  0.00000000e+00,  0.00000000e+00,  0.00000000e+00,\n",
       "        -5.29126444e-05, -1.10053605e-05, -5.28436773e-07, -5.68638814e-04,\n",
       "         0.00000000e+00,  1.46880597e-06, -4.36460565e-05,  5.12466357e-06,\n",
       "         5.16084361e-05, -4.50735494e-05,  0.00000000e+00,  0.00000000e+00,\n",
       "         0.00000000e+00,  3.83764525e-08,  4.78440243e-06,  0.00000000e+00,\n",
       "         1.11213186e-03,  0.00000000e+00, -1.02005893e-04, -3.19663874e-03,\n",
       "         0.00000000e+00,  8.47834499e-02,  5.55104723e-04,  1.09065569e-04,\n",
       "        -3.35210562e-05,  1.71013375e-04, -4.58883477e-04, -2.22704862e-04,\n",
       "         0.00000000e+00,  9.27715290e-06,  1.72310473e-02,  0.00000000e+00,\n",
       "         0.00000000e+00]),\n",
       " 'ru': array([-5.59917462e-04,  6.64506346e-05,  8.99640439e-06, -3.88050646e-04,\n",
       "        -4.43649603e-05,  1.39279872e-05,  0.00000000e+00, -1.32280721e-05,\n",
       "        -5.35566169e-05,  0.00000000e+00,  0.00000000e+00,  0.00000000e+00,\n",
       "        -2.04632418e-05, -2.87490074e-06, -1.38245313e-07, -1.56674521e-04,\n",
       "         0.00000000e+00,  3.91721117e-07, -1.63808042e-05,  1.70800479e-06,\n",
       "         1.79984897e-05, -1.65364175e-05,  0.00000000e+00,  0.00000000e+00,\n",
       "         0.00000000e+00,  1.05039875e-08,  1.28158208e-06,  0.00000000e+00,\n",
       "         1.70588023e-03,  0.00000000e+00, -1.83817067e-04, -4.01118217e-03,\n",
       "         0.00000000e+00,  9.37540079e-02,  6.62386087e-04,  1.26881835e-04,\n",
       "        -8.74907882e-05,  2.44650501e-04, -6.27694786e-04, -3.77189851e-04,\n",
       "         0.00000000e+00,  1.05379086e-05,  1.81057631e-02,  0.00000000e+00,\n",
       "         0.00000000e+00]),\n",
       " 'v': array([-3.02983593e-04,  4.39007228e-05,  7.35544062e-06, -1.95893088e-04,\n",
       "        -3.65513504e-05,  1.56537283e-05,  0.00000000e+00, -1.28310605e-05,\n",
       "        -5.12398570e-05,  0.00000000e+00,  0.00000000e+00,  0.00000000e+00,\n",
       "        -2.12528962e-05, -4.90878577e-06, -2.52317012e-07, -3.98037223e-04,\n",
       "         0.00000000e+00,  6.80825430e-07, -2.13842190e-06,  2.09706051e-06,\n",
       "         3.56158303e-06, -1.84448811e-05,  0.00000000e+00,  0.00000000e+00,\n",
       "         0.00000000e+00,  1.72438681e-08,  2.08782373e-06,  0.00000000e+00,\n",
       "         7.32348133e-04,  0.00000000e+00, -6.19357759e-05, -2.29743689e-03,\n",
       "         0.00000000e+00,  7.59772903e-02,  3.95568455e-04,  7.48207024e-05,\n",
       "        -3.25526292e-05,  1.50915310e-04, -5.08298226e-04, -1.63505448e-04,\n",
       "         0.00000000e+00,  1.01047248e-05,  1.85586572e-02,  0.00000000e+00,\n",
       "         0.00000000e+00]),\n",
       " 'pp': array([-5.05106501e-04,  5.79741499e-05,  1.33841745e-05, -3.99384118e-04,\n",
       "        -3.17926915e-05,  1.23744047e-05,  0.00000000e+00, -1.03892754e-05,\n",
       "        -4.13975032e-05,  0.00000000e+00,  0.00000000e+00,  0.00000000e+00,\n",
       "        -3.86495460e-05, -3.56507170e-06, -1.78963434e-07, -2.94043886e-04,\n",
       "         0.00000000e+00,  4.71586855e-07, -2.35048138e-05,  2.55237908e-06,\n",
       "         3.71215739e-05, -3.52739047e-05,  0.00000000e+00,  0.00000000e+00,\n",
       "         0.00000000e+00,  1.22153852e-08,  1.51959214e-06,  0.00000000e+00,\n",
       "         1.24142532e-03,  0.00000000e+00, -1.61319529e-04, -2.46967589e-03,\n",
       "         0.00000000e+00,  9.90021712e-02,  4.13911278e-04,  7.99394702e-05,\n",
       "        -6.81687026e-05,  2.13841067e-04, -9.08322957e-04, -3.75627822e-04,\n",
       "         0.00000000e+00,  8.43131618e-06,  1.70486761e-02,  0.00000000e+00,\n",
       "         0.00000000e+00]),\n",
       " 'l': array([-3.15264621e-04,  4.17601525e-05,  6.88747679e-06, -2.38518051e-04,\n",
       "        -2.99067452e-05,  1.24479556e-05,  0.00000000e+00, -1.02337698e-05,\n",
       "        -4.05935316e-05,  0.00000000e+00,  0.00000000e+00,  0.00000000e+00,\n",
       "        -2.09810145e-05, -3.65777414e-06, -1.91840066e-07, -3.83778231e-04,\n",
       "         0.00000000e+00,  5.00986857e-07, -1.35607767e-05,  1.86095606e-06,\n",
       "         2.57636994e-05, -1.80513072e-05,  0.00000000e+00,  0.00000000e+00,\n",
       "         0.00000000e+00,  1.36176658e-08,  1.63129346e-06,  0.00000000e+00,\n",
       "         9.59156498e-04,  0.00000000e+00, -9.44061141e-05, -2.58284322e-03,\n",
       "         0.00000000e+00,  1.18738115e-01,  4.60266861e-04,  8.66334025e-05,\n",
       "        -4.46392748e-05,  1.46023015e-04, -4.71061537e-04, -2.03851943e-04,\n",
       "         0.00000000e+00,  7.97063363e-06,  1.83371187e-02,  0.00000000e+00,\n",
       "         0.00000000e+00]),\n",
       " 'jd': array([-5.96191478e-04,  6.13173156e-05,  1.37230756e-05, -3.14412262e-04,\n",
       "        -4.24231114e-05,  1.54076601e-05,  0.00000000e+00, -1.41427693e-05,\n",
       "        -5.31705060e-05,  0.00000000e+00,  0.00000000e+00,  0.00000000e+00,\n",
       "        -4.97418396e-05, -8.17258808e-06, -3.82406539e-07, -5.85105207e-04,\n",
       "         0.00000000e+00,  1.08242324e-06, -4.54507273e-05,  4.74184941e-06,\n",
       "         8.17048952e-05, -4.38301896e-05,  0.00000000e+00,  0.00000000e+00,\n",
       "         0.00000000e+00,  2.86442030e-08,  3.58235334e-06,  0.00000000e+00,\n",
       "         9.55413816e-04,  0.00000000e+00, -8.73901652e-05, -2.26324151e-03,\n",
       "         0.00000000e+00,  7.31720775e-02,  3.90761765e-04,  7.72241715e-05,\n",
       "        -4.10189690e-05,  2.34525683e-04, -1.00764954e-03, -3.00093844e-04,\n",
       "         0.00000000e+00,  1.04412893e-05,  1.78549335e-02,  0.00000000e+00,\n",
       "         0.00000000e+00])}"
      ]
     },
     "execution_count": 21,
     "metadata": {},
     "output_type": "execute_result"
    }
   ],
   "source": [
    "model_coef\n",
    "\n",
    "# -"
   ]
  },
  {
   "cell_type": "code",
   "execution_count": 22,
   "metadata": {},
   "outputs": [],
   "source": [
    "strat = \"ensemble.lasso.\"+str(period)\n",
    "for product in product_list:\n",
    "    os.makedirs(\"e:/intern\"+\"/tmp pkl/\"+product+\"/\"+strat, exist_ok=True)"
   ]
  },
  {
   "cell_type": "code",
   "execution_count": 23,
   "metadata": {},
   "outputs": [
    {
     "name": "stdout",
     "output_type": "stream",
     "text": [
      "bu\n",
      "ru\n",
      "v\n",
      "pp\n",
      "l\n",
      "jd\n",
      "Wall time: 54min 3s\n"
     ]
    }
   ],
   "source": [
    "%%time\n",
    "for product in product_list:\n",
    "    print(product)\n",
    "    coef = model_coef[product]\n",
    "    parLapply(CORE_NUM, all_dates, par_get_daily_pred, \n",
    "              product=product, coef=coef, strat=strat, HEAD_PATH=\"e:/intern\", SAVE_PATH=\"e:/intern\")\n",
    "\n",
    "# bu\n",
    "# ru\n",
    "# v\n",
    "# pp\n",
    "# l\n",
    "# jd\n",
    "# Wall time:  54min 3s\n",
    "\n"
   ]
  },
  {
   "cell_type": "code",
   "execution_count": 24,
   "metadata": {},
   "outputs": [
    {
     "name": "stdout",
     "output_type": "stream",
     "text": [
      "Wall time: 5min 10s\n"
     ]
    }
   ],
   "source": [
    "%%time\n",
    "for product in product_list:\n",
    "    par_get_all_signal(strat, all_dates, product, 4096, SAVE_PATH=\"e:/intern\")\n",
    "\n",
    "## Wall time: 5min 10s\n"
   ]
  },
  {
   "cell_type": "code",
   "execution_count": 25,
   "metadata": {},
   "outputs": [
    {
     "name": "stdout",
     "output_type": "stream",
     "text": [
      "reverse=1\n",
      "reverse=1\n",
      "reverse=1\n",
      "reverse=1\n",
      "reverse=1\n",
      "reverse=1\n",
      "Wall time: 9min 30s\n"
     ]
    }
   ],
   "source": [
    "%%time\n",
    "for product in product_list:\n",
    "    spread = product_info[product][\"spread\"]\n",
    "    tranct = product_info[product][\"tranct\"]\n",
    "    tranct_ratio = product_info[product][\"tranct.ratio\"]\n",
    "    evaluate_signal(\"ensemble.lasso\", all_dates, product, 10, 20, CORE_NUM, HEAD_PATH, \"e:/intern\",\n",
    "                    period=4096, split_str=split_date, tranct=tranct, \n",
    "                    max_spread=spread*1.1, tranct_ratio=tranct_ratio, atr_filter=0.01, save_path=\"signal result atr\",reverse=1)\n",
    "    \n",
    "# reverse=1\n",
    "# reverse=1\n",
    "# reverse=1\n",
    "# reverse=1\n",
    "# reverse=1\n",
    "# reverse=1\n",
    "# Wall time: 9min 30s\n",
    "\n"
   ]
  },
  {
   "cell_type": "code",
   "execution_count": 26,
   "metadata": {},
   "outputs": [
    {
     "name": "stdout",
     "output_type": "stream",
     "text": [
      "bu train sharpe  1.546356350356561 test sharpe  0.22264501067782594\n",
      "ru train sharpe  0.20388873541277389 test sharpe  1.2778865728324549\n",
      "v train sharpe  1.0109526201580095 test sharpe  0.1689426021443187\n",
      "pp train sharpe  0.7809247908926406 test sharpe  0.6967920436774366\n",
      "l train sharpe  0.9770816170811293 test sharpe  0.46471833960785686\n",
      "jd train sharpe  1.2136183722203686 test sharpe  1.6851569174517522\n",
      "train sharpe:  1.9679481157900982 test sharpe:  1.2725990123508437\n"
     ]
    },
    {
     "data": {
      "image/png": "[encoded data removed]",
      "text/plain": [
       "<Figure size 1152x720 with 1 Axes>"
      ]
     },
     "metadata": {
      "needs_background": "light"
     },
     "output_type": "display_data"
    }
   ],
   "source": [
    "i = 0\n",
    "strat = \"ensemble.lasso.4096\"\n",
    "test_all_pnl = np.zeros([sum(test_sample), len(product_list)])\n",
    "train_all_pnl = np.zeros([sum(train_sample), len(product_list)])\n",
    "min_pnl = 0\n",
    "min_num = 0\n",
    "for product in product_list:\n",
    "    spread = product_info[product][\"spread\"]\n",
    "    signal_stat = load(HEAD_PATH+\"/signal result atr/\"+product+\".\"+strat+\".trend.pkl\")\n",
    "    train_stat = signal_stat[\"train.stat\"]\n",
    "    good_strat = (train_stat[\"final.result\"][\"avg.pnl\"]>min_pnl*spread) & (train_stat[\"final.result\"][\"num\"]>min_num)\n",
    "    if sum(good_strat)==0:\n",
    "        continue\n",
    "    train_pnl = train_stat[\"daily.ret\"].loc[:, good_strat].sum(axis=1)/sum(good_strat)\n",
    "    test_stat = signal_stat[\"test.stat\"]\n",
    "    test_pnl = test_stat[\"daily.ret\"].loc[:, good_strat].sum(axis=1)/sum(good_strat)\n",
    "    print(product, \"train sharpe \", sharpe(train_pnl), \"test sharpe \", sharpe(test_pnl))\n",
    "    test_all_pnl[:,i] = test_pnl\n",
    "    train_all_pnl[:,i] = train_pnl\n",
    "    i = i+1\n",
    "train_portfolio = np.array(np.mean(train_all_pnl, axis=1))\n",
    "test_portfolio = np.array(np.mean(test_all_pnl, axis=1))\n",
    "all_portfolio = np.append(train_portfolio, test_portfolio)\n",
    "plt.figure(1, figsize=(16, 10));\n",
    "plt.title(\"\");\n",
    "plt.xlabel(\"date\");\n",
    "plt.ylabel(\"pnl\");\n",
    "plt.title(\"portfolio\");\n",
    "plt.plot(format_dates, all_portfolio.cumsum());\n",
    "plt.plot(format_dates[test_sample], all_portfolio.cumsum()[test_sample])\n",
    "print(\"train sharpe: \", sharpe(train_portfolio), \"test sharpe: \", sharpe(test_portfolio))    \n",
    "\n",
    "\n",
    "# bu train sharpe  1.546356350356561 test sharpe  0.22264501067782594\n",
    "# ru train sharpe  0.20388873541277389 test sharpe  1.2778865728324549\n",
    "# v train sharpe  1.0109526201580095 test sharpe  0.1689426021443187\n",
    "# pp train sharpe  0.7809247908926406 test sharpe  0.6967920436774366\n",
    "# l train sharpe  0.9770816170811293 test sharpe  0.46471833960785686\n",
    "# jd train sharpe  1.2136183722203686 test sharpe  1.6851569174517522\n",
    "# train sharpe:  1.9679481157900982 test sharpe:  1.2725990123508437\n",
    "\n"
   ]
  },
  {
   "cell_type": "markdown",
   "metadata": {},
   "source": [
    "- it's not as good as thre model in week 9\n",
    "- maybe we can use another way of ensemble\n",
    "- we can generate 10 separate models with each pnl"
   ]
  },
  {
   "cell_type": "code",
   "execution_count": 27,
   "metadata": {},
   "outputs": [],
   "source": [
    "## generate 10 different models, and save their coefficients rather than calcualte their mean\n",
    "nfold = 10\n",
    "model_coef = dict([])\n",
    "for i_mod in range(n_mod):\n",
    "    train_std_mat = dict([])\n",
    "    model_coef[str(i_mod)] = dict([])\n",
    "    x_train = np.zeros((0, n_signal))\n",
    "    y_train = np.array([])\n",
    "    for product in product_list:\n",
    "        cur_mat = all_train_array[product][i_mod,:,:]\n",
    "        train_std_mat[product] = np.std(cur_mat, axis=0)\n",
    "        x_train = np.vstack((x_train, cur_mat[:,:n_signal]/train_std_mat[product][:n_signal]))\n",
    "        y_train = np.concatenate((y_train, cur_mat[:,n_signal]/train_std_mat[product][n_signal]))\n",
    "    scaler =  StandardScaler(copy=True, with_mean=False, with_std=True)\n",
    "    scaler.fit(x_train)\n",
    "    x_std = np.sqrt(scaler.var_)\n",
    "    x_train_normal = scaler.transform(x_train)\n",
    "    model = LassoCV(n_alphas=100, fit_intercept=False, cv=10, max_iter=10000).fit(x_train_normal, y_train)\n",
    "    fit_coef = model.coef_/x_std\n",
    "    for product in product_list:\n",
    "        coef = fit_coef*train_std_mat[product][n_signal]/train_std_mat[product][:n_signal]\n",
    "        model_coef[str(i_mod)][product] = coef\n"
   ]
  },
  {
   "cell_type": "code",
   "execution_count": 28,
   "metadata": {},
   "outputs": [],
   "source": [
    "save(model_coef, SAVE_PATH+\"energy.ensemble.all.coef.pkl\")"
   ]
  },
  {
   "cell_type": "code",
   "execution_count": 29,
   "metadata": {},
   "outputs": [
    {
     "name": "stdout",
     "output_type": "stream",
     "text": [
      "0\n",
      "reverse=1\n",
      "reverse=1\n",
      "reverse=1\n",
      "reverse=1\n",
      "reverse=1\n",
      "reverse=1\n",
      "1\n",
      "reverse=1\n",
      "reverse=1\n",
      "reverse=1\n",
      "reverse=1\n",
      "reverse=1\n",
      "reverse=1\n",
      "2\n",
      "reverse=1\n",
      "reverse=1\n",
      "reverse=1\n",
      "reverse=1\n",
      "reverse=1\n",
      "reverse=1\n",
      "3\n",
      "reverse=1\n",
      "reverse=1\n",
      "reverse=1\n",
      "reverse=1\n",
      "reverse=1\n",
      "reverse=1\n",
      "4\n",
      "reverse=1\n",
      "reverse=1\n",
      "reverse=1\n",
      "reverse=1\n",
      "reverse=1\n",
      "reverse=1\n",
      "5\n",
      "reverse=1\n",
      "reverse=1\n",
      "reverse=1\n",
      "reverse=1\n",
      "reverse=1\n",
      "reverse=1\n",
      "6\n",
      "reverse=1\n",
      "reverse=1\n",
      "reverse=1\n",
      "reverse=1\n",
      "reverse=1\n",
      "reverse=1\n",
      "7\n",
      "reverse=1\n",
      "reverse=1\n",
      "reverse=1\n",
      "reverse=1\n",
      "reverse=1\n",
      "reverse=1\n",
      "8\n",
      "reverse=1\n",
      "reverse=1\n",
      "reverse=1\n",
      "reverse=1\n",
      "reverse=1\n",
      "reverse=1\n",
      "9\n",
      "reverse=1\n",
      "reverse=1\n",
      "reverse=1\n",
      "reverse=1\n",
      "reverse=1\n",
      "reverse=1\n"
     ]
    }
   ],
   "source": [
    "for i_mod in range(n_mod):\n",
    "    print(i_mod)\n",
    "    strat = \"ensemble.lasso.\"+str(i_mod)+\".\"+str(period)\n",
    "    for product in product_list:\n",
    "        os.makedirs(\"e:/intern\"+\"/tmp pkl/\"+product+\"/\"+strat, exist_ok=True)\n",
    "        coef = model_coef[str(i_mod)][product]\n",
    "        parLapply(CORE_NUM, all_dates, par_get_daily_pred, \n",
    "                  product=product, coef=coef, strat=strat, HEAD_PATH=\"e:/intern\", SAVE_PATH=\"e:/intern\")\n",
    "        par_get_all_signal(strat, all_dates, product, 4096, SAVE_PATH=\"e:/intern\")    \n",
    "        spread = product_info[product][\"spread\"]\n",
    "        tranct = product_info[product][\"tranct\"]\n",
    "        tranct_ratio = product_info[product][\"tranct.ratio\"]\n",
    "        evaluate_signal(\"ensemble.lasso.\"+str(i_mod), all_dates, product, 2, 20, CORE_NUM, HEAD_PATH, \"e:/intern\",\n",
    "                        period=4096, split_str=split_date, tranct=tranct, \n",
    "                        max_spread=spread*1.1, tranct_ratio=tranct_ratio, atr_filter=0.01, save_path=\"signal result atr\",reverse=1)"
   ]
  },
  {
   "cell_type": "code",
   "execution_count": 30,
   "metadata": {},
   "outputs": [
    {
     "name": "stdout",
     "output_type": "stream",
     "text": [
      "bu train sharpe  0.5489039882895194 test sharpe  0.035756796260224454\n",
      "ru train sharpe  nan test sharpe  nan\n",
      "v train sharpe  0.7094828079689983 test sharpe  -0.6940732865370103\n",
      "pp train sharpe  0.5947370391543659 test sharpe  0.8668488469069666\n",
      "l train sharpe  nan test sharpe  nan\n",
      "jd train sharpe  0.9973234880988134 test sharpe  1.6143824728323808\n",
      "bu train sharpe  1.1019423653338876 test sharpe  -0.09531414161480625\n",
      "ru train sharpe  0.7343544449825989 test sharpe  1.316177508091726\n",
      "v train sharpe  nan test sharpe  nan\n",
      "pp train sharpe  1.0714197916559096 test sharpe  0.9459496641327518\n",
      "l train sharpe  1.0970894388376606 test sharpe  1.3667419643725067\n",
      "jd train sharpe  0.8028583096631081 test sharpe  0.2851761579018249\n",
      "bu train sharpe  0.7098928537324402 test sharpe  0.0403157476923578\n",
      "ru train sharpe  0.5219911519522007 test sharpe  1.4900749121072536\n",
      "v train sharpe  nan test sharpe  nan\n",
      "pp train sharpe  0.8448296736387081 test sharpe  0.8755282226343012\n",
      "l train sharpe  1.1552572584333103 test sharpe  0.945311276311618\n",
      "jd train sharpe  0.7022107963797155 test sharpe  1.2645320871345833\n",
      "bu train sharpe  0.7923299331313658 test sharpe  0.7256832206467192\n",
      "ru train sharpe  0.5594455655905128 test sharpe  0.35616250029653324\n",
      "v train sharpe  0.7009547037560692 test sharpe  -0.48035720115168723\n",
      "pp train sharpe  0.16289004659483847 test sharpe  0.6357179844241254\n",
      "l train sharpe  0.5969989375028817 test sharpe  0.7210270284478859\n",
      "jd train sharpe  0.9938173038137181 test sharpe  1.2179364457483726\n",
      "bu train sharpe  1.0557976687440103 test sharpe  0.11489371409482876\n",
      "ru train sharpe  0.7118665066024066 test sharpe  1.0511526818645316\n",
      "v train sharpe  nan test sharpe  nan\n",
      "pp train sharpe  0.3266217691550361 test sharpe  0.9663979788082977\n",
      "l train sharpe  0.7772702128987979 test sharpe  0.7798896344597612\n",
      "jd train sharpe  0.8008465593804567 test sharpe  1.3289072561899449\n",
      "bu train sharpe  0.6213416500092467 test sharpe  0.8065218395765574\n",
      "ru train sharpe  nan test sharpe  nan\n",
      "v train sharpe  0.5923349075165595 test sharpe  -0.5440789112074171\n",
      "pp train sharpe  0.3803257169128198 test sharpe  0.8071260569819073\n",
      "l train sharpe  nan test sharpe  nan\n",
      "jd train sharpe  0.7239697593496799 test sharpe  1.6936600570785414\n",
      "bu train sharpe  0.799918396042945 test sharpe  -0.02615365453595232\n",
      "ru train sharpe  0.1735688398083981 test sharpe  0.7553629908967748\n",
      "v train sharpe  nan test sharpe  nan\n",
      "pp train sharpe  0.6746421207475579 test sharpe  0.787612538158934\n",
      "l train sharpe  0.5903741370741186 test sharpe  0.7203882399860521\n",
      "jd train sharpe  0.9537595568257756 test sharpe  1.984781287467558\n",
      "bu train sharpe  nan test sharpe  nan\n",
      "ru train sharpe  nan test sharpe  nan\n",
      "v train sharpe  0.6036839084561194 test sharpe  -0.5598932435999636\n",
      "pp train sharpe  0.4081905524045088 test sharpe  0.77106859818995\n",
      "l train sharpe  nan test sharpe  nan\n",
      "jd train sharpe  0.7380055420857123 test sharpe  1.7466381416599714\n",
      "bu train sharpe  0.8509892479189388 test sharpe  0.46513347194385296\n",
      "ru train sharpe  0.354274050841721 test sharpe  0.06528650321552366\n",
      "v train sharpe  0.8814585693804089 test sharpe  -0.8070632288710934\n",
      "pp train sharpe  0.4869564970624061 test sharpe  0.24461994968584513\n",
      "l train sharpe  0.2994739864124328 test sharpe  0.7912920041913308\n",
      "jd train sharpe  1.011280097672203 test sharpe  1.6324265941319092\n",
      "bu train sharpe  nan test sharpe  nan\n",
      "ru train sharpe  nan test sharpe  nan\n",
      "v train sharpe  0.694850107792021 test sharpe  -0.6749046703054666\n",
      "pp train sharpe  0.3376671324768046 test sharpe  0.30572813952116273\n",
      "l train sharpe  0.532592534699797 test sharpe  1.4058754224095091\n",
      "jd train sharpe  1.0182586882692766 test sharpe  1.6647259244589354\n"
     ]
    }
   ],
   "source": [
    "min_pnl = 2\n",
    "min_num = 10\n",
    "all_portfolio = np.zeros((sum(test_sample)+sum(train_sample),n_mod))\n",
    "for i_mod in range(n_mod):\n",
    "    strat = \"ensemble.lasso.\"+str(i_mod)+\".\"+str(period)\n",
    "    i = 0\n",
    "    test_all_pnl = np.zeros([sum(test_sample), len(product_list)])\n",
    "    train_all_pnl = np.zeros([sum(train_sample), len(product_list)])\n",
    "    for product in product_list:\n",
    "        spread = product_info[product][\"spread\"]\n",
    "        signal_stat = load(HEAD_PATH+\"/signal result atr/\"+product+\".\"+strat+\".trend.pkl\")\n",
    "        train_stat = signal_stat[\"train.stat\"]\n",
    "        good_strat = (train_stat[\"final.result\"][\"avg.pnl\"]>min_pnl*spread) & (train_stat[\"final.result\"][\"num\"]>min_num)\n",
    "        train_pnl = train_stat[\"daily.ret\"].loc[:, good_strat].sum(axis=1)/sum(good_strat)\n",
    "        test_stat = signal_stat[\"test.stat\"]\n",
    "        test_pnl = test_stat[\"daily.ret\"].loc[:, good_strat].sum(axis=1)/sum(good_strat)\n",
    "        print(product, \"train sharpe \", sharpe(train_pnl), \"test sharpe \", sharpe(test_pnl))\n",
    "        if sum(good_strat)==0:\n",
    "            test_pnl = np.zeros(sum(test_sample))\n",
    "            train_pnl = np.zeros(sum(train_sample))\n",
    "        test_all_pnl[:,i] = test_pnl\n",
    "        train_all_pnl[:,i] = train_pnl\n",
    "        i = i+1\n",
    "    train_portfolio = np.array(np.mean(train_all_pnl, axis=1))\n",
    "    test_portfolio = np.array(np.mean(test_all_pnl, axis=1))\n",
    "    all_portfolio[:,i_mod] = np.append(train_portfolio, test_portfolio)\n",
    "\n",
    "# bu train sharpe  0.5489039882895194 test sharpe  0.035756796260224454\n",
    "# ru train sharpe  nan test sharpe  nan\n",
    "# v train sharpe  0.7094828079689983 test sharpe  -0.6940732865370103\n",
    "# pp train sharpe  0.5947370391543659 test sharpe  0.8668488469069666\n",
    "# l train sharpe  nan test sharpe  nan\n",
    "# jd train sharpe  0.9973234880988134 test sharpe  1.6143824728323808\n",
    "# bu train sharpe  1.1019423653338876 test sharpe  -0.09531414161480625\n",
    "# ru train sharpe  0.7343544449825989 test sharpe  1.316177508091726\n",
    "# v train sharpe  nan test sharpe  nan\n",
    "# pp train sharpe  1.0714197916559096 test sharpe  0.9459496641327518\n",
    "# l train sharpe  1.0970894388376606 test sharpe  1.3667419643725067\n",
    "# jd train sharpe  0.8028583096631081 test sharpe  0.2851761579018249\n",
    "# bu train sharpe  0.7098928537324402 test sharpe  0.0403157476923578\n",
    "# ru train sharpe  0.5219911519522007 test sharpe  1.4900749121072536\n",
    "# v train sharpe  nan test sharpe  nan\n",
    "# pp train sharpe  0.8448296736387081 test sharpe  0.8755282226343012\n",
    "# l train sharpe  1.1552572584333103 test sharpe  0.945311276311618\n",
    "# jd train sharpe  0.7022107963797155 test sharpe  1.2645320871345833\n",
    "# bu train sharpe  0.7923299331313658 test sharpe  0.7256832206467192\n",
    "# ru train sharpe  0.5594455655905128 test sharpe  0.35616250029653324\n",
    "# v train sharpe  0.7009547037560692 test sharpe  -0.48035720115168723\n",
    "# pp train sharpe  0.16289004659483847 test sharpe  0.6357179844241254\n",
    "# l train sharpe  0.5969989375028817 test sharpe  0.7210270284478859\n",
    "# jd train sharpe  0.9938173038137181 test sharpe  1.2179364457483726\n",
    "# bu train sharpe  1.0557976687440103 test sharpe  0.11489371409482876\n",
    "# ru train sharpe  0.7118665066024066 test sharpe  1.0511526818645316\n",
    "# v train sharpe  nan test sharpe  nan\n",
    "# pp train sharpe  0.3266217691550361 test sharpe  0.9663979788082977\n",
    "# l train sharpe  0.7772702128987979 test sharpe  0.7798896344597612\n",
    "# jd train sharpe  0.8008465593804567 test sharpe  1.3289072561899449\n",
    "# bu train sharpe  0.6213416500092467 test sharpe  0.8065218395765574\n",
    "# ru train sharpe  nan test sharpe  nan\n",
    "# v train sharpe  0.5923349075165595 test sharpe  -0.5440789112074171\n",
    "# pp train sharpe  0.3803257169128198 test sharpe  0.8071260569819073\n",
    "# l train sharpe  nan test sharpe  nan\n",
    "# jd train sharpe  0.7239697593496799 test sharpe  1.6936600570785414\n",
    "# bu train sharpe  0.799918396042945 test sharpe  -0.02615365453595232\n",
    "# ru train sharpe  0.1735688398083981 test sharpe  0.7553629908967748\n",
    "# v train sharpe  nan test sharpe  nan\n",
    "# pp train sharpe  0.6746421207475579 test sharpe  0.787612538158934\n",
    "# l train sharpe  0.5903741370741186 test sharpe  0.7203882399860521\n",
    "# jd train sharpe  0.9537595568257756 test sharpe  1.984781287467558\n",
    "# bu train sharpe  nan test sharpe  nan\n",
    "# ru train sharpe  nan test sharpe  nan\n",
    "# v train sharpe  0.6036839084561194 test sharpe  -0.5598932435999636\n",
    "# pp train sharpe  0.4081905524045088 test sharpe  0.77106859818995\n",
    "# l train sharpe  nan test sharpe  nan\n",
    "# jd train sharpe  0.7380055420857123 test sharpe  1.7466381416599714\n",
    "# bu train sharpe  0.8509892479189388 test sharpe  0.46513347194385296\n",
    "# ru train sharpe  0.354274050841721 test sharpe  0.06528650321552366\n",
    "# v train sharpe  0.8814585693804089 test sharpe  -0.8070632288710934\n",
    "# pp train sharpe  0.4869564970624061 test sharpe  0.24461994968584513\n",
    "# l train sharpe  0.2994739864124328 test sharpe  0.7912920041913308\n",
    "# jd train sharpe  1.011280097672203 test sharpe  1.6324265941319092\n",
    "# bu train sharpe  nan test sharpe  nan\n",
    "# ru train sharpe  nan test sharpe  nan\n",
    "# v train sharpe  0.694850107792021 test sharpe  -0.6749046703054666\n",
    "# pp train sharpe  0.3376671324768046 test sharpe  0.30572813952116273\n",
    "# l train sharpe  0.532592534699797 test sharpe  1.4058754224095091\n",
    "# jd train sharpe  1.0182586882692766 test sharpe  1.6647259244589354"
   ]
  },
  {
   "cell_type": "code",
   "execution_count": 31,
   "metadata": {
    "scrolled": false
   },
   "outputs": [
    {
     "name": "stdout",
     "output_type": "stream",
     "text": [
      "train sharpe:  1.9158516845762499 test sharpe:  1.3540844005080486\n"
     ]
    },
    {
     "data": {
      "image/png": "[encoded data removed]",
      "text/plain": [
       "<Figure size 1152x720 with 1 Axes>"
      ]
     },
     "metadata": {
      "needs_background": "light"
     },
     "output_type": "display_data"
    }
   ],
   "source": [
    "portfolio = np.mean(all_portfolio, axis=1)\n",
    "train_portfolio = portfolio[train_sample]\n",
    "test_portfolio = portfolio[test_sample]\n",
    "plt.figure(1, figsize=(16, 10));\n",
    "plt.title(\"\");\n",
    "plt.xlabel(\"date\")\n",
    "plt.ylabel(\"pnl\");\n",
    "plt.title(\"portfolio\");\n",
    "plt.plot(format_dates, portfolio.cumsum());\n",
    "plt.plot(format_dates[test_sample], portfolio.cumsum()[test_sample])\n",
    "print(\"train sharpe: \", sharpe(train_portfolio), \"test sharpe: \", sharpe(test_portfolio))   \n",
    "\n",
    "# train sharpe:  1.9158516845762499 test sharpe:  1.3540844005080486\n",
    "\n",
    "\n",
    "\n"
   ]
  },
  {
   "cell_type": "markdown",
   "metadata": {},
   "source": [
    "- we can see that the rolling ensemble model much better than train/test\n",
    "\n",
    "\n",
    "- now we go for the next part: the intraday medium frequency trading\n",
    "\n",
    "    \n",
    "- at this time, we do not need to close position every day\n",
    "- and we cannot use parallel computing for daily pnl because one day's pnl depends on previous position\n",
    "- but we can still use parallel for each contract because they are independent\n",
    "\n",
    "\n",
    "- now let's first find the days of each contract"
   ]
  },
  {
   "cell_type": "code",
   "execution_count": 32,
   "metadata": {},
   "outputs": [],
   "source": [
    "def get_contract(file):\n",
    "    data = load(file)\n",
    "    return data[\"contract\"][data[\"good\"]].iloc[0]"
   ]
  },
  {
   "cell_type": "code",
   "execution_count": 33,
   "metadata": {},
   "outputs": [],
   "source": [
    "contract_list=dict([])\n",
    "for product in product_list:\n",
    "    file_list = list(map(lambda x: DATA_PATH+product+\"/\"+x, os.listdir(DATA_PATH + product)))\n",
    "    contract_vec = pd.Series(list(map(get_contract, file_list)))\n",
    "    save(contract_vec, HEAD_PATH+\"/\"+product+\".contract.vec.pkl\")\n",
    "    contract_list[product] = contract_vec"
   ]
  },
  {
   "cell_type": "code",
   "execution_count": 34,
   "metadata": {},
   "outputs": [],
   "source": [
    "save(contract_list, HEAD_PATH+\"/energy.contract.list.pkl\")"
   ]
  },
  {
   "cell_type": "code",
   "execution_count": 35,
   "metadata": {},
   "outputs": [],
   "source": [
    "contract_list = load(HEAD_PATH+\"/energy.contract.list.pkl\")\n",
    "product_cum = dict([])\n",
    "product_len = dict([])\n",
    "for product in product_list:\n",
    "    contract_vec = contract_list[product]\n",
    "    contract_len = contract_vec.value_counts().sort_index()\n",
    "    contract_cum = contract_len.cumsum()\n",
    "    product_len[product] = contract_len\n",
    "    product_cum[product] = contract_cum"
   ]
  },
  {
   "cell_type": "markdown",
   "metadata": {},
   "source": [
    "- we know that lasso.4096 is trained using data before 2018\n",
    "- however our contract is not splited in this way\n",
    "- so we may need to comply to the data of this format"
   ]
  },
  {
   "cell_type": "code",
   "execution_count": 36,
   "metadata": {},
   "outputs": [],
   "source": [
    "train_sample_list = dict([])\n",
    "test_sample_list = dict([])\n",
    "for product in product_list:\n",
    "    contract_cum = product_cum[product]\n",
    "    split_date = all_dates[contract_cum[np.max(np.where(all_dates[contract_cum-1]<split_date))]]\n",
    "    medium_train_sample = (all_dates<split_date)\n",
    "    medium_test_sample = (all_dates>=split_date)\n",
    "    train_sample_list[product] = medium_train_sample\n",
    "    test_sample_list[product] = medium_test_sample"
   ]
  },
  {
   "cell_type": "code",
   "execution_count": 37,
   "metadata": {},
   "outputs": [],
   "source": [
    "daily_ticks = dict([])\n",
    "all_mat = dict([])\n",
    "for product in product_list:\n",
    "    daily_num = load(HEAD_PATH+\"/daily num/\"+product+\".pkl\")\n",
    "    daily_ticks[product] = daily_num\n",
    "    test_mat = load(HEAD_PATH+\"/train test mat/\"+product+\".test.mat.pkl\")\n",
    "    train_mat = load(HEAD_PATH+\"/train test mat/\"+product+\".train.mat.pkl\")\n",
    "    all_mat[product] = pd.concat((train_mat, test_mat))"
   ]
  },
  {
   "cell_type": "code",
   "execution_count": 38,
   "metadata": {},
   "outputs": [],
   "source": [
    "y_signal = \"ret.\"+str(period)+\".004\""
   ]
  },
  {
   "cell_type": "code",
   "execution_count": 39,
   "metadata": {},
   "outputs": [],
   "source": [
    "train_std = dict([])\n",
    "all_x_train = dict([])\n",
    "all_y_train = dict([])\n",
    "n_sample = 0\n",
    "for product in product_list:\n",
    "    medium_train_sample = train_sample_list[product]\n",
    "    medium_test_sample = test_sample_list[product]\n",
    "    medium_train_range = range(round(sum((daily_ticks[product][medium_train_sample]))))\n",
    "    medium_test_range = np.arange(sum(daily_ticks[product][medium_train_sample])+1,sum(daily_ticks[product]))\n",
    "    medium_train_mat = all_mat[product].iloc[medium_train_range,:]\n",
    "    medium_test_mat = all_mat[product].iloc[medium_test_range,:]\n",
    "    x_train = medium_train_mat.iloc[:,:n_signal]\n",
    "    y_train = medium_train_mat[y_signal]\n",
    "    train_std[product] = np.std(medium_train_mat)\n",
    "    all_x_train[product] = x_train\n",
    "    all_y_train[product] = y_train\n",
    "    n_sample = n_sample+len(y_train)"
   ]
  },
  {
   "cell_type": "code",
   "execution_count": 40,
   "metadata": {},
   "outputs": [],
   "source": [
    "x_train = np.zeros((n_sample, n_signal))\n",
    "y_train = np.zeros(n_sample)\n",
    "cur = 0\n",
    "for product in product_list:\n",
    "    x_train[cur:(cur+len(all_y_train[product])),] = all_x_train[product]/train_std[product][:n_signal]\n",
    "    y_train[cur:(cur+len(all_y_train[product]))] = all_y_train[product]/train_std[product][y_signal]\n",
    "    cur = cur+len(all_y_train[product])"
   ]
  },
  {
   "cell_type": "code",
   "execution_count": 41,
   "metadata": {},
   "outputs": [
    {
     "data": {
      "text/plain": [
       "array([-0.        ,  0.        ,  0.        , -0.        , -0.        ,\n",
       "        0.        , -0.        ,  0.        , -0.        , -0.        ,\n",
       "        0.        ,  0.        , -0.00366875, -0.        ,  0.        ,\n",
       "       -0.        ,  0.        , -0.        , -0.        ,  0.        ,\n",
       "        0.        , -0.        , -0.02536187,  0.        , -0.        ,\n",
       "        0.        , -0.        , -0.        , -0.        ,  0.        ,\n",
       "       -0.        , -0.        ,  0.        ,  0.        ,  0.        ,\n",
       "       -0.        , -0.0185139 ,  0.        ,  0.        , -0.        ,\n",
       "        0.        ,  0.01128454,  0.        ,  0.        , -0.        ])"
      ]
     },
     "execution_count": 41,
     "metadata": {},
     "output_type": "execute_result"
    }
   ],
   "source": [
    "model = LassoCV(n_alphas=100, fit_intercept=False, cv=10, max_iter=10000).fit(x_train, y_train)\n",
    "#model = RidgeCV(fit_intercept=False, cv=5).fit(x_train, y_train)\n",
    "fit_coef = model.coef_\n",
    "fit_coef\n",
    "\n",
    "# array([-0.        ,  0.        ,  0.        , -0.        , -0.        ,\n",
    "#         0.        , -0.        ,  0.        , -0.        , -0.        ,\n",
    "#         0.        ,  0.        , -0.00366875, -0.        ,  0.        ,\n",
    "#        -0.        ,  0.        , -0.        , -0.        ,  0.        ,\n",
    "#         0.        , -0.        , -0.02536187,  0.        , -0.        ,\n",
    "#         0.        , -0.        , -0.        , -0.        ,  0.        ,\n",
    "#        -0.        , -0.        ,  0.        ,  0.        ,  0.        ,\n",
    "#        -0.        , -0.0185139 ,  0.        ,  0.        , -0.        ,\n",
    "#         0.        ,  0.01128454,  0.        ,  0.        , -0.        ])"
   ]
  },
  {
   "cell_type": "code",
   "execution_count": 42,
   "metadata": {},
   "outputs": [
    {
     "name": "stdout",
     "output_type": "stream",
     "text": [
      "bu\n",
      "dbook.range.4096              -0.000014\n",
      "range.pos.std.4096            -0.000144\n",
      "trade.imb.trend.index.4096    -0.004248\n",
      "price.osci.trend.index.4096    0.000184\n",
      "dtype: float64\n",
      "ru\n",
      "dbook.range.4096              -0.000005\n",
      "range.pos.std.4096            -0.000036\n",
      "trade.imb.trend.index.4096    -0.006612\n",
      "price.osci.trend.index.4096    0.000215\n",
      "dtype: float64\n",
      "v\n",
      "dbook.range.4096              -0.000008\n",
      "range.pos.std.4096            -0.000063\n",
      "trade.imb.trend.index.4096    -0.004188\n",
      "price.osci.trend.index.4096    0.000220\n",
      "dtype: float64\n",
      "pp\n",
      "dbook.range.4096              -0.000011\n",
      "range.pos.std.4096            -0.000047\n",
      "trade.imb.trend.index.4096    -0.006555\n",
      "price.osci.trend.index.4096    0.000180\n",
      "dtype: float64\n",
      "l\n",
      "dbook.range.4096              -0.000007\n",
      "range.pos.std.4096            -0.000043\n",
      "trade.imb.trend.index.4096    -0.003750\n",
      "price.osci.trend.index.4096    0.000158\n",
      "dtype: float64\n",
      "jd\n",
      "dbook.range.4096              -0.000014\n",
      "range.pos.std.4096            -0.000109\n",
      "trade.imb.trend.index.4096    -0.005678\n",
      "price.osci.trend.index.4096    0.000200\n",
      "dtype: float64\n"
     ]
    }
   ],
   "source": [
    "coef_list=dict([])\n",
    "for product in product_list:\n",
    "    coef = fit_coef*train_std[product][y_signal]/train_std[product][:n_signal]\n",
    "    coef_list[product] = coef\n",
    "    print(product)\n",
    "    print(coef[coef!=0])\n",
    "\n",
    "# bu\n",
    "# dbook.range.4096              -0.000014\n",
    "# range.pos.std.4096            -0.000144\n",
    "# trade.imb.trend.index.4096    -0.004248\n",
    "# price.osci.trend.index.4096    0.000184\n",
    "# dtype: float64\n",
    "# ru\n",
    "# dbook.range.4096              -0.000005\n",
    "# range.pos.std.4096            -0.000036\n",
    "# trade.imb.trend.index.4096    -0.006612\n",
    "# price.osci.trend.index.4096    0.000215\n",
    "# dtype: float64\n",
    "# v\n",
    "# dbook.range.4096              -0.000008\n",
    "# range.pos.std.4096            -0.000063\n",
    "# trade.imb.trend.index.4096    -0.004188\n",
    "# price.osci.trend.index.4096    0.000220\n",
    "# dtype: float64\n",
    "# pp\n",
    "# dbook.range.4096              -0.000011\n",
    "# range.pos.std.4096            -0.000047\n",
    "# trade.imb.trend.index.4096    -0.006555\n",
    "# price.osci.trend.index.4096    0.000180\n",
    "# dtype: float64\n",
    "# l\n",
    "# dbook.range.4096              -0.000007\n",
    "# range.pos.std.4096            -0.000043\n",
    "# trade.imb.trend.index.4096    -0.003750\n",
    "# price.osci.trend.index.4096    0.000158\n",
    "# dtype: float64\n",
    "# jd\n",
    "# dbook.range.4096              -0.000014\n",
    "# range.pos.std.4096            -0.000109\n",
    "# trade.imb.trend.index.4096    -0.005678\n",
    "# price.osci.trend.index.4096    0.000200\n",
    "# dtype: float64"
   ]
  },
  {
   "cell_type": "markdown",
   "metadata": {},
   "source": [
    "- here we use ridge because lasso is not good"
   ]
  },
  {
   "cell_type": "code",
   "execution_count": 43,
   "metadata": {},
   "outputs": [],
   "source": [
    "strat = \"energy.lasso.medium.\"+str(period)\n",
    "#strat = \"ridge.medium.\"+str(period)\n",
    "SAVE_PATH = \"e:/intern\""
   ]
  },
  {
   "cell_type": "code",
   "execution_count": 44,
   "metadata": {},
   "outputs": [],
   "source": [
    "for product in product_list:\n",
    "    os.makedirs(SAVE_PATH+\"/tmp pkl/\"+product+\"/\"+strat, exist_ok=True)"
   ]
  },
  {
   "cell_type": "code",
   "execution_count": 45,
   "metadata": {},
   "outputs": [
    {
     "name": "stdout",
     "output_type": "stream",
     "text": [
      "bu\n",
      "ru\n",
      "v\n",
      "pp\n",
      "l\n",
      "jd\n",
      "Wall time: 56min 25s\n"
     ]
    }
   ],
   "source": [
    "%%time\n",
    "for product in product_list:\n",
    "    print(product)\n",
    "    coef = coef_list[product]\n",
    "    parLapply(CORE_NUM, all_dates, par_get_daily_pred, \n",
    "              product=product, coef=coef, strat=strat, HEAD_PATH=\"e:/intern\", SAVE_PATH=SAVE_PATH)\n",
    "\n",
    "#bu\n",
    "#ru\n",
    "#v\n",
    "#pp\n",
    "#l\n",
    "#jd\n",
    "#Wall time: 56min 25s\n",
    "\n",
    "\n"
   ]
  },
  {
   "cell_type": "code",
   "execution_count": 46,
   "metadata": {},
   "outputs": [
    {
     "name": "stdout",
     "output_type": "stream",
     "text": [
      "Wall time: 5min 49s\n"
     ]
    }
   ],
   "source": [
    "%%time\n",
    "for product in product_list:\n",
    "    par_get_all_signal(strat, all_dates, product, 4096, SAVE_PATH=\"e:/intern\")\n",
    "\n",
    "#Wall time: 6min 6s"
   ]
  },
  {
   "cell_type": "code",
   "execution_count": 47,
   "metadata": {},
   "outputs": [],
   "source": [
    "close_thre_list = dict([])\n",
    "for product in product_list:\n",
    "    all_signal = load(SAVE_PATH+\"/all signal/\"+product+\".\"+strat+\".pkl\")\n",
    "    open_thre = np.quantile(abs(all_signal), np.concatenate((np.arange(0.991, 0.999, 0.001),\n",
    "                                                         np.arange(0.9991,0.9999,0.0001)),axis=0))\n",
    "    thre_mat = pd.DataFrame(data=OrderedDict([(\"open\", open_thre), (\"close\", -open_thre)]))\n",
    "    from collections import OrderedDict\n",
    "    import itertools\n",
    "    open_list=open_thre\n",
    "    thre_list = []\n",
    "    for cartesian in itertools.product(open_list, np.array([0.2, 0.4, 0.6, 0.8, 1.0])):\n",
    "        thre_list.append((cartesian[0], -cartesian[0] * cartesian[1]))\n",
    "    thre_list = np.array(thre_list)\n",
    "    close_thre_mat = pd.DataFrame(data=OrderedDict([(\"open\", thre_list[:, 0]), (\"close\", thre_list[:, 1])]))\n",
    "    close_thre_list[product] = close_thre_mat\n"
   ]
  },
  {
   "cell_type": "code",
   "execution_count": 48,
   "metadata": {},
   "outputs": [],
   "source": [
    "contract_vec = dict([])\n",
    "contract_start = dict([])\n",
    "for product in product_list:\n",
    "    contract_vec[product] = np.array(product_cum[product].index)\n",
    "    contract_start[product] = np.hstack((0, product_cum[product].values))\n"
   ]
  },
  {
   "cell_type": "code",
   "execution_count": 49,
   "metadata": {},
   "outputs": [],
   "source": [
    "## backtest strategy within a contract\n",
    "## need not to close position at the end of day\n",
    "## need to get the position at the end of day and calculate the overnight holding pnl\n",
    "def get_signal_pnl_contract(contract, contract_vec, good_night_files, product, signal_name, thre_mat, \n",
    "                                    slippage=1, fee=0.1, reverse=1, HEAD_PATH=\"d:/intern\", SAVE_PATH=\"e:/intern\"):\n",
    "    file_list = good_night_files[contract_vec==contract]\n",
    "    n_thre = len(thre_mat)\n",
    "    result = pd.DataFrame(data=OrderedDict([(\"open\", thre_mat[\"open\"].values), (\"close\", thre_mat[\"close\"].values),\n",
    "                               (\"num\", 0), (\"avg.pnl\", 0), (\"pnl\", 0), (\"avg.ret\", 0), (\"ret\", 0)]), \n",
    "                          index=thre_mat.index)\n",
    "    ## load product info\n",
    "    tranct = product_info[product][\"tranct\"]*(1+fee)\n",
    "    close = product_info[product][\"close\"]*(1+fee)\n",
    "    min_spread = product_info[product][\"spread\"]+0.1\n",
    "    spread = product_info[product][\"spread\"]\n",
    "    tranct_ratio = product_info[product][\"tranct.ratio\"]\n",
    "    \n",
    "    yesterday_pos = np.repeat(0, n_thre)\n",
    "    yesterday_notional = np.repeat(0., n_thre)\n",
    "    yesterday_price = 0.\n",
    "    n_day = len(file_list)\n",
    "    daily_pnl = np.zeros((n_day, n_thre))\n",
    "    daily_ret = np.zeros((n_day, n_thre))\n",
    "    for i_day in range(n_day):\n",
    "        file = file_list[i_day]\n",
    "        data = load(HEAD_PATH+\"/pkl tick/\"+product+\"/\"+file)\n",
    "        S = load(SAVE_PATH+\"/tmp pkl/\"+product+\"/\"+signal_name+\"/\"+file)\n",
    "        S = S[data[\"good\"]]\n",
    "        data = data[data[\"good\"]].reset_index(drop=True)\n",
    "        n_bar = len(data)\n",
    "        ## load signal\n",
    "        ## we don't know the signal is positive correlated or negative correlated  \n",
    "        pred = S*reverse\n",
    "        \n",
    "        bid_ask_spread = data[\"ask\"]-data[\"bid\"]\n",
    "        next_spread = bid_ask_spread.shift(-1)\n",
    "        next_spread.iloc[-1] = bid_ask_spread.iloc[-1]\n",
    "        #not_trade = (data[\"time\"]==\"10:15:00\") | (data[\"time\"]==\"11:30:00\") | (data[\"time\"]==\"15:00:00\") | (bid_ask_spread>min_spread) | (next_spread>min_spread)\n",
    "        not_trade = (data[\"time\"]==\"11:30:00\") | (data[\"time\"]==\"15:00:00\") | (bid_ask_spread>min_spread) | (next_spread>min_spread)\n",
    "            \n",
    "        next_ask = data[\"next.ask\"].values\n",
    "        next_bid = data[\"next.bid\"].values\n",
    "          \n",
    "        i_thre = 0 \n",
    "        for thre in thre_mat.values:\n",
    "            buy = pred>thre[0]\n",
    "            sell = pred<-thre[0]\n",
    "            signal = pd.Series(data=0, index=data.index)\n",
    "            #position = signal.copy()\n",
    "            signal[buy] = 1\n",
    "            signal[sell] = -1\n",
    "            signal[not_trade] = 0\n",
    "            scratch = -thre[1]\n",
    "            position_pos = pd.Series(data=np.nan, index=data.index)\n",
    "            position_pos[(signal==1) & (next_ask>0) & (next_bid>0)] = 1\n",
    "            position_pos[(pred< -scratch) & (next_bid>0)] = 0\n",
    "            position_pos.iloc[0] = max((0, yesterday_pos[i_thre]))\n",
    "            position_pos.ffill(inplace=True)\n",
    "            pre_pos = position_pos.shift(1)\n",
    "            notional_position_pos = pd.Series(data=np.nan, index=data.index)\n",
    "            notional_position_pos[position_pos==1] = 1\n",
    "            notional_position_pos[0] = np.nan\n",
    "            notional_position_pos[(position_pos==1) & (pre_pos==1)] = np.nan\n",
    "            notional_position_pos[(notional_position_pos==1)] = 1/data[\"next.ask\"][(notional_position_pos==1)]\n",
    "            notional_position_pos[(pred< -scratch) & (next_bid>0)] = 0\n",
    "            notional_position_pos.iloc[0] = max((0, yesterday_notional[i_thre]))\n",
    "            notional_position_pos.ffill(inplace=True)\n",
    "            position_neg = pd.Series(data=np.nan, index=data.index)\n",
    "            position_neg[(signal==-1) & (next_ask>0) & (next_bid>0)] = -1\n",
    "            position_neg[(pred> scratch) & (next_ask>0)] = 0\n",
    "            position_neg.iloc[0] = min((yesterday_pos[i_thre], 0))\n",
    "            position_neg.ffill(inplace=True)\n",
    "            pre_neg = position_neg.shift(1)\n",
    "            notional_position_neg = pd.Series(data=np.nan, index=data.index)\n",
    "            notional_position_neg[position_neg==-1] = -1\n",
    "            notional_position_neg[0] = np.nan\n",
    "            notional_position_neg[(position_neg==-1) & (pre_neg==-1)] = np.nan\n",
    "            notional_position_neg[(notional_position_neg==-1)] = -1/data[\"next.bid\"][(notional_position_neg==-1)]\n",
    "            notional_position_neg[(pred> scratch) & (next_ask>0)] = 0\n",
    "            notional_position_neg.iloc[0] = min((yesterday_notional[i_thre], 0))\n",
    "            notional_position_neg.ffill(inplace=True)\n",
    "            position = position_pos + position_neg\n",
    "            notional_position = notional_position_pos+notional_position_neg\n",
    "            position.loc[0] = yesterday_pos[i_thre]\n",
    "            notional_position[0] = yesterday_notional[i_thre]\n",
    "            if file == file_list[-1]:\n",
    "                position.iloc[-10:] = 0\n",
    "                notional_position.iloc[-10:] = 0\n",
    "            else:\n",
    "                position.iloc[-10:] = position.iloc[-10]\n",
    "                notional_position.iloc[-10:] = notional_position.iloc[-10]\n",
    "            initial_pnl = yesterday_pos[i_thre]*yesterday_price\n",
    "            initial_notional_pnl = yesterday_notional[i_thre]*yesterday_price\n",
    "            change_pos = position - position.shift(1)\n",
    "            change_pos.iloc[0] = 0\n",
    "            notional_change_pos = notional_position-notional_position.shift(1)\n",
    "            notional_change_pos.iloc[0] = 0\n",
    "            pre_pos = position.shift(1)\n",
    "            pre_pos.iloc[0] = position.iloc[0]\n",
    "            change_base = pd.Series(data=0, index=data.index)\n",
    "            change_buy = change_pos>0\n",
    "            change_sell = change_pos<0\n",
    "            if (tranct_ratio):\n",
    "                change_base[change_buy] = (data[\"next.ask\"][change_buy]+spread*slippage)*(1+tranct)\n",
    "                change_base[change_sell] = (data[\"next.bid\"][change_sell]-spread*slippage)*(1-tranct)\n",
    "            else:\n",
    "                change_base[change_buy] = data[\"next.ask\"][change_buy]+tranct+spread*slippage\n",
    "                change_base[change_sell] = data[\"next.bid\"][change_sell]-tranct-spread*slippage\n",
    "            notional_change_base = pd.Series(data=0, index=data.index)\n",
    "            notional_change_buy = notional_change_pos>0\n",
    "            notional_change_sell = notional_change_pos<0\n",
    "            if (tranct_ratio):\n",
    "                notional_change_base[notional_change_buy] = (data[\"next.ask\"][notional_change_buy]+spread*slippage)*(1+tranct)\n",
    "                notional_change_base[notional_change_sell] = (data[\"next.bid\"][notional_change_sell]-spread*slippage)*(1-tranct)\n",
    "            else:\n",
    "                notional_change_base[notional_change_buy] = data[\"next.ask\"][notional_change_buy]+tranct+spread*slippage\n",
    "                notional_change_base[notional_change_sell] = data[\"next.bid\"][notional_change_sell]-tranct-spread*slippage\n",
    "\n",
    "            yesterday_pos[i_thre] = position.iloc[-1]\n",
    "            yesterday_notional[i_thre] = notional_position.iloc[-1]\n",
    "            final_pnl = -sum(change_base*change_pos)+data[\"price\"].iloc[-1]*yesterday_pos[i_thre]-initial_pnl\n",
    "            daily_pnl[i_day, i_thre] = final_pnl\n",
    "            ## add the overnight pnl\n",
    "            ret = -sum(notional_change_base*notional_change_pos)+data[\"price\"].iloc[-1]*yesterday_notional[i_thre]-initial_notional_pnl\n",
    "            daily_ret[i_day, i_thre] = ret\n",
    "            num = sum((position!=0) & (change_pos!=0))\n",
    "            result.loc[i_thre, (\"num\")] = result.loc[i_thre, (\"num\")]+num\n",
    "            result.loc[i_thre, (\"pnl\")] = result.loc[i_thre, (\"pnl\")]+final_pnl\n",
    "            result.loc[i_thre, (\"ret\")] = result.loc[i_thre, (\"ret\")]+ret\n",
    "            if result.loc[i_thre, (\"num\")] == 0:\n",
    "                result.loc[i_thre, (\"avg.pnl\")] = 0\n",
    "                result.loc[i_thre, (\"avg.ret\")] = 0\n",
    "            else:\n",
    "                result.loc[i_thre, (\"avg.pnl\")] = np.divide(result.loc[i_thre, (\"pnl\")], result.loc[i_thre, (\"num\")])\n",
    "                result.loc[i_thre, (\"avg.ret\")] = np.divide(result.loc[i_thre, (\"ret\")], result.loc[i_thre, (\"num\")])\n",
    "            i_thre = i_thre + 1\n",
    "        yesterday_price = data[\"price\"].iloc[-1]\n",
    "    os.makedirs(SAVE_PATH+\"/medium strat/\"+product+\"/\"+signal_name, exist_ok=True)\n",
    "    save((result, daily_pnl, daily_ret), SAVE_PATH+\"/medium strat/\"+product+\"/\"+signal_name+\"/\"+contract+\".pkl\")"
   ]
  },
  {
   "cell_type": "code",
   "execution_count": 50,
   "metadata": {},
   "outputs": [
    {
     "name": "stdout",
     "output_type": "stream",
     "text": [
      "bu\n",
      "ru\n",
      "v\n",
      "pp\n",
      "l\n",
      "jd\n",
      "Wall time: 4h 31min 38s\n"
     ]
    }
   ],
   "source": [
    "%%time\n",
    "for product in product_list:\n",
    "    print(product)\n",
    "    result = parLapply(CORE_NUM, contract_vec[product], get_signal_pnl_contract, \n",
    "                       contract_vec=contract_list[product], good_night_files=all_dates, product=product, \n",
    "                       signal_name=strat, thre_mat=close_thre_list[product])\n",
    "\n",
    "# bu\n",
    "# ru\n",
    "# v\n",
    "# pp\n",
    "# l\n",
    "# jd\n",
    "# Wall time: 4h 31min 38s\n",
    "\n"
   ]
  },
  {
   "cell_type": "markdown",
   "metadata": {},
   "source": [
    "- then we can select good signals from training samples"
   ]
  },
  {
   "cell_type": "code",
   "execution_count": 51,
   "metadata": {},
   "outputs": [],
   "source": [
    "train_contract_list = dict([])\n",
    "test_contract_list = dict([])\n",
    "for product in product_list:\n",
    "    last_contract = contract_list[product][np.max(np.where(train_sample_list[product]))]\n",
    "    train_contract_list[product] = contract_vec[product][contract_vec[product]<=last_contract]\n",
    "    test_contract_list[product] = contract_vec[product][contract_vec[product]>last_contract]"
   ]
  },
  {
   "cell_type": "code",
   "execution_count": 52,
   "metadata": {},
   "outputs": [],
   "source": [
    "train_stat_list = dict([])\n",
    "for product in product_list:\n",
    "    train_stat = OrderedDict([(\"final.result\", None), (\"daily.ret\", None)])\n",
    "    train_contract = train_contract_list[product]\n",
    "    for contract in train_contract:\n",
    "        (result, daily_pnl, daily_ret) = load(SAVE_PATH+\"/medium strat/\"+product+\"/\"+strat+\"/\"+contract+\".pkl\")\n",
    "        if train_stat[\"final.result\"] is None:\n",
    "            train_stat[\"final.result\"] = result\n",
    "        else:\n",
    "            train_stat[\"final.result\"][\"num\"] = train_stat[\"final.result\"][\"num\"] + result[\"num\"]\n",
    "            train_stat[\"final.result\"][\"pnl\"] = train_stat[\"final.result\"][\"pnl\"] + result[\"pnl\"]\n",
    "            train_stat[\"final.result\"][\"ret\"] = train_stat[\"final.result\"][\"ret\"] + result[\"ret\"]\n",
    "            train_stat[\"final.result\"][\"avg.pnl\"] = zero_divide(train_stat[\"final.result\"][\"pnl\"], train_stat[\"final.result\"][\"num\"])\n",
    "            train_stat[\"final.result\"][\"avg.ret\"] = zero_divide(train_stat[\"final.result\"][\"ret\"], train_stat[\"final.result\"][\"num\"])\n",
    "\n",
    "        if train_stat[\"daily.ret\"] is None:\n",
    "            train_stat[\"daily.ret\"] = daily_ret\n",
    "        else:\n",
    "            train_stat[\"daily.ret\"] = np.vstack((train_stat[\"daily.ret\"], daily_ret))\n",
    "    train_stat_list[product] = train_stat"
   ]
  },
  {
   "cell_type": "code",
   "execution_count": 53,
   "metadata": {},
   "outputs": [],
   "source": [
    "test_stat_list = dict([])\n",
    "for product in product_list:\n",
    "    test_stat = OrderedDict([(\"final.result\", None), (\"daily.ret\", None)])\n",
    "    test_contract = test_contract_list[product]\n",
    "    for contract in test_contract:\n",
    "        (result, daily_pnl,daily_ret) = load(SAVE_PATH+\"/medium strat/\"+product+\"/\"+strat+\"/\"+contract+\".pkl\")\n",
    "        if test_stat[\"final.result\"] is None:\n",
    "            test_stat[\"final.result\"] = result\n",
    "        else:\n",
    "            test_stat[\"final.result\"][\"num\"] = test_stat[\"final.result\"][\"num\"] + result[\"num\"]\n",
    "            test_stat[\"final.result\"][\"pnl\"] = test_stat[\"final.result\"][\"pnl\"] + result[\"pnl\"]\n",
    "            test_stat[\"final.result\"][\"ret\"] = test_stat[\"final.result\"][\"ret\"] + result[\"ret\"]\n",
    "            test_stat[\"final.result\"][\"avg.pnl\"] = zero_divide(test_stat[\"final.result\"][\"pnl\"], test_stat[\"final.result\"][\"num\"])\n",
    "            test_stat[\"final.result\"][\"avg.ret\"] = zero_divide(test_stat[\"final.result\"][\"ret\"], test_stat[\"final.result\"][\"num\"])\n",
    "\n",
    "        if test_stat[\"daily.ret\"] is None:\n",
    "            test_stat[\"daily.ret\"] = daily_ret\n",
    "        else:\n",
    "            test_stat[\"daily.ret\"] = np.vstack((test_stat[\"daily.ret\"], daily_ret))\n",
    "    test_stat_list[product] = test_stat"
   ]
  },
  {
   "cell_type": "code",
   "execution_count": 54,
   "metadata": {
    "scrolled": true
   },
   "outputs": [
    {
     "name": "stdout",
     "output_type": "stream",
     "text": [
      "bu train sharpe  0.43259387467716853 test sharpe  -0.15893656952420557\n",
      "ru train sharpe  0.7766989556526774 test sharpe  0.019123148438340076\n",
      "v train sharpe  1.34646080453167 test sharpe  -1.0120043216644137\n",
      "pp train sharpe  1.4989938722692804 test sharpe  1.1074064893579825\n",
      "l train sharpe  0.7178219619998605 test sharpe  0.25340392860895455\n",
      "jd train sharpe  nan test sharpe  nan\n"
     ]
    }
   ],
   "source": [
    "i = 0\n",
    "test_all_pnl = np.zeros([sum(test_sample), len(product_list)])\n",
    "train_all_pnl = np.zeros([sum(train_sample), len(product_list)])\n",
    "min_pnl = 2\n",
    "min_num = 10\n",
    "for product in product_list:\n",
    "    spread = product_info[product][\"spread\"]\n",
    "    train_stat = train_stat_list[product]\n",
    "    good_strat = (train_stat[\"final.result\"][\"avg.pnl\"]>min_pnl*spread) & (train_stat[\"final.result\"][\"num\"]>min_num)\n",
    "    train_pnl = train_stat[\"daily.ret\"][:, good_strat].sum(axis=1)/sum(good_strat)\n",
    "    test_stat = test_stat_list[product]\n",
    "    test_pnl = test_stat[\"daily.ret\"][:, good_strat].sum(axis=1)/sum(good_strat)\n",
    "    print(product, \"train sharpe \", sharpe(train_pnl), \"test sharpe \", sharpe(test_pnl))\n",
    "    i = i+1\n",
    "\n",
    "# bu train sharpe  0.43259387467716853 test sharpe  -0.15893656952420557\n",
    "# ru train sharpe  0.7766989556526774 test sharpe  0.019123148438340076\n",
    "# v train sharpe  1.34646080453167 test sharpe  -1.0120043216644137\n",
    "# pp train sharpe  1.4989938722692804 test sharpe  1.1074064893579825\n",
    "# l train sharpe  0.7178219619998605 test sharpe  0.25340392860895455\n",
    "# jd train sharpe  nan test sharpe  nan\n",
    "\n",
    "\n",
    "\n"
   ]
  },
  {
   "cell_type": "markdown",
   "metadata": {},
   "source": [
    "- we can see that the test result accpetable even though there is a small drawback\n"
   ]
  },
  {
   "cell_type": "code",
   "execution_count": null,
   "metadata": {},
   "outputs": [],
   "source": []
  }
 ],
 "metadata": {
  "kernelspec": {
   "display_name": "Python 3 (ipykernel)",
   "language": "python",
   "name": "python3"
  },
  "language_info": {
   "codemirror_mode": {
    "name": "ipython",
    "version": 3
   },
   "file_extension": ".py",
   "mimetype": "text/x-python",
   "name": "python",
   "nbconvert_exporter": "python",
   "pygments_lexer": "ipython3",
   "version": "3.8.12"
  }
 },
 "nbformat": 4,
 "nbformat_minor": 2
}
