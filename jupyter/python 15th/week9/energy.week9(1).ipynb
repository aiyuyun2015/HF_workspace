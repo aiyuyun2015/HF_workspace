{
 "cells": [
  {
   "cell_type": "code",
   "execution_count": 1,
   "metadata": {},
   "outputs": [
    {
     "data": {
      "text/plain": [
       "<module 'stats' from 'C:\\\\Users\\\\dell\\\\stats.py'>"
      ]
     },
     "execution_count": 1,
     "metadata": {},
     "output_type": "execute_result"
    }
   ],
   "source": [
    "from helper import *\n",
    "from stats import *\n",
    "from product_info import *\n",
    "from imp import reload  \n",
    "import helper\n",
    "import stats\n",
    "reload(helper)\n",
    "reload(stats)\n"
   ]
  },
  {
   "cell_type": "code",
   "execution_count": 2,
   "metadata": {},
   "outputs": [
    {
     "data": {
      "text/plain": [
       "16"
      ]
     },
     "execution_count": 2,
     "metadata": {},
     "output_type": "execute_result"
    }
   ],
   "source": [
    "CORE_NUM = int(os.environ['NUMBER_OF_PROCESSORS'])\n",
    "CORE_NUM"
   ]
  },
  {
   "cell_type": "code",
   "execution_count": 3,
   "metadata": {},
   "outputs": [],
   "source": [
    "import warnings\n",
    " \n",
    "warnings.filterwarnings('ignore')"
   ]
  },
  {
   "cell_type": "code",
   "execution_count": 4,
   "metadata": {},
   "outputs": [],
   "source": [
    "product_list = [\"bu\", \"ru\", \"v\", \"pp\", \"l\", \"jd\"]"
   ]
  },
  {
   "cell_type": "code",
   "execution_count": 5,
   "metadata": {},
   "outputs": [],
   "source": [
    "period = 4096"
   ]
  },
  {
   "cell_type": "code",
   "execution_count": 6,
   "metadata": {},
   "outputs": [
    {
     "data": {
      "text/plain": [
       "1066"
      ]
     },
     "execution_count": 6,
     "metadata": {},
     "output_type": "execute_result"
    }
   ],
   "source": [
    "all_dates = os.listdir(DATA_PATH + product_list[0])\n",
    "all_dates.sort()\n",
    "all_dates = np.array(all_dates)\n",
    "n_days = len(all_dates)\n",
    "n_days\n",
    "## 1066"
   ]
  },
  {
   "cell_type": "code",
   "execution_count": 7,
   "metadata": {},
   "outputs": [],
   "source": [
    "import dask\n",
    "from dask import compute, delayed\n",
    "import sklearn.preprocessing"
   ]
  },
  {
   "cell_type": "code",
   "execution_count": 8,
   "metadata": {},
   "outputs": [],
   "source": [
    "os.makedirs(HEAD_PATH+\"/all signal\", exist_ok=True)\n",
    "dire_signal_list = [\"trade.imb\", \"total.trade.imb\", \"nr\", \"dbook\", \"range.pos\", \"price.osci\", \"ma.dif.10\", \"kdj.k\", \"kdj.j\"]\n",
    "range_signal_list = [\"\", \"range\", \"std\", \"volume.open.ratio\", \"trend.index\"]\n",
    "all_signal_list = np.array([])\n",
    "for range_signal in range_signal_list:\n",
    "    for dire_signal in dire_signal_list:\n",
    "        if len(range_signal)==0:\n",
    "            signal_name = dire_signal\n",
    "        else:\n",
    "            signal_name = dire_signal+\".\"+range_signal\n",
    "        all_signal_list = np.append(all_signal_list,signal_name)\n",
    "signal_list = [signal+\".4096\" for signal in all_signal_list]\n",
    "np.append(signal_list, [\"ret.4096\", \"ret.4096.001\", \"ret.4096.002\", \"ret.4096.004\"])\n",
    "n_signal = len(signal_list)"
   ]
  },
  {
   "cell_type": "code",
   "execution_count": 9,
   "metadata": {},
   "outputs": [
    {
     "name": "stdout",
     "output_type": "stream",
     "text": [
      "486\n",
      "580\n"
     ]
    },
    {
     "data": {
      "text/plain": [
       "Timestamp('2019-10-08 00:00:00')"
      ]
     },
     "execution_count": 9,
     "metadata": {},
     "output_type": "execute_result"
    }
   ],
   "source": [
    "split_str = \"201910\"\n",
    "train_sample = all_dates<split_str\n",
    "test_sample = all_dates>split_str\n",
    "date_str = [n[0:8] for n in all_dates]\n",
    "format_dates = np.array([pd.to_datetime(d) for d in date_str])\n",
    "print(sum(train_sample))\n",
    "print(sum(test_sample))\n",
    "format_dates[test_sample][0]"
   ]
  },
  {
   "cell_type": "code",
   "execution_count": 10,
   "metadata": {},
   "outputs": [],
   "source": [
    "from sklearn import linear_model\n",
    "from sklearn.model_selection import cross_val_score\n",
    "from sklearn.linear_model import lasso_path, LassoCV\n",
    "from sklearn.preprocessing import StandardScaler\n",
    "y_signal = \"ret.\"+str(period)+\".004\"\n",
    "#y_signal = \"ret.\"+str(period)"
   ]
  },
  {
   "cell_type": "markdown",
   "metadata": {},
   "source": [
    "- at first we try using lasso for them together "
   ]
  },
  {
   "cell_type": "code",
   "execution_count": 11,
   "metadata": {},
   "outputs": [],
   "source": [
    "ori_mat = load(HEAD_PATH+\"/train test mat/\"+product_list[0]+\".train.mat.pkl\")\n",
    "signal_names = ori_mat.columns[0:-4]\n",
    "signal_names\n",
    "col_names = ori_mat.columns"
   ]
  },
  {
   "cell_type": "code",
   "execution_count": 12,
   "metadata": {},
   "outputs": [
    {
     "data": {
      "text/plain": [
       "(4000, 45)"
      ]
     },
     "execution_count": 12,
     "metadata": {},
     "output_type": "execute_result"
    }
   ],
   "source": [
    "train_mat = load(HEAD_PATH+\"/train test mat/\"+product_list[0]+\".train.mat.pkl\")\n",
    "train_mat = train_mat[signal_names]\n",
    "#train_mat = pd.DataFrame(data=sklearn.preprocessing.scale(train_mat, with_mean=False), columns=signal_names)\n",
    "train_mat.shape\n",
    "## (4000, 45)"
   ]
  },
  {
   "cell_type": "code",
   "execution_count": 13,
   "metadata": {},
   "outputs": [
    {
     "name": "stdout",
     "output_type": "stream",
     "text": [
      "bu (3999, 49)\n",
      "ru (4163, 49)\n",
      "v (1755, 49)\n",
      "pp (2673, 49)\n",
      "l (1936, 49)\n",
      "jd (1562, 49)\n"
     ]
    }
   ],
   "source": [
    "train_mat = load(HEAD_PATH+\"/train test mat/\"+product_list[0]+\".train.mat.pkl\").iloc[:-1,:]\n",
    "train_mat = pd.DataFrame(data=sklearn.preprocessing.scale(train_mat, with_mean=False), columns=col_names)\n",
    "print(product_list[0], train_mat.shape)\n",
    "for product in product_list[1:]:\n",
    "    cur_mat = load(HEAD_PATH+\"/train test mat/\"+product+\".train.mat.pkl\").iloc[:-1,:]\n",
    "    cur_mat = pd.DataFrame(data=sklearn.preprocessing.scale(cur_mat, with_mean=False), columns=col_names)\n",
    "    print(product, cur_mat.shape)\n",
    "    train_mat = train_mat.append(cur_mat)\n",
    "\n",
    "# bu (3999, 49)\n",
    "# ru (4163, 49)\n",
    "# v (1755, 49)\n",
    "# pp (2673, 49)\n",
    "# l (1936, 49)\n",
    "# jd (1562, 49)\n",
    "\n",
    "\n"
   ]
  },
  {
   "cell_type": "code",
   "execution_count": 14,
   "metadata": {},
   "outputs": [],
   "source": [
    "#result = forward_selected(train_mat[train_mat.columns[:-3]], \"ret.\"+str(period))"
   ]
  },
  {
   "cell_type": "code",
   "execution_count": 15,
   "metadata": {},
   "outputs": [],
   "source": [
    "# pos = [np.where(signal_list==x)[0][0] for x in result[\"chosen.signals\"]]"
   ]
  },
  {
   "cell_type": "code",
   "execution_count": 16,
   "metadata": {},
   "outputs": [],
   "source": [
    "train_std_mat = dict([])\n",
    "for product in product_list:\n",
    "    cur_mat = load(HEAD_PATH+\"/train test mat/\"+product+\".train.mat.pkl\")\n",
    "    train_std_mat[product] = np.std(cur_mat)"
   ]
  },
  {
   "cell_type": "code",
   "execution_count": 17,
   "metadata": {},
   "outputs": [
    {
     "name": "stdout",
     "output_type": "stream",
     "text": [
      "(16088, 45)\n",
      "[-0.          0.          0.         -0.         -0.          0.00663095\n",
      "  0.         -0.         -0.         -0.         -0.          0.\n",
      " -0.02034936 -0.01748058  0.         -0.         -0.         -0.\n",
      " -0.         -0.          0.         -0.         -0.          0.\n",
      " -0.          0.         -0.         -0.         -0.          0.\n",
      " -0.         -0.          0.          0.          0.         -0.\n",
      " -0.00174033  0.          0.         -0.          0.          0.00897258\n",
      "  0.          0.          0.        ]\n"
     ]
    }
   ],
   "source": [
    "x_train = train_mat.iloc[:, :n_signal].values\n",
    "#x_train = train_mat[result[\"chosen.signals\"]]\n",
    "#x_train = train_mat[signal_list[chosen_signals]]\n",
    "y_train = train_mat.loc[:, y_signal].values\n",
    "print(np.shape(x_train))\n",
    "scaler =  StandardScaler(copy=True, with_mean=True, with_std=True)\n",
    "scaler.fit(x_train)\n",
    "x_std = np.sqrt(scaler.var_)\n",
    "x_train_normal = scaler.transform(x_train)\n",
    "model = LassoCV(n_alphas=100, fit_intercept=False, cv=10, max_iter=10000).fit(x_train_normal, y_train)\n",
    "#fit_coef = np.zeros(n_signal)\n",
    "#fit_coef[pos] = model.coef_/x_std\n",
    "fit_coef = model.coef_/x_std\n",
    "print(fit_coef)\n",
    "\n",
    "# (16088, 45)\n",
    "# [-0.          0.          0.         -0.         -0.          0.00663095\n",
    "#   0.         -0.         -0.         -0.         -0.          0.\n",
    "#  -0.02034936 -0.01748058  0.         -0.         -0.         -0.\n",
    "#  -0.         -0.          0.         -0.         -0.          0.\n",
    "#  -0.          0.         -0.         -0.         -0.          0.\n",
    "#  -0.         -0.          0.          0.          0.         -0.\n",
    "#  -0.00174033  0.          0.         -0.          0.          0.00897258\n",
    "#   0.          0.          0.        ]\n",
    "\n",
    "\n",
    "\n",
    "\n",
    "\n",
    "\n"
   ]
  },
  {
   "cell_type": "code",
   "execution_count": 18,
   "metadata": {},
   "outputs": [
    {
     "name": "stdout",
     "output_type": "stream",
     "text": [
      "bu\n",
      "price.osci.4096                0.000070\n",
      "dbook.range.4096              -0.000082\n",
      "range.pos.range.4096          -0.000024\n",
      "trade.imb.trend.index.4096    -0.000419\n",
      "price.osci.trend.index.4096    0.000145\n",
      "dtype: float64\n",
      "ru\n",
      "price.osci.4096                0.000067\n",
      "dbook.range.4096              -0.000031\n",
      "range.pos.range.4096          -0.000006\n",
      "trade.imb.trend.index.4096    -0.000614\n",
      "price.osci.trend.index.4096    0.000165\n",
      "dtype: float64\n",
      "v\n",
      "price.osci.4096                0.000077\n",
      "dbook.range.4096              -0.000034\n",
      "range.pos.range.4096          -0.000011\n",
      "trade.imb.trend.index.4096    -0.000298\n",
      "price.osci.trend.index.4096    0.000162\n",
      "dtype: float64\n",
      "pp\n",
      "price.osci.4096                0.000062\n",
      "dbook.range.4096              -0.000064\n",
      "range.pos.range.4096          -0.000008\n",
      "trade.imb.trend.index.4096    -0.000571\n",
      "price.osci.trend.index.4096    0.000135\n",
      "dtype: float64\n",
      "l\n",
      "price.osci.4096                0.000061\n",
      "dbook.range.4096              -0.000034\n",
      "range.pos.range.4096          -0.000008\n",
      "trade.imb.trend.index.4096    -0.000312\n",
      "price.osci.trend.index.4096    0.000128\n",
      "dtype: float64\n",
      "jd\n",
      "price.osci.4096                0.000078\n",
      "dbook.range.4096              -0.000082\n",
      "range.pos.range.4096          -0.000020\n",
      "trade.imb.trend.index.4096    -0.000632\n",
      "price.osci.trend.index.4096    0.000168\n",
      "dtype: float64\n"
     ]
    }
   ],
   "source": [
    "coef_list=dict([])\n",
    "for product in product_list:\n",
    "    coef = fit_coef*train_std_mat[product][y_signal]/train_std_mat[product][signal_names]\n",
    "    coef_list[product] = coef\n",
    "    print(product)\n",
    "    print(coef[coef!=0])\n",
    "    \n",
    "# bu\n",
    "# price.osci.4096                0.000070\n",
    "# dbook.range.4096              -0.000082\n",
    "# range.pos.range.4096          -0.000024\n",
    "# trade.imb.trend.index.4096    -0.000419\n",
    "# price.osci.trend.index.4096    0.000145\n",
    "# dtype: float64\n",
    "# ru\n",
    "# price.osci.4096                0.000067\n",
    "# dbook.range.4096              -0.000031\n",
    "# range.pos.range.4096          -0.000006\n",
    "# trade.imb.trend.index.4096    -0.000614\n",
    "# price.osci.trend.index.4096    0.000165\n",
    "# dtype: float64\n",
    "# v\n",
    "# price.osci.4096                0.000077\n",
    "# dbook.range.4096              -0.000034\n",
    "# range.pos.range.4096          -0.000011\n",
    "# trade.imb.trend.index.4096    -0.000298\n",
    "# price.osci.trend.index.4096    0.000162\n",
    "# dtype: float64\n",
    "# pp\n",
    "# price.osci.4096                0.000062\n",
    "# dbook.range.4096              -0.000064\n",
    "# range.pos.range.4096          -0.000008\n",
    "# trade.imb.trend.index.4096    -0.000571\n",
    "# price.osci.trend.index.4096    0.000135\n",
    "# dtype: float64\n",
    "# l\n",
    "# price.osci.4096                0.000061\n",
    "# dbook.range.4096              -0.000034\n",
    "# range.pos.range.4096          -0.000008\n",
    "# trade.imb.trend.index.4096    -0.000312\n",
    "# price.osci.trend.index.4096    0.000128\n",
    "# dtype: float64\n",
    "# jd\n",
    "# price.osci.4096                0.000078\n",
    "# dbook.range.4096              -0.000082\n",
    "# range.pos.range.4096          -0.000020\n",
    "# trade.imb.trend.index.4096    -0.000632\n",
    "# price.osci.trend.index.4096    0.000168\n",
    "# dtype: float64"
   ]
  },
  {
   "cell_type": "code",
   "execution_count": 19,
   "metadata": {},
   "outputs": [],
   "source": [
    "SAVE_PATH = \"e:/intern\"\n",
    "#save(coef_list, SAVE_PATH+\"/finance.lasso.pkl\")\n",
    "save(coef_list, SAVE_PATH+\"/energy.lasso.pkl\")"
   ]
  },
  {
   "cell_type": "code",
   "execution_count": 20,
   "metadata": {},
   "outputs": [],
   "source": [
    "#coef_list = load(SAVE_PATH+\"/finance.lasso.pkl\")\n",
    "coef_list = load(SAVE_PATH+\"/energy.lasso.pkl\")"
   ]
  },
  {
   "cell_type": "code",
   "execution_count": 21,
   "metadata": {},
   "outputs": [],
   "source": [
    "strat = \"overall.energy.lasso.\"+str(period)\n",
    "   \n",
    "for product in product_list:\n",
    "    os.makedirs(\"e:/intern\"+\"/tmp pkl/\"+product+\"/\"+strat, exist_ok=True)"
   ]
  },
  {
   "cell_type": "code",
   "execution_count": 22,
   "metadata": {},
   "outputs": [
    {
     "name": "stdout",
     "output_type": "stream",
     "text": [
      "bu\n",
      "ru\n",
      "v\n",
      "pp\n",
      "l\n",
      "jd\n",
      "Wall time: 56min 1s\n"
     ]
    }
   ],
   "source": [
    "%%time\n",
    "for product in product_list:\n",
    "    print(product)\n",
    "    coef = coef_list[product]\n",
    "    parLapply(CORE_NUM, all_dates, par_get_daily_pred, \n",
    "              product=product, coef=coef, strat=strat, HEAD_PATH=\"e:/intern\", SAVE_PATH=\"e:/intern\")\n",
    "\n",
    "# bu\n",
    "# ru\n",
    "# v\n",
    "# pp\n",
    "# l\n",
    "# jd\n",
    "# Wall time: 56min 1s"
   ]
  },
  {
   "cell_type": "code",
   "execution_count": 23,
   "metadata": {},
   "outputs": [
    {
     "name": "stdout",
     "output_type": "stream",
     "text": [
      "bu\n",
      "ru\n",
      "v\n",
      "pp\n",
      "l\n",
      "jd\n",
      "Wall time: 5min 47s\n"
     ]
    }
   ],
   "source": [
    "%%time\n",
    "for product in product_list:\n",
    "    print(product)\n",
    "    par_get_all_signal(strat, all_dates, product, 4096, SAVE_PATH=\"e:/intern\")\n",
    "\n",
    "# bu\n",
    "# ru\n",
    "# v\n",
    "# pp\n",
    "# l\n",
    "# jd\n",
    "# Wall time: 5min 47s\n",
    "\n"
   ]
  },
  {
   "cell_type": "code",
   "execution_count": 27,
   "metadata": {},
   "outputs": [
    {
     "name": "stdout",
     "output_type": "stream",
     "text": [
      "reverse=1\n",
      "reverse=1\n",
      "reverse=1\n",
      "reverse=1\n",
      "reverse=1\n",
      "reverse=1\n",
      "Wall time: 11min 15s\n"
     ]
    }
   ],
   "source": [
    "%%time\n",
    "for product in product_list:\n",
    "    spread = product_info[product][\"spread\"]\n",
    "    tranct = product_info[product][\"tranct\"]\n",
    "    tranct_ratio = product_info[product][\"tranct.ratio\"]\n",
    "    evaluate_signal(\"overall.energy.lasso\", all_dates, product, 2, 20, CORE_NUM, HEAD_PATH, \"e:/intern\",\n",
    "                    period=4096, split_str=split_str, tranct=tranct, \n",
    "                    max_spread=spread*1.1, tranct_ratio=tranct_ratio, atr_filter=0.01, save_path=\"signal result atr\",reverse=1)\n",
    "\n",
    "# reverse=1\n",
    "# reverse=1\n",
    "# reverse=1\n",
    "# reverse=1\n",
    "# reverse=1\n",
    "# reverse=1\n",
    "# Wall time: 11min 15s\n",
    "\n"
   ]
  },
  {
   "cell_type": "code",
   "execution_count": 28,
   "metadata": {
    "scrolled": false
   },
   "outputs": [
    {
     "name": "stdout",
     "output_type": "stream",
     "text": [
      "bu train sharpe  0.6011867350266192 test sharpe  -0.1631903471995629\n",
      "v train sharpe  0.7502234166946331 test sharpe  -0.7470389513497625\n",
      "pp train sharpe  0.5659746919019489 test sharpe  0.7050143506938111\n",
      "jd train sharpe  0.9873835892951233 test sharpe  1.345749107960923\n",
      "train sharpe:  1.1864715941142205 test sharpe:  0.30503552389627475\n"
     ]
    },
    {
     "data": {
      "image/png": "[encoded data removed]",
      "text/plain": [
       "<Figure size 1152x720 with 1 Axes>"
      ]
     },
     "metadata": {
      "needs_background": "light"
     },
     "output_type": "display_data"
    }
   ],
   "source": [
    "i = 0\n",
    "strat = \"overall.energy.lasso.4096\"\n",
    "test_sample = all_dates>split_str\n",
    "test_all_pnl = np.zeros([sum(test_sample), len(product_list)])\n",
    "train_all_pnl = np.zeros([sum(train_sample), len(product_list)])\n",
    "min_pnl = 2\n",
    "min_num = 10\n",
    "for product in product_list:\n",
    "    spread = product_info[product][\"spread\"]\n",
    "    signal_stat = load(HEAD_PATH+\"/signal result atr/\"+product+\".\"+strat+\".trend.pkl\")\n",
    "    train_stat = signal_stat[\"train.stat\"]\n",
    "    good_strat = (train_stat[\"final.result\"][\"avg.pnl\"]>min_pnl*spread) & (train_stat[\"final.result\"][\"num\"]>min_num)\n",
    "    if sum(good_strat)==0:\n",
    "        continue\n",
    "    train_pnl = train_stat[\"daily.ret\"].loc[:, good_strat].sum(axis=1)/sum(good_strat)\n",
    "    test_stat = signal_stat[\"test.stat\"]\n",
    "    test_pnl = test_stat[\"daily.ret\"].loc[:, good_strat].sum(axis=1)/sum(good_strat)\n",
    "    print(product, \"train sharpe \", sharpe(train_pnl), \"test sharpe \", sharpe(test_pnl))\n",
    "    test_all_pnl[:,i] = test_pnl\n",
    "    train_all_pnl[:,i] = train_pnl\n",
    "    i = i+1\n",
    "train_portfolio = np.array(np.mean(train_all_pnl[:,:i], axis=1))\n",
    "test_portfolio = np.array(np.mean(test_all_pnl[:,:i], axis=1))\n",
    "all_portfolio = np.append(train_portfolio, test_portfolio)\n",
    "plt.figure(1, figsize=(16, 10));\n",
    "plt.title(\"\");\n",
    "plt.xlabel(\"date\");\n",
    "plt.ylabel(\"pnl\");\n",
    "plt.title(\"portfolio\");\n",
    "plt.plot(format_dates, all_portfolio.cumsum());\n",
    "plt.plot(format_dates[test_sample], all_portfolio.cumsum()[test_sample])\n",
    "print(\"train sharpe: \", sharpe(train_portfolio), \"test sharpe: \", sharpe(test_portfolio))    \n",
    "\n",
    "# bu train sharpe  0.6011867350266192 test sharpe  -0.1631903471995629\n",
    "# v train sharpe  0.7502234166946331 test sharpe  -0.7470389513497625\n",
    "# pp train sharpe  0.5659746919019489 test sharpe  0.7050143506938111\n",
    "# jd train sharpe  0.9873835892951233 test sharpe  1.345749107960923\n",
    "# train sharpe:  1.1864715941142205 test sharpe:  0.30503552389627475\n",
    "\n",
    "\n",
    "\n",
    "\n",
    "\n"
   ]
  },
  {
   "cell_type": "markdown",
   "metadata": {},
   "source": [
    "- we can see that the result is much better than before\n",
    "- so we can use this method for rolling models\n",
    "- However, using the previous method may be too slow\n",
    "- we calcualte the predictions values of each product using 26 mintues, and other time add up together would be 30 mintues\n",
    "- if we are rolling on a monthly basis\n",
    "- from 201801 to 201908 there are 20 months\n",
    "- so it may use 10 hours for the rolling"
   ]
  },
  {
   "cell_type": "markdown",
   "metadata": {},
   "source": [
    "- rolling model"
   ]
  },
  {
   "cell_type": "markdown",
   "metadata": {},
   "source": [
    "- at first we need to know how many ticks every day"
   ]
  },
  {
   "cell_type": "code",
   "execution_count": 29,
   "metadata": {},
   "outputs": [],
   "source": [
    "daily_ticks = dict([])\n",
    "all_mat = dict([])\n",
    "for product in product_list:\n",
    "    daily_num = load(HEAD_PATH+\"/daily num/\"+product+\".pkl\")\n",
    "    daily_ticks[product] = daily_num\n",
    "    test_mat = load(HEAD_PATH+\"/train test mat/\"+product+\".test.mat.pkl\")\n",
    "    train_mat = load(HEAD_PATH+\"/train test mat/\"+product+\".train.mat.pkl\")\n",
    "    all_mat[product] = pd.concat((train_mat, test_mat))"
   ]
  },
  {
   "cell_type": "markdown",
   "metadata": {},
   "source": [
    "- at first we can try a not so intensive method\n",
    "- we can get the starting day for train"
   ]
  },
  {
   "cell_type": "code",
   "execution_count": 30,
   "metadata": {},
   "outputs": [],
   "source": [
    "from sklearn import linear_model\n",
    "from sklearn.model_selection import cross_val_score\n",
    "from sklearn.linear_model import lasso_path, LassoCV"
   ]
  },
  {
   "cell_type": "markdown",
   "metadata": {},
   "source": [
    "- at first we can try a not so intensive method\n",
    "- we can get the starting day for train"
   ]
  },
  {
   "cell_type": "code",
   "execution_count": 31,
   "metadata": {},
   "outputs": [],
   "source": [
    "from sklearn.preprocessing import StandardScaler"
   ]
  },
  {
   "cell_type": "markdown",
   "metadata": {},
   "source": [
    "- now we generate prediction values for next 22 days"
   ]
  },
  {
   "cell_type": "markdown",
   "metadata": {},
   "source": [
    "- now we can combien all these and get a function for rolling\n",
    "- we can also use calendar month rather than 22 days"
   ]
  },
  {
   "cell_type": "code",
   "execution_count": 32,
   "metadata": {},
   "outputs": [],
   "source": [
    "month = np.array([file[:6] for file in all_dates])"
   ]
  },
  {
   "cell_type": "code",
   "execution_count": 33,
   "metadata": {},
   "outputs": [
    {
     "data": {
      "text/plain": [
       "(array(['201710', '201711', '201712', '201801', '201802', '201803',\n",
       "        '201804', '201805', '201806', '201807', '201808', '201809',\n",
       "        '201810', '201811', '201812', '201901', '201902', '201903',\n",
       "        '201904', '201905', '201906', '201907', '201908', '201909',\n",
       "        '201910', '201911', '201912', '202001', '202002', '202003',\n",
       "        '202004', '202005', '202006', '202007', '202008', '202009',\n",
       "        '202010', '202011', '202012', '202101', '202102', '202103',\n",
       "        '202104', '202105', '202106', '202107', '202108', '202109',\n",
       "        '202110', '202111', '202112', '202201', '202202'], dtype='<U6'),\n",
       " array([17, 22, 21, 22, 15, 22, 18, 22, 20, 22, 23, 19, 18, 22, 20, 22, 15,\n",
       "        21, 21, 20, 19, 23, 22, 20, 18, 21, 22, 16, 20, 22, 21, 18, 20, 23,\n",
       "        21, 22, 16, 21, 23, 20, 15, 23, 21, 18, 21, 22, 22, 20, 16, 22, 23,\n",
       "        19, 14], dtype=int64))"
      ]
     },
     "execution_count": 33,
     "metadata": {},
     "output_type": "execute_result"
    }
   ],
   "source": [
    "month_len = np.unique(month, return_counts=True)\n",
    "month_len\n",
    "\n",
    "# (array(['201710', '201711', '201712', '201801', '201802', '201803',\n",
    "#         '201804', '201805', '201806', '201807', '201808', '201809',\n",
    "#         '201810', '201811', '201812', '201901', '201902', '201903',\n",
    "#         '201904', '201905', '201906', '201907', '201908', '201909',\n",
    "#         '201910', '201911', '201912', '202001', '202002', '202003',\n",
    "#         '202004', '202005', '202006', '202007', '202008', '202009',\n",
    "#         '202010', '202011', '202012', '202101', '202102', '202103',\n",
    "#         '202104', '202105', '202106', '202107', '202108', '202109',\n",
    "#         '202110', '202111', '202112', '202201', '202202'], dtype='<U6'),\n",
    "#  array([17, 22, 21, 22, 15, 22, 18, 22, 20, 22, 23, 19, 18, 22, 20, 22, 15,\n",
    "#         21, 21, 20, 19, 23, 22, 20, 18, 21, 22, 16, 20, 22, 21, 18, 20, 23,\n",
    "#         21, 22, 16, 21, 23, 20, 15, 23, 21, 18, 21, 22, 22, 20, 16, 22, 23,\n",
    "#         19, 14], dtype=int64))"
   ]
  },
  {
   "cell_type": "code",
   "execution_count": 34,
   "metadata": {},
   "outputs": [],
   "source": [
    "## training multiple products together with rolling model\n",
    "## train_start: start day to train\n",
    "## train_end: end day to train\n",
    "## forward_len: length of test sets\n",
    "## strat: name of strategy\n",
    "## single_product: the products that need to train separately\n",
    "## combine_product: the products that need to train together\n",
    "def get_multiple_lasso_roll_model(train_start, train_end, y_signal, forward_len, strat, \n",
    "                          single_product, combine_product, period=4096, SAVE_PATH=\"e:/intern\"):\n",
    "    product_list = np.append(single_product, combine_product) ## all of the products\n",
    "    cum_daily_ticks = dict([]) ## cumulative of number of ticks by product\n",
    "    train_tick_start = dict([]) ## startting ticks of training set\n",
    "    train_tick_end = dict([])   ## ending ticks of training set\n",
    "    test_tick_start = dict([]) ## startting ticks of test set\n",
    "    test_tick_end = dict([]) ## ending ticks of test set\n",
    "    scaler =  StandardScaler(copy=True, with_mean=True, with_std=True)\n",
    "    for product in product_list:\n",
    "        cum_daily_ticks[product] = daily_ticks[product].cumsum()\n",
    "        if train_start==0:\n",
    "            train_tick_start[product] = 0\n",
    "        else:\n",
    "            train_tick_start[product] = int(cum_daily_ticks[product][train_start-1]+1)\n",
    "        train_tick_end[product] = int(cum_daily_ticks[product][train_end]-1) \n",
    "        ## the last tick would use future data that in the test sample for response variable y, so we need to minus 1 here\n",
    "        test_tick_start[product] = int(train_tick_end[product]+2) ## we minus 1 in train_tick_end, so need to plus 2 for test_tick_start\n",
    "        test_tick_end[product] = int(cum_daily_ticks[product][train_end+1]) ## we only use 1 month as test sample so plus 1 here\n",
    "    coef_list = dict([])\n",
    "    for product in single_product: ## train products in single_product separately \n",
    "        x_train = all_mat[product].iloc[train_tick_start[product]:train_tick_end[product], :n_signal].values\n",
    "        y_train = all_mat[product][y_signal][train_tick_start[product]:train_tick_end[product]]\n",
    "        n_train = x_train.shape[0]\n",
    "        scaler =  StandardScaler(copy=True, with_mean=True, with_std=True)\n",
    "        scaler.fit(x_train)\n",
    "        x_std = np.sqrt(scaler.var_)\n",
    "        x_train_normal = scaler.transform(x_train)\n",
    "        model = LassoCV(n_alphas=100, fit_intercept=False, cv=10, max_iter=10000).fit(x_train_normal, y_train)\n",
    "        coef = model.coef_ / x_std\n",
    "        coef_list[product] = coef\n",
    "    train_std_mat = dict([])\n",
    "    y_std = dict([])\n",
    "    train_mat = np.zeros((0,n_signal))\n",
    "    y_train = np.array([])\n",
    "    for product in combine_product: ## combine data sets together and then fit the model\n",
    "        x_train = all_mat[product].iloc[train_tick_start[product]:train_tick_end[product], :n_signal].values\n",
    "        cur_y_train = all_mat[product][y_signal][train_tick_start[product]:train_tick_end[product]]\n",
    "        scaler.fit(x_train)\n",
    "        #print(np.shape(x_train))\n",
    "        x_train = scaler.transform(x_train) ## normalize data before combine\n",
    "        train_std_mat[product] = np.sqrt(scaler.var_)\n",
    "        train_mat = np.append(train_mat,x_train, axis=0)\n",
    "        y_std[product] = np.std(cur_y_train)\n",
    "        y_train = np.append(y_train, cur_y_train/y_std[product])\n",
    "    train_mat = pd.DataFrame(train_mat, columns=signal_list)\n",
    "    train_mat[y_signal] = y_train\n",
    "    #result = forward_selected(train_mat, y_signal)\n",
    "    #x_train = train_mat[result[\"chosen.signals\"]]\n",
    "    x_train = train_mat.iloc[:,:n_signal]\n",
    "    #pos = [np.where(signal_list==x)[0][0] for x in result[\"chosen.signals\"]]\n",
    "    scaler =  StandardScaler(copy=True, with_mean=True, with_std=True)\n",
    "    scaler.fit(x_train)\n",
    "    x_std = np.sqrt(scaler.var_)\n",
    "    x_train_normal = scaler.transform(x_train) ## normalized the combined data again\n",
    "    model = LassoCV(n_alphas=100, fit_intercept=False, cv=10, max_iter=10000).fit(x_train_normal, y_train)\n",
    "    #fit_coef = np.zeros(n_signal)\n",
    "    #fit_coef[pos] = model.coef_/x_std ## transform to the value before second normaliztion\n",
    "    fit_coef = model.coef_/x_std ## transform to the value before second normaliztion\n",
    "    #model = LassoCV(n_alphas=100, fit_intercept=False, cv=10, max_iter=10000).fit(train_mat, y_train)\n",
    "    #fit_coef = model.coef_\n",
    "    #print(fit_coef)\n",
    "    for product in combine_product:\n",
    "        coef_list[product] = fit_coef*y_std[product]/train_std_mat[product] ## transform to the value before the first normalization\n",
    "    os.makedirs(SAVE_PATH+\"/model\", exist_ok=True)\n",
    "    save(coef_list, SAVE_PATH+\"/model/\"+strat+\".pkl\")\n",
    "    \n"
   ]
  },
  {
   "cell_type": "code",
   "execution_count": 35,
   "metadata": {},
   "outputs": [
    {
     "name": "stdout",
     "output_type": "stream",
     "text": [
      "['201910' '201911' '201912' '202001' '202002' '202003' '202004' '202005'\n",
      " '202006' '202007' '202008' '202009' '202010' '202011' '202012' '202101'\n",
      " '202102' '202103' '202104' '202105' '202106' '202107' '202108' '202109'\n",
      " '202110' '202111' '202112' '202201' '202202']\n"
     ]
    }
   ],
   "source": [
    "test_range = np.where(month_len[0] >= split_str )[0]\n",
    "print(month_len[0][test_range])\n",
    "start_month = 0\n",
    "end_month = sum(month_len[0] < split_str)-1\n",
    "cum_month_len = np.cumsum(month_len[1])\n",
    "\n",
    "# ['201910' '201911' '201912' '202001' '202002' '202003' '202004' '202005'\n",
    "#  '202006' '202007' '202008' '202009' '202010' '202011' '202012' '202101'\n",
    "#  '202102' '202103' '202104' '202105' '202106' '202107' '202108' '202109'\n",
    "#  '202110' '202111' '202112' '202201' '202202']\n",
    "\n",
    "\n"
   ]
  },
  {
   "cell_type": "code",
   "execution_count": 36,
   "metadata": {},
   "outputs": [
    {
     "name": "stdout",
     "output_type": "stream",
     "text": [
      "24 201910\n",
      "25 201911\n",
      "26 201912\n",
      "27 202001\n",
      "28 202002\n",
      "29 202003\n",
      "30 202004\n",
      "31 202005\n",
      "32 202006\n",
      "33 202007\n",
      "34 202008\n",
      "35 202009\n",
      "36 202010\n",
      "37 202011\n",
      "38 202012\n",
      "39 202101\n",
      "40 202102\n",
      "41 202103\n",
      "42 202104\n",
      "43 202105\n",
      "44 202106\n",
      "45 202107\n",
      "46 202108\n",
      "47 202109\n",
      "48 202110\n",
      "49 202111\n",
      "50 202112\n",
      "51 202201\n",
      "52 202202\n",
      "Wall time: 3min 59s\n"
     ]
    }
   ],
   "source": [
    "%%time\n",
    "#strat = \"universal.lasso.4096\"\n",
    "#strat = \"rolling.lasso.4096\"\n",
    "strat = \"roll.energy.lasso.4096\" ## with double normalization\n",
    "y_signal = \"ret.4096.004\"\n",
    "#y_signal = \"ret.4096\"\n",
    "start_month = 0\n",
    "end_month = sum(month_len[0] < split_str)-1\n",
    "for i_test in test_range:\n",
    "    forward_len = month_len[1][i_test]\n",
    "    train_start = 0 if start_month==0 else cum_month_len[start_month-1]\n",
    "    train_end = cum_month_len[end_month]-1\n",
    "    print(i_test, month_len[0][i_test])\n",
    "    get_multiple_lasso_roll_model(train_start, train_end, y_signal, forward_len, strat+\".\"+month_len[0][i_test], \n",
    "                          [], product_list, period=4096, SAVE_PATH=\"e:/intern\")\n",
    "    start_month = start_month+1\n",
    "    end_month = end_month+1\n",
    "    \n",
    "# 24 201910\n",
    "# 25 201911\n",
    "# 26 201912\n",
    "# 27 202001\n",
    "# 28 202002\n",
    "# 29 202003\n",
    "# 30 202004\n",
    "# 31 202005\n",
    "# 32 202006\n",
    "# 33 202007\n",
    "# 34 202008\n",
    "# 35 202009\n",
    "# 36 202010\n",
    "# 37 202011\n",
    "# 38 202012\n",
    "# 39 202101\n",
    "# 40 202102\n",
    "# 41 202103\n",
    "# 42 202104\n",
    "# 43 202105\n",
    "# 44 202106\n",
    "# 45 202107\n",
    "# 46 202108\n",
    "# 47 202109\n",
    "# 48 202110\n",
    "# 49 202111\n",
    "# 50 202112\n",
    "# 51 202201\n",
    "# 52 202202\n",
    "# Wall time: 3min 59s\n"
   ]
  },
  {
   "cell_type": "markdown",
   "metadata": {},
   "source": [
    "- Then we can generate prediction values of each model"
   ]
  },
  {
   "cell_type": "code",
   "execution_count": 37,
   "metadata": {},
   "outputs": [
    {
     "name": "stdout",
     "output_type": "stream",
     "text": [
      "24 201910\n",
      "25 201911\n",
      "26 201912\n",
      "27 202001\n",
      "28 202002\n",
      "29 202003\n",
      "30 202004\n",
      "31 202005\n",
      "32 202006\n",
      "33 202007\n",
      "34 202008\n",
      "35 202009\n",
      "36 202010\n",
      "37 202011\n",
      "38 202012\n",
      "39 202101\n",
      "40 202102\n",
      "41 202103\n",
      "42 202104\n",
      "43 202105\n",
      "44 202106\n",
      "45 202107\n",
      "46 202108\n",
      "47 202109\n",
      "48 202110\n",
      "49 202111\n",
      "50 202112\n",
      "51 202201\n",
      "52 202202\n",
      "Wall time: 13h 27min 55s\n"
     ]
    }
   ],
   "source": [
    "%%time\n",
    "start_month = 0\n",
    "SAVE_PATH = \"e:/intern\"\n",
    "end_month = sum(month_len[0] < split_str)-1\n",
    "for i_test in test_range:\n",
    "    forward_len = month_len[1][i_test]\n",
    "    train_start = 0 if start_month==0 else cum_month_len[start_month-1]\n",
    "    train_end = cum_month_len[end_month]-1\n",
    "    print(i_test, month_len[0][i_test])\n",
    "    strat_name = strat+\".\"+month_len[0][i_test]\n",
    "    coef_list = load(SAVE_PATH+\"/model/\"+strat_name+\".pkl\")\n",
    "    for product in product_list:\n",
    "        coef = coef_list[product]\n",
    "        os.makedirs(SAVE_PATH+\"/tmp pkl/\"+product+\"/\"+strat_name, exist_ok=True)\n",
    "        ## each model has training set from train_start to train_end, and a test set until train_end+forward_len, so \n",
    "        ## we need to generate values of all_dates[train_start:(train_end+forward_len)+1], plus 1 to include train_end+forward_len\n",
    "        parLapply(CORE_NUM, all_dates[train_start:(train_end+forward_len)+1], par_get_daily_pred, \n",
    "                  product=product, coef=coef, strat=strat_name, HEAD_PATH=\"e:/intern\",SAVE_PATH=\"e:/intern\")\n",
    "    start_month = start_month+1\n",
    "    end_month = end_month+1\n",
    "\n",
    "# 24 201910\n",
    "# 25 201911\n",
    "# 26 201912\n",
    "# 27 202001\n",
    "# 28 202002\n",
    "# 29 202003\n",
    "# 30 202004\n",
    "# 31 202005\n",
    "# 32 202006\n",
    "# 33 202007\n",
    "# 34 202008\n",
    "# 35 202009\n",
    "# 36 202010\n",
    "# 37 202011\n",
    "# 38 202012\n",
    "# 39 202101\n",
    "# 40 202102\n",
    "# 41 202103\n",
    "# 42 202104\n",
    "# 43 202105\n",
    "# 44 202106\n",
    "# 45 202107\n",
    "# 46 202108\n",
    "# 47 202109\n",
    "# 48 202110\n",
    "# 49 202111\n",
    "# 50 202112\n",
    "# 51 202201\n",
    "# 52 202202\n",
    "# Wall time: 13h 27min 55s"
   ]
  },
  {
   "cell_type": "code",
   "execution_count": 38,
   "metadata": {},
   "outputs": [
    {
     "name": "stdout",
     "output_type": "stream",
     "text": [
      "201910 20171009.pkl 20190930.pkl\n",
      "201911 20171101.pkl 20191031.pkl\n",
      "201912 20171201.pkl 20191129.pkl\n",
      "202001 20180102.pkl 20191231.pkl\n",
      "202002 20180201.pkl 20200123.pkl\n",
      "202003 20180301.pkl 20200228.pkl\n",
      "202004 20180402.pkl 20200331.pkl\n",
      "202005 20180502.pkl 20200430.pkl\n",
      "202006 20180601.pkl 20200529.pkl\n",
      "202007 20180702.pkl 20200630.pkl\n",
      "202008 20180801.pkl 20200731.pkl\n",
      "202009 20180903.pkl 20200831.pkl\n",
      "202010 20181008.pkl 20200930.pkl\n",
      "202011 20181101.pkl 20201030.pkl\n",
      "202012 20181203.pkl 20201130.pkl\n",
      "202101 20190102.pkl 20201231.pkl\n",
      "202102 20190201.pkl 20210129.pkl\n",
      "202103 20190301.pkl 20210226.pkl\n",
      "202104 20190401.pkl 20210331.pkl\n",
      "202105 20190506.pkl 20210430.pkl\n",
      "202106 20190603.pkl 20210531.pkl\n",
      "202107 20190701.pkl 20210630.pkl\n",
      "202108 20190801.pkl 20210730.pkl\n",
      "202109 20190902.pkl 20210831.pkl\n",
      "202110 20191008.pkl 20210930.pkl\n",
      "202111 20191101.pkl 20211029.pkl\n",
      "202112 20191202.pkl 20211130.pkl\n",
      "202201 20200102.pkl 20211231.pkl\n",
      "202202 20200203.pkl 20220128.pkl\n",
      "Wall time: 54min 59s\n"
     ]
    }
   ],
   "source": [
    "%%time\n",
    "#strat = \"universal.lasso.4096\"\n",
    "#strat = \"rolling.lasso.4096\"\n",
    "strat = \"roll.energy.lasso.4096\"\n",
    "start_month = 0\n",
    "end_month = sum(month_len[0] < split_str)-1\n",
    "for i_test in test_range:\n",
    "    train_start = 0 if start_month==0 else cum_month_len[start_month-1]\n",
    "    train_end = cum_month_len[end_month]-1\n",
    "    print(month_len[0][i_test], all_dates[train_start], all_dates[train_end])\n",
    "    ## we only generte distribution on training set, not on test set\n",
    "    for product in product_list:\n",
    "        par_get_all_signal(strat+\".\"+month_len[0][i_test], all_dates[train_start:(train_end+1)], product, 4096, SAVE_PATH=\"e:/intern\")\n",
    "    start_month = start_month+1\n",
    "    end_month = end_month+1\n",
    "\n",
    "# 201910 20171009.pkl 20190930.pkl\n",
    "# 201911 20171101.pkl 20191031.pkl\n",
    "# 201912 20171201.pkl 20191129.pkl\n",
    "# 202001 20180102.pkl 20191231.pkl\n",
    "# 202002 20180201.pkl 20200123.pkl\n",
    "# 202003 20180301.pkl 20200228.pkl\n",
    "# 202004 20180402.pkl 20200331.pkl\n",
    "# 202005 20180502.pkl 20200430.pkl\n",
    "# 202006 20180601.pkl 20200529.pkl\n",
    "# 202007 20180702.pkl 20200630.pkl\n",
    "# 202008 20180801.pkl 20200731.pkl\n",
    "# 202009 20180903.pkl 20200831.pkl\n",
    "# 202010 20181008.pkl 20200930.pkl\n",
    "# 202011 20181101.pkl 20201030.pkl\n",
    "# 202012 20181203.pkl 20201130.pkl\n",
    "# 202101 20190102.pkl 20201231.pkl\n",
    "# 202102 20190201.pkl 20210129.pkl\n",
    "# 202103 20190301.pkl 20210226.pkl\n",
    "# 202104 20190401.pkl 20210331.pkl\n",
    "# 202105 20190506.pkl 20210430.pkl\n",
    "# 202106 20190603.pkl 20210531.pkl\n",
    "# 202107 20190701.pkl 20210630.pkl\n",
    "# 202108 20190801.pkl 20210730.pkl\n",
    "# 202109 20190902.pkl 20210831.pkl\n",
    "# 202110 20191008.pkl 20210930.pkl\n",
    "# 202111 20191101.pkl 20211029.pkl\n",
    "# 202112 20191202.pkl 20211130.pkl\n",
    "# 202201 20200102.pkl 20211231.pkl\n",
    "# 202202 20200203.pkl 20220128.pkl\n",
    "# Wall time: 54min 59s\n"
   ]
  },
  {
   "cell_type": "code",
   "execution_count": 39,
   "metadata": {},
   "outputs": [],
   "source": [
    "## get rolling statistics of the strategy performance\n",
    "def get_lasso_roll_result(product, strat,test_range, month_len, atr_filter=0, save_path=\"signal result atr\", split_str=\"201804\",\n",
    "                          HEAD_PATH=\"d:/intern\", SIGNAL_PATH=\"e:/intern\"):\n",
    "    start_month = 0\n",
    "    end_month = sum(month_len[0] < split_str)-1\n",
    "    tranct = product_info[product][\"tranct\"]\n",
    "    tranct_ratio = product_info[product][\"tranct.ratio\"]\n",
    "    spread = product_info[product][\"spread\"]\n",
    "    for i_test in test_range:\n",
    "        forward_len = month_len[1][i_test]\n",
    "        train_start = 0 if start_month==0 else cum_month_len[start_month-1]\n",
    "        train_end = cum_month_len[end_month]-1\n",
    "        strat_name = strat+\".\"+month_len[0][i_test]\n",
    "        print(product, i_test, strat_name)\n",
    "        all_signal = load(SIGNAL_PATH+\"/all signal/\"+product+\".\"+strat_name+\".pkl\")\n",
    "        open_list = np.quantile(abs(all_signal), np.append(np.arange(0.991,0.999,0.001),np.arange(0.9991,0.9999,0.0001)))\n",
    "        thre_list = []\n",
    "        for cartesian in itertools.product(open_list, np.array([0.2, 0.4, 0.6, 0.8, 1.0])):\n",
    "            thre_list.append((cartesian[0], -cartesian[0] * cartesian[1]))\n",
    "        thre_list = np.array(thre_list)\n",
    "        thre_mat = pd.DataFrame(data=OrderedDict([(\"open\", thre_list[:, 0]), (\"close\", thre_list[:, 1])]))\n",
    "        train_result = parLapply(CORE_NUM, all_dates[train_start:(train_end+1)], get_signal_pnl, \n",
    "                             product=product, signal_name=strat_name, thre_mat=thre_mat, reverse=1, tranct=tranct, \n",
    "                             max_spread=spread*1.1, tranct_ratio=tranct_ratio, HEAD_PATH=HEAD_PATH, SIGNAL_PATH=SIGNAL_PATH,\n",
    "                            atr_filter=atr_filter, rebate=0)\n",
    "        train_stat = get_hft_summary(train_result, thre_mat, train_end-train_start+1)\n",
    "        test_result = parLapply(CORE_NUM, all_dates[(train_end+1):(train_end+forward_len+1)], get_signal_pnl, \n",
    "                            product=product, signal_name=strat_name, thre_mat=thre_mat, reverse=1, tranct=tranct, \n",
    "                             max_spread=spread*1.1, tranct_ratio=tranct_ratio, HEAD_PATH=HEAD_PATH, SIGNAL_PATH=SIGNAL_PATH,\n",
    "                            atr_filter=atr_filter, rebate=0)\n",
    "        test_stat = get_hft_summary(test_result, thre_mat, forward_len)\n",
    "        stat_result = OrderedDict([(\"train.stat\", train_stat), (\"test.stat\", test_stat)])    \n",
    "        save(stat_result, HEAD_PATH+\"/\"+save_path+\"/\"+product+\".\"+strat_name+\".pkl\")\n",
    "        start_month = start_month+1\n",
    "        end_month = end_month+1\n"
   ]
  },
  {
   "cell_type": "code",
   "execution_count": 40,
   "metadata": {
    "scrolled": false
   },
   "outputs": [
    {
     "name": "stdout",
     "output_type": "stream",
     "text": [
      "bu 24 roll.energy.lasso.4096.201910\n",
      "bu 25 roll.energy.lasso.4096.201911\n",
      "bu 26 roll.energy.lasso.4096.201912\n",
      "bu 27 roll.energy.lasso.4096.202001\n",
      "bu 28 roll.energy.lasso.4096.202002\n",
      "bu 29 roll.energy.lasso.4096.202003\n",
      "bu 30 roll.energy.lasso.4096.202004\n",
      "bu 31 roll.energy.lasso.4096.202005\n",
      "bu 32 roll.energy.lasso.4096.202006\n",
      "bu 33 roll.energy.lasso.4096.202007\n",
      "bu 34 roll.energy.lasso.4096.202008\n",
      "bu 35 roll.energy.lasso.4096.202009\n",
      "bu 36 roll.energy.lasso.4096.202010\n",
      "bu 37 roll.energy.lasso.4096.202011\n",
      "bu 38 roll.energy.lasso.4096.202012\n",
      "bu 39 roll.energy.lasso.4096.202101\n",
      "bu 40 roll.energy.lasso.4096.202102\n",
      "bu 41 roll.energy.lasso.4096.202103\n",
      "bu 42 roll.energy.lasso.4096.202104\n",
      "bu 43 roll.energy.lasso.4096.202105\n",
      "bu 44 roll.energy.lasso.4096.202106\n",
      "bu 45 roll.energy.lasso.4096.202107\n",
      "bu 46 roll.energy.lasso.4096.202108\n",
      "bu 47 roll.energy.lasso.4096.202109\n",
      "bu 48 roll.energy.lasso.4096.202110\n",
      "bu 49 roll.energy.lasso.4096.202111\n",
      "bu 50 roll.energy.lasso.4096.202112\n",
      "bu 51 roll.energy.lasso.4096.202201\n",
      "bu 52 roll.energy.lasso.4096.202202\n",
      "ru 24 roll.energy.lasso.4096.201910\n",
      "ru 25 roll.energy.lasso.4096.201911\n",
      "ru 26 roll.energy.lasso.4096.201912\n",
      "ru 27 roll.energy.lasso.4096.202001\n",
      "ru 28 roll.energy.lasso.4096.202002\n",
      "ru 29 roll.energy.lasso.4096.202003\n",
      "ru 30 roll.energy.lasso.4096.202004\n",
      "ru 31 roll.energy.lasso.4096.202005\n",
      "ru 32 roll.energy.lasso.4096.202006\n",
      "ru 33 roll.energy.lasso.4096.202007\n",
      "ru 34 roll.energy.lasso.4096.202008\n",
      "ru 35 roll.energy.lasso.4096.202009\n",
      "ru 36 roll.energy.lasso.4096.202010\n",
      "ru 37 roll.energy.lasso.4096.202011\n",
      "ru 38 roll.energy.lasso.4096.202012\n",
      "ru 39 roll.energy.lasso.4096.202101\n",
      "ru 40 roll.energy.lasso.4096.202102\n",
      "ru 41 roll.energy.lasso.4096.202103\n",
      "ru 42 roll.energy.lasso.4096.202104\n",
      "ru 43 roll.energy.lasso.4096.202105\n",
      "ru 44 roll.energy.lasso.4096.202106\n",
      "ru 45 roll.energy.lasso.4096.202107\n",
      "ru 46 roll.energy.lasso.4096.202108\n",
      "ru 47 roll.energy.lasso.4096.202109\n",
      "ru 48 roll.energy.lasso.4096.202110\n",
      "ru 49 roll.energy.lasso.4096.202111\n",
      "ru 50 roll.energy.lasso.4096.202112\n",
      "ru 51 roll.energy.lasso.4096.202201\n",
      "ru 52 roll.energy.lasso.4096.202202\n",
      "v 24 roll.energy.lasso.4096.201910\n",
      "v 25 roll.energy.lasso.4096.201911\n",
      "v 26 roll.energy.lasso.4096.201912\n",
      "v 27 roll.energy.lasso.4096.202001\n",
      "v 28 roll.energy.lasso.4096.202002\n",
      "v 29 roll.energy.lasso.4096.202003\n",
      "v 30 roll.energy.lasso.4096.202004\n",
      "v 31 roll.energy.lasso.4096.202005\n",
      "v 32 roll.energy.lasso.4096.202006\n",
      "v 33 roll.energy.lasso.4096.202007\n",
      "v 34 roll.energy.lasso.4096.202008\n",
      "v 35 roll.energy.lasso.4096.202009\n",
      "v 36 roll.energy.lasso.4096.202010\n",
      "v 37 roll.energy.lasso.4096.202011\n",
      "v 38 roll.energy.lasso.4096.202012\n",
      "v 39 roll.energy.lasso.4096.202101\n",
      "v 40 roll.energy.lasso.4096.202102\n",
      "v 41 roll.energy.lasso.4096.202103\n",
      "v 42 roll.energy.lasso.4096.202104\n",
      "v 43 roll.energy.lasso.4096.202105\n",
      "v 44 roll.energy.lasso.4096.202106\n",
      "v 45 roll.energy.lasso.4096.202107\n",
      "v 46 roll.energy.lasso.4096.202108\n",
      "v 47 roll.energy.lasso.4096.202109\n",
      "v 48 roll.energy.lasso.4096.202110\n",
      "v 49 roll.energy.lasso.4096.202111\n",
      "v 50 roll.energy.lasso.4096.202112\n",
      "v 51 roll.energy.lasso.4096.202201\n",
      "v 52 roll.energy.lasso.4096.202202\n",
      "pp 24 roll.energy.lasso.4096.201910\n",
      "pp 25 roll.energy.lasso.4096.201911\n",
      "pp 26 roll.energy.lasso.4096.201912\n",
      "pp 27 roll.energy.lasso.4096.202001\n",
      "pp 28 roll.energy.lasso.4096.202002\n",
      "pp 29 roll.energy.lasso.4096.202003\n",
      "pp 30 roll.energy.lasso.4096.202004\n",
      "pp 31 roll.energy.lasso.4096.202005\n",
      "pp 32 roll.energy.lasso.4096.202006\n",
      "pp 33 roll.energy.lasso.4096.202007\n",
      "pp 34 roll.energy.lasso.4096.202008\n",
      "pp 35 roll.energy.lasso.4096.202009\n",
      "pp 36 roll.energy.lasso.4096.202010\n",
      "pp 37 roll.energy.lasso.4096.202011\n",
      "pp 38 roll.energy.lasso.4096.202012\n",
      "pp 39 roll.energy.lasso.4096.202101\n",
      "pp 40 roll.energy.lasso.4096.202102\n",
      "pp 41 roll.energy.lasso.4096.202103\n",
      "pp 42 roll.energy.lasso.4096.202104\n",
      "pp 43 roll.energy.lasso.4096.202105\n",
      "pp 44 roll.energy.lasso.4096.202106\n",
      "pp 45 roll.energy.lasso.4096.202107\n",
      "pp 46 roll.energy.lasso.4096.202108\n",
      "pp 47 roll.energy.lasso.4096.202109\n",
      "pp 48 roll.energy.lasso.4096.202110\n",
      "pp 49 roll.energy.lasso.4096.202111\n",
      "pp 50 roll.energy.lasso.4096.202112\n",
      "pp 51 roll.energy.lasso.4096.202201\n",
      "pp 52 roll.energy.lasso.4096.202202\n",
      "l 24 roll.energy.lasso.4096.201910\n",
      "l 25 roll.energy.lasso.4096.201911\n",
      "l 26 roll.energy.lasso.4096.201912\n",
      "l 27 roll.energy.lasso.4096.202001\n",
      "l 28 roll.energy.lasso.4096.202002\n",
      "l 29 roll.energy.lasso.4096.202003\n",
      "l 30 roll.energy.lasso.4096.202004\n",
      "l 31 roll.energy.lasso.4096.202005\n",
      "l 32 roll.energy.lasso.4096.202006\n",
      "l 33 roll.energy.lasso.4096.202007\n",
      "l 34 roll.energy.lasso.4096.202008\n",
      "l 35 roll.energy.lasso.4096.202009\n",
      "l 36 roll.energy.lasso.4096.202010\n",
      "l 37 roll.energy.lasso.4096.202011\n",
      "l 38 roll.energy.lasso.4096.202012\n",
      "l 39 roll.energy.lasso.4096.202101\n",
      "l 40 roll.energy.lasso.4096.202102\n",
      "l 41 roll.energy.lasso.4096.202103\n",
      "l 42 roll.energy.lasso.4096.202104\n",
      "l 43 roll.energy.lasso.4096.202105\n",
      "l 44 roll.energy.lasso.4096.202106\n",
      "l 45 roll.energy.lasso.4096.202107\n",
      "l 46 roll.energy.lasso.4096.202108\n",
      "l 47 roll.energy.lasso.4096.202109\n",
      "l 48 roll.energy.lasso.4096.202110\n",
      "l 49 roll.energy.lasso.4096.202111\n",
      "l 50 roll.energy.lasso.4096.202112\n",
      "l 51 roll.energy.lasso.4096.202201\n",
      "l 52 roll.energy.lasso.4096.202202\n",
      "jd 24 roll.energy.lasso.4096.201910\n",
      "jd 25 roll.energy.lasso.4096.201911\n",
      "jd 26 roll.energy.lasso.4096.201912\n",
      "jd 27 roll.energy.lasso.4096.202001\n",
      "jd 28 roll.energy.lasso.4096.202002\n",
      "jd 29 roll.energy.lasso.4096.202003\n",
      "jd 30 roll.energy.lasso.4096.202004\n",
      "jd 31 roll.energy.lasso.4096.202005\n",
      "jd 32 roll.energy.lasso.4096.202006\n",
      "jd 33 roll.energy.lasso.4096.202007\n",
      "jd 34 roll.energy.lasso.4096.202008\n",
      "jd 35 roll.energy.lasso.4096.202009\n",
      "jd 36 roll.energy.lasso.4096.202010\n",
      "jd 37 roll.energy.lasso.4096.202011\n",
      "jd 38 roll.energy.lasso.4096.202012\n",
      "jd 39 roll.energy.lasso.4096.202101\n",
      "jd 40 roll.energy.lasso.4096.202102\n",
      "jd 41 roll.energy.lasso.4096.202103\n",
      "jd 42 roll.energy.lasso.4096.202104\n",
      "jd 43 roll.energy.lasso.4096.202105\n",
      "jd 44 roll.energy.lasso.4096.202106\n",
      "jd 45 roll.energy.lasso.4096.202107\n",
      "jd 46 roll.energy.lasso.4096.202108\n",
      "jd 47 roll.energy.lasso.4096.202109\n",
      "jd 48 roll.energy.lasso.4096.202110\n",
      "jd 49 roll.energy.lasso.4096.202111\n",
      "jd 50 roll.energy.lasso.4096.202112\n",
      "jd 51 roll.energy.lasso.4096.202201\n",
      "jd 52 roll.energy.lasso.4096.202202\n",
      "Wall time: 1h 38min 11s\n"
     ]
    }
   ],
   "source": [
    "%%time\n",
    "#strat = \"universal.lasso.4096\"\n",
    "#strat = \"rolling.lasso.4096\"\n",
    "strat = \"roll.energy.lasso.4096\"\n",
    "for product in product_list:\n",
    "    get_lasso_roll_result(product, strat, test_range, month_len, atr_filter=0.01)\n",
    "\n",
    "# bu 24 roll.energy.lasso.4096.201910\n",
    "# bu 25 roll.energy.lasso.4096.201911\n",
    "# bu 26 roll.energy.lasso.4096.201912\n",
    "# bu 27 roll.energy.lasso.4096.202001\n",
    "# bu 28 roll.energy.lasso.4096.202002\n",
    "# bu 29 roll.energy.lasso.4096.202003\n",
    "# bu 30 roll.energy.lasso.4096.202004\n",
    "# bu 31 roll.energy.lasso.4096.202005\n",
    "# bu 32 roll.energy.lasso.4096.202006\n",
    "# bu 33 roll.energy.lasso.4096.202007\n",
    "# bu 34 roll.energy.lasso.4096.202008\n",
    "# bu 35 roll.energy.lasso.4096.202009\n",
    "# bu 36 roll.energy.lasso.4096.202010\n",
    "# bu 37 roll.energy.lasso.4096.202011\n",
    "# bu 38 roll.energy.lasso.4096.202012\n",
    "# bu 39 roll.energy.lasso.4096.202101\n",
    "# bu 40 roll.energy.lasso.4096.202102\n",
    "# bu 41 roll.energy.lasso.4096.202103\n",
    "# bu 42 roll.energy.lasso.4096.202104\n",
    "# bu 43 roll.energy.lasso.4096.202105\n",
    "# bu 44 roll.energy.lasso.4096.202106\n",
    "# bu 45 roll.energy.lasso.4096.202107\n",
    "# bu 46 roll.energy.lasso.4096.202108\n",
    "# bu 47 roll.energy.lasso.4096.202109\n",
    "# bu 48 roll.energy.lasso.4096.202110\n",
    "# bu 49 roll.energy.lasso.4096.202111\n",
    "# bu 50 roll.energy.lasso.4096.202112\n",
    "# bu 51 roll.energy.lasso.4096.202201\n",
    "# bu 52 roll.energy.lasso.4096.202202\n",
    "# ru 24 roll.energy.lasso.4096.201910\n",
    "# ru 25 roll.energy.lasso.4096.201911\n",
    "# ru 26 roll.energy.lasso.4096.201912\n",
    "# ru 27 roll.energy.lasso.4096.202001\n",
    "# ru 28 roll.energy.lasso.4096.202002\n",
    "# ru 29 roll.energy.lasso.4096.202003\n",
    "# ru 30 roll.energy.lasso.4096.202004\n",
    "# ru 31 roll.energy.lasso.4096.202005\n",
    "# ru 32 roll.energy.lasso.4096.202006\n",
    "# ru 33 roll.energy.lasso.4096.202007\n",
    "# ru 34 roll.energy.lasso.4096.202008\n",
    "# ru 35 roll.energy.lasso.4096.202009\n",
    "# ru 36 roll.energy.lasso.4096.202010\n",
    "# ru 37 roll.energy.lasso.4096.202011\n",
    "# ru 38 roll.energy.lasso.4096.202012\n",
    "# ru 39 roll.energy.lasso.4096.202101\n",
    "# ru 40 roll.energy.lasso.4096.202102\n",
    "# ru 41 roll.energy.lasso.4096.202103\n",
    "# ru 42 roll.energy.lasso.4096.202104\n",
    "# ru 43 roll.energy.lasso.4096.202105\n",
    "# ru 44 roll.energy.lasso.4096.202106\n",
    "# ru 45 roll.energy.lasso.4096.202107\n",
    "# ru 46 roll.energy.lasso.4096.202108\n",
    "# ru 47 roll.energy.lasso.4096.202109\n",
    "# ru 48 roll.energy.lasso.4096.202110\n",
    "# ru 49 roll.energy.lasso.4096.202111\n",
    "# ru 50 roll.energy.lasso.4096.202112\n",
    "# ru 51 roll.energy.lasso.4096.202201\n",
    "# ru 52 roll.energy.lasso.4096.202202\n",
    "# v 24 roll.energy.lasso.4096.201910\n",
    "# v 25 roll.energy.lasso.4096.201911\n",
    "# v 26 roll.energy.lasso.4096.201912\n",
    "# v 27 roll.energy.lasso.4096.202001\n",
    "# v 28 roll.energy.lasso.4096.202002\n",
    "# v 29 roll.energy.lasso.4096.202003\n",
    "# v 30 roll.energy.lasso.4096.202004\n",
    "# v 31 roll.energy.lasso.4096.202005\n",
    "# v 32 roll.energy.lasso.4096.202006\n",
    "# v 33 roll.energy.lasso.4096.202007\n",
    "# v 34 roll.energy.lasso.4096.202008\n",
    "# v 35 roll.energy.lasso.4096.202009\n",
    "# v 36 roll.energy.lasso.4096.202010\n",
    "# v 37 roll.energy.lasso.4096.202011\n",
    "# v 38 roll.energy.lasso.4096.202012\n",
    "# v 39 roll.energy.lasso.4096.202101\n",
    "# v 40 roll.energy.lasso.4096.202102\n",
    "# v 41 roll.energy.lasso.4096.202103\n",
    "# v 42 roll.energy.lasso.4096.202104\n",
    "# v 43 roll.energy.lasso.4096.202105\n",
    "# v 44 roll.energy.lasso.4096.202106\n",
    "# v 45 roll.energy.lasso.4096.202107\n",
    "# v 46 roll.energy.lasso.4096.202108\n",
    "# v 47 roll.energy.lasso.4096.202109\n",
    "# v 48 roll.energy.lasso.4096.202110\n",
    "# v 49 roll.energy.lasso.4096.202111\n",
    "# v 50 roll.energy.lasso.4096.202112\n",
    "# v 51 roll.energy.lasso.4096.202201\n",
    "# v 52 roll.energy.lasso.4096.202202\n",
    "# pp 24 roll.energy.lasso.4096.201910\n",
    "# pp 25 roll.energy.lasso.4096.201911\n",
    "# pp 26 roll.energy.lasso.4096.201912\n",
    "# pp 27 roll.energy.lasso.4096.202001\n",
    "# pp 28 roll.energy.lasso.4096.202002\n",
    "# pp 29 roll.energy.lasso.4096.202003\n",
    "# pp 30 roll.energy.lasso.4096.202004\n",
    "# pp 31 roll.energy.lasso.4096.202005\n",
    "# pp 32 roll.energy.lasso.4096.202006\n",
    "# pp 33 roll.energy.lasso.4096.202007\n",
    "# pp 34 roll.energy.lasso.4096.202008\n",
    "# pp 35 roll.energy.lasso.4096.202009\n",
    "# pp 36 roll.energy.lasso.4096.202010\n",
    "# pp 37 roll.energy.lasso.4096.202011\n",
    "# pp 38 roll.energy.lasso.4096.202012\n",
    "# pp 39 roll.energy.lasso.4096.202101\n",
    "# pp 40 roll.energy.lasso.4096.202102\n",
    "# pp 41 roll.energy.lasso.4096.202103\n",
    "# pp 42 roll.energy.lasso.4096.202104\n",
    "# pp 43 roll.energy.lasso.4096.202105\n",
    "# pp 44 roll.energy.lasso.4096.202106\n",
    "# pp 45 roll.energy.lasso.4096.202107\n",
    "# pp 46 roll.energy.lasso.4096.202108\n",
    "# pp 47 roll.energy.lasso.4096.202109\n",
    "# pp 48 roll.energy.lasso.4096.202110\n",
    "# pp 49 roll.energy.lasso.4096.202111\n",
    "# pp 50 roll.energy.lasso.4096.202112\n",
    "# pp 51 roll.energy.lasso.4096.202201\n",
    "# pp 52 roll.energy.lasso.4096.202202\n",
    "# l 24 roll.energy.lasso.4096.201910\n",
    "# l 25 roll.energy.lasso.4096.201911\n",
    "# l 26 roll.energy.lasso.4096.201912\n",
    "# l 27 roll.energy.lasso.4096.202001\n",
    "# l 28 roll.energy.lasso.4096.202002\n",
    "# l 29 roll.energy.lasso.4096.202003\n",
    "# l 30 roll.energy.lasso.4096.202004\n",
    "# l 31 roll.energy.lasso.4096.202005\n",
    "# l 32 roll.energy.lasso.4096.202006\n",
    "# l 33 roll.energy.lasso.4096.202007\n",
    "# l 34 roll.energy.lasso.4096.202008\n",
    "# l 35 roll.energy.lasso.4096.202009\n",
    "# l 36 roll.energy.lasso.4096.202010\n",
    "# l 37 roll.energy.lasso.4096.202011\n",
    "# l 38 roll.energy.lasso.4096.202012\n",
    "# l 39 roll.energy.lasso.4096.202101\n",
    "# l 40 roll.energy.lasso.4096.202102\n",
    "# l 41 roll.energy.lasso.4096.202103\n",
    "# l 42 roll.energy.lasso.4096.202104\n",
    "# l 43 roll.energy.lasso.4096.202105\n",
    "# l 44 roll.energy.lasso.4096.202106\n",
    "# l 45 roll.energy.lasso.4096.202107\n",
    "# l 46 roll.energy.lasso.4096.202108\n",
    "# l 47 roll.energy.lasso.4096.202109\n",
    "# l 48 roll.energy.lasso.4096.202110\n",
    "# l 49 roll.energy.lasso.4096.202111\n",
    "# l 50 roll.energy.lasso.4096.202112\n",
    "# l 51 roll.energy.lasso.4096.202201\n",
    "# l 52 roll.energy.lasso.4096.202202\n",
    "# jd 24 roll.energy.lasso.4096.201910\n",
    "# jd 25 roll.energy.lasso.4096.201911\n",
    "# jd 26 roll.energy.lasso.4096.201912\n",
    "# jd 27 roll.energy.lasso.4096.202001\n",
    "# jd 28 roll.energy.lasso.4096.202002\n",
    "# jd 29 roll.energy.lasso.4096.202003\n",
    "# jd 30 roll.energy.lasso.4096.202004\n",
    "# jd 31 roll.energy.lasso.4096.202005\n",
    "# jd 32 roll.energy.lasso.4096.202006\n",
    "# jd 33 roll.energy.lasso.4096.202007\n",
    "# jd 34 roll.energy.lasso.4096.202008\n",
    "# jd 35 roll.energy.lasso.4096.202009\n",
    "# jd 36 roll.energy.lasso.4096.202010\n",
    "# jd 37 roll.energy.lasso.4096.202011\n",
    "# jd 38 roll.energy.lasso.4096.202012\n",
    "# jd 39 roll.energy.lasso.4096.202101\n",
    "# jd 40 roll.energy.lasso.4096.202102\n",
    "# jd 41 roll.energy.lasso.4096.202103\n",
    "# jd 42 roll.energy.lasso.4096.202104\n",
    "# jd 43 roll.energy.lasso.4096.202105\n",
    "# jd 44 roll.energy.lasso.4096.202106\n",
    "# jd 45 roll.energy.lasso.4096.202107\n",
    "# jd 46 roll.energy.lasso.4096.202108\n",
    "# jd 47 roll.energy.lasso.4096.202109\n",
    "# jd 48 roll.energy.lasso.4096.202110\n",
    "# jd 49 roll.energy.lasso.4096.202111\n",
    "# jd 50 roll.energy.lasso.4096.202112\n",
    "# jd 51 roll.energy.lasso.4096.202201\n",
    "# jd 52 roll.energy.lasso.4096.202202\n",
    "# Wall time: 1h 38min 11s\n"
   ]
  },
  {
   "cell_type": "code",
   "execution_count": 41,
   "metadata": {},
   "outputs": [
    {
     "name": "stdout",
     "output_type": "stream",
     "text": [
      "sharpe  1.6180844969120685\n"
     ]
    },
    {
     "data": {
      "image/png": "[encoded data removed]",
      "text/plain": [
       "<Figure size 1152x720 with 1 Axes>"
      ]
     },
     "metadata": {
      "needs_background": "light"
     },
     "output_type": "display_data"
    }
   ],
   "source": [
    "n_product = len(product_list)\n",
    "save_path = \"signal result atr\"\n",
    "#strat = \"universal.lasso.4096\"\n",
    "#strat = \"rolling.lasso.4096\"\n",
    "strat = \"roll.energy.lasso.4096\"\n",
    "start_month = 0\n",
    "min_pnl = 2\n",
    "min_num = 10\n",
    "end_month = sum(month_len[0] < \"201804\")-1\n",
    "all_pnl = np.array([])\n",
    "for i_test in test_range:\n",
    "    forward_len = month_len[1][i_test]\n",
    "    train_start = 0 if start_month==0 else cum_month_len[start_month-1]\n",
    "    train_end = cum_month_len[end_month]-1\n",
    "    strat_name = strat+\".\"+month_len[0][i_test]\n",
    "    train_mat = np.zeros((train_end-train_start+1, n_product))\n",
    "    test_mat = np.zeros((forward_len, n_product))\n",
    "    for i_product in range(n_product):\n",
    "        product = product_list[i_product]\n",
    "        stat_result = load(HEAD_PATH+\"/\"+save_path+\"/\"+product+\".\"+strat_name+\".pkl\")\n",
    "        train_stat = stat_result[\"train.stat\"]\n",
    "        test_stat = stat_result[\"test.stat\"]\n",
    "        spread = product_info[product][\"spread\"]\n",
    "        good_strat = (train_stat[\"final.result\"][\"avg.pnl\"]>min_pnl*spread) & (train_stat[\"final.result\"][\"num\"]>min_num)\n",
    "        train_pnl = train_stat[\"daily.ret\"].loc[:, good_strat].sum(axis=1)/sum(good_strat) \n",
    "        train_pnl[np.isnan(train_pnl)]=0\n",
    "        train_mat[:,i_product] = train_pnl\n",
    "        test_pnl = test_stat[\"daily.ret\"].loc[:, good_strat].sum(axis=1)/sum(good_strat)\n",
    "        test_pnl[np.isnan(test_pnl)]=0\n",
    "        test_mat[:,i_product] = test_pnl\n",
    "    sharpe_mat = np.apply_along_axis(sharpe, 0, train_mat)\n",
    "    sharpe_weight = zero_divide(sharpe_mat, np.sum(sharpe_mat))\n",
    "    #parity_weight = risk_parity(train_mat)\n",
    "    #diagonal_weight = risk_parity(train_mat, only_diag=True)\n",
    "    avg_test_pnl = test_mat.mean(axis=1)\n",
    "    #avg_test_pnl = np.dot(test_mat, sharpe_weight)\n",
    "    #print(len(avg_test_pnl_mean)==len(avg_test_pnl))\n",
    "    #avg_test_pnl = np.dot(test_mat, parity_weight)\n",
    "    #avg_test_pnl = np.dot(test_mat, diagonal_weight)\n",
    "    all_pnl = np.append(all_pnl, avg_test_pnl)\n",
    "    #print(all_pnl)\n",
    "    #print(len(all_pnl), len(avg_test_pnl))\n",
    "    start_month = start_month+1\n",
    "    end_month = end_month+1\n",
    "plt.figure(1, figsize=(16, 10))\n",
    "plt.title(\"monthly roll lasso\")\n",
    "plt.xlabel(\"date\")\n",
    "plt.ylabel(\"pnl\")\n",
    "plt.plot( all_pnl.cumsum());\n",
    "#plt.plot(all_pnl.cumsum());\n",
    "print(\"sharpe \", sharpe(all_pnl))\n",
    "\n",
    "# sharpe  1.6180844969120685\n",
    "\n",
    "\n"
   ]
  },
  {
   "cell_type": "markdown",
   "metadata": {},
   "source": [
    "- result is good"
   ]
  },
  {
   "cell_type": "code",
   "execution_count": null,
   "metadata": {},
   "outputs": [],
   "source": []
  }
 ],
 "metadata": {
  "kernelspec": {
   "display_name": "Python 3 (ipykernel)",
   "language": "python",
   "name": "python3"
  },
  "language_info": {
   "codemirror_mode": {
    "name": "ipython",
    "version": 3
   },
   "file_extension": ".py",
   "mimetype": "text/x-python",
   "name": "python",
   "nbconvert_exporter": "python",
   "pygments_lexer": "ipython3",
   "version": "3.8.12"
  }
 },
 "nbformat": 4,
 "nbformat_minor": 2
}
