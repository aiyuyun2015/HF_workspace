{
 "cells": [
  {
   "cell_type": "markdown",
   "metadata": {},
   "source": [
    "- in our original agenda this week we try different covariance estimation method\n",
    "- but I think we'd better go directly to regression model\n",
    "- then we can save some time for further more complicate machine learning models\n",
    "\n",
    "\n",
    "- this week we focus on the most simple linear regression without regularization"
   ]
  },
  {
   "cell_type": "code",
   "execution_count": 1,
   "metadata": {},
   "outputs": [
    {
     "data": {
      "text/plain": [
       "<function helper.get_daily_pred(file_name, product, signal_list, coef, strat, HEAD_PATH)>"
      ]
     },
     "execution_count": 1,
     "metadata": {},
     "output_type": "execute_result"
    }
   ],
   "source": [
    "from helper import *\n",
    "from stats import *\n",
    "from product_info import *\n",
    "from imp import reload  \n",
    "import helper\n",
    "import stats\n",
    "reload(helper)\n",
    "reload(stats)\n",
    "get_daily_pred\n"
   ]
  },
  {
   "cell_type": "code",
   "execution_count": 2,
   "metadata": {},
   "outputs": [
    {
     "data": {
      "text/plain": [
       "16"
      ]
     },
     "execution_count": 2,
     "metadata": {},
     "output_type": "execute_result"
    }
   ],
   "source": [
    "CORE_NUM = int(os.environ['NUMBER_OF_PROCESSORS'])\n",
    "CORE_NUM"
   ]
  },
  {
   "cell_type": "code",
   "execution_count": 3,
   "metadata": {},
   "outputs": [],
   "source": [
    "import warnings\n",
    " \n",
    "warnings.filterwarnings('ignore')"
   ]
  },
  {
   "cell_type": "code",
   "execution_count": 4,
   "metadata": {},
   "outputs": [],
   "source": [
    "period = 4096\n",
    "product_list = [\"bu\", \"ru\", \"v\", \"pp\", \"l\", \"jd\"]"
   ]
  },
  {
   "cell_type": "code",
   "execution_count": 5,
   "metadata": {},
   "outputs": [
    {
     "data": {
      "text/plain": [
       "1066"
      ]
     },
     "execution_count": 5,
     "metadata": {},
     "output_type": "execute_result"
    }
   ],
   "source": [
    "import os\n",
    "all_dates = os.listdir(DATA_PATH + product_list[0])\n",
    "all_dates.sort()\n",
    "all_dates = np.array(all_dates)\n",
    "n_days = len(all_dates)\n",
    "n_days\n",
    "## 1066"
   ]
  },
  {
   "cell_type": "code",
   "execution_count": 6,
   "metadata": {},
   "outputs": [],
   "source": [
    "import dask\n",
    "from dask import compute, delayed\n",
    "import sklearn.preprocessing"
   ]
  },
  {
   "cell_type": "code",
   "execution_count": 7,
   "metadata": {},
   "outputs": [],
   "source": [
    "os.makedirs(HEAD_PATH+\"/all signal\", exist_ok=True)\n",
    "dire_signal_list = [\"trade.imb\", \"total.trade.imb\", \"nr\", \"dbook\", \"range.pos\", \"price.osci\", \"ma.dif.10\", \"kdj.k\", \"kdj.j\"]\n",
    "range_signal_list = [\"\", \"range\", \"std\", \"volume.open.ratio\", \"trend.index\"]\n",
    "all_signal_list = np.array([])\n",
    "for range_signal in range_signal_list:\n",
    "    for dire_signal in dire_signal_list:\n",
    "        if len(range_signal)==0:\n",
    "            signal_name = dire_signal\n",
    "        else:\n",
    "            signal_name = dire_signal+\".\"+range_signal\n",
    "        all_signal_list = np.append(all_signal_list,signal_name)\n",
    "signal_list = [signal+\".4096\" for signal in all_signal_list]\n",
    "np.append(signal_list, [\"ret.4096\", \"ret.4096.001\", \"ret.4096.002\"])\n",
    "n_signal = len(signal_list)"
   ]
  },
  {
   "cell_type": "code",
   "execution_count": 9,
   "metadata": {},
   "outputs": [],
   "source": [
    "split_date = \"201910\"\n",
    "train_sample = all_dates<split_date\n",
    "test_sample = all_dates>split_date\n",
    "date_str = [n[0:8] for n in all_dates]\n",
    "format_dates = np.array([pd.to_datetime(d) for d in date_str])"
   ]
  },
  {
   "cell_type": "markdown",
   "metadata": {},
   "source": [
    "- let's begin with week 8"
   ]
  },
  {
   "cell_type": "code",
   "execution_count": 10,
   "metadata": {},
   "outputs": [],
   "source": [
    "from sklearn import linear_model\n",
    "from sklearn.model_selection import cross_val_score\n",
    "from sklearn.linear_model import lasso_path, LassoCV, RidgeCV\n",
    "from sklearn.preprocessing import StandardScaler\n",
    "#y_signal = \"ret.\"+str(period)+\".002\"\n",
    "\n",
    "\n",
    "\n"
   ]
  },
  {
   "cell_type": "code",
   "execution_count": 11,
   "metadata": {},
   "outputs": [],
   "source": [
    "product = product_list[0]\n",
    "train_mat = load(HEAD_PATH+\"/train test mat/\"+product+\".train.mat.pkl\")\n"
   ]
  },
  {
   "cell_type": "code",
   "execution_count": 12,
   "metadata": {},
   "outputs": [
    {
     "name": "stdout",
     "output_type": "stream",
     "text": [
      "bu\n",
      "[-0.          0.         -0.         -0.          0.          0.00028797\n",
      "  0.         -0.         -0.         -0.         -0.         -0.\n",
      " -0.         -0.          0.         -0.         -0.         -0.\n",
      "  0.         -0.         -0.00014889  0.         -0.         -0.\n",
      " -0.         -0.         -0.         -0.         -0.         -0.\n",
      " -0.         -0.          0.          0.         -0.         -0.\n",
      " -0.00324814 -0.         -0.         -0.0003865   0.          0.\n",
      "  0.          0.          0.        ]\n",
      "ru\n",
      "[-0.00000000e+00 -0.00000000e+00  0.00000000e+00 -0.00000000e+00\n",
      " -0.00000000e+00 -0.00000000e+00 -0.00000000e+00 -0.00000000e+00\n",
      " -0.00000000e+00 -0.00000000e+00 -0.00000000e+00  0.00000000e+00\n",
      " -0.00000000e+00 -0.00000000e+00 -0.00000000e+00 -0.00000000e+00\n",
      " -0.00000000e+00 -0.00000000e+00 -0.00000000e+00 -0.00000000e+00\n",
      "  0.00000000e+00 -0.00000000e+00 -0.00000000e+00 -0.00000000e+00\n",
      " -0.00000000e+00 -0.00000000e+00 -0.00000000e+00 -0.00000000e+00\n",
      " -0.00000000e+00  0.00000000e+00 -0.00000000e+00 -2.21532901e-18\n",
      " -0.00000000e+00 -0.00000000e+00 -0.00000000e+00 -0.00000000e+00\n",
      " -0.00000000e+00  0.00000000e+00  0.00000000e+00 -0.00000000e+00\n",
      " -0.00000000e+00  0.00000000e+00  0.00000000e+00  0.00000000e+00\n",
      " -0.00000000e+00]\n",
      "v\n",
      "[-0.00000000e+00 -0.00000000e+00 -0.00000000e+00 -0.00000000e+00\n",
      "  0.00000000e+00  0.00000000e+00 -0.00000000e+00  0.00000000e+00\n",
      "  0.00000000e+00 -0.00000000e+00 -0.00000000e+00 -5.18103251e-05\n",
      " -0.00000000e+00 -0.00000000e+00 -0.00000000e+00 -0.00000000e+00\n",
      " -0.00000000e+00 -0.00000000e+00 -0.00000000e+00 -0.00000000e+00\n",
      " -0.00000000e+00 -1.24388318e-04 -0.00000000e+00 -0.00000000e+00\n",
      " -0.00000000e+00  0.00000000e+00 -0.00000000e+00 -0.00000000e+00\n",
      " -0.00000000e+00 -0.00000000e+00 -0.00000000e+00 -0.00000000e+00\n",
      " -0.00000000e+00 -0.00000000e+00  0.00000000e+00 -0.00000000e+00\n",
      "  0.00000000e+00 -0.00000000e+00 -0.00000000e+00 -0.00000000e+00\n",
      " -0.00000000e+00  0.00000000e+00 -0.00000000e+00  0.00000000e+00\n",
      "  0.00000000e+00]\n",
      "pp\n",
      "[-0.00000000e+00 -0.00000000e+00  0.00000000e+00 -0.00000000e+00\n",
      " -3.53357989e-04  3.91731066e-04  0.00000000e+00 -4.80600938e-04\n",
      " -0.00000000e+00  0.00000000e+00  0.00000000e+00  0.00000000e+00\n",
      " -0.00000000e+00 -0.00000000e+00  0.00000000e+00  0.00000000e+00\n",
      "  0.00000000e+00 -0.00000000e+00  0.00000000e+00  0.00000000e+00\n",
      "  9.59716969e-05 -9.18821255e-04  0.00000000e+00  0.00000000e+00\n",
      "  0.00000000e+00  0.00000000e+00  0.00000000e+00 -0.00000000e+00\n",
      "  0.00000000e+00  0.00000000e+00 -1.89903890e-02 -8.16794118e-03\n",
      "  0.00000000e+00 -0.00000000e+00 -0.00000000e+00 -0.00000000e+00\n",
      "  3.02626684e-04  7.34898404e-03  0.00000000e+00  9.49930234e-03\n",
      " -0.00000000e+00  0.00000000e+00  1.02526103e-02 -0.00000000e+00\n",
      " -0.00000000e+00]\n",
      "l\n",
      "[ 0.00000000e+00  0.00000000e+00  0.00000000e+00 -0.00000000e+00\n",
      " -0.00000000e+00  0.00000000e+00  0.00000000e+00  0.00000000e+00\n",
      "  0.00000000e+00  0.00000000e+00  0.00000000e+00  0.00000000e+00\n",
      " -0.00000000e+00 -0.00000000e+00  0.00000000e+00  0.00000000e+00\n",
      "  0.00000000e+00  0.00000000e+00  0.00000000e+00  0.00000000e+00\n",
      "  0.00000000e+00 -0.00000000e+00 -0.00000000e+00  0.00000000e+00\n",
      "  0.00000000e+00  0.00000000e+00  0.00000000e+00  2.00329395e-18\n",
      "  0.00000000e+00  0.00000000e+00 -0.00000000e+00  0.00000000e+00\n",
      "  0.00000000e+00  0.00000000e+00  0.00000000e+00  0.00000000e+00\n",
      " -0.00000000e+00 -0.00000000e+00  0.00000000e+00 -0.00000000e+00\n",
      " -0.00000000e+00 -0.00000000e+00 -0.00000000e+00  0.00000000e+00\n",
      "  0.00000000e+00]\n",
      "jd\n",
      "[-0.00736473 -0.          0.         -0.          0.          0.\n",
      "  0.         -0.          0.         -0.         -0.          0.\n",
      " -0.         -0.          0.          0.          0.          0.\n",
      "  0.         -0.          0.          0.         -0.          0.\n",
      "  0.          0.          0.         -0.          0.          0.\n",
      " -0.          0.          0.          0.          0.          0.\n",
      " -0.          0.          0.         -0.          0.          0.\n",
      "  0.          0.          0.        ]\n"
     ]
    }
   ],
   "source": [
    "coef_list=dict([])\n",
    "y_signal = \"ret.4096.004\"\n",
    "for product in product_list:\n",
    "    train_mat = load(HEAD_PATH+\"/train test mat/\"+product+\".train.mat.pkl\")\n",
    "    x_train = train_mat.iloc[:, :n_signal].values\n",
    "    y_train = train_mat.loc[:, y_signal].values\n",
    "    scaler =  StandardScaler(copy=True, with_mean=True, with_std=True)\n",
    "    scaler.fit(x_train)\n",
    "    x_std = np.sqrt(scaler.var_)\n",
    "    x_train_normal = scaler.transform(x_train)\n",
    "    y_std = np.std(y_train)\n",
    "    model = LassoCV(n_alphas=100, fit_intercept=False, cv=10, max_iter=10000).fit(x_train_normal, y_train/y_std)\n",
    "    coef = model.coef_/x_std*y_std\n",
    "    print(product)\n",
    "    print(coef)\n",
    "    coef_list[product] = coef\n",
    "    \n",
    "# bu\n",
    "# [-0.          0.         -0.         -0.          0.          0.00028797\n",
    "#   0.         -0.         -0.         -0.         -0.         -0.\n",
    "#  -0.         -0.          0.         -0.         -0.         -0.\n",
    "#   0.         -0.         -0.00014889  0.         -0.         -0.\n",
    "#  -0.         -0.         -0.         -0.         -0.         -0.\n",
    "#  -0.         -0.          0.          0.         -0.         -0.\n",
    "#  -0.00324814 -0.         -0.         -0.0003865   0.          0.\n",
    "#   0.          0.          0.        ]\n",
    "# ru\n",
    "# [-0.00000000e+00 -0.00000000e+00  0.00000000e+00 -0.00000000e+00\n",
    "#  -0.00000000e+00 -0.00000000e+00 -0.00000000e+00 -0.00000000e+00\n",
    "#  -0.00000000e+00 -0.00000000e+00 -0.00000000e+00  0.00000000e+00\n",
    "#  -0.00000000e+00 -0.00000000e+00 -0.00000000e+00 -0.00000000e+00\n",
    "#  -0.00000000e+00 -0.00000000e+00 -0.00000000e+00 -0.00000000e+00\n",
    "#   0.00000000e+00 -0.00000000e+00 -0.00000000e+00 -0.00000000e+00\n",
    "#  -0.00000000e+00 -0.00000000e+00 -0.00000000e+00 -0.00000000e+00\n",
    "#  -0.00000000e+00  0.00000000e+00 -0.00000000e+00 -2.21532901e-18\n",
    "#  -0.00000000e+00 -0.00000000e+00 -0.00000000e+00 -0.00000000e+00\n",
    "#  -0.00000000e+00  0.00000000e+00  0.00000000e+00 -0.00000000e+00\n",
    "#  -0.00000000e+00  0.00000000e+00  0.00000000e+00  0.00000000e+00\n",
    "#  -0.00000000e+00]\n",
    "# v\n",
    "# [-0.00000000e+00 -0.00000000e+00 -0.00000000e+00 -0.00000000e+00\n",
    "#   0.00000000e+00  0.00000000e+00 -0.00000000e+00  0.00000000e+00\n",
    "#   0.00000000e+00 -0.00000000e+00 -0.00000000e+00 -5.18103251e-05\n",
    "#  -0.00000000e+00 -0.00000000e+00 -0.00000000e+00 -0.00000000e+00\n",
    "#  -0.00000000e+00 -0.00000000e+00 -0.00000000e+00 -0.00000000e+00\n",
    "#  -0.00000000e+00 -1.24388318e-04 -0.00000000e+00 -0.00000000e+00\n",
    "#  -0.00000000e+00  0.00000000e+00 -0.00000000e+00 -0.00000000e+00\n",
    "#  -0.00000000e+00 -0.00000000e+00 -0.00000000e+00 -0.00000000e+00\n",
    "#  -0.00000000e+00 -0.00000000e+00  0.00000000e+00 -0.00000000e+00\n",
    "#   0.00000000e+00 -0.00000000e+00 -0.00000000e+00 -0.00000000e+00\n",
    "#  -0.00000000e+00  0.00000000e+00 -0.00000000e+00  0.00000000e+00\n",
    "#   0.00000000e+00]\n",
    "# pp\n",
    "# [-0.00000000e+00 -0.00000000e+00  0.00000000e+00 -0.00000000e+00\n",
    "#  -3.53357989e-04  3.91731066e-04  0.00000000e+00 -4.80600938e-04\n",
    "#  -0.00000000e+00  0.00000000e+00  0.00000000e+00  0.00000000e+00\n",
    "#  -0.00000000e+00 -0.00000000e+00  0.00000000e+00  0.00000000e+00\n",
    "#   0.00000000e+00 -0.00000000e+00  0.00000000e+00  0.00000000e+00\n",
    "#   9.59716969e-05 -9.18821255e-04  0.00000000e+00  0.00000000e+00\n",
    "#   0.00000000e+00  0.00000000e+00  0.00000000e+00 -0.00000000e+00\n",
    "#   0.00000000e+00  0.00000000e+00 -1.89903890e-02 -8.16794118e-03\n",
    "#   0.00000000e+00 -0.00000000e+00 -0.00000000e+00 -0.00000000e+00\n",
    "#   3.02626684e-04  7.34898404e-03  0.00000000e+00  9.49930234e-03\n",
    "#  -0.00000000e+00  0.00000000e+00  1.02526103e-02 -0.00000000e+00\n",
    "#  -0.00000000e+00]\n",
    "# l\n",
    "# [ 0.00000000e+00  0.00000000e+00  0.00000000e+00 -0.00000000e+00\n",
    "#  -0.00000000e+00  0.00000000e+00  0.00000000e+00  0.00000000e+00\n",
    "#   0.00000000e+00  0.00000000e+00  0.00000000e+00  0.00000000e+00\n",
    "#  -0.00000000e+00 -0.00000000e+00  0.00000000e+00  0.00000000e+00\n",
    "#   0.00000000e+00  0.00000000e+00  0.00000000e+00  0.00000000e+00\n",
    "#   0.00000000e+00 -0.00000000e+00 -0.00000000e+00  0.00000000e+00\n",
    "#   0.00000000e+00  0.00000000e+00  0.00000000e+00  2.00329395e-18\n",
    "#   0.00000000e+00  0.00000000e+00 -0.00000000e+00  0.00000000e+00\n",
    "#   0.00000000e+00  0.00000000e+00  0.00000000e+00  0.00000000e+00\n",
    "#  -0.00000000e+00 -0.00000000e+00  0.00000000e+00 -0.00000000e+00\n",
    "#  -0.00000000e+00 -0.00000000e+00 -0.00000000e+00  0.00000000e+00\n",
    "#   0.00000000e+00]\n",
    "# jd\n",
    "# [-0.00736473 -0.          0.         -0.          0.          0.\n",
    "#   0.         -0.          0.         -0.         -0.          0.\n",
    "#  -0.         -0.          0.          0.          0.          0.\n",
    "#   0.         -0.          0.          0.         -0.          0.\n",
    "#   0.          0.          0.         -0.          0.          0.\n",
    "#  -0.          0.          0.          0.          0.          0.\n",
    "#  -0.          0.          0.         -0.          0.          0.\n",
    "#   0.          0.          0.        ]"
   ]
  },
  {
   "cell_type": "markdown",
   "metadata": {},
   "source": [
    "- it seems the result is ok"
   ]
  },
  {
   "cell_type": "code",
   "execution_count": 13,
   "metadata": {},
   "outputs": [],
   "source": [
    "SAVE_PATH = \"e:/intern\"\n",
    "split_str = split_date"
   ]
  },
  {
   "cell_type": "code",
   "execution_count": 14,
   "metadata": {},
   "outputs": [],
   "source": [
    "save(coef_list, SAVE_PATH+\"/energy.coef.ret.4096.004.pkl\")"
   ]
  },
  {
   "cell_type": "markdown",
   "metadata": {},
   "source": [
    "- we can see that the result is not good"
   ]
  },
  {
   "cell_type": "markdown",
   "metadata": {},
   "source": [
    "- it's still not good. So we cannot use lasso model"
   ]
  },
  {
   "cell_type": "code",
   "execution_count": 15,
   "metadata": {},
   "outputs": [],
   "source": [
    "def par_get_signal_mat(file_name, product, signal_list, HEAD_PATH, SAVE_PATH):\n",
    "    data = load(HEAD_PATH+\"/pkl tick/\"+product+\"/\"+file_name)\n",
    "    signal_mat = functools.reduce(functools.partial(get_signal_mat, product=product, file_name=file_name, HEAD_PATH=SAVE_PATH), signal_list, None)\n",
    "    save(signal_mat, SAVE_PATH+\"/signal mat pkl/\"+product+\"/\"+file_name)"
   ]
  },
  {
   "cell_type": "code",
   "execution_count": 16,
   "metadata": {},
   "outputs": [],
   "source": [
    "def par_get_daily_pred(file_name, product, coef, strat, HEAD_PATH):\n",
    "    signal_mat = load(HEAD_PATH+\"/signal mat pkl/\"+product+\"/\"+file_name)\n",
    "    S = np.dot(signal_mat.transpose(),coef)\n",
    "    save(S, HEAD_PATH+\"/tmp pkl/\"+product+\"/\"+strat+\"/\"+file_name)      \n"
   ]
  },
  {
   "cell_type": "markdown",
   "metadata": {},
   "source": [
    "\n",
    "- now let's try lasso regression"
   ]
  },
  {
   "cell_type": "code",
   "execution_count": 17,
   "metadata": {},
   "outputs": [],
   "source": [
    "strat = \"lasso.004.\"+str(period)\n",
    "for product in product_list:\n",
    "    os.makedirs(\"e:/intern\"+\"/tmp pkl/\"+product+\"/\"+strat, exist_ok=True)"
   ]
  },
  {
   "cell_type": "code",
   "execution_count": 18,
   "metadata": {},
   "outputs": [],
   "source": [
    "coef_list = load(SAVE_PATH+\"/energy.coef.ret.4096.004.pkl\")"
   ]
  },
  {
   "cell_type": "code",
   "execution_count": 19,
   "metadata": {},
   "outputs": [],
   "source": [
    "for product in product_list:\n",
    "    os.makedirs(\"e:/intern\"+\"/tmp pkl/\"+product+\"/\"+strat, exist_ok=True)"
   ]
  },
  {
   "cell_type": "code",
   "execution_count": 20,
   "metadata": {},
   "outputs": [],
   "source": [
    "os.makedirs(\"e:/intern\"+\"/signal mat pkl\", exist_ok=True)\n",
    "for product in product_list:\n",
    "    os.makedirs(\"e:/intern\"+\"/signal mat pkl/\"+product, exist_ok=True)"
   ]
  },
  {
   "cell_type": "code",
   "execution_count": 21,
   "metadata": {},
   "outputs": [
    {
     "name": "stdout",
     "output_type": "stream",
     "text": [
      "bu\n",
      "ru\n",
      "v\n",
      "pp\n",
      "l\n",
      "jd\n",
      "Wall time: 1h 11min 29s\n"
     ]
    }
   ],
   "source": [
    "%%time\n",
    "for product in product_list:\n",
    "    print(product)\n",
    "    parLapply(CORE_NUM, all_dates, par_get_signal_mat, product=product, signal_list=signal_list, HEAD_PATH=HEAD_PATH, SAVE_PATH=SAVE_PATH)\n",
    "    \n",
    "# cu\n",
    "# zn\n",
    "# ni\n",
    "# ag\n",
    "# au\n",
    "# Wall time: 1h 11min 29s\n",
    "\n"
   ]
  },
  {
   "cell_type": "code",
   "execution_count": 22,
   "metadata": {},
   "outputs": [
    {
     "name": "stdout",
     "output_type": "stream",
     "text": [
      "bu\n",
      "ru\n",
      "v\n",
      "pp\n",
      "l\n",
      "jd\n",
      "Wall time: 1h 27min 21s\n"
     ]
    }
   ],
   "source": [
    "%%time\n",
    "for product in product_list:\n",
    "    print(product)\n",
    "    coef = coef_list[product]\n",
    "    parLapply(CORE_NUM, all_dates, par_get_daily_pred, \n",
    "              product=product, coef=coef, strat=strat, HEAD_PATH=\"e:/intern\")\n",
    "\n",
    "# bu\n",
    "# ru\n",
    "# v\n",
    "# pp\n",
    "# l\n",
    "# jd\n",
    "# Wall time: 1h 27min 21s\n",
    "\n",
    "\n"
   ]
  },
  {
   "cell_type": "code",
   "execution_count": 23,
   "metadata": {},
   "outputs": [
    {
     "name": "stdout",
     "output_type": "stream",
     "text": [
      "Wall time: 5min 12s\n"
     ]
    }
   ],
   "source": [
    "%%time\n",
    "for product in product_list:\n",
    "    par_get_all_signal(strat, all_dates, product, 4096, SAVE_PATH=\"e:/intern\")\n",
    "\n",
    "## Wall time: 5min 12s\n"
   ]
  },
  {
   "cell_type": "code",
   "execution_count": 24,
   "metadata": {},
   "outputs": [
    {
     "name": "stdout",
     "output_type": "stream",
     "text": [
      "reverse=1\n",
      "reverse=1\n",
      "reverse=1\n",
      "reverse=1\n",
      "reverse=1\n",
      "reverse=1\n",
      "Wall time: 14min 30s\n"
     ]
    }
   ],
   "source": [
    "%%time\n",
    "for product in product_list:\n",
    "    spread = product_info[product][\"spread\"]\n",
    "    tranct = product_info[product][\"tranct\"]\n",
    "    tranct_ratio = product_info[product][\"tranct.ratio\"]\n",
    "    evaluate_signal(\"lasso.004\", all_dates, product, 2, 20, \n",
    "                    CORE_NUM, HEAD_PATH, SAVE_PATH, period=4096, split_str=split_str, tranct=tranct, \n",
    "                    max_spread=spread*1.1, tranct_ratio=tranct_ratio, atr_filter=0.01, save_path=\"signal result atr\",reverse=1)\n",
    "\n",
    "# reverse=1\n",
    "# reverse=1\n",
    "# reverse=1\n",
    "# reverse=1\n",
    "# reverse=1\n",
    "# reverse=1\n",
    "# Wall time: 14min 30s\n",
    "\n",
    "\n"
   ]
  },
  {
   "cell_type": "code",
   "execution_count": 26,
   "metadata": {},
   "outputs": [
    {
     "name": "stdout",
     "output_type": "stream",
     "text": [
      "bu train sharpe  1.3561246767439958 test sharpe  0.7894527145331018\n",
      "ru train sharpe  0.7172191381865639 test sharpe  -0.8829842668333061\n",
      "v train sharpe  1.238527955884543 test sharpe  -0.8599232011653384\n",
      "pp train sharpe  0.7314018503920457 test sharpe  0.5370413938397671\n",
      "l train sharpe  0.903923149506969 test sharpe  0.20265775060292235\n",
      "train sharpe:  1.9717532710138894 test sharpe:  -0.3752731881066425\n"
     ]
    },
    {
     "data": {
      "image/png": "[encoded data removed]",
      "text/plain": [
       "<Figure size 1152x720 with 1 Axes>"
      ]
     },
     "metadata": {
      "needs_background": "light"
     },
     "output_type": "display_data"
    }
   ],
   "source": [
    "i = 0\n",
    "strat = \"lasso.004.4096\"\n",
    "test_all_pnl = np.zeros([sum(test_sample), 5])\n",
    "train_all_pnl = np.zeros([sum(train_sample), 5])\n",
    "min_pnl = 2\n",
    "min_num = 0\n",
    "for product in product_list:\n",
    "    spread = product_info[product][\"spread\"]\n",
    "    signal_stat = load(HEAD_PATH+\"/signal result atr/\"+product+\".\"+strat+\".trend.pkl\")\n",
    "    train_stat = signal_stat[\"train.stat\"]\n",
    "    good_strat = (train_stat[\"final.result\"][\"avg.pnl\"]>min_pnl*spread) & (train_stat[\"final.result\"][\"num\"]>min_num)\n",
    "    if sum(good_strat)==0:\n",
    "        continue\n",
    "    train_pnl = train_stat[\"daily.ret\"].loc[:, good_strat].sum(axis=1)/sum(good_strat)\n",
    "    test_stat = signal_stat[\"test.stat\"]\n",
    "    test_pnl = test_stat[\"daily.ret\"].loc[:, good_strat].sum(axis=1)/sum(good_strat)\n",
    "    print(product, \"train sharpe \", sharpe(train_pnl), \"test sharpe \", sharpe(test_pnl))\n",
    "    test_all_pnl[:,i] = test_pnl\n",
    "    train_all_pnl[:,i] = train_pnl\n",
    "    i = i+1\n",
    "train_portfolio = np.array(np.mean(train_all_pnl, axis=1))\n",
    "test_portfolio = np.array(np.mean(test_all_pnl, axis=1))\n",
    "all_portfolio = np.append(train_portfolio, test_portfolio)\n",
    "plt.figure(1, figsize=(16, 10));\n",
    "plt.title(\"\");\n",
    "plt.xlabel(\"date\");\n",
    "plt.ylabel(\"pnl\");\n",
    "plt.title(\"portfolio\");\n",
    "plt.plot(format_dates, all_portfolio.cumsum());\n",
    "plt.plot(format_dates[test_sample], all_portfolio.cumsum()[test_sample])\n",
    "print(\"train sharpe: \", sharpe(train_portfolio), \"test sharpe: \", sharpe(test_portfolio))    \n",
    "\n",
    "# bu train sharpe  1.3561246767439958 test sharpe  0.7894527145331018\n",
    "# ru train sharpe  0.7172191381865639 test sharpe  -0.8829842668333061\n",
    "# v train sharpe  1.238527955884543 test sharpe  -0.8599232011653384\n",
    "# pp train sharpe  0.7314018503920457 test sharpe  0.5370413938397671\n",
    "# l train sharpe  0.903923149506969 test sharpe  0.20265775060292235\n",
    "# train sharpe:  1.9717532710138894 test sharpe:  -0.3752731881066425\n",
    "\n",
    "\n",
    "\n",
    "\n",
    "\n"
   ]
  },
  {
   "cell_type": "markdown",
   "metadata": {},
   "source": [
    "- The result is not good\n",
    "- Now we go to ridge"
   ]
  },
  {
   "cell_type": "code",
   "execution_count": 27,
   "metadata": {},
   "outputs": [
    {
     "name": "stdout",
     "output_type": "stream",
     "text": [
      "bu\n",
      "[ 3.97735210e-05 -4.18616247e-06  9.78975136e-03  1.46169395e-03\n",
      "  2.00358223e-03  7.38343528e-04 -8.27711535e-02  3.72608472e-04\n",
      " -1.61327757e-03 -4.69076228e-04 -6.05927173e-05  1.47759827e-04\n",
      " -5.61227589e-04 -6.10984955e-05  2.55705144e-05 -4.77223010e-03\n",
      " -5.34921455e-07  2.28459355e-05  2.51828911e-03  3.00425304e-04\n",
      " -1.33775259e-03  2.13461033e-03  3.37577933e-04  1.09892584e-04\n",
      "  9.49945491e-03 -3.35310171e-05 -1.25052217e-04 -3.08767397e-03\n",
      "  6.04656669e-04  4.45004543e-02  1.51723236e-03 -4.08605492e-02\n",
      " -6.16867098e-03  4.71422904e-01 -3.55921951e-03  1.08754861e-02\n",
      " -1.02725647e-02  3.70533594e-03 -4.71911820e-02 -8.81033844e-04\n",
      "  8.32678083e-03  2.25812350e-04  1.21746877e-01  8.06200954e-04\n",
      " -9.32237209e-05]\n",
      "ru\n",
      "[ 1.51754363e-02  3.08876778e-04  7.69291744e-03 -3.21199605e-03\n",
      "  1.25197129e-03  5.78003141e-04 -8.54835821e-02 -4.56426105e-04\n",
      " -1.45066037e-04 -1.35461375e-04  7.21967961e-05  1.01722409e-04\n",
      "  9.09456494e-05  1.40161038e-05  1.70676833e-05 -2.99595883e-03\n",
      " -1.76289011e-06  1.97024285e-06  2.45766685e-04 -2.47406557e-04\n",
      "  5.00125682e-04 -4.33241258e-04 -8.96054318e-05 -1.45904940e-06\n",
      " -7.65668333e-04 -4.84572277e-05  5.21284340e-05  6.45736564e-02\n",
      " -7.04717184e-02 -7.34787460e-03 -7.38688137e-02 -4.58057200e-02\n",
      " -1.45722193e-02  2.27070516e+00  1.16319643e-02 -5.10701356e-03\n",
      " -3.76319478e-02  5.56382272e-03 -1.84221180e-02  2.18241143e-02\n",
      "  4.01524279e-03  2.93404072e-04  1.41526960e-01 -7.22221968e-04\n",
      "  2.99450174e-04]\n",
      "v\n",
      "[ 4.47632027e-03 -5.77185814e-03 -8.20662823e-03 -8.53628463e-03\n",
      "  8.03536697e-03  4.14825232e-05  3.05181238e-01 -2.35647827e-05\n",
      " -1.90309430e-03  4.31471731e-04 -3.68575550e-05 -3.15070770e-04\n",
      "  1.28534854e-04  4.12705399e-05 -3.21382872e-05 -7.93529898e-04\n",
      " -8.47523420e-06  4.25610052e-06 -1.57794238e-03  4.07129939e-04\n",
      "  2.58116187e-04 -8.62037800e-04 -3.63281868e-04  2.04201750e-04\n",
      "  5.54976484e-03 -1.86549663e-05 -1.23824042e-04 -4.71757243e-02\n",
      " -2.76074439e-04  1.78008169e-02  4.08841702e-02  1.70984739e-02\n",
      " -6.66030421e-03 -3.15997415e-01  6.65805731e-03  3.60594382e-05\n",
      "  5.29523117e-03  6.81645807e-03 -6.03472693e-03  8.73075099e-04\n",
      " -1.18708228e-02  6.59061015e-04 -1.62234049e-01  9.60009278e-04\n",
      "  2.32080255e-03]\n",
      "pp\n",
      "[-3.34727733e-04 -5.07937456e-03 -2.32499159e-02  1.70064971e-03\n",
      " -8.48428783e-03  2.53571215e-03  2.78547384e-01 -1.15032414e-03\n",
      "  1.57677358e-03  5.69650132e-04 -1.02896859e-04  8.25550061e-05\n",
      " -1.42471605e-06  1.76508935e-05  8.37519834e-06 -2.55033006e-04\n",
      " -6.11487050e-06 -4.70342526e-06 -5.45007665e-04 -3.42413404e-04\n",
      " -6.30687135e-04 -1.45858028e-03  3.14493341e-04 -1.00626890e-04\n",
      "  2.13629692e-03  9.00557554e-05 -4.66646728e-05 -1.45396419e-01\n",
      "  6.60244272e-02  1.52829858e-01 -1.83042160e-02 -2.66384189e-02\n",
      " -3.23578096e-03 -1.00662804e+00 -3.13094372e-03  2.08682234e-03\n",
      "  4.86516134e-03  1.40904751e-02 -4.15660357e-03  1.87530574e-02\n",
      "  5.19901495e-03 -2.81984122e-03  3.14575024e-01  1.98183051e-05\n",
      " -7.13742943e-04]\n",
      "l\n",
      "[ 1.28862064e-02 -1.26456734e-02  4.56128728e-02 -1.13813957e-02\n",
      "  4.80779502e-03 -4.37920779e-04  6.85758832e-02  9.80396977e-04\n",
      " -2.36304858e-03  9.37529588e-05  2.19944464e-04 -5.66228585e-04\n",
      " -4.54516371e-05 -1.92683240e-04 -4.22664583e-06  6.16178955e-06\n",
      "  1.98824164e-06  6.97540733e-06 -1.99889175e-04  2.72025686e-05\n",
      " -5.31454201e-04 -1.59027971e-04 -4.04752097e-04  9.74158483e-05\n",
      " -3.95980794e-03  4.04904760e-05  5.85452887e-05  1.46770310e-02\n",
      "  2.40992737e-02  2.69390532e-02  1.66829361e-02  1.17554577e-02\n",
      " -5.57743329e-03  1.02226872e+00 -6.64217867e-03  1.09396822e-02\n",
      " -2.10949513e-02 -9.23895025e-03  1.61090390e-02  1.43583770e-02\n",
      "  8.57931735e-03 -1.81911583e-03 -1.75891075e-01 -1.12982598e-03\n",
      "  1.01548377e-03]\n",
      "jd\n",
      "[-4.25608554e-02 -1.87355493e-03  1.02027634e-02  1.13542899e-02\n",
      " -5.96250608e-03  7.49431668e-04 -1.49696118e-01 -2.36759526e-03\n",
      "  4.18236874e-03  1.71943924e-04  7.77454053e-05 -4.34494245e-04\n",
      " -4.89179427e-04  9.08842449e-06  2.05803908e-05  2.81088213e-03\n",
      " -2.50174665e-05 -4.23348128e-05 -9.33127995e-05 -4.26886120e-04\n",
      "  2.83386631e-03  1.87051433e-03 -2.28673154e-04 -2.34183890e-04\n",
      " -1.02586965e-02  3.15039412e-04 -5.88543736e-05  5.56430105e-02\n",
      " -1.01669064e-02  5.03580590e-02 -1.91164509e-02  5.14453484e-03\n",
      "  2.57134583e-04  3.75510551e-01 -3.15083627e-04 -6.05186113e-04\n",
      "  2.08803363e-02  6.73917054e-03 -3.86344512e-02 -6.41841061e-03\n",
      "  1.39286546e-03  1.05462834e-03 -3.29422279e-02  1.43643679e-03\n",
      " -1.32005785e-03]\n"
     ]
    }
   ],
   "source": [
    "coef_list=dict([])\n",
    "y_signal= \"ret.\" + str(period)+\".004\"\n",
    "for product in product_list:\n",
    "    train_mat = load(HEAD_PATH+\"/train test mat/\"+product+\".train.mat.pkl\")\n",
    "    x_train = train_mat.iloc[:, :n_signal].values\n",
    "    y_train = train_mat.loc[:, y_signal].values\n",
    "    scaler =  StandardScaler(copy=True, with_mean=True, with_std=True)\n",
    "    scaler.fit(x_train)\n",
    "    x_std = np.sqrt(scaler.var_)\n",
    "    y_std = np.std(y_train)\n",
    "    x_train_normal = scaler.transform(x_train)\n",
    "    model = RidgeCV(fit_intercept=False, cv=5).fit(x_train_normal, y_train/y_std)\n",
    "    coef = model.coef_/x_std*y_std\n",
    "    print(product)\n",
    "    print(coef)\n",
    "    coef_list[product] = coef\n",
    "\n",
    "# bu\n",
    "# [ 3.97735210e-05 -4.18616247e-06  9.78975136e-03  1.46169395e-03\n",
    "#   2.00358223e-03  7.38343528e-04 -8.27711535e-02  3.72608472e-04\n",
    "#  -1.61327757e-03 -4.69076228e-04 -6.05927173e-05  1.47759827e-04\n",
    "#  -5.61227589e-04 -6.10984955e-05  2.55705144e-05 -4.77223010e-03\n",
    "#  -5.34921455e-07  2.28459355e-05  2.51828911e-03  3.00425304e-04\n",
    "#  -1.33775259e-03  2.13461033e-03  3.37577933e-04  1.09892584e-04\n",
    "#   9.49945491e-03 -3.35310171e-05 -1.25052217e-04 -3.08767397e-03\n",
    "#   6.04656669e-04  4.45004543e-02  1.51723236e-03 -4.08605492e-02\n",
    "#  -6.16867098e-03  4.71422904e-01 -3.55921951e-03  1.08754861e-02\n",
    "#  -1.02725647e-02  3.70533594e-03 -4.71911820e-02 -8.81033844e-04\n",
    "#   8.32678083e-03  2.25812350e-04  1.21746877e-01  8.06200954e-04\n",
    "#  -9.32237209e-05]\n",
    "# ru\n",
    "# [ 1.51754363e-02  3.08876778e-04  7.69291744e-03 -3.21199605e-03\n",
    "#   1.25197129e-03  5.78003141e-04 -8.54835821e-02 -4.56426105e-04\n",
    "#  -1.45066037e-04 -1.35461375e-04  7.21967961e-05  1.01722409e-04\n",
    "#   9.09456494e-05  1.40161038e-05  1.70676833e-05 -2.99595883e-03\n",
    "#  -1.76289011e-06  1.97024285e-06  2.45766685e-04 -2.47406557e-04\n",
    "#   5.00125682e-04 -4.33241258e-04 -8.96054318e-05 -1.45904940e-06\n",
    "#  -7.65668333e-04 -4.84572277e-05  5.21284340e-05  6.45736564e-02\n",
    "#  -7.04717184e-02 -7.34787460e-03 -7.38688137e-02 -4.58057200e-02\n",
    "#  -1.45722193e-02  2.27070516e+00  1.16319643e-02 -5.10701356e-03\n",
    "#  -3.76319478e-02  5.56382272e-03 -1.84221180e-02  2.18241143e-02\n",
    "#   4.01524279e-03  2.93404072e-04  1.41526960e-01 -7.22221968e-04\n",
    "#   2.99450174e-04]\n",
    "# v\n",
    "# [ 4.47632027e-03 -5.77185814e-03 -8.20662823e-03 -8.53628463e-03\n",
    "#   8.03536697e-03  4.14825232e-05  3.05181238e-01 -2.35647827e-05\n",
    "#  -1.90309430e-03  4.31471731e-04 -3.68575550e-05 -3.15070770e-04\n",
    "#   1.28534854e-04  4.12705399e-05 -3.21382872e-05 -7.93529898e-04\n",
    "#  -8.47523420e-06  4.25610052e-06 -1.57794238e-03  4.07129939e-04\n",
    "#   2.58116187e-04 -8.62037800e-04 -3.63281868e-04  2.04201750e-04\n",
    "#   5.54976484e-03 -1.86549663e-05 -1.23824042e-04 -4.71757243e-02\n",
    "#  -2.76074439e-04  1.78008169e-02  4.08841702e-02  1.70984739e-02\n",
    "#  -6.66030421e-03 -3.15997415e-01  6.65805731e-03  3.60594382e-05\n",
    "#   5.29523117e-03  6.81645807e-03 -6.03472693e-03  8.73075099e-04\n",
    "#  -1.18708228e-02  6.59061015e-04 -1.62234049e-01  9.60009278e-04\n",
    "#   2.32080255e-03]\n",
    "# pp\n",
    "# [-3.34727733e-04 -5.07937456e-03 -2.32499159e-02  1.70064971e-03\n",
    "#  -8.48428783e-03  2.53571215e-03  2.78547384e-01 -1.15032414e-03\n",
    "#   1.57677358e-03  5.69650132e-04 -1.02896859e-04  8.25550061e-05\n",
    "#  -1.42471605e-06  1.76508935e-05  8.37519834e-06 -2.55033006e-04\n",
    "#  -6.11487050e-06 -4.70342526e-06 -5.45007665e-04 -3.42413404e-04\n",
    "#  -6.30687135e-04 -1.45858028e-03  3.14493341e-04 -1.00626890e-04\n",
    "#   2.13629692e-03  9.00557554e-05 -4.66646728e-05 -1.45396419e-01\n",
    "#   6.60244272e-02  1.52829858e-01 -1.83042160e-02 -2.66384189e-02\n",
    "#  -3.23578096e-03 -1.00662804e+00 -3.13094372e-03  2.08682234e-03\n",
    "#   4.86516134e-03  1.40904751e-02 -4.15660357e-03  1.87530574e-02\n",
    "#   5.19901495e-03 -2.81984122e-03  3.14575024e-01  1.98183051e-05\n",
    "#  -7.13742943e-04]\n",
    "# l\n",
    "# [ 1.28862064e-02 -1.26456734e-02  4.56128728e-02 -1.13813957e-02\n",
    "#   4.80779502e-03 -4.37920779e-04  6.85758832e-02  9.80396977e-04\n",
    "#  -2.36304858e-03  9.37529588e-05  2.19944464e-04 -5.66228585e-04\n",
    "#  -4.54516371e-05 -1.92683240e-04 -4.22664583e-06  6.16178955e-06\n",
    "#   1.98824164e-06  6.97540733e-06 -1.99889175e-04  2.72025686e-05\n",
    "#  -5.31454201e-04 -1.59027971e-04 -4.04752097e-04  9.74158483e-05\n",
    "#  -3.95980794e-03  4.04904760e-05  5.85452887e-05  1.46770310e-02\n",
    "#   2.40992737e-02  2.69390532e-02  1.66829361e-02  1.17554577e-02\n",
    "#  -5.57743329e-03  1.02226872e+00 -6.64217867e-03  1.09396822e-02\n",
    "#  -2.10949513e-02 -9.23895025e-03  1.61090390e-02  1.43583770e-02\n",
    "#   8.57931735e-03 -1.81911583e-03 -1.75891075e-01 -1.12982598e-03\n",
    "#   1.01548377e-03]\n",
    "# jd\n",
    "# [-4.25608554e-02 -1.87355493e-03  1.02027634e-02  1.13542899e-02\n",
    "#  -5.96250608e-03  7.49431668e-04 -1.49696118e-01 -2.36759526e-03\n",
    "#   4.18236874e-03  1.71943924e-04  7.77454053e-05 -4.34494245e-04\n",
    "#  -4.89179427e-04  9.08842449e-06  2.05803908e-05  2.81088213e-03\n",
    "#  -2.50174665e-05 -4.23348128e-05 -9.33127995e-05 -4.26886120e-04\n",
    "#   2.83386631e-03  1.87051433e-03 -2.28673154e-04 -2.34183890e-04\n",
    "#  -1.02586965e-02  3.15039412e-04 -5.88543736e-05  5.56430105e-02\n",
    "#  -1.01669064e-02  5.03580590e-02 -1.91164509e-02  5.14453484e-03\n",
    "#   2.57134583e-04  3.75510551e-01 -3.15083627e-04 -6.05186113e-04\n",
    "#   2.08803363e-02  6.73917054e-03 -3.86344512e-02 -6.41841061e-03\n",
    "#   1.39286546e-03  1.05462834e-03 -3.29422279e-02  1.43643679e-03\n",
    "#  -1.32005785e-03]"
   ]
  },
  {
   "cell_type": "code",
   "execution_count": 28,
   "metadata": {},
   "outputs": [],
   "source": [
    "save(coef_list, SAVE_PATH+\"/energy.coef.ridge.004.pkl\")"
   ]
  },
  {
   "cell_type": "code",
   "execution_count": 29,
   "metadata": {},
   "outputs": [],
   "source": [
    "strat = \"ridge.004.\"+str(period)\n",
    "for product in product_list:\n",
    "    os.makedirs(\"e:/intern\"+\"/tmp pkl/\"+product+\"/\"+strat, exist_ok=True)"
   ]
  },
  {
   "cell_type": "code",
   "execution_count": 30,
   "metadata": {},
   "outputs": [
    {
     "name": "stdout",
     "output_type": "stream",
     "text": [
      "bu\n",
      "ru\n",
      "v\n",
      "pp\n",
      "l\n",
      "jd\n",
      "Wall time: 1h 32min 19s\n"
     ]
    }
   ],
   "source": [
    "%%time\n",
    "for product in product_list:\n",
    "    print(product)\n",
    "    coef = coef_list[product]\n",
    "    parLapply(CORE_NUM, all_dates, par_get_daily_pred, \n",
    "              product=product, coef=coef, strat=strat, HEAD_PATH=\"e:/intern\")\n",
    "\n",
    "# bu\n",
    "# ru\n",
    "# v\n",
    "# pp\n",
    "# l\n",
    "# jd\n",
    "# Wall time: 1h 32min 19s\n",
    "\n"
   ]
  },
  {
   "cell_type": "code",
   "execution_count": 31,
   "metadata": {},
   "outputs": [
    {
     "name": "stdout",
     "output_type": "stream",
     "text": [
      "Wall time: 4min 42s\n"
     ]
    }
   ],
   "source": [
    "%%time\n",
    "for product in product_list:\n",
    "    par_get_all_signal(strat, all_dates, product, 4096, SAVE_PATH=\"e:/intern\")\n",
    "    \n",
    "# Wall time: 4min 42s"
   ]
  },
  {
   "cell_type": "code",
   "execution_count": 32,
   "metadata": {},
   "outputs": [
    {
     "name": "stdout",
     "output_type": "stream",
     "text": [
      "reverse=1\n",
      "reverse=1\n",
      "reverse=1\n",
      "reverse=1\n",
      "reverse=1\n",
      "reverse=1\n",
      "Wall time: 15min 34s\n"
     ]
    }
   ],
   "source": [
    "%%time\n",
    "SAVE_PATH = \"e:/intern\"\n",
    "for product in product_list:\n",
    "    spread = product_info[product][\"spread\"]\n",
    "    tranct = product_info[product][\"tranct\"]\n",
    "    tranct_ratio = product_info[product][\"tranct.ratio\"]\n",
    "    evaluate_signal(\"ridge.004\", all_dates, product, 2, 20, \n",
    "                    CORE_NUM, HEAD_PATH, SAVE_PATH, period=4096, split_str=split_str, tranct=tranct, \n",
    "                    max_spread=spread*1.1, tranct_ratio=tranct_ratio, atr_filter=0.01, save_path=\"signal result atr\",reverse=1)\n",
    "\n",
    "# reverse=1\n",
    "# reverse=1\n",
    "# reverse=1\n",
    "# reverse=1\n",
    "# reverse=1\n",
    "# reverse=1\n",
    "# Wall time: 15min 34s\n",
    "\n"
   ]
  },
  {
   "cell_type": "code",
   "execution_count": 47,
   "metadata": {},
   "outputs": [
    {
     "name": "stdout",
     "output_type": "stream",
     "text": [
      "bu train sharpe  1.5284463579372265 test sharpe  0.48869515281000164\n",
      "ru train sharpe  0.7454290812594269 test sharpe  1.2605098935646597\n",
      "v train sharpe  1.3843088947086697 test sharpe  -0.5476655180500608\n",
      "pp train sharpe  0.7079068058097567 test sharpe  -0.6058777149450485\n",
      "l train sharpe  1.6521569751277956 test sharpe  1.2149401176910664\n",
      "train sharpe:  2.5758076390058515 test sharpe:  0.6023575464626939\n"
     ]
    },
    {
     "data": {
      "image/png": "[encoded data removed]",
      "text/plain": [
       "<Figure size 1152x720 with 1 Axes>"
      ]
     },
     "metadata": {
      "needs_background": "light"
     },
     "output_type": "display_data"
    }
   ],
   "source": [
    "i = 0\n",
    "strat = \"ridge.004.4096\"\n",
    "test_all_pnl = np.zeros([sum(test_sample), len(product_list)])\n",
    "train_all_pnl = np.zeros([sum(train_sample), len(product_list)])\n",
    "min_pnl = 2\n",
    "min_num = 10\n",
    "for product in product_list:\n",
    "    spread = product_info[product][\"spread\"]\n",
    "    signal_stat = load(HEAD_PATH+\"/signal result atr/\"+product+\".\"+strat+\".trend.pkl\")\n",
    "    train_stat = signal_stat[\"train.stat\"]\n",
    "    good_strat = (train_stat[\"final.result\"][\"avg.pnl\"]>min_pnl*spread) & (train_stat[\"final.result\"][\"num\"]>min_num)\n",
    "    if sum(good_strat)<1:\n",
    "        continue\n",
    "    train_pnl = train_stat[\"daily.ret\"].loc[:, good_strat].sum(axis=1)/sum(good_strat)\n",
    "    test_stat = signal_stat[\"test.stat\"]\n",
    "    test_pnl = test_stat[\"daily.ret\"].loc[:, good_strat].sum(axis=1)/sum(good_strat)\n",
    "    print(product, \"train sharpe \", sharpe(train_pnl), \"test sharpe \", sharpe(test_pnl))\n",
    "    test_all_pnl[:,i] = test_pnl\n",
    "    train_all_pnl[:,i] = train_pnl\n",
    "    i = i+1\n",
    "train_portfolio = np.array(np.mean(train_all_pnl, axis=1))\n",
    "test_portfolio = np.array(np.mean(test_all_pnl, axis=1))\n",
    "all_portfolio = np.append(train_portfolio, test_portfolio)\n",
    "plt.figure(1, figsize=(16, 10));\n",
    "plt.title(\"\");\n",
    "plt.xlabel(\"date\");\n",
    "plt.ylabel(\"pnl\");\n",
    "plt.title(\"portfolio\");\n",
    "plt.plot(format_dates, all_portfolio.cumsum());\n",
    "plt.plot(format_dates[test_sample], all_portfolio.cumsum()[test_sample])\n",
    "print(\"train sharpe: \", sharpe(train_portfolio), \"test sharpe: \", sharpe(test_portfolio))    \n",
    "\n",
    "# bu train sharpe  1.5284463579372265 test sharpe  0.48869515281000164\n",
    "# ru train sharpe  0.7454290812594269 test sharpe  1.2605098935646597\n",
    "# v train sharpe  1.3843088947086697 test sharpe  -0.5476655180500608\n",
    "# pp train sharpe  0.7079068058097567 test sharpe  -0.6058777149450485\n",
    "# l train sharpe  1.6521569751277956 test sharpe  1.2149401176910664\n",
    "# train sharpe:  2.5758076390058515 test sharpe:  0.6023575464626939\n",
    "\n",
    "\n",
    "\n",
    "\n",
    "\n"
   ]
  },
  {
   "cell_type": "code",
   "execution_count": 34,
   "metadata": {},
   "outputs": [],
   "source": [
    "from sklearn.linear_model import ElasticNetCV"
   ]
  },
  {
   "cell_type": "code",
   "execution_count": 35,
   "metadata": {},
   "outputs": [],
   "source": [
    "strat = \"elastic.004.\"+str(period)"
   ]
  },
  {
   "cell_type": "code",
   "execution_count": 36,
   "metadata": {},
   "outputs": [],
   "source": [
    "for product in product_list:\n",
    "    os.makedirs(SAVE_PATH+\"/tmp pkl/\"+product+\"/\"+strat, exist_ok=True)"
   ]
  },
  {
   "cell_type": "code",
   "execution_count": 37,
   "metadata": {},
   "outputs": [],
   "source": [
    "train_mat = load(HEAD_PATH+\"/train test mat/\"+product+\".train.mat.pkl\")\n",
    "x_train = train_mat.iloc[:, :n_signal].values\n",
    "y_train = train_mat.loc[:, y_signal].values\n"
   ]
  },
  {
   "cell_type": "code",
   "execution_count": 38,
   "metadata": {},
   "outputs": [
    {
     "name": "stdout",
     "output_type": "stream",
     "text": [
      "bu\n",
      "[-0.          0.         -0.         -0.          0.          0.00028093\n",
      "  0.         -0.         -0.         -0.         -0.         -0.\n",
      " -0.         -0.          0.         -0.         -0.         -0.\n",
      "  0.         -0.         -0.00014268  0.         -0.         -0.\n",
      " -0.         -0.         -0.         -0.         -0.         -0.\n",
      " -0.         -0.          0.          0.         -0.         -0.\n",
      " -0.00312223 -0.         -0.         -0.000466    0.          0.\n",
      "  0.          0.          0.        ]\n",
      "ru\n",
      "[-0.00000000e+00 -0.00000000e+00  0.00000000e+00 -0.00000000e+00\n",
      " -0.00000000e+00 -0.00000000e+00 -0.00000000e+00 -0.00000000e+00\n",
      " -0.00000000e+00 -0.00000000e+00 -0.00000000e+00  0.00000000e+00\n",
      " -0.00000000e+00 -0.00000000e+00 -0.00000000e+00 -0.00000000e+00\n",
      " -0.00000000e+00 -0.00000000e+00 -0.00000000e+00 -0.00000000e+00\n",
      "  0.00000000e+00 -0.00000000e+00 -0.00000000e+00 -0.00000000e+00\n",
      " -0.00000000e+00 -0.00000000e+00 -0.00000000e+00 -0.00000000e+00\n",
      " -0.00000000e+00  0.00000000e+00 -0.00000000e+00 -5.03244122e-18\n",
      " -0.00000000e+00 -0.00000000e+00 -0.00000000e+00 -0.00000000e+00\n",
      " -0.00000000e+00  0.00000000e+00  0.00000000e+00 -0.00000000e+00\n",
      " -0.00000000e+00  0.00000000e+00  0.00000000e+00  0.00000000e+00\n",
      " -0.00000000e+00]\n",
      "v\n",
      "[-0.00000000e+00 -0.00000000e+00 -0.00000000e+00 -0.00000000e+00\n",
      "  0.00000000e+00  0.00000000e+00 -0.00000000e+00  0.00000000e+00\n",
      "  0.00000000e+00 -0.00000000e+00 -0.00000000e+00 -4.95871257e-05\n",
      " -0.00000000e+00 -0.00000000e+00 -0.00000000e+00 -1.05513632e-05\n",
      " -0.00000000e+00 -0.00000000e+00 -0.00000000e+00 -0.00000000e+00\n",
      " -0.00000000e+00 -1.23751477e-04 -0.00000000e+00 -0.00000000e+00\n",
      " -0.00000000e+00  0.00000000e+00 -0.00000000e+00 -0.00000000e+00\n",
      " -0.00000000e+00 -0.00000000e+00 -0.00000000e+00 -0.00000000e+00\n",
      " -0.00000000e+00 -0.00000000e+00  0.00000000e+00 -0.00000000e+00\n",
      " -0.00000000e+00 -0.00000000e+00 -0.00000000e+00 -0.00000000e+00\n",
      " -0.00000000e+00  0.00000000e+00 -0.00000000e+00  0.00000000e+00\n",
      "  0.00000000e+00]\n",
      "pp\n",
      "[-0.         -0.          0.         -0.         -0.00045084  0.00041099\n",
      "  0.         -0.00048305 -0.          0.          0.          0.\n",
      " -0.         -0.          0.          0.          0.          0.\n",
      "  0.          0.          0.00010022 -0.00090364  0.          0.\n",
      "  0.          0.          0.         -0.0019194   0.          0.\n",
      " -0.02043752 -0.00813387  0.         -0.         -0.         -0.\n",
      "  0.00099038  0.00730087  0.          0.00960805 -0.          0.\n",
      "  0.01218664 -0.         -0.        ]\n",
      "l\n",
      "[ 0.  0.  0. -0. -0.  0.  0.  0.  0.  0.  0.  0. -0. -0.  0.  0.  0.  0.\n",
      "  0.  0.  0. -0. -0.  0.  0.  0.  0.  0.  0.  0. -0.  0.  0.  0.  0.  0.\n",
      " -0. -0.  0. -0. -0. -0. -0.  0.  0.]\n",
      "jd\n",
      "[-0.00717509 -0.          0.         -0.          0.          0.\n",
      "  0.         -0.          0.         -0.         -0.          0.\n",
      " -0.         -0.          0.          0.          0.          0.\n",
      "  0.         -0.          0.          0.         -0.          0.\n",
      "  0.          0.          0.         -0.          0.          0.\n",
      " -0.          0.          0.          0.          0.          0.\n",
      " -0.          0.          0.         -0.          0.          0.\n",
      "  0.          0.          0.        ]\n"
     ]
    }
   ],
   "source": [
    "coef_list=dict([])\n",
    "y_signal= \"ret.\" + str(period)+\".004\"\n",
    "for product in product_list:\n",
    "    train_mat = load(HEAD_PATH+\"/train test mat/\"+product+\".train.mat.pkl\")\n",
    "    x_train = train_mat.iloc[:, :n_signal].values\n",
    "    y_train = train_mat.loc[:, y_signal].values\n",
    "    scaler =  StandardScaler(copy=True, with_mean=True, with_std=True)\n",
    "    scaler.fit(x_train)\n",
    "    x_std = np.sqrt(scaler.var_)\n",
    "    y_std = np.std(y_train)\n",
    "    x_train_normal = scaler.transform(x_train)\n",
    "    model = ElasticNetCV(n_alphas=100, l1_ratio=0.5, fit_intercept=False, cv=10, max_iter=10000).fit(x_train_normal, y_train/y_std)\n",
    "    coef = model.coef_/x_std*y_std\n",
    "    print(product)\n",
    "    print(coef)\n",
    "    coef_list[product] = coef\n",
    "\n",
    "# bu\n",
    "# [-0.          0.         -0.         -0.          0.          0.00028093\n",
    "#   0.         -0.         -0.         -0.         -0.         -0.\n",
    "#  -0.         -0.          0.         -0.         -0.         -0.\n",
    "#   0.         -0.         -0.00014268  0.         -0.         -0.\n",
    "#  -0.         -0.         -0.         -0.         -0.         -0.\n",
    "#  -0.         -0.          0.          0.         -0.         -0.\n",
    "#  -0.00312223 -0.         -0.         -0.000466    0.          0.\n",
    "#   0.          0.          0.        ]\n",
    "# ru\n",
    "# [-0.00000000e+00 -0.00000000e+00  0.00000000e+00 -0.00000000e+00\n",
    "#  -0.00000000e+00 -0.00000000e+00 -0.00000000e+00 -0.00000000e+00\n",
    "#  -0.00000000e+00 -0.00000000e+00 -0.00000000e+00  0.00000000e+00\n",
    "#  -0.00000000e+00 -0.00000000e+00 -0.00000000e+00 -0.00000000e+00\n",
    "#  -0.00000000e+00 -0.00000000e+00 -0.00000000e+00 -0.00000000e+00\n",
    "#   0.00000000e+00 -0.00000000e+00 -0.00000000e+00 -0.00000000e+00\n",
    "#  -0.00000000e+00 -0.00000000e+00 -0.00000000e+00 -0.00000000e+00\n",
    "#  -0.00000000e+00  0.00000000e+00 -0.00000000e+00 -5.03244122e-18\n",
    "#  -0.00000000e+00 -0.00000000e+00 -0.00000000e+00 -0.00000000e+00\n",
    "#  -0.00000000e+00  0.00000000e+00  0.00000000e+00 -0.00000000e+00\n",
    "#  -0.00000000e+00  0.00000000e+00  0.00000000e+00  0.00000000e+00\n",
    "#  -0.00000000e+00]\n",
    "# v\n",
    "# [-0.00000000e+00 -0.00000000e+00 -0.00000000e+00 -0.00000000e+00\n",
    "#   0.00000000e+00  0.00000000e+00 -0.00000000e+00  0.00000000e+00\n",
    "#   0.00000000e+00 -0.00000000e+00 -0.00000000e+00 -4.95871257e-05\n",
    "#  -0.00000000e+00 -0.00000000e+00 -0.00000000e+00 -1.05513632e-05\n",
    "#  -0.00000000e+00 -0.00000000e+00 -0.00000000e+00 -0.00000000e+00\n",
    "#  -0.00000000e+00 -1.23751477e-04 -0.00000000e+00 -0.00000000e+00\n",
    "#  -0.00000000e+00  0.00000000e+00 -0.00000000e+00 -0.00000000e+00\n",
    "#  -0.00000000e+00 -0.00000000e+00 -0.00000000e+00 -0.00000000e+00\n",
    "#  -0.00000000e+00 -0.00000000e+00  0.00000000e+00 -0.00000000e+00\n",
    "#  -0.00000000e+00 -0.00000000e+00 -0.00000000e+00 -0.00000000e+00\n",
    "#  -0.00000000e+00  0.00000000e+00 -0.00000000e+00  0.00000000e+00\n",
    "#   0.00000000e+00]\n",
    "# pp\n",
    "# [-0.         -0.          0.         -0.         -0.00045084  0.00041099\n",
    "#   0.         -0.00048305 -0.          0.          0.          0.\n",
    "#  -0.         -0.          0.          0.          0.          0.\n",
    "#   0.          0.          0.00010022 -0.00090364  0.          0.\n",
    "#   0.          0.          0.         -0.0019194   0.          0.\n",
    "#  -0.02043752 -0.00813387  0.         -0.         -0.         -0.\n",
    "#   0.00099038  0.00730087  0.          0.00960805 -0.          0.\n",
    "#   0.01218664 -0.         -0.        ]\n",
    "# l\n",
    "# [ 0.  0.  0. -0. -0.  0.  0.  0.  0.  0.  0.  0. -0. -0.  0.  0.  0.  0.\n",
    "#   0.  0.  0. -0. -0.  0.  0.  0.  0.  0.  0.  0. -0.  0.  0.  0.  0.  0.\n",
    "#  -0. -0.  0. -0. -0. -0. -0.  0.  0.]\n",
    "# jd\n",
    "# [-0.00717509 -0.          0.         -0.          0.          0.\n",
    "#   0.         -0.          0.         -0.         -0.          0.\n",
    "#  -0.         -0.          0.          0.          0.          0.\n",
    "#   0.         -0.          0.          0.         -0.          0.\n",
    "#   0.          0.          0.         -0.          0.          0.\n",
    "#  -0.          0.          0.          0.          0.          0.\n",
    "#  -0.          0.          0.         -0.          0.          0.\n",
    "#   0.          0.          0.        ]"
   ]
  },
  {
   "cell_type": "code",
   "execution_count": 48,
   "metadata": {},
   "outputs": [],
   "source": [
    "save(coef_list, SAVE_PATH+\"/energy.coef.elastic.004.pkl\")"
   ]
  },
  {
   "cell_type": "code",
   "execution_count": 49,
   "metadata": {},
   "outputs": [],
   "source": [
    "strat = \"elastic.004.\"+str(period)\n",
    "for product in product_list:\n",
    "    os.makedirs(\"e:/intern\"+\"/tmp pkl/\"+product+\"/\"+strat, exist_ok=True)"
   ]
  },
  {
   "cell_type": "code",
   "execution_count": 41,
   "metadata": {},
   "outputs": [
    {
     "name": "stdout",
     "output_type": "stream",
     "text": [
      "bu\n",
      "ru\n",
      "v\n",
      "pp\n",
      "l\n",
      "jd\n",
      "Wall time: 1h 26min 57s\n"
     ]
    }
   ],
   "source": [
    "%%time\n",
    "for product in product_list:\n",
    "    print(product)\n",
    "    coef = coef_list[product]\n",
    "    parLapply(CORE_NUM, all_dates, par_get_daily_pred, \n",
    "              product=product, coef=coef, strat=strat, HEAD_PATH=\"e:/intern\")\n",
    "    \n",
    "# bu\n",
    "# ru\n",
    "# v\n",
    "# pp\n",
    "# l\n",
    "# jd\n",
    "# Wall time: 1h 26min 57s\n"
   ]
  },
  {
   "cell_type": "code",
   "execution_count": 42,
   "metadata": {},
   "outputs": [
    {
     "name": "stdout",
     "output_type": "stream",
     "text": [
      "Wall time: 5min 30s\n"
     ]
    }
   ],
   "source": [
    "%%time\n",
    "for product in product_list:\n",
    "    par_get_all_signal(strat, all_dates, product, 4096, SAVE_PATH=\"e:/intern\")\n",
    "    \n",
    "# Wall time: 5min 30s"
   ]
  },
  {
   "cell_type": "code",
   "execution_count": 43,
   "metadata": {},
   "outputs": [
    {
     "name": "stdout",
     "output_type": "stream",
     "text": [
      "reverse=1\n",
      "reverse=1\n",
      "reverse=1\n",
      "reverse=1\n",
      "reverse=1\n",
      "reverse=1\n",
      "Wall time: 9min 53s\n"
     ]
    }
   ],
   "source": [
    "%%time\n",
    "SAVE_PATH = \"e:/intern\"\n",
    "for product in product_list:\n",
    "    spread = product_info[product][\"spread\"]\n",
    "    tranct = product_info[product][\"tranct\"]\n",
    "    tranct_ratio = product_info[product][\"tranct.ratio\"]\n",
    "    evaluate_signal(\"elastic.004\", all_dates, product, 2, 20, \n",
    "                    CORE_NUM, HEAD_PATH, SAVE_PATH, period=4096, split_str=split_str, tranct=tranct, \n",
    "                    max_spread=spread*1.1, tranct_ratio=tranct_ratio, atr_filter=0.01, save_path=\"signal result atr\",reverse=1)\n",
    "    \n",
    "# reverse=1\n",
    "# reverse=1\n",
    "# reverse=1\n",
    "# reverse=1\n",
    "# reverse=1\n",
    "# reverse=1\n",
    "# Wall time: 9min 53s\n",
    "\n",
    "\n"
   ]
  },
  {
   "cell_type": "code",
   "execution_count": 44,
   "metadata": {},
   "outputs": [
    {
     "name": "stdout",
     "output_type": "stream",
     "text": [
      "bu train sharpe  1.2838466615091977 test sharpe  0.7046660841094488\n",
      "ru train sharpe  0.7172191381865639 test sharpe  -0.8829842668333061\n",
      "v train sharpe  1.3027317706594796 test sharpe  -0.7916480320284239\n",
      "pp train sharpe  0.7664271578337857 test sharpe  0.524120734878861\n",
      "train sharpe:  1.8855353878206873 test sharpe:  -0.37399263291179863\n"
     ]
    },
    {
     "data": {
      "image/png": "[encoded data removed]",
      "text/plain": [
       "<Figure size 1152x720 with 1 Axes>"
      ]
     },
     "metadata": {
      "needs_background": "light"
     },
     "output_type": "display_data"
    }
   ],
   "source": [
    "i = 0\n",
    "strat = \"elastic.004.4096\"\n",
    "test_all_pnl = np.zeros([sum(test_sample), len(product_list)])\n",
    "train_all_pnl = np.zeros([sum(train_sample), len(product_list)])\n",
    "min_pnl = 2\n",
    "min_num = 0\n",
    "for product in product_list[:4]:\n",
    "    spread = product_info[product][\"spread\"]\n",
    "    signal_stat = load(HEAD_PATH+\"/signal result atr/\"+product+\".\"+strat+\".trend.pkl\")\n",
    "    train_stat = signal_stat[\"train.stat\"]\n",
    "    good_strat = (train_stat[\"final.result\"][\"avg.pnl\"]>min_pnl*spread) & (train_stat[\"final.result\"][\"num\"]>min_num)\n",
    "    if sum(good_strat)==0:\n",
    "        continue\n",
    "    train_pnl = train_stat[\"daily.ret\"].loc[:, good_strat].sum(axis=1)/sum(good_strat)\n",
    "    test_stat = signal_stat[\"test.stat\"]\n",
    "    test_pnl = test_stat[\"daily.ret\"].loc[:, good_strat].sum(axis=1)/sum(good_strat)\n",
    "    print(product, \"train sharpe \", sharpe(train_pnl), \"test sharpe \", sharpe(test_pnl))\n",
    "    test_all_pnl[:,i] = test_pnl\n",
    "    train_all_pnl[:,i] = train_pnl\n",
    "    i = i+1\n",
    "train_portfolio = np.array(np.mean(train_all_pnl, axis=1))\n",
    "test_portfolio = np.array(np.mean(test_all_pnl, axis=1))\n",
    "all_portfolio = np.append(train_portfolio, test_portfolio)\n",
    "plt.figure(1, figsize=(16, 10));\n",
    "plt.title(\"\");\n",
    "plt.xlabel(\"date\");\n",
    "plt.ylabel(\"pnl\");\n",
    "plt.title(\"portfolio\");\n",
    "plt.plot(format_dates, all_portfolio.cumsum());\n",
    "plt.plot(format_dates[test_sample], all_portfolio.cumsum()[test_sample])\n",
    "print(\"train sharpe: \", sharpe(train_portfolio), \"test sharpe: \", sharpe(test_portfolio))   \n",
    "\n",
    "# bu train sharpe  1.2838466615091977 test sharpe  0.7046660841094488\n",
    "# ru train sharpe  0.7172191381865639 test sharpe  -0.8829842668333061\n",
    "# v train sharpe  1.3027317706594796 test sharpe  -0.7916480320284239\n",
    "# pp train sharpe  0.7664271578337857 test sharpe  0.524120734878861\n",
    "# train sharpe:  1.8855353878206873 test sharpe:  -0.37399263291179863\n",
    "\n"
   ]
  },
  {
   "cell_type": "markdown",
   "metadata": {},
   "source": [
    "- output to txt file"
   ]
  },
  {
   "cell_type": "code",
   "execution_count": 45,
   "metadata": {},
   "outputs": [],
   "source": [
    "os.makedirs(\"d:/intern/input\", exist_ok=True)\n",
    "np.set_printoptions(suppress=True)"
   ]
  },
  {
   "cell_type": "code",
   "execution_count": 46,
   "metadata": {},
   "outputs": [],
   "source": [
    "for product in product_list:\n",
    "    file_name = \"d:/intern/input/\"+product+\".signal.txt\"\n",
    "    fo = open(file_name, \"w\")\n",
    "    fo.writelines(\"signal coef\\n\")\n",
    "    chosen_signal = coef_list[product]!=0\n",
    "    for i in np.where(chosen_signal)[0]:\n",
    "        fo.writelines(signal_list[i]+\" \"+str(coef_list[product][i])+\"\\n\")\n",
    "    fo.close()"
   ]
  },
  {
   "cell_type": "code",
   "execution_count": null,
   "metadata": {},
   "outputs": [],
   "source": []
  },
  {
   "cell_type": "code",
   "execution_count": null,
   "metadata": {},
   "outputs": [],
   "source": []
  }
 ],
 "metadata": {
  "kernelspec": {
   "display_name": "Python 3 (ipykernel)",
   "language": "python",
   "name": "python3"
  },
  "language_info": {
   "codemirror_mode": {
    "name": "ipython",
    "version": 3
   },
   "file_extension": ".py",
   "mimetype": "text/x-python",
   "name": "python",
   "nbconvert_exporter": "python",
   "pygments_lexer": "ipython3",
   "version": "3.8.12"
  }
 },
 "nbformat": 4,
 "nbformat_minor": 2
}
