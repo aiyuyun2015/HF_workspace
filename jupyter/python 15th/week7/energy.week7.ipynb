{
 "cells": [
  {
   "cell_type": "markdown",
   "metadata": {},
   "source": [
    "- in our original agenda this week we try different covariance estimation method\n",
    "- but I think we'd better go directly to regression model\n",
    "- then we can save some time for further more complicate machine learning models\n",
    "\n",
    "\n",
    "- this week we focus on the most simple linear regression without regularization"
   ]
  },
  {
   "cell_type": "code",
   "execution_count": 1,
   "metadata": {},
   "outputs": [
    {
     "data": {
      "text/plain": [
       "<module 'stats' from 'C:\\\\Users\\\\dell\\\\stats.py'>"
      ]
     },
     "execution_count": 1,
     "metadata": {},
     "output_type": "execute_result"
    }
   ],
   "source": [
    "from helper import *\n",
    "from stats import *\n",
    "from imp import reload   \n",
    "import helper\n",
    "import stats\n",
    "import  sklearn.preprocessing\n",
    "reload(helper)\n",
    "reload(stats)\n"
   ]
  },
  {
   "cell_type": "code",
   "execution_count": 2,
   "metadata": {},
   "outputs": [
    {
     "data": {
      "text/plain": [
       "16"
      ]
     },
     "execution_count": 2,
     "metadata": {},
     "output_type": "execute_result"
    }
   ],
   "source": [
    "CORE_NUM = int(os.environ['NUMBER_OF_PROCESSORS'])\n",
    "CORE_NUM "
   ]
  },
  {
   "cell_type": "markdown",
   "metadata": {},
   "source": [
    "- number of cores, set this number according to your computer"
   ]
  },
  {
   "cell_type": "code",
   "execution_count": 3,
   "metadata": {},
   "outputs": [],
   "source": [
    "import warnings\n",
    " \n",
    "warnings.filterwarnings('ignore')"
   ]
  },
  {
   "cell_type": "markdown",
   "metadata": {},
   "source": [
    "- sample period"
   ]
  },
  {
   "cell_type": "code",
   "execution_count": 4,
   "metadata": {},
   "outputs": [],
   "source": [
    "period = 4096\n",
    "product_list = [\"bu\", \"ru\", \"v\", \"pp\", \"l\", \"jd\"]"
   ]
  },
  {
   "cell_type": "markdown",
   "metadata": {},
   "source": [
    "- get all of the days"
   ]
  },
  {
   "cell_type": "code",
   "execution_count": 5,
   "metadata": {},
   "outputs": [],
   "source": [
    "import dask\n",
    "from dask import compute, delayed"
   ]
  },
  {
   "cell_type": "code",
   "execution_count": 6,
   "metadata": {},
   "outputs": [
    {
     "data": {
      "text/plain": [
       "1066"
      ]
     },
     "execution_count": 6,
     "metadata": {},
     "output_type": "execute_result"
    }
   ],
   "source": [
    "all_dates = os.listdir(DATA_PATH + product_list[0])\n",
    "all_dates.sort()\n",
    "all_dates = np.array(all_dates)\n",
    "n_days = len(all_dates)\n",
    "n_days\n",
    "## 1066"
   ]
  },
  {
   "cell_type": "code",
   "execution_count": 15,
   "metadata": {},
   "outputs": [],
   "source": [
    "SAVE_PATH = \"e:/intern\"\n",
    "split_date = \"201910\"\n",
    "train_sample = all_dates<split_date\n",
    "test_sample = all_dates>split_date\n",
    "date_str = [n[0:8] for n in all_dates]\n",
    "format_dates = np.array([pd.to_datetime(d) for d in date_str])"
   ]
  },
  {
   "cell_type": "code",
   "execution_count": 16,
   "metadata": {},
   "outputs": [],
   "source": [
    "os.makedirs(HEAD_PATH+\"/all signal\", exist_ok=True)\n",
    "dire_signal_list = [\"trade.imb\", \"total.trade.imb\", \"nr\", \"dbook\", \"range.pos\", \"price.osci\", \"ma.dif.10\", \"kdj.k\", \"kdj.j\"]\n",
    "range_signal_list = [\"\", \"range\", \"std\", \"volume.open.ratio\", \"trend.index\"]\n",
    "all_signal_list = np.array([])\n",
    "for range_signal in range_signal_list:\n",
    "    for dire_signal in dire_signal_list:\n",
    "        if len(range_signal)==0:\n",
    "            signal_name = dire_signal\n",
    "        else:\n",
    "            signal_name = dire_signal+\".\"+range_signal\n",
    "        all_signal_list = np.append(all_signal_list,signal_name)\n",
    "signal_list = [signal+\".4096\" for signal in all_signal_list]"
   ]
  },
  {
   "cell_type": "code",
   "execution_count": 17,
   "metadata": {},
   "outputs": [
    {
     "data": {
      "text/plain": [
       "array(['trade.imb.4096', 'total.trade.imb.4096', 'nr.4096', 'dbook.4096',\n",
       "       'range.pos.4096', 'price.osci.4096', 'ma.dif.10.4096',\n",
       "       'kdj.k.4096', 'kdj.j.4096', 'trade.imb.range.4096',\n",
       "       'total.trade.imb.range.4096', 'nr.range.4096', 'dbook.range.4096',\n",
       "       'range.pos.range.4096', 'price.osci.range.4096',\n",
       "       'ma.dif.10.range.4096', 'kdj.k.range.4096', 'kdj.j.range.4096',\n",
       "       'trade.imb.std.4096', 'total.trade.imb.std.4096', 'nr.std.4096',\n",
       "       'dbook.std.4096', 'range.pos.std.4096', 'price.osci.std.4096',\n",
       "       'ma.dif.10.std.4096', 'kdj.k.std.4096', 'kdj.j.std.4096',\n",
       "       'trade.imb.volume.open.ratio.4096',\n",
       "       'total.trade.imb.volume.open.ratio.4096',\n",
       "       'nr.volume.open.ratio.4096', 'dbook.volume.open.ratio.4096',\n",
       "       'range.pos.volume.open.ratio.4096',\n",
       "       'price.osci.volume.open.ratio.4096',\n",
       "       'ma.dif.10.volume.open.ratio.4096', 'kdj.k.volume.open.ratio.4096',\n",
       "       'kdj.j.volume.open.ratio.4096', 'trade.imb.trend.index.4096',\n",
       "       'total.trade.imb.trend.index.4096', 'nr.trend.index.4096',\n",
       "       'dbook.trend.index.4096', 'range.pos.trend.index.4096',\n",
       "       'price.osci.trend.index.4096', 'ma.dif.10.trend.index.4096',\n",
       "       'kdj.k.trend.index.4096', 'kdj.j.trend.index.4096', 'ret.4096',\n",
       "       'ret.4096.001', 'ret.4096.002'], dtype='<U38')"
      ]
     },
     "execution_count": 17,
     "metadata": {},
     "output_type": "execute_result"
    }
   ],
   "source": [
    "np.append(signal_list, [\"ret.4096\", \"ret.4096.001\", \"ret.4096.002\"])"
   ]
  },
  {
   "cell_type": "code",
   "execution_count": 18,
   "metadata": {},
   "outputs": [],
   "source": [
    "data = load(DATA_PATH+product_list[0]+\"/\"+all_dates[9])"
   ]
  },
  {
   "cell_type": "markdown",
   "metadata": {},
   "source": [
    "- let's begin with week 7 "
   ]
  },
  {
   "cell_type": "markdown",
   "metadata": {},
   "source": [
    "- to build up a regression model, we need predictors and response variables\n",
    "- the previous signals can be predictors\n",
    "- now we need to create a response"
   ]
  },
  {
   "cell_type": "markdown",
   "metadata": {},
   "source": [
    "- for example, we can use future log returns as response"
   ]
  },
  {
   "cell_type": "markdown",
   "metadata": {},
   "source": [
    "- here fcum means the future sum of data\n",
    "- for example"
   ]
  },
  {
   "cell_type": "code",
   "execution_count": 19,
   "metadata": {},
   "outputs": [],
   "source": [
    "sample_y = fcum(data[\"ret\"], period)"
   ]
  },
  {
   "cell_type": "code",
   "execution_count": 20,
   "metadata": {},
   "outputs": [
    {
     "data": {
      "image/png": "[encoded data removed]",
      "text/plain": [
       "<Figure size 1152x720 with 1 Axes>"
      ]
     },
     "metadata": {
      "needs_background": "light"
     },
     "output_type": "display_data"
    }
   ],
   "source": [
    "plt.figure(1, figsize=(16, 10))\n",
    "plt.plot(sample_y[data[\"good\"]].values);"
   ]
  },
  {
   "cell_type": "code",
   "execution_count": 21,
   "metadata": {
    "scrolled": true
   },
   "outputs": [
    {
     "data": {
      "text/plain": [
       "2.4167595235045645"
      ]
     },
     "execution_count": 21,
     "metadata": {},
     "output_type": "execute_result"
    }
   ],
   "source": [
    "kurtosis(sample_y[data[\"good\"]], fisher=False)\n",
    "## 2.4167595235045645"
   ]
  },
  {
   "cell_type": "markdown",
   "metadata": {},
   "source": [
    "- the response has quite high kurtosis, it means the response has fat tails\n",
    "\n",
    "\n",
    "- we can check the result"
   ]
  },
  {
   "cell_type": "code",
   "execution_count": 22,
   "metadata": {
    "scrolled": true
   },
   "outputs": [
    {
     "data": {
      "text/plain": [
       "0.0029664353958853643"
      ]
     },
     "execution_count": 22,
     "metadata": {},
     "output_type": "execute_result"
    }
   ],
   "source": [
    "np.sum(data[\"ret\"][3000:(3000+period)])\n",
    "## 0.0029664353958853643"
   ]
  },
  {
   "cell_type": "code",
   "execution_count": 23,
   "metadata": {},
   "outputs": [
    {
     "data": {
      "text/plain": [
       "0.0029664353958853635"
      ]
     },
     "execution_count": 23,
     "metadata": {},
     "output_type": "execute_result"
    }
   ],
   "source": [
    "sample_y[2999]\n",
    "## 0.0029664353958853635"
   ]
  },
  {
   "cell_type": "markdown",
   "metadata": {},
   "source": [
    "- so fcum means future sume, and ys is the future price return"
   ]
  },
  {
   "cell_type": "markdown",
   "metadata": {},
   "source": [
    "- now we create directory for this response signal"
   ]
  },
  {
   "cell_type": "code",
   "execution_count": 24,
   "metadata": {},
   "outputs": [],
   "source": [
    "## calculate future return\n",
    "class foctor_ret_period(factor_template):\n",
    "    factor_name = \"ret.period\"\n",
    "    \n",
    "    params = OrderedDict([\n",
    "        (\"period\", np.power(2, range(12,13)))\n",
    "    ])\n",
    "    \n",
    "    def formula(self, data, period):\n",
    "        return fcum(data[\"ret\"],period).values\n",
    "    \n",
    "y = foctor_ret_period()\n",
    "\n"
   ]
  },
  {
   "cell_type": "code",
   "execution_count": 25,
   "metadata": {},
   "outputs": [
    {
     "name": "stdout",
     "output_type": "stream",
     "text": [
      "e:/intern/tmp pkl/bu/ret.4096\n",
      "e:/intern/tmp pkl/ru/ret.4096\n",
      "e:/intern/tmp pkl/v/ret.4096\n",
      "e:/intern/tmp pkl/pp/ret.4096\n",
      "e:/intern/tmp pkl/l/ret.4096\n",
      "e:/intern/tmp pkl/jd/ret.4096\n"
     ]
    }
   ],
   "source": [
    "for product in product_list:\n",
    "    create_signal_path(y, product,SAVE_PATH);"
   ]
  },
  {
   "cell_type": "code",
   "execution_count": 26,
   "metadata": {},
   "outputs": [
    {
     "name": "stdout",
     "output_type": "stream",
     "text": [
      "Wall time: 6min 57s\n"
     ]
    },
    {
     "data": {
      "text/plain": [
       "''"
      ]
     },
     "execution_count": 26,
     "metadata": {},
     "output_type": "execute_result"
    }
   ],
   "source": [
    "%%time\n",
    "for product in product_list:\n",
    "    file_list = list(map(lambda x: DATA_PATH+product+\"/\"+x, os.listdir(DATA_PATH + product)))\n",
    "    parLapply(CORE_NUM, file_list, build_composite_signal,signal_list=y, product=product, HEAD_PATH=SAVE_PATH)\n",
    ";\n",
    "# Wall time: 6min 57s\n",
    "\n"
   ]
  },
  {
   "cell_type": "markdown",
   "metadata": {},
   "source": [
    "- now let's see how it looks like"
   ]
  },
  {
   "cell_type": "code",
   "execution_count": 27,
   "metadata": {},
   "outputs": [],
   "source": [
    "SAVE_PATH = \"e:/intern\""
   ]
  },
  {
   "cell_type": "code",
   "execution_count": 28,
   "metadata": {},
   "outputs": [
    {
     "name": "stdout",
     "output_type": "stream",
     "text": [
      "Wall time: 3min 11s\n"
     ]
    }
   ],
   "source": [
    "%%time\n",
    "for product in product_list:\n",
    "    parLapply(CORE_NUM, [\"ret.4096\"], par_get_all_signal, file_list=all_dates, product=product, period=4096, SAVE_PATH = SAVE_PATH);\n",
    "\n",
    "# Wall time: 3min 11s"
   ]
  },
  {
   "cell_type": "code",
   "execution_count": 29,
   "metadata": {},
   "outputs": [],
   "source": [
    "all_signal = load(SAVE_PATH+\"/all signal/\"+ product_list[0]+ \".ret.\"+str(period)+\".pkl\")"
   ]
  },
  {
   "cell_type": "markdown",
   "metadata": {},
   "source": [
    "- plot the signal"
   ]
  },
  {
   "cell_type": "code",
   "execution_count": 30,
   "metadata": {},
   "outputs": [
    {
     "data": {
      "image/png": "[encoded data removed]",
      "text/plain": [
       "<Figure size 1152x720 with 1 Axes>"
      ]
     },
     "metadata": {
      "needs_background": "light"
     },
     "output_type": "display_data"
    }
   ],
   "source": [
    "plt.figure(1, figsize=(16, 10))\n",
    "plt.plot(all_signal);"
   ]
  },
  {
   "cell_type": "markdown",
   "metadata": {},
   "source": [
    "- check the statistics of the signal"
   ]
  },
  {
   "cell_type": "code",
   "execution_count": 31,
   "metadata": {},
   "outputs": [
    {
     "name": "stdout",
     "output_type": "stream",
     "text": [
      "kurtosis= 15.20132738777957  skew= -0.49871076071334847\n"
     ]
    }
   ],
   "source": [
    "print(\"kurtosis=\", kurtosis(all_signal, fisher=False), \" skew=\", skew(all_signal))\n",
    "## kurtosis= 15.20132738777957  skew= -0.49871076071334847\n",
    "\n",
    "## we can see it has very fat tails\n",
    "## usually we don't adjust for response because we want to profit from the fat tails"
   ]
  },
  {
   "cell_type": "markdown",
   "metadata": {},
   "source": [
    "- let's try some vanish signal"
   ]
  },
  {
   "cell_type": "code",
   "execution_count": 32,
   "metadata": {},
   "outputs": [
    {
     "name": "stdout",
     "output_type": "stream",
     "text": [
      "kurtosis= 10.042842937414168  skew= -0.3627842004677021\n"
     ]
    },
    {
     "data": {
      "image/png": "[encoded data removed]",
      "text/plain": [
       "<Figure size 1152x720 with 1 Axes>"
      ]
     },
     "metadata": {
      "needs_background": "light"
     },
     "output_type": "display_data"
    }
   ],
   "source": [
    "all_signal = load(SAVE_PATH+\"/all signal/\"+ product_list[0]+ \".ret.\"+str(period)+\".pkl\")\n",
    "vanish_signal = vanish_thre(all_signal, 0.041)\n",
    "print(\"kurtosis=\", kurtosis(vanish_signal, fisher=False), \" skew=\", skew(vanish_signal))\n",
    "## kurtosis= 10.042842937414168  skew= -0.3627842004677021\n",
    "\n",
    "plt.figure(1, figsize=(16, 10))\n",
    "plt.plot(vanish_signal);"
   ]
  },
  {
   "cell_type": "code",
   "execution_count": 33,
   "metadata": {},
   "outputs": [
    {
     "name": "stdout",
     "output_type": "stream",
     "text": [
      "kurtosis= 5.653946862916019  skew= -0.060498921311801575\n"
     ]
    },
    {
     "data": {
      "image/png": "[encoded data removed]",
      "text/plain": [
       "<Figure size 1152x720 with 1 Axes>"
      ]
     },
     "metadata": {
      "needs_background": "light"
     },
     "output_type": "display_data"
    }
   ],
   "source": [
    "all_signal = load(SAVE_PATH+\"/all signal/\"+ product_list[0]+ \".ret.\"+str(period)+\".pkl\")\n",
    "vanish_signal = vanish_thre(all_signal, 0.021)\n",
    "print(\"kurtosis=\", kurtosis(vanish_signal, fisher=False), \" skew=\", skew(vanish_signal))\n",
    "plt.figure(1, figsize=(16, 10))\n",
    "plt.plot(vanish_signal);\n",
    "## kurtosis= 5.653946862916019  skew= -0.060498921311801575"
   ]
  },
  {
   "cell_type": "code",
   "execution_count": 34,
   "metadata": {},
   "outputs": [
    {
     "name": "stdout",
     "output_type": "stream",
     "text": [
      "kurtosis= 3.601558948948569  skew= -0.015095188599431958\n"
     ]
    },
    {
     "data": {
      "image/png": "[encoded data removed]",
      "text/plain": [
       "<Figure size 1152x720 with 1 Axes>"
      ]
     },
     "metadata": {
      "needs_background": "light"
     },
     "output_type": "display_data"
    }
   ],
   "source": [
    "all_signal = load(SAVE_PATH+\"/all signal/\"+ product_list[0]+ \".ret.\"+str(period)+\".pkl\")\n",
    "vanish_signal = vanish_thre(all_signal, 0.011)\n",
    "print(\"kurtosis=\", kurtosis(vanish_signal, fisher=False), \" skew=\", skew(vanish_signal))\n",
    "plt.figure(1, figsize=(16, 10))\n",
    "plt.plot(vanish_signal);\n",
    "## kurtosis= 3.601558948948569  skew= -0.015095188599431958\n",
    "\n",
    "\n"
   ]
  },
  {
   "cell_type": "markdown",
   "metadata": {},
   "source": [
    "- it seems 0.01 fits our previous standard for predictive signals\n",
    "- but now we works for response so there may be some differences\n",
    "\n",
    "\n",
    "- let's create signals with vanish as well\n",
    "- our function can support only one parameter so we create twice"
   ]
  },
  {
   "cell_type": "code",
   "execution_count": 35,
   "metadata": {},
   "outputs": [],
   "source": [
    "class foctor_ret_period_004(factor_template):\n",
    "    factor_name = \"ret.period.004\"\n",
    "    \n",
    "    params = OrderedDict([\n",
    "        (\"period\", np.power(2, range(12,13)))\n",
    "    ])\n",
    "    \n",
    "    def formula(self, data, period):\n",
    "        return vanish_thre(fcum(data[\"ret\"],period), 0.041).values\n",
    "    \n",
    "y4 = foctor_ret_period_004()\n",
    "\n"
   ]
  },
  {
   "cell_type": "code",
   "execution_count": 36,
   "metadata": {},
   "outputs": [],
   "source": [
    "class foctor_ret_period_002(factor_template):\n",
    "    factor_name = \"ret.period.002\"\n",
    "    \n",
    "    params = OrderedDict([\n",
    "        (\"period\", np.power(2, range(12,13)))\n",
    "    ])\n",
    "    \n",
    "    def formula(self, data, period):\n",
    "        return vanish_thre(fcum(data[\"ret\"],period), 0.021).values\n",
    "    \n",
    "y2 = foctor_ret_period_002()\n",
    "\n"
   ]
  },
  {
   "cell_type": "code",
   "execution_count": 37,
   "metadata": {},
   "outputs": [
    {
     "name": "stdout",
     "output_type": "stream",
     "text": [
      "e:/intern/tmp pkl/bu/ret.4096.004\n",
      "e:/intern/tmp pkl/ru/ret.4096.004\n",
      "e:/intern/tmp pkl/v/ret.4096.004\n",
      "e:/intern/tmp pkl/pp/ret.4096.004\n",
      "e:/intern/tmp pkl/l/ret.4096.004\n",
      "e:/intern/tmp pkl/jd/ret.4096.004\n"
     ]
    }
   ],
   "source": [
    "for product in product_list:\n",
    "    create_signal_path(y4, product, SAVE_PATH)"
   ]
  },
  {
   "cell_type": "code",
   "execution_count": 38,
   "metadata": {},
   "outputs": [
    {
     "name": "stdout",
     "output_type": "stream",
     "text": [
      "e:/intern/tmp pkl/bu/ret.4096.002\n",
      "e:/intern/tmp pkl/ru/ret.4096.002\n",
      "e:/intern/tmp pkl/v/ret.4096.002\n",
      "e:/intern/tmp pkl/pp/ret.4096.002\n",
      "e:/intern/tmp pkl/l/ret.4096.002\n",
      "e:/intern/tmp pkl/jd/ret.4096.002\n"
     ]
    }
   ],
   "source": [
    "for product in product_list:\n",
    "    create_signal_path(y2, product, SAVE_PATH)"
   ]
  },
  {
   "cell_type": "code",
   "execution_count": 39,
   "metadata": {
    "scrolled": true
   },
   "outputs": [
    {
     "name": "stdout",
     "output_type": "stream",
     "text": [
      "Wall time: 3min 58s\n"
     ]
    },
    {
     "data": {
      "text/plain": [
       "''"
      ]
     },
     "execution_count": 39,
     "metadata": {},
     "output_type": "execute_result"
    }
   ],
   "source": [
    "%%time\n",
    "for product in product_list:\n",
    "    file_list = list(map(lambda x: DATA_PATH+product+\"/\"+x, os.listdir(DATA_PATH + product)))\n",
    "    parLapply(CORE_NUM, file_list, build_composite_signal,signal_list=y4, product=product, HEAD_PATH=SAVE_PATH)\n",
    ";\n",
    "## Wall time: 3min 58s"
   ]
  },
  {
   "cell_type": "code",
   "execution_count": 40,
   "metadata": {},
   "outputs": [
    {
     "name": "stdout",
     "output_type": "stream",
     "text": [
      "Wall time: 3min 52s\n"
     ]
    },
    {
     "data": {
      "text/plain": [
       "''"
      ]
     },
     "execution_count": 40,
     "metadata": {},
     "output_type": "execute_result"
    }
   ],
   "source": [
    "%%time\n",
    "for product in product_list:\n",
    "    file_list = list(map(lambda x: DATA_PATH+product+\"/\"+x, os.listdir(DATA_PATH + product)))\n",
    "    parLapply(CORE_NUM, file_list, build_composite_signal,signal_list=y2, product=product, HEAD_PATH=SAVE_PATH)\n",
    ";\n",
    "## Wall time: 3min 52s"
   ]
  },
  {
   "cell_type": "code",
   "execution_count": 41,
   "metadata": {},
   "outputs": [],
   "source": [
    "class foctor_ret_period_001(factor_template):\n",
    "    factor_name = \"ret.period.001\"\n",
    "    \n",
    "    params = OrderedDict([\n",
    "        (\"period\", np.power(2, range(12,13)))\n",
    "    ])\n",
    "    \n",
    "    def formula(self, data, period):\n",
    "        return vanish_thre(fcum(data[\"ret\"],period), 0.011).values\n",
    "    \n",
    "y1 = foctor_ret_period_001()\n"
   ]
  },
  {
   "cell_type": "code",
   "execution_count": 42,
   "metadata": {},
   "outputs": [
    {
     "name": "stdout",
     "output_type": "stream",
     "text": [
      "e:/intern/tmp pkl/bu/ret.4096.001\n",
      "e:/intern/tmp pkl/ru/ret.4096.001\n",
      "e:/intern/tmp pkl/v/ret.4096.001\n",
      "e:/intern/tmp pkl/pp/ret.4096.001\n",
      "e:/intern/tmp pkl/l/ret.4096.001\n",
      "e:/intern/tmp pkl/jd/ret.4096.001\n"
     ]
    }
   ],
   "source": [
    "for product in product_list:\n",
    "    create_signal_path(y1, product, SAVE_PATH)"
   ]
  },
  {
   "cell_type": "code",
   "execution_count": 43,
   "metadata": {},
   "outputs": [
    {
     "name": "stdout",
     "output_type": "stream",
     "text": [
      "Wall time: 3min 50s\n"
     ]
    },
    {
     "data": {
      "text/plain": [
       "''"
      ]
     },
     "execution_count": 43,
     "metadata": {},
     "output_type": "execute_result"
    }
   ],
   "source": [
    "%%time\n",
    "for product in product_list:\n",
    "    file_list = list(map(lambda x: DATA_PATH+product+\"/\"+x, os.listdir(DATA_PATH + product)))\n",
    "    parLapply(CORE_NUM, file_list, build_composite_signal,signal_list=y1, product=product, HEAD_PATH=SAVE_PATH)\n",
    ";\n",
    "##Wall time: 3min 50s"
   ]
  },
  {
   "cell_type": "markdown",
   "metadata": {},
   "source": [
    "- now we have 3 response values: future return, future return cut off at 0.02, future return cut of at 0.01\n",
    "\n",
    "\n",
    "- let's see how they perform with predictive signals\n",
    "\n",
    "\n",
    "- at first we need to make sum changes \n",
    "- we can check the result"
   ]
  },
  {
   "cell_type": "code",
   "execution_count": 44,
   "metadata": {},
   "outputs": [
    {
     "data": {
      "text/plain": [
       "486"
      ]
     },
     "execution_count": 44,
     "metadata": {},
     "output_type": "execute_result"
    }
   ],
   "source": [
    "sum(train_sample)\n",
    "## 486"
   ]
  },
  {
   "cell_type": "code",
   "execution_count": 45,
   "metadata": {},
   "outputs": [
    {
     "data": {
      "text/plain": [
       "580"
      ]
     },
     "execution_count": 45,
     "metadata": {},
     "output_type": "execute_result"
    }
   ],
   "source": [
    "sum(test_sample)\n",
    "## 580"
   ]
  },
  {
   "cell_type": "markdown",
   "metadata": {},
   "source": [
    "- at first we fit a linear regression model without any regularization\n",
    "- we need to know the length of each day"
   ]
  },
  {
   "cell_type": "code",
   "execution_count": 46,
   "metadata": {},
   "outputs": [],
   "source": [
    "## coutn the number of signals of every day\n",
    "def count_daily_num(x, period):\n",
    "    data = load(x)\n",
    "    return np.floor(sum(data[\"good\"])/period)"
   ]
  },
  {
   "cell_type": "code",
   "execution_count": 47,
   "metadata": {},
   "outputs": [],
   "source": [
    "os.makedirs(HEAD_PATH+\"/daily num\", exist_ok=True)"
   ]
  },
  {
   "cell_type": "code",
   "execution_count": 48,
   "metadata": {},
   "outputs": [
    {
     "name": "stdout",
     "output_type": "stream",
     "text": [
      "Wall time: 2min 39s\n"
     ]
    }
   ],
   "source": [
    "%%time\n",
    "for product in product_list:\n",
    "    file_list = list(map(lambda x: DATA_PATH+product+\"/\"+x, os.listdir(DATA_PATH + product)))\n",
    "    daily_num = pd.Series(parLapply(CORE_NUM, file_list, count_daily_num, period=period))\n",
    "    save(daily_num, HEAD_PATH+\"/daily num/\"+product+\".pkl\")\n",
    "    \n",
    "# Wall time: 2min 39s"
   ]
  },
  {
   "cell_type": "markdown",
   "metadata": {},
   "source": [
    "- we don't need to do it every time"
   ]
  },
  {
   "cell_type": "code",
   "execution_count": 49,
   "metadata": {},
   "outputs": [],
   "source": [
    "daily_num = load(HEAD_PATH+\"/daily num/\"+product+\".pkl\")"
   ]
  },
  {
   "cell_type": "markdown",
   "metadata": {},
   "source": [
    "- we get the number of independent training samples"
   ]
  },
  {
   "cell_type": "code",
   "execution_count": 50,
   "metadata": {},
   "outputs": [
    {
     "data": {
      "text/plain": [
       "1563.0"
      ]
     },
     "execution_count": 50,
     "metadata": {},
     "output_type": "execute_result"
    }
   ],
   "source": [
    "n_train = sum(daily_num[train_sample])\n",
    "n_train\n",
    "## 1563.0"
   ]
  },
  {
   "cell_type": "markdown",
   "metadata": {},
   "source": [
    "- we can see there there are not many samples\n",
    "- but they are independent signals because we choose one sample out of every period samples\n",
    "- for every tick, we predict the price return of next 4096 ticks\n",
    "- so only 1/4096 of them are independent"
   ]
  },
  {
   "cell_type": "markdown",
   "metadata": {},
   "source": [
    "- number of signals"
   ]
  },
  {
   "cell_type": "code",
   "execution_count": 51,
   "metadata": {},
   "outputs": [
    {
     "data": {
      "text/plain": [
       "45"
      ]
     },
     "execution_count": 51,
     "metadata": {},
     "output_type": "execute_result"
    }
   ],
   "source": [
    "n_signal = len(signal_list)\n",
    "n_signal\n",
    "## 45"
   ]
  },
  {
   "cell_type": "code",
   "execution_count": 52,
   "metadata": {},
   "outputs": [],
   "source": [
    "## construct the signal matrix\n",
    "## we want to put multiple signals into a matrix\n",
    "def get_sample_signal(good_night_files, sample, product, signal_list, period, daily_num):\n",
    "    n_samples = sum(daily_num[sample]) ## tottal number of samples\n",
    "    n_days = sum(sample)  ## number of days\n",
    "    n_signal = len(signal_list) ## number of signals, the matrix would be n_samples*n_signal\n",
    "    all_signal =  np.ndarray(shape=(int(n_samples),n_signal))\n",
    "    cur = 0\n",
    "    for file in good_night_files[sample]:\n",
    "        #data = load(HEAD_PATH+\"/pkl tick/\"+product+\"/\"+file)\n",
    "        good = load(SAVE_PATH + \"/good pkl/\" + product +\"/\"+file)\n",
    "        chosen = (np.arange(sum(good))+1) % period==0\n",
    "        n_chosen = sum(chosen)\n",
    "        for i in range(n_signal):\n",
    "            signal_name = signal_list[i]\n",
    "            S = load(SAVE_PATH+\"/tmp pkl/\"+product+\"/\"+signal_name+\"/\"+file)\n",
    "            S = S[good]\n",
    "            signal = S[(np.arange(len(S))+1) % period == 0]\n",
    "            signal[np.isnan(signal)] = 0 ## the ret.cor has some bad records\n",
    "            signal[np.isinf(signal)] = 0 ## the ret.cor has some bad records\n",
    "            all_signal[cur:(cur+n_chosen),i] = signal\n",
    "        cur = cur+n_chosen\n",
    "    all_signal = pd.DataFrame(all_signal, columns=signal_list)\n",
    "    return all_signal"
   ]
  },
  {
   "cell_type": "markdown",
   "metadata": {},
   "source": [
    "- Now we get the train and test samples"
   ]
  },
  {
   "cell_type": "code",
   "execution_count": 53,
   "metadata": {},
   "outputs": [],
   "source": [
    "os.makedirs(HEAD_PATH+\"/train test mat/\", exist_ok=True)"
   ]
  },
  {
   "cell_type": "code",
   "execution_count": 54,
   "metadata": {},
   "outputs": [
    {
     "name": "stdout",
     "output_type": "stream",
     "text": [
      "bu\n",
      "ru\n",
      "v\n",
      "pp\n",
      "l\n",
      "jd\n",
      "Wall time: 1h 27min 49s\n"
     ]
    }
   ],
   "source": [
    "%%time\n",
    "for product in product_list:\n",
    "    print(product)\n",
    "    daily_num = load(HEAD_PATH+\"/daily num/\"+product+\".pkl\")\n",
    "    train_mat = get_sample_signal(all_dates, train_sample, product, \n",
    "                                  np.append(signal_list, [\"ret.\"+str(period),  \"ret.\"+str(period)+\".001\",\"ret.\"+str(period)+\".002\",\"ret.\"+str(period)+\".004\" ]), \n",
    "                                  period, daily_num)\n",
    "    os.makedirs(HEAD_PATH+\"/train test mat/\"+product, exist_ok=True)\n",
    "    save(train_mat, HEAD_PATH+\"/train test mat/\"+product+\".train.mat.pkl\")\n",
    "    \n",
    "# bu\n",
    "# ru\n",
    "# v\n",
    "# pp\n",
    "# l\n",
    "# jd\n",
    "# Wall time: 1h 27min 49s\n",
    "\n"
   ]
  },
  {
   "cell_type": "code",
   "execution_count": 55,
   "metadata": {},
   "outputs": [],
   "source": [
    "import  sklearn.preprocessing"
   ]
  },
  {
   "cell_type": "code",
   "execution_count": 56,
   "metadata": {},
   "outputs": [
    {
     "data": {
      "text/plain": [
       "Index(['trade.imb.4096', 'total.trade.imb.4096', 'nr.4096', 'dbook.4096',\n",
       "       'range.pos.4096', 'price.osci.4096', 'ma.dif.10.4096', 'kdj.k.4096',\n",
       "       'kdj.j.4096', 'trade.imb.range.4096', 'total.trade.imb.range.4096',\n",
       "       'nr.range.4096', 'dbook.range.4096', 'range.pos.range.4096',\n",
       "       'price.osci.range.4096', 'ma.dif.10.range.4096', 'kdj.k.range.4096',\n",
       "       'kdj.j.range.4096', 'trade.imb.std.4096', 'total.trade.imb.std.4096',\n",
       "       'nr.std.4096', 'dbook.std.4096', 'range.pos.std.4096',\n",
       "       'price.osci.std.4096', 'ma.dif.10.std.4096', 'kdj.k.std.4096',\n",
       "       'kdj.j.std.4096', 'trade.imb.volume.open.ratio.4096',\n",
       "       'total.trade.imb.volume.open.ratio.4096', 'nr.volume.open.ratio.4096',\n",
       "       'dbook.volume.open.ratio.4096', 'range.pos.volume.open.ratio.4096',\n",
       "       'price.osci.volume.open.ratio.4096', 'ma.dif.10.volume.open.ratio.4096',\n",
       "       'kdj.k.volume.open.ratio.4096', 'kdj.j.volume.open.ratio.4096',\n",
       "       'trade.imb.trend.index.4096', 'total.trade.imb.trend.index.4096',\n",
       "       'nr.trend.index.4096', 'dbook.trend.index.4096',\n",
       "       'range.pos.trend.index.4096', 'price.osci.trend.index.4096',\n",
       "       'ma.dif.10.trend.index.4096', 'kdj.k.trend.index.4096',\n",
       "       'kdj.j.trend.index.4096', 'ret.4096', 'ret.4096.001', 'ret.4096.002',\n",
       "       'ret.4096.004'],\n",
       "      dtype='object')"
      ]
     },
     "execution_count": 56,
     "metadata": {},
     "output_type": "execute_result"
    }
   ],
   "source": [
    "ori_mat = load(HEAD_PATH+\"/train test mat/\"+product_list[0]+\".train.mat.pkl\")\n",
    "ori_mat.columns"
   ]
  },
  {
   "cell_type": "markdown",
   "metadata": {},
   "source": [
    "- we add the y signal"
   ]
  },
  {
   "cell_type": "markdown",
   "metadata": {},
   "source": [
    "- we can check the names"
   ]
  },
  {
   "cell_type": "code",
   "execution_count": 57,
   "metadata": {},
   "outputs": [
    {
     "name": "stdout",
     "output_type": "stream",
     "text": [
      "bu (4000, 49)\n",
      "ru (4164, 49)\n",
      "v (1756, 49)\n",
      "pp (2674, 49)\n",
      "l (1937, 49)\n",
      "jd (1563, 49)\n"
     ]
    }
   ],
   "source": [
    "train_mat = load(HEAD_PATH+\"/train test mat/\"+product_list[0]+\".train.mat.pkl\")\n",
    "train_mat = pd.DataFrame(data=sklearn.preprocessing.scale(train_mat, with_mean=True), columns=ori_mat.columns)\n",
    "print(product_list[0], train_mat.shape)\n",
    "for product in product_list[1:]:\n",
    "    cur_mat = load(HEAD_PATH+\"/train test mat/\"+product+\".train.mat.pkl\")\n",
    "    ## standardize the matrix before combination, with_mean=False,we don't use intercept\n",
    "    cur_mat = pd.DataFrame(data=sklearn.preprocessing.scale(cur_mat, with_mean=True), columns=ori_mat.columns)\n",
    "    print(product, cur_mat.shape)\n",
    "    train_mat = train_mat.append(cur_mat)\n",
    "    \n",
    "# bu (4000, 49)\n",
    "# ru (4164, 49)\n",
    "# v (1756, 49)\n",
    "# pp (2674, 49)\n",
    "# l (1937, 49)\n",
    "# jd (1563, 49)\n",
    "\n"
   ]
  },
  {
   "cell_type": "code",
   "execution_count": 58,
   "metadata": {
    "scrolled": true
   },
   "outputs": [
    {
     "data": {
      "text/plain": [
       "(16094, 49)"
      ]
     },
     "execution_count": 58,
     "metadata": {},
     "output_type": "execute_result"
    }
   ],
   "source": [
    "train_mat.shape\n",
    "\n",
    "# (16094, 49)"
   ]
  },
  {
   "cell_type": "markdown",
   "metadata": {},
   "source": [
    "- at first we can fit a linear regression to calcualte t-statistics "
   ]
  },
  {
   "cell_type": "code",
   "execution_count": 59,
   "metadata": {},
   "outputs": [],
   "source": [
    "import statsmodels.formula.api as smf"
   ]
  },
  {
   "cell_type": "code",
   "execution_count": 60,
   "metadata": {},
   "outputs": [
    {
     "data": {
      "text/plain": [
       "\"train_mat['ret.4096'] ~ train_mat['nr.4096'] + 0\""
      ]
     },
     "execution_count": 60,
     "metadata": {},
     "output_type": "execute_result"
    }
   ],
   "source": [
    "formula = \"train_mat['ret.\"+str(period)+\"'] ~ train_mat['nr.\"+str(period)+\"'] + 0\"\n",
    "formula\n",
    "## \"train_mat['ret.4096'] ~ train_mat['nr.4096'] + 0\""
   ]
  },
  {
   "cell_type": "code",
   "execution_count": 61,
   "metadata": {},
   "outputs": [
    {
     "name": "stdout",
     "output_type": "stream",
     "text": [
      "                                  OLS Regression Results                                  \n",
      "==========================================================================================\n",
      "Dep. Variable:     train_mat['ret.4096']   R-squared (uncentered):                   0.000\n",
      "Model:                               OLS   Adj. R-squared (uncentered):             -0.000\n",
      "Method:                    Least Squares   F-statistic:                             0.6149\n",
      "Date:                   Tue, 12 Apr 2022   Prob (F-statistic):                       0.433\n",
      "Time:                           14:21:24   Log-Likelihood:                         -22836.\n",
      "No. Observations:                  16094   AIC:                                  4.567e+04\n",
      "Df Residuals:                      16093   BIC:                                  4.568e+04\n",
      "Df Model:                              1                                                  \n",
      "Covariance Type:               nonrobust                                                  \n",
      "========================================================================================\n",
      "                           coef    std err          t      P>|t|      [0.025      0.975]\n",
      "----------------------------------------------------------------------------------------\n",
      "train_mat['nr.4096']     0.0062      0.008      0.784      0.433      -0.009       0.022\n",
      "==============================================================================\n",
      "Omnibus:                     2323.389   Durbin-Watson:                   2.002\n",
      "Prob(Omnibus):                  0.000   Jarque-Bera (JB):            32951.028\n",
      "Skew:                          -0.163   Prob(JB):                         0.00\n",
      "Kurtosis:                      10.002   Cond. No.                         1.00\n",
      "==============================================================================\n",
      "\n",
      "Notes:\n",
      "[1] R² is computed without centering (uncentered) since the model does not contain a constant.\n",
      "[2] Standard Errors assume that the covariance matrix of the errors is correctly specified.\n"
     ]
    }
   ],
   "source": [
    "fit_one_lm = smf.ols(formula=formula, data=train_mat[train_mat.columns[:-2]]).fit()\n",
    "print(fit_one_lm.summary())\n",
    "\n",
    "#                                   OLS Regression Results                                  \n",
    "# ==========================================================================================\n",
    "# Dep. Variable:     train_mat['ret.4096']   R-squared (uncentered):                   0.000\n",
    "# Model:                               OLS   Adj. R-squared (uncentered):             -0.000\n",
    "# Method:                    Least Squares   F-statistic:                             0.6149\n",
    "# Date:                   Tue, 12 Apr 2022   Prob (F-statistic):                       0.433\n",
    "# Time:                           14:21:24   Log-Likelihood:                         -22836.\n",
    "# No. Observations:                  16094   AIC:                                  4.567e+04\n",
    "# Df Residuals:                      16093   BIC:                                  4.568e+04\n",
    "# Df Model:                              1                                                  \n",
    "# Covariance Type:               nonrobust                                                  \n",
    "# ========================================================================================\n",
    "#                            coef    std err          t      P>|t|      [0.025      0.975]\n",
    "# ----------------------------------------------------------------------------------------\n",
    "# train_mat['nr.4096']     0.0062      0.008      0.784      0.433      -0.009       0.022\n",
    "# ==============================================================================\n",
    "# Omnibus:                     2323.389   Durbin-Watson:                   2.002\n",
    "# Prob(Omnibus):                  0.000   Jarque-Bera (JB):            32951.028\n",
    "# Skew:                          -0.163   Prob(JB):                         0.00\n",
    "# Kurtosis:                      10.002   Cond. No.                         1.00\n",
    "# ==============================================================================\n",
    "\n",
    "# Notes:\n",
    "# [1] R² is computed without centering (uncentered) since the model does not contain a constant.\n",
    "# [2] Standard Errors assume that the covariance matrix of the errors is correctly specified."
   ]
  },
  {
   "cell_type": "code",
   "execution_count": 62,
   "metadata": {},
   "outputs": [],
   "source": [
    "## function to calculate t-stat\n",
    "def get_t_value(train_mat, signal, response):\n",
    "    beta = np.sum(train_mat[signal]*train_mat[response])/sum(train_mat[signal]**2) ## regressio coef\n",
    "    sigma = np.sqrt(np.sum((train_mat[signal]*beta-train_mat[response])**2) / (len(train_mat)-1)) \n",
    "    v = np.sqrt(np.sum(train_mat[signal]**2)) ## sigma/v is the standard devication of beta_hat\n",
    "    return beta/sigma*v"
   ]
  },
  {
   "cell_type": "markdown",
   "metadata": {},
   "source": [
    "- we can see our function is correct\n",
    "- now let's use this function to calcualte all t-stat of each variable"
   ]
  },
  {
   "cell_type": "code",
   "execution_count": 63,
   "metadata": {},
   "outputs": [
    {
     "data": {
      "text/plain": [
       "[-2.030148128851061,\n",
       " 0.08074798613005739,\n",
       " 0.7841661053857313,\n",
       " -2.8888624454923435,\n",
       " -0.5588440966632381,\n",
       " 1.469067305518296,\n",
       " 0.2183556225995931,\n",
       " -0.21678986343730133,\n",
       " -0.6058584191371985,\n",
       " -1.608222557795836,\n",
       " -0.37016666063999454,\n",
       " -0.28714554094972083,\n",
       " -3.2824033219748037,\n",
       " -1.4347317009666272,\n",
       " 0.2942254713735205,\n",
       " -0.5895334957572106,\n",
       " -0.33627908143256224,\n",
       " -0.9219302090149365,\n",
       " -1.5356006773767248,\n",
       " -0.4990505601568903,\n",
       " -0.37528033773860203,\n",
       " -3.154339810802585,\n",
       " -1.4005546951311396,\n",
       " 0.17381962405719148,\n",
       " -0.5481329891577154,\n",
       " -0.2446914163961505,\n",
       " -0.8448582702952505,\n",
       " -1.6091391221421312,\n",
       " -0.23162829658524833,\n",
       " 0.22853516835328339,\n",
       " -2.9668796361749967,\n",
       " -1.038864558729745,\n",
       " 0.48844420179898695,\n",
       " 0.07410503126855984,\n",
       " 0.015906634492721724,\n",
       " -0.5418839093062212,\n",
       " -2.241080653037907,\n",
       " 0.4126883055327951,\n",
       " 0.6117249001882055,\n",
       " -2.6222242641010993,\n",
       " 0.2502375206198821,\n",
       " 1.4092570888463185,\n",
       " 0.5950492793329274,\n",
       " 0.222943131674607,\n",
       " 0.19413426275049578]"
      ]
     },
     "execution_count": 63,
     "metadata": {},
     "output_type": "execute_result"
    }
   ],
   "source": [
    "signal_list = np.array(signal_list)\n",
    "t_stat = list(map(lambda x: get_t_value(train_mat=train_mat, signal=x, response=\"ret.\"+str(period)), signal_list))\n",
    "t_stat\n",
    "\n",
    "# [-2.030148128851061,\n",
    "#  0.08074798613005739,\n",
    "#  0.7841661053857313,\n",
    "#  -2.8888624454923435,\n",
    "#  -0.5588440966632381,\n",
    "#  1.469067305518296,\n",
    "#  0.2183556225995931,\n",
    "#  -0.21678986343730133,\n",
    "#  -0.6058584191371985,\n",
    "#  -1.608222557795836,\n",
    "#  -0.37016666063999454,\n",
    "#  -0.28714554094972083,\n",
    "#  -3.2824033219748037,\n",
    "#  -1.4347317009666272,\n",
    "#  0.2942254713735205,\n",
    "#  -0.5895334957572106,\n",
    "#  -0.33627908143256224,\n",
    "#  -0.9219302090149365,\n",
    "#  -1.5356006773767248,\n",
    "#  -0.4990505601568903,\n",
    "#  -0.37528033773860203,\n",
    "#  -3.154339810802585,\n",
    "#  -1.4005546951311396,\n",
    "#  0.17381962405719148,\n",
    "#  -0.5481329891577154,\n",
    "#  -0.2446914163961505,\n",
    "#  -0.8448582702952505,\n",
    "#  -1.6091391221421312,\n",
    "#  -0.23162829658524833,\n",
    "#  0.22853516835328339,\n",
    "#  -2.9668796361749967,\n",
    "#  -1.038864558729745,\n",
    "#  0.48844420179898695,\n",
    "#  0.07410503126855984,\n",
    "#  0.015906634492721724,\n",
    "#  -0.5418839093062212,\n",
    "#  -2.241080653037907,\n",
    "#  0.4126883055327951,\n",
    "#  0.6117249001882055,\n",
    "#  -2.6222242641010993,\n",
    "#  0.2502375206198821,\n",
    "#  1.4092570888463185,\n",
    "#  0.5950492793329274,\n",
    "#  0.222943131674607,\n",
    "#  0.19413426275049578]"
   ]
  },
  {
   "cell_type": "markdown",
   "metadata": {},
   "source": [
    "- if we use t.stat value of 2 to filter out good signals, we have"
   ]
  },
  {
   "cell_type": "code",
   "execution_count": 64,
   "metadata": {},
   "outputs": [
    {
     "data": {
      "text/plain": [
       "array(['trade.imb.4096', 'dbook.4096', 'dbook.range.4096',\n",
       "       'dbook.std.4096', 'dbook.volume.open.ratio.4096',\n",
       "       'trade.imb.trend.index.4096', 'dbook.trend.index.4096'],\n",
       "      dtype='<U38')"
      ]
     },
     "execution_count": 64,
     "metadata": {},
     "output_type": "execute_result"
    }
   ],
   "source": [
    "signal_list[np.where(np.abs(t_stat)>2)]\n",
    "\n",
    "# array(['trade.imb.4096', 'dbook.4096', 'dbook.range.4096',\n",
    "#        'dbook.std.4096', 'dbook.volume.open.ratio.4096',\n",
    "#        'trade.imb.trend.index.4096', 'dbook.trend.index.4096'],\n",
    "#       dtype='<U38')"
   ]
  },
  {
   "cell_type": "markdown",
   "metadata": {},
   "source": [
    "- but we know a single signal works well doesn't mean it works well when combined with other signals\n",
    "- signals have correlation, if 10 highly correlated signals together would not make prediction better"
   ]
  },
  {
   "cell_type": "code",
   "execution_count": 65,
   "metadata": {},
   "outputs": [
    {
     "data": {
      "text/html": [
       "<div>\n",
       "<style scoped>\n",
       "    .dataframe tbody tr th:only-of-type {\n",
       "        vertical-align: middle;\n",
       "    }\n",
       "\n",
       "    .dataframe tbody tr th {\n",
       "        vertical-align: top;\n",
       "    }\n",
       "\n",
       "    .dataframe thead th {\n",
       "        text-align: right;\n",
       "    }\n",
       "</style>\n",
       "<table border=\"1\" class=\"dataframe\">\n",
       "  <thead>\n",
       "    <tr style=\"text-align: right;\">\n",
       "      <th></th>\n",
       "      <th>trade.imb.4096</th>\n",
       "      <th>total.trade.imb.4096</th>\n",
       "      <th>nr.4096</th>\n",
       "      <th>dbook.4096</th>\n",
       "      <th>range.pos.4096</th>\n",
       "      <th>price.osci.4096</th>\n",
       "      <th>ma.dif.10.4096</th>\n",
       "      <th>kdj.k.4096</th>\n",
       "      <th>kdj.j.4096</th>\n",
       "      <th>trade.imb.range.4096</th>\n",
       "      <th>...</th>\n",
       "      <th>dbook.trend.index.4096</th>\n",
       "      <th>range.pos.trend.index.4096</th>\n",
       "      <th>price.osci.trend.index.4096</th>\n",
       "      <th>ma.dif.10.trend.index.4096</th>\n",
       "      <th>kdj.k.trend.index.4096</th>\n",
       "      <th>kdj.j.trend.index.4096</th>\n",
       "      <th>ret.4096</th>\n",
       "      <th>ret.4096.001</th>\n",
       "      <th>ret.4096.002</th>\n",
       "      <th>ret.4096.004</th>\n",
       "    </tr>\n",
       "  </thead>\n",
       "  <tbody>\n",
       "    <tr>\n",
       "      <th>trade.imb.4096</th>\n",
       "      <td>1.000000</td>\n",
       "      <td>0.325696</td>\n",
       "      <td>-0.173841</td>\n",
       "      <td>0.923962</td>\n",
       "      <td>0.172929</td>\n",
       "      <td>0.096499</td>\n",
       "      <td>-0.361561</td>\n",
       "      <td>0.065787</td>\n",
       "      <td>0.121754</td>\n",
       "      <td>0.697150</td>\n",
       "      <td>...</td>\n",
       "      <td>0.908671</td>\n",
       "      <td>0.093658</td>\n",
       "      <td>0.028064</td>\n",
       "      <td>-0.374282</td>\n",
       "      <td>0.005135</td>\n",
       "      <td>0.053844</td>\n",
       "      <td>0.025316</td>\n",
       "      <td>0.025316</td>\n",
       "      <td>0.025316</td>\n",
       "      <td>0.025316</td>\n",
       "    </tr>\n",
       "    <tr>\n",
       "      <th>total.trade.imb.4096</th>\n",
       "      <td>0.325696</td>\n",
       "      <td>1.000000</td>\n",
       "      <td>0.855105</td>\n",
       "      <td>0.023887</td>\n",
       "      <td>0.906415</td>\n",
       "      <td>0.876228</td>\n",
       "      <td>0.653771</td>\n",
       "      <td>0.782443</td>\n",
       "      <td>0.809672</td>\n",
       "      <td>-0.297392</td>\n",
       "      <td>...</td>\n",
       "      <td>-0.012704</td>\n",
       "      <td>0.864639</td>\n",
       "      <td>0.878996</td>\n",
       "      <td>0.629169</td>\n",
       "      <td>0.783081</td>\n",
       "      <td>0.788822</td>\n",
       "      <td>-0.304812</td>\n",
       "      <td>-0.304812</td>\n",
       "      <td>-0.304812</td>\n",
       "      <td>-0.304812</td>\n",
       "    </tr>\n",
       "    <tr>\n",
       "      <th>nr.4096</th>\n",
       "      <td>-0.173841</td>\n",
       "      <td>0.855105</td>\n",
       "      <td>1.000000</td>\n",
       "      <td>-0.431253</td>\n",
       "      <td>0.895486</td>\n",
       "      <td>0.910901</td>\n",
       "      <td>0.857294</td>\n",
       "      <td>0.871114</td>\n",
       "      <td>0.869438</td>\n",
       "      <td>-0.686087</td>\n",
       "      <td>...</td>\n",
       "      <td>-0.461006</td>\n",
       "      <td>0.889084</td>\n",
       "      <td>0.946982</td>\n",
       "      <td>0.835274</td>\n",
       "      <td>0.896764</td>\n",
       "      <td>0.876780</td>\n",
       "      <td>-0.362056</td>\n",
       "      <td>-0.362056</td>\n",
       "      <td>-0.362056</td>\n",
       "      <td>-0.362056</td>\n",
       "    </tr>\n",
       "    <tr>\n",
       "      <th>dbook.4096</th>\n",
       "      <td>0.923962</td>\n",
       "      <td>0.023887</td>\n",
       "      <td>-0.431253</td>\n",
       "      <td>1.000000</td>\n",
       "      <td>-0.068245</td>\n",
       "      <td>-0.118010</td>\n",
       "      <td>-0.590088</td>\n",
       "      <td>-0.161884</td>\n",
       "      <td>-0.078574</td>\n",
       "      <td>0.832781</td>\n",
       "      <td>...</td>\n",
       "      <td>0.997374</td>\n",
       "      <td>-0.144771</td>\n",
       "      <td>-0.207193</td>\n",
       "      <td>-0.601001</td>\n",
       "      <td>-0.245071</td>\n",
       "      <td>-0.151493</td>\n",
       "      <td>0.221778</td>\n",
       "      <td>0.221778</td>\n",
       "      <td>0.221778</td>\n",
       "      <td>0.221778</td>\n",
       "    </tr>\n",
       "    <tr>\n",
       "      <th>range.pos.4096</th>\n",
       "      <td>0.172929</td>\n",
       "      <td>0.906415</td>\n",
       "      <td>0.895486</td>\n",
       "      <td>-0.068245</td>\n",
       "      <td>1.000000</td>\n",
       "      <td>0.881767</td>\n",
       "      <td>0.793204</td>\n",
       "      <td>0.821912</td>\n",
       "      <td>0.959719</td>\n",
       "      <td>-0.517287</td>\n",
       "      <td>...</td>\n",
       "      <td>-0.114827</td>\n",
       "      <td>0.990462</td>\n",
       "      <td>0.906985</td>\n",
       "      <td>0.771849</td>\n",
       "      <td>0.828534</td>\n",
       "      <td>0.964296</td>\n",
       "      <td>-0.487109</td>\n",
       "      <td>-0.487109</td>\n",
       "      <td>-0.487109</td>\n",
       "      <td>-0.487109</td>\n",
       "    </tr>\n",
       "    <tr>\n",
       "      <th>price.osci.4096</th>\n",
       "      <td>0.096499</td>\n",
       "      <td>0.876228</td>\n",
       "      <td>0.910901</td>\n",
       "      <td>-0.118010</td>\n",
       "      <td>0.881767</td>\n",
       "      <td>1.000000</td>\n",
       "      <td>0.614321</td>\n",
       "      <td>0.937262</td>\n",
       "      <td>0.908752</td>\n",
       "      <td>-0.379784</td>\n",
       "      <td>...</td>\n",
       "      <td>-0.144753</td>\n",
       "      <td>0.825854</td>\n",
       "      <td>0.991386</td>\n",
       "      <td>0.580033</td>\n",
       "      <td>0.919560</td>\n",
       "      <td>0.869759</td>\n",
       "      <td>-0.253038</td>\n",
       "      <td>-0.253038</td>\n",
       "      <td>-0.253038</td>\n",
       "      <td>-0.253038</td>\n",
       "    </tr>\n",
       "    <tr>\n",
       "      <th>ma.dif.10.4096</th>\n",
       "      <td>-0.361561</td>\n",
       "      <td>0.653771</td>\n",
       "      <td>0.857294</td>\n",
       "      <td>-0.590088</td>\n",
       "      <td>0.793204</td>\n",
       "      <td>0.614321</td>\n",
       "      <td>1.000000</td>\n",
       "      <td>0.553211</td>\n",
       "      <td>0.711421</td>\n",
       "      <td>-0.900000</td>\n",
       "      <td>...</td>\n",
       "      <td>-0.635463</td>\n",
       "      <td>0.855769</td>\n",
       "      <td>0.701030</td>\n",
       "      <td>0.999033</td>\n",
       "      <td>0.618512</td>\n",
       "      <td>0.782442</td>\n",
       "      <td>-0.603955</td>\n",
       "      <td>-0.603955</td>\n",
       "      <td>-0.603955</td>\n",
       "      <td>-0.603955</td>\n",
       "    </tr>\n",
       "    <tr>\n",
       "      <th>kdj.k.4096</th>\n",
       "      <td>0.065787</td>\n",
       "      <td>0.782443</td>\n",
       "      <td>0.871114</td>\n",
       "      <td>-0.161884</td>\n",
       "      <td>0.821912</td>\n",
       "      <td>0.937262</td>\n",
       "      <td>0.553211</td>\n",
       "      <td>1.000000</td>\n",
       "      <td>0.899291</td>\n",
       "      <td>-0.395095</td>\n",
       "      <td>...</td>\n",
       "      <td>-0.178982</td>\n",
       "      <td>0.769609</td>\n",
       "      <td>0.937653</td>\n",
       "      <td>0.521276</td>\n",
       "      <td>0.993199</td>\n",
       "      <td>0.859300</td>\n",
       "      <td>-0.261477</td>\n",
       "      <td>-0.261477</td>\n",
       "      <td>-0.261477</td>\n",
       "      <td>-0.261477</td>\n",
       "    </tr>\n",
       "    <tr>\n",
       "      <th>kdj.j.4096</th>\n",
       "      <td>0.121754</td>\n",
       "      <td>0.809672</td>\n",
       "      <td>0.869438</td>\n",
       "      <td>-0.078574</td>\n",
       "      <td>0.959719</td>\n",
       "      <td>0.908752</td>\n",
       "      <td>0.711421</td>\n",
       "      <td>0.899291</td>\n",
       "      <td>1.000000</td>\n",
       "      <td>-0.503561</td>\n",
       "      <td>...</td>\n",
       "      <td>-0.119952</td>\n",
       "      <td>0.940001</td>\n",
       "      <td>0.927917</td>\n",
       "      <td>0.686026</td>\n",
       "      <td>0.896103</td>\n",
       "      <td>0.991790</td>\n",
       "      <td>-0.492525</td>\n",
       "      <td>-0.492525</td>\n",
       "      <td>-0.492525</td>\n",
       "      <td>-0.492525</td>\n",
       "    </tr>\n",
       "    <tr>\n",
       "      <th>trade.imb.range.4096</th>\n",
       "      <td>0.697150</td>\n",
       "      <td>-0.297392</td>\n",
       "      <td>-0.686087</td>\n",
       "      <td>0.832781</td>\n",
       "      <td>-0.517287</td>\n",
       "      <td>-0.379784</td>\n",
       "      <td>-0.900000</td>\n",
       "      <td>-0.395095</td>\n",
       "      <td>-0.503561</td>\n",
       "      <td>1.000000</td>\n",
       "      <td>...</td>\n",
       "      <td>0.862119</td>\n",
       "      <td>-0.606878</td>\n",
       "      <td>-0.483394</td>\n",
       "      <td>-0.907398</td>\n",
       "      <td>-0.475600</td>\n",
       "      <td>-0.592210</td>\n",
       "      <td>0.544229</td>\n",
       "      <td>0.544229</td>\n",
       "      <td>0.544229</td>\n",
       "      <td>0.544229</td>\n",
       "    </tr>\n",
       "    <tr>\n",
       "      <th>total.trade.imb.range.4096</th>\n",
       "      <td>-0.298877</td>\n",
       "      <td>0.681683</td>\n",
       "      <td>0.830692</td>\n",
       "      <td>-0.550208</td>\n",
       "      <td>0.777544</td>\n",
       "      <td>0.571962</td>\n",
       "      <td>0.989045</td>\n",
       "      <td>0.499683</td>\n",
       "      <td>0.658925</td>\n",
       "      <td>-0.855667</td>\n",
       "      <td>...</td>\n",
       "      <td>-0.596018</td>\n",
       "      <td>0.841002</td>\n",
       "      <td>0.658767</td>\n",
       "      <td>0.990391</td>\n",
       "      <td>0.568797</td>\n",
       "      <td>0.732151</td>\n",
       "      <td>-0.584637</td>\n",
       "      <td>-0.584637</td>\n",
       "      <td>-0.584637</td>\n",
       "      <td>-0.584637</td>\n",
       "    </tr>\n",
       "    <tr>\n",
       "      <th>nr.range.4096</th>\n",
       "      <td>-0.394423</td>\n",
       "      <td>0.614098</td>\n",
       "      <td>0.823791</td>\n",
       "      <td>-0.625053</td>\n",
       "      <td>0.745911</td>\n",
       "      <td>0.550158</td>\n",
       "      <td>0.995499</td>\n",
       "      <td>0.499452</td>\n",
       "      <td>0.651755</td>\n",
       "      <td>-0.912441</td>\n",
       "      <td>...</td>\n",
       "      <td>-0.668345</td>\n",
       "      <td>0.816470</td>\n",
       "      <td>0.642676</td>\n",
       "      <td>0.997890</td>\n",
       "      <td>0.572224</td>\n",
       "      <td>0.729733</td>\n",
       "      <td>-0.592899</td>\n",
       "      <td>-0.592899</td>\n",
       "      <td>-0.592899</td>\n",
       "      <td>-0.592899</td>\n",
       "    </tr>\n",
       "    <tr>\n",
       "      <th>dbook.range.4096</th>\n",
       "      <td>0.545184</td>\n",
       "      <td>-0.463682</td>\n",
       "      <td>-0.761330</td>\n",
       "      <td>0.755333</td>\n",
       "      <td>-0.628357</td>\n",
       "      <td>-0.456179</td>\n",
       "      <td>-0.960324</td>\n",
       "      <td>-0.459072</td>\n",
       "      <td>-0.573326</td>\n",
       "      <td>0.972555</td>\n",
       "      <td>...</td>\n",
       "      <td>0.792513</td>\n",
       "      <td>-0.710937</td>\n",
       "      <td>-0.561721</td>\n",
       "      <td>-0.966953</td>\n",
       "      <td>-0.543977</td>\n",
       "      <td>-0.659830</td>\n",
       "      <td>0.616026</td>\n",
       "      <td>0.616026</td>\n",
       "      <td>0.616026</td>\n",
       "      <td>0.616026</td>\n",
       "    </tr>\n",
       "    <tr>\n",
       "      <th>range.pos.range.4096</th>\n",
       "      <td>-0.334145</td>\n",
       "      <td>0.632802</td>\n",
       "      <td>0.818391</td>\n",
       "      <td>-0.562872</td>\n",
       "      <td>0.778916</td>\n",
       "      <td>0.557288</td>\n",
       "      <td>0.994839</td>\n",
       "      <td>0.505003</td>\n",
       "      <td>0.683377</td>\n",
       "      <td>-0.892107</td>\n",
       "      <td>...</td>\n",
       "      <td>-0.609304</td>\n",
       "      <td>0.848979</td>\n",
       "      <td>0.647936</td>\n",
       "      <td>0.996943</td>\n",
       "      <td>0.574155</td>\n",
       "      <td>0.760803</td>\n",
       "      <td>-0.616264</td>\n",
       "      <td>-0.616264</td>\n",
       "      <td>-0.616264</td>\n",
       "      <td>-0.616264</td>\n",
       "    </tr>\n",
       "    <tr>\n",
       "      <th>price.osci.range.4096</th>\n",
       "      <td>-0.362179</td>\n",
       "      <td>0.673958</td>\n",
       "      <td>0.879567</td>\n",
       "      <td>-0.599291</td>\n",
       "      <td>0.801382</td>\n",
       "      <td>0.641833</td>\n",
       "      <td>0.998606</td>\n",
       "      <td>0.586074</td>\n",
       "      <td>0.723371</td>\n",
       "      <td>-0.896642</td>\n",
       "      <td>...</td>\n",
       "      <td>-0.642927</td>\n",
       "      <td>0.859119</td>\n",
       "      <td>0.726306</td>\n",
       "      <td>0.996130</td>\n",
       "      <td>0.650509</td>\n",
       "      <td>0.790116</td>\n",
       "      <td>-0.586685</td>\n",
       "      <td>-0.586685</td>\n",
       "      <td>-0.586685</td>\n",
       "      <td>-0.586685</td>\n",
       "    </tr>\n",
       "    <tr>\n",
       "      <th>ma.dif.10.range.4096</th>\n",
       "      <td>-0.397384</td>\n",
       "      <td>0.570055</td>\n",
       "      <td>0.774758</td>\n",
       "      <td>-0.616742</td>\n",
       "      <td>0.713619</td>\n",
       "      <td>0.487662</td>\n",
       "      <td>0.987934</td>\n",
       "      <td>0.431890</td>\n",
       "      <td>0.610970</td>\n",
       "      <td>-0.912098</td>\n",
       "      <td>...</td>\n",
       "      <td>-0.661979</td>\n",
       "      <td>0.792696</td>\n",
       "      <td>0.584786</td>\n",
       "      <td>0.993550</td>\n",
       "      <td>0.507922</td>\n",
       "      <td>0.696552</td>\n",
       "      <td>-0.616598</td>\n",
       "      <td>-0.616598</td>\n",
       "      <td>-0.616598</td>\n",
       "      <td>-0.616598</td>\n",
       "    </tr>\n",
       "    <tr>\n",
       "      <th>kdj.k.range.4096</th>\n",
       "      <td>-0.382626</td>\n",
       "      <td>0.649671</td>\n",
       "      <td>0.882424</td>\n",
       "      <td>-0.627994</td>\n",
       "      <td>0.790447</td>\n",
       "      <td>0.637000</td>\n",
       "      <td>0.986038</td>\n",
       "      <td>0.629633</td>\n",
       "      <td>0.734708</td>\n",
       "      <td>-0.913600</td>\n",
       "      <td>...</td>\n",
       "      <td>-0.667956</td>\n",
       "      <td>0.848464</td>\n",
       "      <td>0.725010</td>\n",
       "      <td>0.983758</td>\n",
       "      <td>0.698220</td>\n",
       "      <td>0.800217</td>\n",
       "      <td>-0.592917</td>\n",
       "      <td>-0.592917</td>\n",
       "      <td>-0.592917</td>\n",
       "      <td>-0.592917</td>\n",
       "    </tr>\n",
       "    <tr>\n",
       "      <th>kdj.j.range.4096</th>\n",
       "      <td>-0.356124</td>\n",
       "      <td>0.625477</td>\n",
       "      <td>0.838530</td>\n",
       "      <td>-0.581155</td>\n",
       "      <td>0.791498</td>\n",
       "      <td>0.588421</td>\n",
       "      <td>0.995157</td>\n",
       "      <td>0.555002</td>\n",
       "      <td>0.720537</td>\n",
       "      <td>-0.910629</td>\n",
       "      <td>...</td>\n",
       "      <td>-0.626674</td>\n",
       "      <td>0.858950</td>\n",
       "      <td>0.679069</td>\n",
       "      <td>0.995636</td>\n",
       "      <td>0.622743</td>\n",
       "      <td>0.794777</td>\n",
       "      <td>-0.630873</td>\n",
       "      <td>-0.630873</td>\n",
       "      <td>-0.630873</td>\n",
       "      <td>-0.630873</td>\n",
       "    </tr>\n",
       "    <tr>\n",
       "      <th>trade.imb.std.4096</th>\n",
       "      <td>0.716691</td>\n",
       "      <td>-0.281120</td>\n",
       "      <td>-0.681540</td>\n",
       "      <td>0.847374</td>\n",
       "      <td>-0.499940</td>\n",
       "      <td>-0.372686</td>\n",
       "      <td>-0.886781</td>\n",
       "      <td>-0.397374</td>\n",
       "      <td>-0.490953</td>\n",
       "      <td>0.998983</td>\n",
       "      <td>...</td>\n",
       "      <td>0.873776</td>\n",
       "      <td>-0.588715</td>\n",
       "      <td>-0.474926</td>\n",
       "      <td>-0.893908</td>\n",
       "      <td>-0.477575</td>\n",
       "      <td>-0.578073</td>\n",
       "      <td>0.514061</td>\n",
       "      <td>0.514061</td>\n",
       "      <td>0.514061</td>\n",
       "      <td>0.514061</td>\n",
       "    </tr>\n",
       "    <tr>\n",
       "      <th>total.trade.imb.std.4096</th>\n",
       "      <td>-0.296201</td>\n",
       "      <td>0.680834</td>\n",
       "      <td>0.828376</td>\n",
       "      <td>-0.548769</td>\n",
       "      <td>0.777093</td>\n",
       "      <td>0.570838</td>\n",
       "      <td>0.989079</td>\n",
       "      <td>0.497810</td>\n",
       "      <td>0.659135</td>\n",
       "      <td>-0.855218</td>\n",
       "      <td>...</td>\n",
       "      <td>-0.595275</td>\n",
       "      <td>0.840778</td>\n",
       "      <td>0.658384</td>\n",
       "      <td>0.990615</td>\n",
       "      <td>0.567343</td>\n",
       "      <td>0.732768</td>\n",
       "      <td>-0.595943</td>\n",
       "      <td>-0.595943</td>\n",
       "      <td>-0.595943</td>\n",
       "      <td>-0.595943</td>\n",
       "    </tr>\n",
       "    <tr>\n",
       "      <th>nr.std.4096</th>\n",
       "      <td>-0.399153</td>\n",
       "      <td>0.612252</td>\n",
       "      <td>0.825379</td>\n",
       "      <td>-0.630121</td>\n",
       "      <td>0.745209</td>\n",
       "      <td>0.553167</td>\n",
       "      <td>0.995906</td>\n",
       "      <td>0.503223</td>\n",
       "      <td>0.653983</td>\n",
       "      <td>-0.915349</td>\n",
       "      <td>...</td>\n",
       "      <td>-0.673577</td>\n",
       "      <td>0.815562</td>\n",
       "      <td>0.646149</td>\n",
       "      <td>0.998215</td>\n",
       "      <td>0.576219</td>\n",
       "      <td>0.731844</td>\n",
       "      <td>-0.599510</td>\n",
       "      <td>-0.599510</td>\n",
       "      <td>-0.599510</td>\n",
       "      <td>-0.599510</td>\n",
       "    </tr>\n",
       "    <tr>\n",
       "      <th>dbook.std.4096</th>\n",
       "      <td>0.558752</td>\n",
       "      <td>-0.453054</td>\n",
       "      <td>-0.758572</td>\n",
       "      <td>0.769316</td>\n",
       "      <td>-0.615787</td>\n",
       "      <td>-0.450688</td>\n",
       "      <td>-0.953299</td>\n",
       "      <td>-0.461582</td>\n",
       "      <td>-0.564524</td>\n",
       "      <td>0.974419</td>\n",
       "      <td>...</td>\n",
       "      <td>0.804968</td>\n",
       "      <td>-0.698163</td>\n",
       "      <td>-0.556597</td>\n",
       "      <td>-0.960010</td>\n",
       "      <td>-0.547484</td>\n",
       "      <td>-0.650544</td>\n",
       "      <td>0.607379</td>\n",
       "      <td>0.607379</td>\n",
       "      <td>0.607379</td>\n",
       "      <td>0.607379</td>\n",
       "    </tr>\n",
       "    <tr>\n",
       "      <th>range.pos.std.4096</th>\n",
       "      <td>-0.330548</td>\n",
       "      <td>0.630741</td>\n",
       "      <td>0.816181</td>\n",
       "      <td>-0.557870</td>\n",
       "      <td>0.780700</td>\n",
       "      <td>0.555284</td>\n",
       "      <td>0.993937</td>\n",
       "      <td>0.505295</td>\n",
       "      <td>0.686127</td>\n",
       "      <td>-0.891666</td>\n",
       "      <td>...</td>\n",
       "      <td>-0.604381</td>\n",
       "      <td>0.851158</td>\n",
       "      <td>0.645937</td>\n",
       "      <td>0.996106</td>\n",
       "      <td>0.574216</td>\n",
       "      <td>0.763729</td>\n",
       "      <td>-0.617601</td>\n",
       "      <td>-0.617601</td>\n",
       "      <td>-0.617601</td>\n",
       "      <td>-0.617601</td>\n",
       "    </tr>\n",
       "    <tr>\n",
       "      <th>price.osci.std.4096</th>\n",
       "      <td>-0.367954</td>\n",
       "      <td>0.670900</td>\n",
       "      <td>0.881617</td>\n",
       "      <td>-0.605565</td>\n",
       "      <td>0.800441</td>\n",
       "      <td>0.645957</td>\n",
       "      <td>0.998007</td>\n",
       "      <td>0.593072</td>\n",
       "      <td>0.727208</td>\n",
       "      <td>-0.900118</td>\n",
       "      <td>...</td>\n",
       "      <td>-0.649249</td>\n",
       "      <td>0.857774</td>\n",
       "      <td>0.730978</td>\n",
       "      <td>0.995381</td>\n",
       "      <td>0.657768</td>\n",
       "      <td>0.793597</td>\n",
       "      <td>-0.594674</td>\n",
       "      <td>-0.594674</td>\n",
       "      <td>-0.594674</td>\n",
       "      <td>-0.594674</td>\n",
       "    </tr>\n",
       "    <tr>\n",
       "      <th>ma.dif.10.std.4096</th>\n",
       "      <td>-0.398363</td>\n",
       "      <td>0.569736</td>\n",
       "      <td>0.775233</td>\n",
       "      <td>-0.617774</td>\n",
       "      <td>0.713623</td>\n",
       "      <td>0.488180</td>\n",
       "      <td>0.988063</td>\n",
       "      <td>0.432918</td>\n",
       "      <td>0.611512</td>\n",
       "      <td>-0.912810</td>\n",
       "      <td>...</td>\n",
       "      <td>-0.662981</td>\n",
       "      <td>0.792679</td>\n",
       "      <td>0.585372</td>\n",
       "      <td>0.993659</td>\n",
       "      <td>0.508996</td>\n",
       "      <td>0.697064</td>\n",
       "      <td>-0.617111</td>\n",
       "      <td>-0.617111</td>\n",
       "      <td>-0.617111</td>\n",
       "      <td>-0.617111</td>\n",
       "    </tr>\n",
       "    <tr>\n",
       "      <th>kdj.k.std.4096</th>\n",
       "      <td>-0.389086</td>\n",
       "      <td>0.644373</td>\n",
       "      <td>0.884122</td>\n",
       "      <td>-0.635086</td>\n",
       "      <td>0.788224</td>\n",
       "      <td>0.643587</td>\n",
       "      <td>0.982519</td>\n",
       "      <td>0.640885</td>\n",
       "      <td>0.740709</td>\n",
       "      <td>-0.916188</td>\n",
       "      <td>...</td>\n",
       "      <td>-0.675150</td>\n",
       "      <td>0.845218</td>\n",
       "      <td>0.732206</td>\n",
       "      <td>0.979941</td>\n",
       "      <td>0.709617</td>\n",
       "      <td>0.805308</td>\n",
       "      <td>-0.606075</td>\n",
       "      <td>-0.606075</td>\n",
       "      <td>-0.606075</td>\n",
       "      <td>-0.606075</td>\n",
       "    </tr>\n",
       "    <tr>\n",
       "      <th>kdj.j.std.4096</th>\n",
       "      <td>-0.354990</td>\n",
       "      <td>0.623188</td>\n",
       "      <td>0.838782</td>\n",
       "      <td>-0.578839</td>\n",
       "      <td>0.793795</td>\n",
       "      <td>0.589896</td>\n",
       "      <td>0.993582</td>\n",
       "      <td>0.561105</td>\n",
       "      <td>0.726193</td>\n",
       "      <td>-0.911400</td>\n",
       "      <td>...</td>\n",
       "      <td>-0.624172</td>\n",
       "      <td>0.861150</td>\n",
       "      <td>0.680449</td>\n",
       "      <td>0.993925</td>\n",
       "      <td>0.628522</td>\n",
       "      <td>0.800083</td>\n",
       "      <td>-0.631908</td>\n",
       "      <td>-0.631908</td>\n",
       "      <td>-0.631908</td>\n",
       "      <td>-0.631908</td>\n",
       "    </tr>\n",
       "    <tr>\n",
       "      <th>trade.imb.volume.open.ratio.4096</th>\n",
       "      <td>0.840430</td>\n",
       "      <td>-0.138805</td>\n",
       "      <td>-0.586975</td>\n",
       "      <td>0.921166</td>\n",
       "      <td>-0.344492</td>\n",
       "      <td>-0.268249</td>\n",
       "      <td>-0.797977</td>\n",
       "      <td>-0.287409</td>\n",
       "      <td>-0.344616</td>\n",
       "      <td>0.973152</td>\n",
       "      <td>...</td>\n",
       "      <td>0.937053</td>\n",
       "      <td>-0.435330</td>\n",
       "      <td>-0.365696</td>\n",
       "      <td>-0.806799</td>\n",
       "      <td>-0.366219</td>\n",
       "      <td>-0.431226</td>\n",
       "      <td>0.389484</td>\n",
       "      <td>0.389484</td>\n",
       "      <td>0.389484</td>\n",
       "      <td>0.389484</td>\n",
       "    </tr>\n",
       "    <tr>\n",
       "      <th>total.trade.imb.volume.open.ratio.4096</th>\n",
       "      <td>-0.230788</td>\n",
       "      <td>0.733230</td>\n",
       "      <td>0.851746</td>\n",
       "      <td>-0.496977</td>\n",
       "      <td>0.817234</td>\n",
       "      <td>0.616145</td>\n",
       "      <td>0.983992</td>\n",
       "      <td>0.541529</td>\n",
       "      <td>0.698990</td>\n",
       "      <td>-0.821959</td>\n",
       "      <td>...</td>\n",
       "      <td>-0.544738</td>\n",
       "      <td>0.872686</td>\n",
       "      <td>0.698451</td>\n",
       "      <td>0.983192</td>\n",
       "      <td>0.606374</td>\n",
       "      <td>0.765768</td>\n",
       "      <td>-0.597913</td>\n",
       "      <td>-0.597913</td>\n",
       "      <td>-0.597913</td>\n",
       "      <td>-0.597913</td>\n",
       "    </tr>\n",
       "    <tr>\n",
       "      <th>nr.volume.open.ratio.4096</th>\n",
       "      <td>-0.388757</td>\n",
       "      <td>0.635066</td>\n",
       "      <td>0.847992</td>\n",
       "      <td>-0.622243</td>\n",
       "      <td>0.766809</td>\n",
       "      <td>0.587211</td>\n",
       "      <td>0.998092</td>\n",
       "      <td>0.537688</td>\n",
       "      <td>0.681274</td>\n",
       "      <td>-0.911321</td>\n",
       "      <td>...</td>\n",
       "      <td>-0.665385</td>\n",
       "      <td>0.832554</td>\n",
       "      <td>0.677112</td>\n",
       "      <td>0.998567</td>\n",
       "      <td>0.607694</td>\n",
       "      <td>0.754948</td>\n",
       "      <td>-0.591800</td>\n",
       "      <td>-0.591800</td>\n",
       "      <td>-0.591800</td>\n",
       "      <td>-0.591800</td>\n",
       "    </tr>\n",
       "    <tr>\n",
       "      <th>dbook.volume.open.ratio.4096</th>\n",
       "      <td>0.647146</td>\n",
       "      <td>-0.380544</td>\n",
       "      <td>-0.720444</td>\n",
       "      <td>0.838772</td>\n",
       "      <td>-0.532517</td>\n",
       "      <td>-0.396350</td>\n",
       "      <td>-0.922396</td>\n",
       "      <td>-0.406863</td>\n",
       "      <td>-0.483976</td>\n",
       "      <td>0.981971</td>\n",
       "      <td>...</td>\n",
       "      <td>0.868732</td>\n",
       "      <td>-0.617978</td>\n",
       "      <td>-0.502899</td>\n",
       "      <td>-0.930560</td>\n",
       "      <td>-0.495555</td>\n",
       "      <td>-0.571889</td>\n",
       "      <td>0.550097</td>\n",
       "      <td>0.550097</td>\n",
       "      <td>0.550097</td>\n",
       "      <td>0.550097</td>\n",
       "    </tr>\n",
       "    <tr>\n",
       "      <th>range.pos.volume.open.ratio.4096</th>\n",
       "      <td>-0.281908</td>\n",
       "      <td>0.667111</td>\n",
       "      <td>0.834783</td>\n",
       "      <td>-0.514150</td>\n",
       "      <td>0.817815</td>\n",
       "      <td>0.593455</td>\n",
       "      <td>0.992552</td>\n",
       "      <td>0.542196</td>\n",
       "      <td>0.726956</td>\n",
       "      <td>-0.870792</td>\n",
       "      <td>...</td>\n",
       "      <td>-0.562127</td>\n",
       "      <td>0.882522</td>\n",
       "      <td>0.679913</td>\n",
       "      <td>0.992731</td>\n",
       "      <td>0.606417</td>\n",
       "      <td>0.799533</td>\n",
       "      <td>-0.624271</td>\n",
       "      <td>-0.624271</td>\n",
       "      <td>-0.624271</td>\n",
       "      <td>-0.624271</td>\n",
       "    </tr>\n",
       "    <tr>\n",
       "      <th>price.osci.volume.open.ratio.4096</th>\n",
       "      <td>-0.326053</td>\n",
       "      <td>0.715862</td>\n",
       "      <td>0.916558</td>\n",
       "      <td>-0.566009</td>\n",
       "      <td>0.843889</td>\n",
       "      <td>0.712995</td>\n",
       "      <td>0.990406</td>\n",
       "      <td>0.658195</td>\n",
       "      <td>0.783502</td>\n",
       "      <td>-0.874737</td>\n",
       "      <td>...</td>\n",
       "      <td>-0.609830</td>\n",
       "      <td>0.890477</td>\n",
       "      <td>0.790239</td>\n",
       "      <td>0.983879</td>\n",
       "      <td>0.714894</td>\n",
       "      <td>0.840159</td>\n",
       "      <td>-0.583997</td>\n",
       "      <td>-0.583997</td>\n",
       "      <td>-0.583997</td>\n",
       "      <td>-0.583997</td>\n",
       "    </tr>\n",
       "    <tr>\n",
       "      <th>ma.dif.10.volume.open.ratio.4096</th>\n",
       "      <td>-0.396806</td>\n",
       "      <td>0.574617</td>\n",
       "      <td>0.780649</td>\n",
       "      <td>-0.616358</td>\n",
       "      <td>0.719206</td>\n",
       "      <td>0.496308</td>\n",
       "      <td>0.989530</td>\n",
       "      <td>0.440654</td>\n",
       "      <td>0.618651</td>\n",
       "      <td>-0.913050</td>\n",
       "      <td>...</td>\n",
       "      <td>-0.661634</td>\n",
       "      <td>0.797367</td>\n",
       "      <td>0.592914</td>\n",
       "      <td>0.994718</td>\n",
       "      <td>0.516036</td>\n",
       "      <td>0.703398</td>\n",
       "      <td>-0.617050</td>\n",
       "      <td>-0.617050</td>\n",
       "      <td>-0.617050</td>\n",
       "      <td>-0.617050</td>\n",
       "    </tr>\n",
       "    <tr>\n",
       "      <th>kdj.k.volume.open.ratio.4096</th>\n",
       "      <td>-0.345664</td>\n",
       "      <td>0.684990</td>\n",
       "      <td>0.916572</td>\n",
       "      <td>-0.595037</td>\n",
       "      <td>0.828848</td>\n",
       "      <td>0.707745</td>\n",
       "      <td>0.969608</td>\n",
       "      <td>0.711238</td>\n",
       "      <td>0.797303</td>\n",
       "      <td>-0.889168</td>\n",
       "      <td>...</td>\n",
       "      <td>-0.634571</td>\n",
       "      <td>0.874907</td>\n",
       "      <td>0.788760</td>\n",
       "      <td>0.963173</td>\n",
       "      <td>0.772341</td>\n",
       "      <td>0.851711</td>\n",
       "      <td>-0.594244</td>\n",
       "      <td>-0.594244</td>\n",
       "      <td>-0.594244</td>\n",
       "      <td>-0.594244</td>\n",
       "    </tr>\n",
       "    <tr>\n",
       "      <th>kdj.j.volume.open.ratio.4096</th>\n",
       "      <td>-0.306321</td>\n",
       "      <td>0.658667</td>\n",
       "      <td>0.861171</td>\n",
       "      <td>-0.531247</td>\n",
       "      <td>0.835876</td>\n",
       "      <td>0.639267</td>\n",
       "      <td>0.988411</td>\n",
       "      <td>0.610995</td>\n",
       "      <td>0.779007</td>\n",
       "      <td>-0.889120</td>\n",
       "      <td>...</td>\n",
       "      <td>-0.577921</td>\n",
       "      <td>0.895825</td>\n",
       "      <td>0.724302</td>\n",
       "      <td>0.985990</td>\n",
       "      <td>0.671873</td>\n",
       "      <td>0.846113</td>\n",
       "      <td>-0.638609</td>\n",
       "      <td>-0.638609</td>\n",
       "      <td>-0.638609</td>\n",
       "      <td>-0.638609</td>\n",
       "    </tr>\n",
       "    <tr>\n",
       "      <th>trade.imb.trend.index.4096</th>\n",
       "      <td>0.997766</td>\n",
       "      <td>0.285113</td>\n",
       "      <td>-0.213981</td>\n",
       "      <td>0.933738</td>\n",
       "      <td>0.123317</td>\n",
       "      <td>0.060789</td>\n",
       "      <td>-0.413230</td>\n",
       "      <td>0.041549</td>\n",
       "      <td>0.077079</td>\n",
       "      <td>0.734555</td>\n",
       "      <td>...</td>\n",
       "      <td>0.923076</td>\n",
       "      <td>0.041312</td>\n",
       "      <td>-0.012008</td>\n",
       "      <td>-0.425883</td>\n",
       "      <td>-0.021331</td>\n",
       "      <td>0.005440</td>\n",
       "      <td>0.079070</td>\n",
       "      <td>0.079070</td>\n",
       "      <td>0.079070</td>\n",
       "      <td>0.079070</td>\n",
       "    </tr>\n",
       "    <tr>\n",
       "      <th>total.trade.imb.trend.index.4096</th>\n",
       "      <td>0.248097</td>\n",
       "      <td>0.991019</td>\n",
       "      <td>0.883674</td>\n",
       "      <td>-0.068737</td>\n",
       "      <td>0.922871</td>\n",
       "      <td>0.852929</td>\n",
       "      <td>0.737228</td>\n",
       "      <td>0.771888</td>\n",
       "      <td>0.817610</td>\n",
       "      <td>-0.403033</td>\n",
       "      <td>...</td>\n",
       "      <td>-0.108635</td>\n",
       "      <td>0.898101</td>\n",
       "      <td>0.872525</td>\n",
       "      <td>0.716792</td>\n",
       "      <td>0.787039</td>\n",
       "      <td>0.812777</td>\n",
       "      <td>-0.381760</td>\n",
       "      <td>-0.381760</td>\n",
       "      <td>-0.381760</td>\n",
       "      <td>-0.381760</td>\n",
       "    </tr>\n",
       "    <tr>\n",
       "      <th>nr.trend.index.4096</th>\n",
       "      <td>-0.235994</td>\n",
       "      <td>0.822956</td>\n",
       "      <td>0.991163</td>\n",
       "      <td>-0.504764</td>\n",
       "      <td>0.878356</td>\n",
       "      <td>0.853448</td>\n",
       "      <td>0.910113</td>\n",
       "      <td>0.822765</td>\n",
       "      <td>0.839733</td>\n",
       "      <td>-0.760721</td>\n",
       "      <td>...</td>\n",
       "      <td>-0.537479</td>\n",
       "      <td>0.888768</td>\n",
       "      <td>0.905451</td>\n",
       "      <td>0.893304</td>\n",
       "      <td>0.862766</td>\n",
       "      <td>0.863014</td>\n",
       "      <td>-0.432608</td>\n",
       "      <td>-0.432608</td>\n",
       "      <td>-0.432608</td>\n",
       "      <td>-0.432608</td>\n",
       "    </tr>\n",
       "    <tr>\n",
       "      <th>dbook.trend.index.4096</th>\n",
       "      <td>0.908671</td>\n",
       "      <td>-0.012704</td>\n",
       "      <td>-0.461006</td>\n",
       "      <td>0.997374</td>\n",
       "      <td>-0.114827</td>\n",
       "      <td>-0.144753</td>\n",
       "      <td>-0.635463</td>\n",
       "      <td>-0.178982</td>\n",
       "      <td>-0.119952</td>\n",
       "      <td>0.862119</td>\n",
       "      <td>...</td>\n",
       "      <td>1.000000</td>\n",
       "      <td>-0.194513</td>\n",
       "      <td>-0.238745</td>\n",
       "      <td>-0.646747</td>\n",
       "      <td>-0.264619</td>\n",
       "      <td>-0.197024</td>\n",
       "      <td>0.285157</td>\n",
       "      <td>0.285157</td>\n",
       "      <td>0.285157</td>\n",
       "      <td>0.285157</td>\n",
       "    </tr>\n",
       "    <tr>\n",
       "      <th>range.pos.trend.index.4096</th>\n",
       "      <td>0.093658</td>\n",
       "      <td>0.864639</td>\n",
       "      <td>0.889084</td>\n",
       "      <td>-0.144771</td>\n",
       "      <td>0.990462</td>\n",
       "      <td>0.825854</td>\n",
       "      <td>0.855769</td>\n",
       "      <td>0.769609</td>\n",
       "      <td>0.940001</td>\n",
       "      <td>-0.606878</td>\n",
       "      <td>...</td>\n",
       "      <td>-0.194513</td>\n",
       "      <td>1.000000</td>\n",
       "      <td>0.866330</td>\n",
       "      <td>0.839408</td>\n",
       "      <td>0.788596</td>\n",
       "      <td>0.961938</td>\n",
       "      <td>-0.549895</td>\n",
       "      <td>-0.549895</td>\n",
       "      <td>-0.549895</td>\n",
       "      <td>-0.549895</td>\n",
       "    </tr>\n",
       "    <tr>\n",
       "      <th>price.osci.trend.index.4096</th>\n",
       "      <td>0.028064</td>\n",
       "      <td>0.878996</td>\n",
       "      <td>0.946982</td>\n",
       "      <td>-0.207193</td>\n",
       "      <td>0.906985</td>\n",
       "      <td>0.991386</td>\n",
       "      <td>0.701030</td>\n",
       "      <td>0.937653</td>\n",
       "      <td>0.927917</td>\n",
       "      <td>-0.483394</td>\n",
       "      <td>...</td>\n",
       "      <td>-0.238745</td>\n",
       "      <td>0.866330</td>\n",
       "      <td>1.000000</td>\n",
       "      <td>0.670497</td>\n",
       "      <td>0.934363</td>\n",
       "      <td>0.903999</td>\n",
       "      <td>-0.351992</td>\n",
       "      <td>-0.351992</td>\n",
       "      <td>-0.351992</td>\n",
       "      <td>-0.351992</td>\n",
       "    </tr>\n",
       "    <tr>\n",
       "      <th>ma.dif.10.trend.index.4096</th>\n",
       "      <td>-0.374282</td>\n",
       "      <td>0.629169</td>\n",
       "      <td>0.835274</td>\n",
       "      <td>-0.601001</td>\n",
       "      <td>0.771849</td>\n",
       "      <td>0.580033</td>\n",
       "      <td>0.999033</td>\n",
       "      <td>0.521276</td>\n",
       "      <td>0.686026</td>\n",
       "      <td>-0.907398</td>\n",
       "      <td>...</td>\n",
       "      <td>-0.646747</td>\n",
       "      <td>0.839408</td>\n",
       "      <td>0.670497</td>\n",
       "      <td>1.000000</td>\n",
       "      <td>0.590086</td>\n",
       "      <td>0.761543</td>\n",
       "      <td>-0.616621</td>\n",
       "      <td>-0.616621</td>\n",
       "      <td>-0.616621</td>\n",
       "      <td>-0.616621</td>\n",
       "    </tr>\n",
       "    <tr>\n",
       "      <th>kdj.k.trend.index.4096</th>\n",
       "      <td>0.005135</td>\n",
       "      <td>0.783081</td>\n",
       "      <td>0.896764</td>\n",
       "      <td>-0.245071</td>\n",
       "      <td>0.828534</td>\n",
       "      <td>0.919560</td>\n",
       "      <td>0.618512</td>\n",
       "      <td>0.993199</td>\n",
       "      <td>0.896103</td>\n",
       "      <td>-0.475600</td>\n",
       "      <td>...</td>\n",
       "      <td>-0.264619</td>\n",
       "      <td>0.788596</td>\n",
       "      <td>0.934363</td>\n",
       "      <td>0.590086</td>\n",
       "      <td>1.000000</td>\n",
       "      <td>0.868418</td>\n",
       "      <td>-0.327385</td>\n",
       "      <td>-0.327385</td>\n",
       "      <td>-0.327385</td>\n",
       "      <td>-0.327385</td>\n",
       "    </tr>\n",
       "    <tr>\n",
       "      <th>kdj.j.trend.index.4096</th>\n",
       "      <td>0.053844</td>\n",
       "      <td>0.788822</td>\n",
       "      <td>0.876780</td>\n",
       "      <td>-0.151493</td>\n",
       "      <td>0.964296</td>\n",
       "      <td>0.869759</td>\n",
       "      <td>0.782442</td>\n",
       "      <td>0.859300</td>\n",
       "      <td>0.991790</td>\n",
       "      <td>-0.592210</td>\n",
       "      <td>...</td>\n",
       "      <td>-0.197024</td>\n",
       "      <td>0.961938</td>\n",
       "      <td>0.903999</td>\n",
       "      <td>0.761543</td>\n",
       "      <td>0.868418</td>\n",
       "      <td>1.000000</td>\n",
       "      <td>-0.564472</td>\n",
       "      <td>-0.564472</td>\n",
       "      <td>-0.564472</td>\n",
       "      <td>-0.564472</td>\n",
       "    </tr>\n",
       "    <tr>\n",
       "      <th>ret.4096</th>\n",
       "      <td>0.025316</td>\n",
       "      <td>-0.304812</td>\n",
       "      <td>-0.362056</td>\n",
       "      <td>0.221778</td>\n",
       "      <td>-0.487109</td>\n",
       "      <td>-0.253038</td>\n",
       "      <td>-0.603955</td>\n",
       "      <td>-0.261477</td>\n",
       "      <td>-0.492525</td>\n",
       "      <td>0.544229</td>\n",
       "      <td>...</td>\n",
       "      <td>0.285157</td>\n",
       "      <td>-0.549895</td>\n",
       "      <td>-0.351992</td>\n",
       "      <td>-0.616621</td>\n",
       "      <td>-0.327385</td>\n",
       "      <td>-0.564472</td>\n",
       "      <td>1.000000</td>\n",
       "      <td>1.000000</td>\n",
       "      <td>1.000000</td>\n",
       "      <td>1.000000</td>\n",
       "    </tr>\n",
       "    <tr>\n",
       "      <th>ret.4096.001</th>\n",
       "      <td>0.025316</td>\n",
       "      <td>-0.304812</td>\n",
       "      <td>-0.362056</td>\n",
       "      <td>0.221778</td>\n",
       "      <td>-0.487109</td>\n",
       "      <td>-0.253038</td>\n",
       "      <td>-0.603955</td>\n",
       "      <td>-0.261477</td>\n",
       "      <td>-0.492525</td>\n",
       "      <td>0.544229</td>\n",
       "      <td>...</td>\n",
       "      <td>0.285157</td>\n",
       "      <td>-0.549895</td>\n",
       "      <td>-0.351992</td>\n",
       "      <td>-0.616621</td>\n",
       "      <td>-0.327385</td>\n",
       "      <td>-0.564472</td>\n",
       "      <td>1.000000</td>\n",
       "      <td>1.000000</td>\n",
       "      <td>1.000000</td>\n",
       "      <td>1.000000</td>\n",
       "    </tr>\n",
       "    <tr>\n",
       "      <th>ret.4096.002</th>\n",
       "      <td>0.025316</td>\n",
       "      <td>-0.304812</td>\n",
       "      <td>-0.362056</td>\n",
       "      <td>0.221778</td>\n",
       "      <td>-0.487109</td>\n",
       "      <td>-0.253038</td>\n",
       "      <td>-0.603955</td>\n",
       "      <td>-0.261477</td>\n",
       "      <td>-0.492525</td>\n",
       "      <td>0.544229</td>\n",
       "      <td>...</td>\n",
       "      <td>0.285157</td>\n",
       "      <td>-0.549895</td>\n",
       "      <td>-0.351992</td>\n",
       "      <td>-0.616621</td>\n",
       "      <td>-0.327385</td>\n",
       "      <td>-0.564472</td>\n",
       "      <td>1.000000</td>\n",
       "      <td>1.000000</td>\n",
       "      <td>1.000000</td>\n",
       "      <td>1.000000</td>\n",
       "    </tr>\n",
       "    <tr>\n",
       "      <th>ret.4096.004</th>\n",
       "      <td>0.025316</td>\n",
       "      <td>-0.304812</td>\n",
       "      <td>-0.362056</td>\n",
       "      <td>0.221778</td>\n",
       "      <td>-0.487109</td>\n",
       "      <td>-0.253038</td>\n",
       "      <td>-0.603955</td>\n",
       "      <td>-0.261477</td>\n",
       "      <td>-0.492525</td>\n",
       "      <td>0.544229</td>\n",
       "      <td>...</td>\n",
       "      <td>0.285157</td>\n",
       "      <td>-0.549895</td>\n",
       "      <td>-0.351992</td>\n",
       "      <td>-0.616621</td>\n",
       "      <td>-0.327385</td>\n",
       "      <td>-0.564472</td>\n",
       "      <td>1.000000</td>\n",
       "      <td>1.000000</td>\n",
       "      <td>1.000000</td>\n",
       "      <td>1.000000</td>\n",
       "    </tr>\n",
       "  </tbody>\n",
       "</table>\n",
       "<p>49 rows × 49 columns</p>\n",
       "</div>"
      ],
      "text/plain": [
       "                                        trade.imb.4096  total.trade.imb.4096  \\\n",
       "trade.imb.4096                                1.000000              0.325696   \n",
       "total.trade.imb.4096                          0.325696              1.000000   \n",
       "nr.4096                                      -0.173841              0.855105   \n",
       "dbook.4096                                    0.923962              0.023887   \n",
       "range.pos.4096                                0.172929              0.906415   \n",
       "price.osci.4096                               0.096499              0.876228   \n",
       "ma.dif.10.4096                               -0.361561              0.653771   \n",
       "kdj.k.4096                                    0.065787              0.782443   \n",
       "kdj.j.4096                                    0.121754              0.809672   \n",
       "trade.imb.range.4096                          0.697150             -0.297392   \n",
       "total.trade.imb.range.4096                   -0.298877              0.681683   \n",
       "nr.range.4096                                -0.394423              0.614098   \n",
       "dbook.range.4096                              0.545184             -0.463682   \n",
       "range.pos.range.4096                         -0.334145              0.632802   \n",
       "price.osci.range.4096                        -0.362179              0.673958   \n",
       "ma.dif.10.range.4096                         -0.397384              0.570055   \n",
       "kdj.k.range.4096                             -0.382626              0.649671   \n",
       "kdj.j.range.4096                             -0.356124              0.625477   \n",
       "trade.imb.std.4096                            0.716691             -0.281120   \n",
       "total.trade.imb.std.4096                     -0.296201              0.680834   \n",
       "nr.std.4096                                  -0.399153              0.612252   \n",
       "dbook.std.4096                                0.558752             -0.453054   \n",
       "range.pos.std.4096                           -0.330548              0.630741   \n",
       "price.osci.std.4096                          -0.367954              0.670900   \n",
       "ma.dif.10.std.4096                           -0.398363              0.569736   \n",
       "kdj.k.std.4096                               -0.389086              0.644373   \n",
       "kdj.j.std.4096                               -0.354990              0.623188   \n",
       "trade.imb.volume.open.ratio.4096              0.840430             -0.138805   \n",
       "total.trade.imb.volume.open.ratio.4096       -0.230788              0.733230   \n",
       "nr.volume.open.ratio.4096                    -0.388757              0.635066   \n",
       "dbook.volume.open.ratio.4096                  0.647146             -0.380544   \n",
       "range.pos.volume.open.ratio.4096             -0.281908              0.667111   \n",
       "price.osci.volume.open.ratio.4096            -0.326053              0.715862   \n",
       "ma.dif.10.volume.open.ratio.4096             -0.396806              0.574617   \n",
       "kdj.k.volume.open.ratio.4096                 -0.345664              0.684990   \n",
       "kdj.j.volume.open.ratio.4096                 -0.306321              0.658667   \n",
       "trade.imb.trend.index.4096                    0.997766              0.285113   \n",
       "total.trade.imb.trend.index.4096              0.248097              0.991019   \n",
       "nr.trend.index.4096                          -0.235994              0.822956   \n",
       "dbook.trend.index.4096                        0.908671             -0.012704   \n",
       "range.pos.trend.index.4096                    0.093658              0.864639   \n",
       "price.osci.trend.index.4096                   0.028064              0.878996   \n",
       "ma.dif.10.trend.index.4096                   -0.374282              0.629169   \n",
       "kdj.k.trend.index.4096                        0.005135              0.783081   \n",
       "kdj.j.trend.index.4096                        0.053844              0.788822   \n",
       "ret.4096                                      0.025316             -0.304812   \n",
       "ret.4096.001                                  0.025316             -0.304812   \n",
       "ret.4096.002                                  0.025316             -0.304812   \n",
       "ret.4096.004                                  0.025316             -0.304812   \n",
       "\n",
       "                                         nr.4096  dbook.4096  range.pos.4096  \\\n",
       "trade.imb.4096                         -0.173841    0.923962        0.172929   \n",
       "total.trade.imb.4096                    0.855105    0.023887        0.906415   \n",
       "nr.4096                                 1.000000   -0.431253        0.895486   \n",
       "dbook.4096                             -0.431253    1.000000       -0.068245   \n",
       "range.pos.4096                          0.895486   -0.068245        1.000000   \n",
       "price.osci.4096                         0.910901   -0.118010        0.881767   \n",
       "ma.dif.10.4096                          0.857294   -0.590088        0.793204   \n",
       "kdj.k.4096                              0.871114   -0.161884        0.821912   \n",
       "kdj.j.4096                              0.869438   -0.078574        0.959719   \n",
       "trade.imb.range.4096                   -0.686087    0.832781       -0.517287   \n",
       "total.trade.imb.range.4096              0.830692   -0.550208        0.777544   \n",
       "nr.range.4096                           0.823791   -0.625053        0.745911   \n",
       "dbook.range.4096                       -0.761330    0.755333       -0.628357   \n",
       "range.pos.range.4096                    0.818391   -0.562872        0.778916   \n",
       "price.osci.range.4096                   0.879567   -0.599291        0.801382   \n",
       "ma.dif.10.range.4096                    0.774758   -0.616742        0.713619   \n",
       "kdj.k.range.4096                        0.882424   -0.627994        0.790447   \n",
       "kdj.j.range.4096                        0.838530   -0.581155        0.791498   \n",
       "trade.imb.std.4096                     -0.681540    0.847374       -0.499940   \n",
       "total.trade.imb.std.4096                0.828376   -0.548769        0.777093   \n",
       "nr.std.4096                             0.825379   -0.630121        0.745209   \n",
       "dbook.std.4096                         -0.758572    0.769316       -0.615787   \n",
       "range.pos.std.4096                      0.816181   -0.557870        0.780700   \n",
       "price.osci.std.4096                     0.881617   -0.605565        0.800441   \n",
       "ma.dif.10.std.4096                      0.775233   -0.617774        0.713623   \n",
       "kdj.k.std.4096                          0.884122   -0.635086        0.788224   \n",
       "kdj.j.std.4096                          0.838782   -0.578839        0.793795   \n",
       "trade.imb.volume.open.ratio.4096       -0.586975    0.921166       -0.344492   \n",
       "total.trade.imb.volume.open.ratio.4096  0.851746   -0.496977        0.817234   \n",
       "nr.volume.open.ratio.4096               0.847992   -0.622243        0.766809   \n",
       "dbook.volume.open.ratio.4096           -0.720444    0.838772       -0.532517   \n",
       "range.pos.volume.open.ratio.4096        0.834783   -0.514150        0.817815   \n",
       "price.osci.volume.open.ratio.4096       0.916558   -0.566009        0.843889   \n",
       "ma.dif.10.volume.open.ratio.4096        0.780649   -0.616358        0.719206   \n",
       "kdj.k.volume.open.ratio.4096            0.916572   -0.595037        0.828848   \n",
       "kdj.j.volume.open.ratio.4096            0.861171   -0.531247        0.835876   \n",
       "trade.imb.trend.index.4096             -0.213981    0.933738        0.123317   \n",
       "total.trade.imb.trend.index.4096        0.883674   -0.068737        0.922871   \n",
       "nr.trend.index.4096                     0.991163   -0.504764        0.878356   \n",
       "dbook.trend.index.4096                 -0.461006    0.997374       -0.114827   \n",
       "range.pos.trend.index.4096              0.889084   -0.144771        0.990462   \n",
       "price.osci.trend.index.4096             0.946982   -0.207193        0.906985   \n",
       "ma.dif.10.trend.index.4096              0.835274   -0.601001        0.771849   \n",
       "kdj.k.trend.index.4096                  0.896764   -0.245071        0.828534   \n",
       "kdj.j.trend.index.4096                  0.876780   -0.151493        0.964296   \n",
       "ret.4096                               -0.362056    0.221778       -0.487109   \n",
       "ret.4096.001                           -0.362056    0.221778       -0.487109   \n",
       "ret.4096.002                           -0.362056    0.221778       -0.487109   \n",
       "ret.4096.004                           -0.362056    0.221778       -0.487109   \n",
       "\n",
       "                                        price.osci.4096  ma.dif.10.4096  \\\n",
       "trade.imb.4096                                 0.096499       -0.361561   \n",
       "total.trade.imb.4096                           0.876228        0.653771   \n",
       "nr.4096                                        0.910901        0.857294   \n",
       "dbook.4096                                    -0.118010       -0.590088   \n",
       "range.pos.4096                                 0.881767        0.793204   \n",
       "price.osci.4096                                1.000000        0.614321   \n",
       "ma.dif.10.4096                                 0.614321        1.000000   \n",
       "kdj.k.4096                                     0.937262        0.553211   \n",
       "kdj.j.4096                                     0.908752        0.711421   \n",
       "trade.imb.range.4096                          -0.379784       -0.900000   \n",
       "total.trade.imb.range.4096                     0.571962        0.989045   \n",
       "nr.range.4096                                  0.550158        0.995499   \n",
       "dbook.range.4096                              -0.456179       -0.960324   \n",
       "range.pos.range.4096                           0.557288        0.994839   \n",
       "price.osci.range.4096                          0.641833        0.998606   \n",
       "ma.dif.10.range.4096                           0.487662        0.987934   \n",
       "kdj.k.range.4096                               0.637000        0.986038   \n",
       "kdj.j.range.4096                               0.588421        0.995157   \n",
       "trade.imb.std.4096                            -0.372686       -0.886781   \n",
       "total.trade.imb.std.4096                       0.570838        0.989079   \n",
       "nr.std.4096                                    0.553167        0.995906   \n",
       "dbook.std.4096                                -0.450688       -0.953299   \n",
       "range.pos.std.4096                             0.555284        0.993937   \n",
       "price.osci.std.4096                            0.645957        0.998007   \n",
       "ma.dif.10.std.4096                             0.488180        0.988063   \n",
       "kdj.k.std.4096                                 0.643587        0.982519   \n",
       "kdj.j.std.4096                                 0.589896        0.993582   \n",
       "trade.imb.volume.open.ratio.4096              -0.268249       -0.797977   \n",
       "total.trade.imb.volume.open.ratio.4096         0.616145        0.983992   \n",
       "nr.volume.open.ratio.4096                      0.587211        0.998092   \n",
       "dbook.volume.open.ratio.4096                  -0.396350       -0.922396   \n",
       "range.pos.volume.open.ratio.4096               0.593455        0.992552   \n",
       "price.osci.volume.open.ratio.4096              0.712995        0.990406   \n",
       "ma.dif.10.volume.open.ratio.4096               0.496308        0.989530   \n",
       "kdj.k.volume.open.ratio.4096                   0.707745        0.969608   \n",
       "kdj.j.volume.open.ratio.4096                   0.639267        0.988411   \n",
       "trade.imb.trend.index.4096                     0.060789       -0.413230   \n",
       "total.trade.imb.trend.index.4096               0.852929        0.737228   \n",
       "nr.trend.index.4096                            0.853448        0.910113   \n",
       "dbook.trend.index.4096                        -0.144753       -0.635463   \n",
       "range.pos.trend.index.4096                     0.825854        0.855769   \n",
       "price.osci.trend.index.4096                    0.991386        0.701030   \n",
       "ma.dif.10.trend.index.4096                     0.580033        0.999033   \n",
       "kdj.k.trend.index.4096                         0.919560        0.618512   \n",
       "kdj.j.trend.index.4096                         0.869759        0.782442   \n",
       "ret.4096                                      -0.253038       -0.603955   \n",
       "ret.4096.001                                  -0.253038       -0.603955   \n",
       "ret.4096.002                                  -0.253038       -0.603955   \n",
       "ret.4096.004                                  -0.253038       -0.603955   \n",
       "\n",
       "                                        kdj.k.4096  kdj.j.4096  \\\n",
       "trade.imb.4096                            0.065787    0.121754   \n",
       "total.trade.imb.4096                      0.782443    0.809672   \n",
       "nr.4096                                   0.871114    0.869438   \n",
       "dbook.4096                               -0.161884   -0.078574   \n",
       "range.pos.4096                            0.821912    0.959719   \n",
       "price.osci.4096                           0.937262    0.908752   \n",
       "ma.dif.10.4096                            0.553211    0.711421   \n",
       "kdj.k.4096                                1.000000    0.899291   \n",
       "kdj.j.4096                                0.899291    1.000000   \n",
       "trade.imb.range.4096                     -0.395095   -0.503561   \n",
       "total.trade.imb.range.4096                0.499683    0.658925   \n",
       "nr.range.4096                             0.499452    0.651755   \n",
       "dbook.range.4096                         -0.459072   -0.573326   \n",
       "range.pos.range.4096                      0.505003    0.683377   \n",
       "price.osci.range.4096                     0.586074    0.723371   \n",
       "ma.dif.10.range.4096                      0.431890    0.610970   \n",
       "kdj.k.range.4096                          0.629633    0.734708   \n",
       "kdj.j.range.4096                          0.555002    0.720537   \n",
       "trade.imb.std.4096                       -0.397374   -0.490953   \n",
       "total.trade.imb.std.4096                  0.497810    0.659135   \n",
       "nr.std.4096                               0.503223    0.653983   \n",
       "dbook.std.4096                           -0.461582   -0.564524   \n",
       "range.pos.std.4096                        0.505295    0.686127   \n",
       "price.osci.std.4096                       0.593072    0.727208   \n",
       "ma.dif.10.std.4096                        0.432918    0.611512   \n",
       "kdj.k.std.4096                            0.640885    0.740709   \n",
       "kdj.j.std.4096                            0.561105    0.726193   \n",
       "trade.imb.volume.open.ratio.4096         -0.287409   -0.344616   \n",
       "total.trade.imb.volume.open.ratio.4096    0.541529    0.698990   \n",
       "nr.volume.open.ratio.4096                 0.537688    0.681274   \n",
       "dbook.volume.open.ratio.4096             -0.406863   -0.483976   \n",
       "range.pos.volume.open.ratio.4096          0.542196    0.726956   \n",
       "price.osci.volume.open.ratio.4096         0.658195    0.783502   \n",
       "ma.dif.10.volume.open.ratio.4096          0.440654    0.618651   \n",
       "kdj.k.volume.open.ratio.4096              0.711238    0.797303   \n",
       "kdj.j.volume.open.ratio.4096              0.610995    0.779007   \n",
       "trade.imb.trend.index.4096                0.041549    0.077079   \n",
       "total.trade.imb.trend.index.4096          0.771888    0.817610   \n",
       "nr.trend.index.4096                       0.822765    0.839733   \n",
       "dbook.trend.index.4096                   -0.178982   -0.119952   \n",
       "range.pos.trend.index.4096                0.769609    0.940001   \n",
       "price.osci.trend.index.4096               0.937653    0.927917   \n",
       "ma.dif.10.trend.index.4096                0.521276    0.686026   \n",
       "kdj.k.trend.index.4096                    0.993199    0.896103   \n",
       "kdj.j.trend.index.4096                    0.859300    0.991790   \n",
       "ret.4096                                 -0.261477   -0.492525   \n",
       "ret.4096.001                             -0.261477   -0.492525   \n",
       "ret.4096.002                             -0.261477   -0.492525   \n",
       "ret.4096.004                             -0.261477   -0.492525   \n",
       "\n",
       "                                        trade.imb.range.4096  ...  \\\n",
       "trade.imb.4096                                      0.697150  ...   \n",
       "total.trade.imb.4096                               -0.297392  ...   \n",
       "nr.4096                                            -0.686087  ...   \n",
       "dbook.4096                                          0.832781  ...   \n",
       "range.pos.4096                                     -0.517287  ...   \n",
       "price.osci.4096                                    -0.379784  ...   \n",
       "ma.dif.10.4096                                     -0.900000  ...   \n",
       "kdj.k.4096                                         -0.395095  ...   \n",
       "kdj.j.4096                                         -0.503561  ...   \n",
       "trade.imb.range.4096                                1.000000  ...   \n",
       "total.trade.imb.range.4096                         -0.855667  ...   \n",
       "nr.range.4096                                      -0.912441  ...   \n",
       "dbook.range.4096                                    0.972555  ...   \n",
       "range.pos.range.4096                               -0.892107  ...   \n",
       "price.osci.range.4096                              -0.896642  ...   \n",
       "ma.dif.10.range.4096                               -0.912098  ...   \n",
       "kdj.k.range.4096                                   -0.913600  ...   \n",
       "kdj.j.range.4096                                   -0.910629  ...   \n",
       "trade.imb.std.4096                                  0.998983  ...   \n",
       "total.trade.imb.std.4096                           -0.855218  ...   \n",
       "nr.std.4096                                        -0.915349  ...   \n",
       "dbook.std.4096                                      0.974419  ...   \n",
       "range.pos.std.4096                                 -0.891666  ...   \n",
       "price.osci.std.4096                                -0.900118  ...   \n",
       "ma.dif.10.std.4096                                 -0.912810  ...   \n",
       "kdj.k.std.4096                                     -0.916188  ...   \n",
       "kdj.j.std.4096                                     -0.911400  ...   \n",
       "trade.imb.volume.open.ratio.4096                    0.973152  ...   \n",
       "total.trade.imb.volume.open.ratio.4096             -0.821959  ...   \n",
       "nr.volume.open.ratio.4096                          -0.911321  ...   \n",
       "dbook.volume.open.ratio.4096                        0.981971  ...   \n",
       "range.pos.volume.open.ratio.4096                   -0.870792  ...   \n",
       "price.osci.volume.open.ratio.4096                  -0.874737  ...   \n",
       "ma.dif.10.volume.open.ratio.4096                   -0.913050  ...   \n",
       "kdj.k.volume.open.ratio.4096                       -0.889168  ...   \n",
       "kdj.j.volume.open.ratio.4096                       -0.889120  ...   \n",
       "trade.imb.trend.index.4096                          0.734555  ...   \n",
       "total.trade.imb.trend.index.4096                   -0.403033  ...   \n",
       "nr.trend.index.4096                                -0.760721  ...   \n",
       "dbook.trend.index.4096                              0.862119  ...   \n",
       "range.pos.trend.index.4096                         -0.606878  ...   \n",
       "price.osci.trend.index.4096                        -0.483394  ...   \n",
       "ma.dif.10.trend.index.4096                         -0.907398  ...   \n",
       "kdj.k.trend.index.4096                             -0.475600  ...   \n",
       "kdj.j.trend.index.4096                             -0.592210  ...   \n",
       "ret.4096                                            0.544229  ...   \n",
       "ret.4096.001                                        0.544229  ...   \n",
       "ret.4096.002                                        0.544229  ...   \n",
       "ret.4096.004                                        0.544229  ...   \n",
       "\n",
       "                                        dbook.trend.index.4096  \\\n",
       "trade.imb.4096                                        0.908671   \n",
       "total.trade.imb.4096                                 -0.012704   \n",
       "nr.4096                                              -0.461006   \n",
       "dbook.4096                                            0.997374   \n",
       "range.pos.4096                                       -0.114827   \n",
       "price.osci.4096                                      -0.144753   \n",
       "ma.dif.10.4096                                       -0.635463   \n",
       "kdj.k.4096                                           -0.178982   \n",
       "kdj.j.4096                                           -0.119952   \n",
       "trade.imb.range.4096                                  0.862119   \n",
       "total.trade.imb.range.4096                           -0.596018   \n",
       "nr.range.4096                                        -0.668345   \n",
       "dbook.range.4096                                      0.792513   \n",
       "range.pos.range.4096                                 -0.609304   \n",
       "price.osci.range.4096                                -0.642927   \n",
       "ma.dif.10.range.4096                                 -0.661979   \n",
       "kdj.k.range.4096                                     -0.667956   \n",
       "kdj.j.range.4096                                     -0.626674   \n",
       "trade.imb.std.4096                                    0.873776   \n",
       "total.trade.imb.std.4096                             -0.595275   \n",
       "nr.std.4096                                          -0.673577   \n",
       "dbook.std.4096                                        0.804968   \n",
       "range.pos.std.4096                                   -0.604381   \n",
       "price.osci.std.4096                                  -0.649249   \n",
       "ma.dif.10.std.4096                                   -0.662981   \n",
       "kdj.k.std.4096                                       -0.675150   \n",
       "kdj.j.std.4096                                       -0.624172   \n",
       "trade.imb.volume.open.ratio.4096                      0.937053   \n",
       "total.trade.imb.volume.open.ratio.4096               -0.544738   \n",
       "nr.volume.open.ratio.4096                            -0.665385   \n",
       "dbook.volume.open.ratio.4096                          0.868732   \n",
       "range.pos.volume.open.ratio.4096                     -0.562127   \n",
       "price.osci.volume.open.ratio.4096                    -0.609830   \n",
       "ma.dif.10.volume.open.ratio.4096                     -0.661634   \n",
       "kdj.k.volume.open.ratio.4096                         -0.634571   \n",
       "kdj.j.volume.open.ratio.4096                         -0.577921   \n",
       "trade.imb.trend.index.4096                            0.923076   \n",
       "total.trade.imb.trend.index.4096                     -0.108635   \n",
       "nr.trend.index.4096                                  -0.537479   \n",
       "dbook.trend.index.4096                                1.000000   \n",
       "range.pos.trend.index.4096                           -0.194513   \n",
       "price.osci.trend.index.4096                          -0.238745   \n",
       "ma.dif.10.trend.index.4096                           -0.646747   \n",
       "kdj.k.trend.index.4096                               -0.264619   \n",
       "kdj.j.trend.index.4096                               -0.197024   \n",
       "ret.4096                                              0.285157   \n",
       "ret.4096.001                                          0.285157   \n",
       "ret.4096.002                                          0.285157   \n",
       "ret.4096.004                                          0.285157   \n",
       "\n",
       "                                        range.pos.trend.index.4096  \\\n",
       "trade.imb.4096                                            0.093658   \n",
       "total.trade.imb.4096                                      0.864639   \n",
       "nr.4096                                                   0.889084   \n",
       "dbook.4096                                               -0.144771   \n",
       "range.pos.4096                                            0.990462   \n",
       "price.osci.4096                                           0.825854   \n",
       "ma.dif.10.4096                                            0.855769   \n",
       "kdj.k.4096                                                0.769609   \n",
       "kdj.j.4096                                                0.940001   \n",
       "trade.imb.range.4096                                     -0.606878   \n",
       "total.trade.imb.range.4096                                0.841002   \n",
       "nr.range.4096                                             0.816470   \n",
       "dbook.range.4096                                         -0.710937   \n",
       "range.pos.range.4096                                      0.848979   \n",
       "price.osci.range.4096                                     0.859119   \n",
       "ma.dif.10.range.4096                                      0.792696   \n",
       "kdj.k.range.4096                                          0.848464   \n",
       "kdj.j.range.4096                                          0.858950   \n",
       "trade.imb.std.4096                                       -0.588715   \n",
       "total.trade.imb.std.4096                                  0.840778   \n",
       "nr.std.4096                                               0.815562   \n",
       "dbook.std.4096                                           -0.698163   \n",
       "range.pos.std.4096                                        0.851158   \n",
       "price.osci.std.4096                                       0.857774   \n",
       "ma.dif.10.std.4096                                        0.792679   \n",
       "kdj.k.std.4096                                            0.845218   \n",
       "kdj.j.std.4096                                            0.861150   \n",
       "trade.imb.volume.open.ratio.4096                         -0.435330   \n",
       "total.trade.imb.volume.open.ratio.4096                    0.872686   \n",
       "nr.volume.open.ratio.4096                                 0.832554   \n",
       "dbook.volume.open.ratio.4096                             -0.617978   \n",
       "range.pos.volume.open.ratio.4096                          0.882522   \n",
       "price.osci.volume.open.ratio.4096                         0.890477   \n",
       "ma.dif.10.volume.open.ratio.4096                          0.797367   \n",
       "kdj.k.volume.open.ratio.4096                              0.874907   \n",
       "kdj.j.volume.open.ratio.4096                              0.895825   \n",
       "trade.imb.trend.index.4096                                0.041312   \n",
       "total.trade.imb.trend.index.4096                          0.898101   \n",
       "nr.trend.index.4096                                       0.888768   \n",
       "dbook.trend.index.4096                                   -0.194513   \n",
       "range.pos.trend.index.4096                                1.000000   \n",
       "price.osci.trend.index.4096                               0.866330   \n",
       "ma.dif.10.trend.index.4096                                0.839408   \n",
       "kdj.k.trend.index.4096                                    0.788596   \n",
       "kdj.j.trend.index.4096                                    0.961938   \n",
       "ret.4096                                                 -0.549895   \n",
       "ret.4096.001                                             -0.549895   \n",
       "ret.4096.002                                             -0.549895   \n",
       "ret.4096.004                                             -0.549895   \n",
       "\n",
       "                                        price.osci.trend.index.4096  \\\n",
       "trade.imb.4096                                             0.028064   \n",
       "total.trade.imb.4096                                       0.878996   \n",
       "nr.4096                                                    0.946982   \n",
       "dbook.4096                                                -0.207193   \n",
       "range.pos.4096                                             0.906985   \n",
       "price.osci.4096                                            0.991386   \n",
       "ma.dif.10.4096                                             0.701030   \n",
       "kdj.k.4096                                                 0.937653   \n",
       "kdj.j.4096                                                 0.927917   \n",
       "trade.imb.range.4096                                      -0.483394   \n",
       "total.trade.imb.range.4096                                 0.658767   \n",
       "nr.range.4096                                              0.642676   \n",
       "dbook.range.4096                                          -0.561721   \n",
       "range.pos.range.4096                                       0.647936   \n",
       "price.osci.range.4096                                      0.726306   \n",
       "ma.dif.10.range.4096                                       0.584786   \n",
       "kdj.k.range.4096                                           0.725010   \n",
       "kdj.j.range.4096                                           0.679069   \n",
       "trade.imb.std.4096                                        -0.474926   \n",
       "total.trade.imb.std.4096                                   0.658384   \n",
       "nr.std.4096                                                0.646149   \n",
       "dbook.std.4096                                            -0.556597   \n",
       "range.pos.std.4096                                         0.645937   \n",
       "price.osci.std.4096                                        0.730978   \n",
       "ma.dif.10.std.4096                                         0.585372   \n",
       "kdj.k.std.4096                                             0.732206   \n",
       "kdj.j.std.4096                                             0.680449   \n",
       "trade.imb.volume.open.ratio.4096                          -0.365696   \n",
       "total.trade.imb.volume.open.ratio.4096                     0.698451   \n",
       "nr.volume.open.ratio.4096                                  0.677112   \n",
       "dbook.volume.open.ratio.4096                              -0.502899   \n",
       "range.pos.volume.open.ratio.4096                           0.679913   \n",
       "price.osci.volume.open.ratio.4096                          0.790239   \n",
       "ma.dif.10.volume.open.ratio.4096                           0.592914   \n",
       "kdj.k.volume.open.ratio.4096                               0.788760   \n",
       "kdj.j.volume.open.ratio.4096                               0.724302   \n",
       "trade.imb.trend.index.4096                                -0.012008   \n",
       "total.trade.imb.trend.index.4096                           0.872525   \n",
       "nr.trend.index.4096                                        0.905451   \n",
       "dbook.trend.index.4096                                    -0.238745   \n",
       "range.pos.trend.index.4096                                 0.866330   \n",
       "price.osci.trend.index.4096                                1.000000   \n",
       "ma.dif.10.trend.index.4096                                 0.670497   \n",
       "kdj.k.trend.index.4096                                     0.934363   \n",
       "kdj.j.trend.index.4096                                     0.903999   \n",
       "ret.4096                                                  -0.351992   \n",
       "ret.4096.001                                              -0.351992   \n",
       "ret.4096.002                                              -0.351992   \n",
       "ret.4096.004                                              -0.351992   \n",
       "\n",
       "                                        ma.dif.10.trend.index.4096  \\\n",
       "trade.imb.4096                                           -0.374282   \n",
       "total.trade.imb.4096                                      0.629169   \n",
       "nr.4096                                                   0.835274   \n",
       "dbook.4096                                               -0.601001   \n",
       "range.pos.4096                                            0.771849   \n",
       "price.osci.4096                                           0.580033   \n",
       "ma.dif.10.4096                                            0.999033   \n",
       "kdj.k.4096                                                0.521276   \n",
       "kdj.j.4096                                                0.686026   \n",
       "trade.imb.range.4096                                     -0.907398   \n",
       "total.trade.imb.range.4096                                0.990391   \n",
       "nr.range.4096                                             0.997890   \n",
       "dbook.range.4096                                         -0.966953   \n",
       "range.pos.range.4096                                      0.996943   \n",
       "price.osci.range.4096                                     0.996130   \n",
       "ma.dif.10.range.4096                                      0.993550   \n",
       "kdj.k.range.4096                                          0.983758   \n",
       "kdj.j.range.4096                                          0.995636   \n",
       "trade.imb.std.4096                                       -0.893908   \n",
       "total.trade.imb.std.4096                                  0.990615   \n",
       "nr.std.4096                                               0.998215   \n",
       "dbook.std.4096                                           -0.960010   \n",
       "range.pos.std.4096                                        0.996106   \n",
       "price.osci.std.4096                                       0.995381   \n",
       "ma.dif.10.std.4096                                        0.993659   \n",
       "kdj.k.std.4096                                            0.979941   \n",
       "kdj.j.std.4096                                            0.993925   \n",
       "trade.imb.volume.open.ratio.4096                         -0.806799   \n",
       "total.trade.imb.volume.open.ratio.4096                    0.983192   \n",
       "nr.volume.open.ratio.4096                                 0.998567   \n",
       "dbook.volume.open.ratio.4096                             -0.930560   \n",
       "range.pos.volume.open.ratio.4096                          0.992731   \n",
       "price.osci.volume.open.ratio.4096                         0.983879   \n",
       "ma.dif.10.volume.open.ratio.4096                          0.994718   \n",
       "kdj.k.volume.open.ratio.4096                              0.963173   \n",
       "kdj.j.volume.open.ratio.4096                              0.985990   \n",
       "trade.imb.trend.index.4096                               -0.425883   \n",
       "total.trade.imb.trend.index.4096                          0.716792   \n",
       "nr.trend.index.4096                                       0.893304   \n",
       "dbook.trend.index.4096                                   -0.646747   \n",
       "range.pos.trend.index.4096                                0.839408   \n",
       "price.osci.trend.index.4096                               0.670497   \n",
       "ma.dif.10.trend.index.4096                                1.000000   \n",
       "kdj.k.trend.index.4096                                    0.590086   \n",
       "kdj.j.trend.index.4096                                    0.761543   \n",
       "ret.4096                                                 -0.616621   \n",
       "ret.4096.001                                             -0.616621   \n",
       "ret.4096.002                                             -0.616621   \n",
       "ret.4096.004                                             -0.616621   \n",
       "\n",
       "                                        kdj.k.trend.index.4096  \\\n",
       "trade.imb.4096                                        0.005135   \n",
       "total.trade.imb.4096                                  0.783081   \n",
       "nr.4096                                               0.896764   \n",
       "dbook.4096                                           -0.245071   \n",
       "range.pos.4096                                        0.828534   \n",
       "price.osci.4096                                       0.919560   \n",
       "ma.dif.10.4096                                        0.618512   \n",
       "kdj.k.4096                                            0.993199   \n",
       "kdj.j.4096                                            0.896103   \n",
       "trade.imb.range.4096                                 -0.475600   \n",
       "total.trade.imb.range.4096                            0.568797   \n",
       "nr.range.4096                                         0.572224   \n",
       "dbook.range.4096                                     -0.543977   \n",
       "range.pos.range.4096                                  0.574155   \n",
       "price.osci.range.4096                                 0.650509   \n",
       "ma.dif.10.range.4096                                  0.507922   \n",
       "kdj.k.range.4096                                      0.698220   \n",
       "kdj.j.range.4096                                      0.622743   \n",
       "trade.imb.std.4096                                   -0.477575   \n",
       "total.trade.imb.std.4096                              0.567343   \n",
       "nr.std.4096                                           0.576219   \n",
       "dbook.std.4096                                       -0.547484   \n",
       "range.pos.std.4096                                    0.574216   \n",
       "price.osci.std.4096                                   0.657768   \n",
       "ma.dif.10.std.4096                                    0.508996   \n",
       "kdj.k.std.4096                                        0.709617   \n",
       "kdj.j.std.4096                                        0.628522   \n",
       "trade.imb.volume.open.ratio.4096                     -0.366219   \n",
       "total.trade.imb.volume.open.ratio.4096                0.606374   \n",
       "nr.volume.open.ratio.4096                             0.607694   \n",
       "dbook.volume.open.ratio.4096                         -0.495555   \n",
       "range.pos.volume.open.ratio.4096                      0.606417   \n",
       "price.osci.volume.open.ratio.4096                     0.714894   \n",
       "ma.dif.10.volume.open.ratio.4096                      0.516036   \n",
       "kdj.k.volume.open.ratio.4096                          0.772341   \n",
       "kdj.j.volume.open.ratio.4096                          0.671873   \n",
       "trade.imb.trend.index.4096                           -0.021331   \n",
       "total.trade.imb.trend.index.4096                      0.787039   \n",
       "nr.trend.index.4096                                   0.862766   \n",
       "dbook.trend.index.4096                               -0.264619   \n",
       "range.pos.trend.index.4096                            0.788596   \n",
       "price.osci.trend.index.4096                           0.934363   \n",
       "ma.dif.10.trend.index.4096                            0.590086   \n",
       "kdj.k.trend.index.4096                                1.000000   \n",
       "kdj.j.trend.index.4096                                0.868418   \n",
       "ret.4096                                             -0.327385   \n",
       "ret.4096.001                                         -0.327385   \n",
       "ret.4096.002                                         -0.327385   \n",
       "ret.4096.004                                         -0.327385   \n",
       "\n",
       "                                        kdj.j.trend.index.4096  ret.4096  \\\n",
       "trade.imb.4096                                        0.053844  0.025316   \n",
       "total.trade.imb.4096                                  0.788822 -0.304812   \n",
       "nr.4096                                               0.876780 -0.362056   \n",
       "dbook.4096                                           -0.151493  0.221778   \n",
       "range.pos.4096                                        0.964296 -0.487109   \n",
       "price.osci.4096                                       0.869759 -0.253038   \n",
       "ma.dif.10.4096                                        0.782442 -0.603955   \n",
       "kdj.k.4096                                            0.859300 -0.261477   \n",
       "kdj.j.4096                                            0.991790 -0.492525   \n",
       "trade.imb.range.4096                                 -0.592210  0.544229   \n",
       "total.trade.imb.range.4096                            0.732151 -0.584637   \n",
       "nr.range.4096                                         0.729733 -0.592899   \n",
       "dbook.range.4096                                     -0.659830  0.616026   \n",
       "range.pos.range.4096                                  0.760803 -0.616264   \n",
       "price.osci.range.4096                                 0.790116 -0.586685   \n",
       "ma.dif.10.range.4096                                  0.696552 -0.616598   \n",
       "kdj.k.range.4096                                      0.800217 -0.592917   \n",
       "kdj.j.range.4096                                      0.794777 -0.630873   \n",
       "trade.imb.std.4096                                   -0.578073  0.514061   \n",
       "total.trade.imb.std.4096                              0.732768 -0.595943   \n",
       "nr.std.4096                                           0.731844 -0.599510   \n",
       "dbook.std.4096                                       -0.650544  0.607379   \n",
       "range.pos.std.4096                                    0.763729 -0.617601   \n",
       "price.osci.std.4096                                   0.793597 -0.594674   \n",
       "ma.dif.10.std.4096                                    0.697064 -0.617111   \n",
       "kdj.k.std.4096                                        0.805308 -0.606075   \n",
       "kdj.j.std.4096                                        0.800083 -0.631908   \n",
       "trade.imb.volume.open.ratio.4096                     -0.431226  0.389484   \n",
       "total.trade.imb.volume.open.ratio.4096                0.765768 -0.597913   \n",
       "nr.volume.open.ratio.4096                             0.754948 -0.591800   \n",
       "dbook.volume.open.ratio.4096                         -0.571889  0.550097   \n",
       "range.pos.volume.open.ratio.4096                      0.799533 -0.624271   \n",
       "price.osci.volume.open.ratio.4096                     0.840159 -0.583997   \n",
       "ma.dif.10.volume.open.ratio.4096                      0.703398 -0.617050   \n",
       "kdj.k.volume.open.ratio.4096                          0.851711 -0.594244   \n",
       "kdj.j.volume.open.ratio.4096                          0.846113 -0.638609   \n",
       "trade.imb.trend.index.4096                            0.005440  0.079070   \n",
       "total.trade.imb.trend.index.4096                      0.812777 -0.381760   \n",
       "nr.trend.index.4096                                   0.863014 -0.432608   \n",
       "dbook.trend.index.4096                               -0.197024  0.285157   \n",
       "range.pos.trend.index.4096                            0.961938 -0.549895   \n",
       "price.osci.trend.index.4096                           0.903999 -0.351992   \n",
       "ma.dif.10.trend.index.4096                            0.761543 -0.616621   \n",
       "kdj.k.trend.index.4096                                0.868418 -0.327385   \n",
       "kdj.j.trend.index.4096                                1.000000 -0.564472   \n",
       "ret.4096                                             -0.564472  1.000000   \n",
       "ret.4096.001                                         -0.564472  1.000000   \n",
       "ret.4096.002                                         -0.564472  1.000000   \n",
       "ret.4096.004                                         -0.564472  1.000000   \n",
       "\n",
       "                                        ret.4096.001  ret.4096.002  \\\n",
       "trade.imb.4096                              0.025316      0.025316   \n",
       "total.trade.imb.4096                       -0.304812     -0.304812   \n",
       "nr.4096                                    -0.362056     -0.362056   \n",
       "dbook.4096                                  0.221778      0.221778   \n",
       "range.pos.4096                             -0.487109     -0.487109   \n",
       "price.osci.4096                            -0.253038     -0.253038   \n",
       "ma.dif.10.4096                             -0.603955     -0.603955   \n",
       "kdj.k.4096                                 -0.261477     -0.261477   \n",
       "kdj.j.4096                                 -0.492525     -0.492525   \n",
       "trade.imb.range.4096                        0.544229      0.544229   \n",
       "total.trade.imb.range.4096                 -0.584637     -0.584637   \n",
       "nr.range.4096                              -0.592899     -0.592899   \n",
       "dbook.range.4096                            0.616026      0.616026   \n",
       "range.pos.range.4096                       -0.616264     -0.616264   \n",
       "price.osci.range.4096                      -0.586685     -0.586685   \n",
       "ma.dif.10.range.4096                       -0.616598     -0.616598   \n",
       "kdj.k.range.4096                           -0.592917     -0.592917   \n",
       "kdj.j.range.4096                           -0.630873     -0.630873   \n",
       "trade.imb.std.4096                          0.514061      0.514061   \n",
       "total.trade.imb.std.4096                   -0.595943     -0.595943   \n",
       "nr.std.4096                                -0.599510     -0.599510   \n",
       "dbook.std.4096                              0.607379      0.607379   \n",
       "range.pos.std.4096                         -0.617601     -0.617601   \n",
       "price.osci.std.4096                        -0.594674     -0.594674   \n",
       "ma.dif.10.std.4096                         -0.617111     -0.617111   \n",
       "kdj.k.std.4096                             -0.606075     -0.606075   \n",
       "kdj.j.std.4096                             -0.631908     -0.631908   \n",
       "trade.imb.volume.open.ratio.4096            0.389484      0.389484   \n",
       "total.trade.imb.volume.open.ratio.4096     -0.597913     -0.597913   \n",
       "nr.volume.open.ratio.4096                  -0.591800     -0.591800   \n",
       "dbook.volume.open.ratio.4096                0.550097      0.550097   \n",
       "range.pos.volume.open.ratio.4096           -0.624271     -0.624271   \n",
       "price.osci.volume.open.ratio.4096          -0.583997     -0.583997   \n",
       "ma.dif.10.volume.open.ratio.4096           -0.617050     -0.617050   \n",
       "kdj.k.volume.open.ratio.4096               -0.594244     -0.594244   \n",
       "kdj.j.volume.open.ratio.4096               -0.638609     -0.638609   \n",
       "trade.imb.trend.index.4096                  0.079070      0.079070   \n",
       "total.trade.imb.trend.index.4096           -0.381760     -0.381760   \n",
       "nr.trend.index.4096                        -0.432608     -0.432608   \n",
       "dbook.trend.index.4096                      0.285157      0.285157   \n",
       "range.pos.trend.index.4096                 -0.549895     -0.549895   \n",
       "price.osci.trend.index.4096                -0.351992     -0.351992   \n",
       "ma.dif.10.trend.index.4096                 -0.616621     -0.616621   \n",
       "kdj.k.trend.index.4096                     -0.327385     -0.327385   \n",
       "kdj.j.trend.index.4096                     -0.564472     -0.564472   \n",
       "ret.4096                                    1.000000      1.000000   \n",
       "ret.4096.001                                1.000000      1.000000   \n",
       "ret.4096.002                                1.000000      1.000000   \n",
       "ret.4096.004                                1.000000      1.000000   \n",
       "\n",
       "                                        ret.4096.004  \n",
       "trade.imb.4096                              0.025316  \n",
       "total.trade.imb.4096                       -0.304812  \n",
       "nr.4096                                    -0.362056  \n",
       "dbook.4096                                  0.221778  \n",
       "range.pos.4096                             -0.487109  \n",
       "price.osci.4096                            -0.253038  \n",
       "ma.dif.10.4096                             -0.603955  \n",
       "kdj.k.4096                                 -0.261477  \n",
       "kdj.j.4096                                 -0.492525  \n",
       "trade.imb.range.4096                        0.544229  \n",
       "total.trade.imb.range.4096                 -0.584637  \n",
       "nr.range.4096                              -0.592899  \n",
       "dbook.range.4096                            0.616026  \n",
       "range.pos.range.4096                       -0.616264  \n",
       "price.osci.range.4096                      -0.586685  \n",
       "ma.dif.10.range.4096                       -0.616598  \n",
       "kdj.k.range.4096                           -0.592917  \n",
       "kdj.j.range.4096                           -0.630873  \n",
       "trade.imb.std.4096                          0.514061  \n",
       "total.trade.imb.std.4096                   -0.595943  \n",
       "nr.std.4096                                -0.599510  \n",
       "dbook.std.4096                              0.607379  \n",
       "range.pos.std.4096                         -0.617601  \n",
       "price.osci.std.4096                        -0.594674  \n",
       "ma.dif.10.std.4096                         -0.617111  \n",
       "kdj.k.std.4096                             -0.606075  \n",
       "kdj.j.std.4096                             -0.631908  \n",
       "trade.imb.volume.open.ratio.4096            0.389484  \n",
       "total.trade.imb.volume.open.ratio.4096     -0.597913  \n",
       "nr.volume.open.ratio.4096                  -0.591800  \n",
       "dbook.volume.open.ratio.4096                0.550097  \n",
       "range.pos.volume.open.ratio.4096           -0.624271  \n",
       "price.osci.volume.open.ratio.4096          -0.583997  \n",
       "ma.dif.10.volume.open.ratio.4096           -0.617050  \n",
       "kdj.k.volume.open.ratio.4096               -0.594244  \n",
       "kdj.j.volume.open.ratio.4096               -0.638609  \n",
       "trade.imb.trend.index.4096                  0.079070  \n",
       "total.trade.imb.trend.index.4096           -0.381760  \n",
       "nr.trend.index.4096                        -0.432608  \n",
       "dbook.trend.index.4096                      0.285157  \n",
       "range.pos.trend.index.4096                 -0.549895  \n",
       "price.osci.trend.index.4096                -0.351992  \n",
       "ma.dif.10.trend.index.4096                 -0.616621  \n",
       "kdj.k.trend.index.4096                     -0.327385  \n",
       "kdj.j.trend.index.4096                     -0.564472  \n",
       "ret.4096                                    1.000000  \n",
       "ret.4096.001                                1.000000  \n",
       "ret.4096.002                                1.000000  \n",
       "ret.4096.004                                1.000000  \n",
       "\n",
       "[49 rows x 49 columns]"
      ]
     },
     "execution_count": 65,
     "metadata": {},
     "output_type": "execute_result"
    }
   ],
   "source": [
    "good_index = np.where(np.abs(t_stat)>2)\n",
    "train_mat.iloc[good_index].corr()\n",
    "\n"
   ]
  },
  {
   "cell_type": "code",
   "execution_count": 66,
   "metadata": {},
   "outputs": [],
   "source": [
    "corr = train_mat.iloc[good_index].corr()"
   ]
  },
  {
   "cell_type": "code",
   "execution_count": 67,
   "metadata": {},
   "outputs": [
    {
     "data": {
      "image/png": "[encoded data removed]",
      "text/plain": [
       "<Figure size 1152x720 with 2 Axes>"
      ]
     },
     "metadata": {
      "needs_background": "light"
     },
     "output_type": "display_data"
    }
   ],
   "source": [
    "import seaborn as sns\n",
    "plt.figure(figsize=(16,10)) \n",
    "sns.heatmap(corr, xticklabels=corr.columns, yticklabels=corr.columns);"
   ]
  },
  {
   "cell_type": "markdown",
   "metadata": {},
   "source": [
    "- we can see that some of them has very high correlation\n",
    "\n",
    "- we can add each signal one by one to a model and check how the performance envolves"
   ]
  },
  {
   "cell_type": "code",
   "execution_count": 68,
   "metadata": {},
   "outputs": [
    {
     "data": {
      "text/plain": [
       "12"
      ]
     },
     "execution_count": 68,
     "metadata": {},
     "output_type": "execute_result"
    }
   ],
   "source": [
    "np.argmax(np.abs(t_stat))\n",
    "## [1] 12"
   ]
  },
  {
   "cell_type": "code",
   "execution_count": 69,
   "metadata": {},
   "outputs": [
    {
     "data": {
      "text/plain": [
       "'dbook.range.4096'"
      ]
     },
     "execution_count": 69,
     "metadata": {},
     "output_type": "execute_result"
    }
   ],
   "source": [
    "signal_list[np.argmax(np.abs(t_stat))]\n",
    "## 'dbook.range.4096'"
   ]
  },
  {
   "cell_type": "markdown",
   "metadata": {},
   "source": [
    "- the first signal is the signal dbook.std.4096\n",
    "\n",
    "\n",
    "- to select the second signal, we can use forward selction"
   ]
  },
  {
   "cell_type": "code",
   "execution_count": 70,
   "metadata": {},
   "outputs": [],
   "source": [
    "import statsmodels.formula.api as smf\n",
    "\n",
    "## forward selection of signals\n",
    "def forward_selected(data, response):\n",
    "    \"\"\"Linear model designed by forward selection.\n",
    "\n",
    "    Parameters:\n",
    "    -----------\n",
    "    data : pandas DataFrame with all possible predictors and response\n",
    "\n",
    "    response: string, name of response column in data\n",
    "\n",
    "    Returns:\n",
    "    --------\n",
    "    model: an \"optimal\" fitted statsmodels linear model\n",
    "           with an intercept\n",
    "           selected by forward selection\n",
    "           evaluated by adjusted R-squared\n",
    "    \"\"\"\n",
    "    remaining = set(data.columns)\n",
    "    remaining.remove(response)\n",
    "    selected = []\n",
    "    current_score, best_new_score = 0.0, 0.0\n",
    "    chosen_signals = []\n",
    "    while remaining and current_score == best_new_score:\n",
    "        scores_with_candidates = []\n",
    "        for candidate in remaining:\n",
    "            formula = \"{} ~ {} - 1\".format(\"data['\"+response+\"']\",\n",
    "                                           ' + '.join(selected + [\"data['\"+candidate+\"']\"]))\n",
    "            score = smf.ols(formula, data).fit().rsquared_adj\n",
    "            scores_with_candidates.append((score, candidate))\n",
    "        scores_with_candidates.sort()\n",
    "        best_new_score, best_candidate = scores_with_candidates.pop()\n",
    "        if current_score < best_new_score:\n",
    "            remaining.remove(best_candidate)\n",
    "            selected.append(\"data['\"+best_candidate+\"']\")\n",
    "            current_score = best_new_score\n",
    "            chosen_signals.append(best_candidate)\n",
    "    formula = \"{} ~ {} - 1\".format(\"data['\"+response+\"']\",\n",
    "                                   ' + '.join(selected))\n",
    "    model = smf.ols(formula, data).fit()\n",
    "    return OrderedDict([(\"model\", model), (\"chosen.signals\", chosen_signals)])"
   ]
  },
  {
   "cell_type": "code",
   "execution_count": 71,
   "metadata": {},
   "outputs": [],
   "source": [
    "result = forward_selected(train_mat[train_mat.columns[:-3]], \"ret.\"+str(period))"
   ]
  },
  {
   "cell_type": "code",
   "execution_count": 72,
   "metadata": {},
   "outputs": [],
   "source": [
    "save(result, HEAD_PATH+\"/energy_all_forwatd_select.pkl\")"
   ]
  },
  {
   "cell_type": "code",
   "execution_count": 73,
   "metadata": {},
   "outputs": [],
   "source": [
    "result = load(HEAD_PATH+\"/energy_all_forwatd_select.pkl\");"
   ]
  },
  {
   "cell_type": "code",
   "execution_count": 74,
   "metadata": {},
   "outputs": [
    {
     "data": {
      "text/plain": [
       "\"data['ret.4096'] ~ data['dbook.range.4096'] + data['range.pos.range.4096'] + data['ma.dif.10.trend.index.4096'] + data['price.osci.4096'] - 1\""
      ]
     },
     "execution_count": 74,
     "metadata": {},
     "output_type": "execute_result"
    }
   ],
   "source": [
    "result[\"model\"].model.formula\n",
    "# \"data['ret.4096'] ~ data['dbook.range.4096'] + data['range.pos.range.4096'] + data['ma.dif.10.trend.index.4096'] + data['price.osci.4096'] - 1\""
   ]
  },
  {
   "cell_type": "code",
   "execution_count": 75,
   "metadata": {},
   "outputs": [
    {
     "data": {
      "text/plain": [
       "['dbook.range.4096',\n",
       " 'range.pos.range.4096',\n",
       " 'ma.dif.10.trend.index.4096',\n",
       " 'price.osci.4096']"
      ]
     },
     "execution_count": 75,
     "metadata": {},
     "output_type": "execute_result"
    }
   ],
   "source": [
    "result[\"chosen.signals\"]\n",
    "\n",
    "# ['dbook.range.4096',\n",
    "#  'range.pos.range.4096',\n",
    "#  'ma.dif.10.trend.index.4096',\n",
    "#  'price.osci.4096']"
   ]
  },
  {
   "cell_type": "markdown",
   "metadata": {},
   "source": [
    "- now we can check each model to see how the pnl evolves\n",
    "\n",
    "\n",
    "- we can also get the test signals\n",
    "\n",
    "\n",
    "- we can get the test samples first"
   ]
  },
  {
   "cell_type": "code",
   "execution_count": 76,
   "metadata": {},
   "outputs": [
    {
     "name": "stdout",
     "output_type": "stream",
     "text": [
      "bu\n",
      "ru\n",
      "v\n",
      "pp\n",
      "l\n",
      "jd\n",
      "Wall time: 1h 43min 56s\n"
     ]
    }
   ],
   "source": [
    "%%time\n",
    "for product in product_list:\n",
    "    print(product)\n",
    "    daily_num = load(HEAD_PATH+\"/daily num/\"+product+\".pkl\")\n",
    "    test_mat = get_sample_signal(all_dates, test_sample, product, \n",
    "                                  np.append(signal_list, [\"ret.\"+str(period),  \"ret.\"+str(period)+\".001\",\"ret.\"+str(period)+\".002\",\"ret.\"+str(period)+\".004\"]), \n",
    "                                  period, daily_num)\n",
    "    os.makedirs(HEAD_PATH+\"/train test mat/\"+product, exist_ok=True)\n",
    "    save(test_mat, HEAD_PATH+\"/train test mat/\"+product+\".test.mat.pkl\")\n",
    "    \n",
    "# bu\n",
    "# ru\n",
    "# v\n",
    "# pp\n",
    "# l\n",
    "# jd\n",
    "# Wall time: 1h 43min 56s\n"
   ]
  },
  {
   "cell_type": "markdown",
   "metadata": {},
   "source": [
    "- now let's fit the first model"
   ]
  },
  {
   "cell_type": "code",
   "execution_count": 81,
   "metadata": {},
   "outputs": [
    {
     "data": {
      "text/plain": [
       "\"train_mat['ret.4096'] ~ train_mat['price.osci.trend.index.4096']+0\""
      ]
     },
     "execution_count": 81,
     "metadata": {},
     "output_type": "execute_result"
    }
   ],
   "source": [
    "first_signal = \"price.osci.trend.index.\"+str(period)\n",
    "y_signal = \"ret.\"+str(period)\n",
    "formula = \"train_mat['\" + y_signal+\"'] ~ train_mat['\"+first_signal+\"']+0\"\n",
    "formula\n",
    "\n",
    "# \"train_mat['ret.4096'] ~ train_mat['price.osci.trend.index.4096']+0\""
   ]
  },
  {
   "cell_type": "code",
   "execution_count": 82,
   "metadata": {},
   "outputs": [
    {
     "name": "stdout",
     "output_type": "stream",
     "text": [
      "                                  OLS Regression Results                                  \n",
      "==========================================================================================\n",
      "Dep. Variable:     train_mat['ret.4096']   R-squared (uncentered):                   0.000\n",
      "Model:                               OLS   Adj. R-squared (uncentered):              0.000\n",
      "Method:                    Least Squares   F-statistic:                              1.986\n",
      "Date:                   Tue, 12 Apr 2022   Prob (F-statistic):                       0.159\n",
      "Time:                           21:11:47   Log-Likelihood:                         -22835.\n",
      "No. Observations:                  16094   AIC:                                  4.567e+04\n",
      "Df Residuals:                      16093   BIC:                                  4.568e+04\n",
      "Df Model:                              1                                                  \n",
      "Covariance Type:               nonrobust                                                  \n",
      "============================================================================================================\n",
      "                                               coef    std err          t      P>|t|      [0.025      0.975]\n",
      "------------------------------------------------------------------------------------------------------------\n",
      "train_mat['price.osci.trend.index.4096']     0.0111      0.008      1.409      0.159      -0.004       0.027\n",
      "==============================================================================\n",
      "Omnibus:                     2320.519   Durbin-Watson:                   2.009\n",
      "Prob(Omnibus):                  0.000   Jarque-Bera (JB):            32862.671\n",
      "Skew:                          -0.162   Prob(JB):                         0.00\n",
      "Kurtosis:                       9.993   Cond. No.                         1.00\n",
      "==============================================================================\n",
      "\n",
      "Notes:\n",
      "[1] R² is computed without centering (uncentered) since the model does not contain a constant.\n",
      "[2] Standard Errors assume that the covariance matrix of the errors is correctly specified.\n"
     ]
    }
   ],
   "source": [
    "fit1_lm = smf.ols(formula=formula, data=train_mat[train_mat.columns[:-3]]).fit()\n",
    "print(fit1_lm.summary())\n",
    "\n",
    "#                                   OLS Regression Results                                  \n",
    "# ==========================================================================================\n",
    "# Dep. Variable:     train_mat['ret.4096']   R-squared (uncentered):                   0.000\n",
    "# Model:                               OLS   Adj. R-squared (uncentered):              0.000\n",
    "# Method:                    Least Squares   F-statistic:                              1.986\n",
    "# Date:                   Tue, 12 Apr 2022   Prob (F-statistic):                       0.159\n",
    "# Time:                           21:11:47   Log-Likelihood:                         -22835.\n",
    "# No. Observations:                  16094   AIC:                                  4.567e+04\n",
    "# Df Residuals:                      16093   BIC:                                  4.568e+04\n",
    "# Df Model:                              1                                                  \n",
    "# Covariance Type:               nonrobust                                                  \n",
    "# ============================================================================================================\n",
    "#                                                coef    std err          t      P>|t|      [0.025      0.975]\n",
    "# ------------------------------------------------------------------------------------------------------------\n",
    "# train_mat['price.osci.trend.index.4096']     0.0111      0.008      1.409      0.159      -0.004       0.027\n",
    "# ==============================================================================\n",
    "# Omnibus:                     2320.519   Durbin-Watson:                   2.009\n",
    "# Prob(Omnibus):                  0.000   Jarque-Bera (JB):            32862.671\n",
    "# Skew:                          -0.162   Prob(JB):                         0.00\n",
    "# Kurtosis:                       9.993   Cond. No.                         1.00\n",
    "# ==============================================================================\n",
    "\n",
    "# Notes:\n",
    "# [1] R² is computed without centering (uncentered) since the model does not contain a constant.\n",
    "# [2] Standard Errors assume that the covariance matrix of the errors is correctly specified."
   ]
  },
  {
   "cell_type": "markdown",
   "metadata": {},
   "source": [
    "- we can see that the single R-square is already 0.0005814431935065034\n",
    "\n",
    "\n",
    "- now we want to get the prediction value"
   ]
  },
  {
   "cell_type": "code",
   "execution_count": 83,
   "metadata": {},
   "outputs": [],
   "source": [
    "strat = \"one.\"+str(period)"
   ]
  },
  {
   "cell_type": "markdown",
   "metadata": {},
   "source": [
    "- create a directory for the first strate"
   ]
  },
  {
   "cell_type": "code",
   "execution_count": 84,
   "metadata": {},
   "outputs": [],
   "source": [
    "for product in product_list:\n",
    "    os.makedirs(SAVE_PATH+\"/tmp pkl/\"+product+\"/\"+strat, exist_ok=True)"
   ]
  },
  {
   "cell_type": "markdown",
   "metadata": {},
   "source": [
    "- we get the coefficiton of fit1.lm"
   ]
  },
  {
   "cell_type": "code",
   "execution_count": 85,
   "metadata": {
    "scrolled": true
   },
   "outputs": [
    {
     "data": {
      "text/plain": [
       "array([0.01110823])"
      ]
     },
     "execution_count": 85,
     "metadata": {},
     "output_type": "execute_result"
    }
   ],
   "source": [
    "fit_coef = fit1_lm.params.values\n",
    "fit_coef\n",
    "# array([0.01110823])\n",
    "\n"
   ]
  },
  {
   "cell_type": "markdown",
   "metadata": {},
   "source": [
    "- but since we have standardize the training samples before regrssion\n",
    "- we must revert the result to original scale"
   ]
  },
  {
   "cell_type": "code",
   "execution_count": 86,
   "metadata": {},
   "outputs": [],
   "source": [
    "train_std = dict([])\n",
    "for product in product_list:\n",
    "    cur_mat = load(HEAD_PATH+\"/train test mat/\"+product+\".train.mat.pkl\")\n",
    "    train_std[product] = np.std(cur_mat)"
   ]
  },
  {
   "cell_type": "code",
   "execution_count": 87,
   "metadata": {},
   "outputs": [
    {
     "data": {
      "text/plain": [
       "array([0.00018429])"
      ]
     },
     "execution_count": 87,
     "metadata": {},
     "output_type": "execute_result"
    }
   ],
   "source": [
    "coef = fit_coef*train_std[product_list[0]][y_signal]/train_std[product_list[0]][first_signal]\n",
    "coef\n",
    "## array([0.00018429])\n"
   ]
  },
  {
   "cell_type": "code",
   "execution_count": 88,
   "metadata": {},
   "outputs": [
    {
     "name": "stdout",
     "output_type": "stream",
     "text": [
      "Wall time: 3min 11s\n"
     ]
    },
    {
     "data": {
      "text/plain": [
       "''"
      ]
     },
     "execution_count": 88,
     "metadata": {},
     "output_type": "execute_result"
    }
   ],
   "source": [
    "%%time\n",
    "for product in product_list:\n",
    "    coef = fit_coef*train_std[product][y_signal]/train_std[product][first_signal]\n",
    "    parLapply(CORE_NUM, all_dates, get_daily_pred, \n",
    "              product=product, signal_list=[first_signal], coef=coef, strat=strat, HEAD_PATH=SAVE_PATH)\n",
    ";\n",
    "\n",
    "## Wall time: 3min 11s"
   ]
  },
  {
   "cell_type": "code",
   "execution_count": 89,
   "metadata": {},
   "outputs": [
    {
     "name": "stdout",
     "output_type": "stream",
     "text": [
      "Wall time: 2min 43s\n"
     ]
    }
   ],
   "source": [
    "%%time\n",
    "for product in product_list:\n",
    "    par_get_all_signal(\"one.4096\", all_dates, product, 4096, SAVE_PATH=SAVE_PATH)\n",
    "## Wall time: 2min 43s"
   ]
  },
  {
   "cell_type": "code",
   "execution_count": 91,
   "metadata": {},
   "outputs": [],
   "source": [
    "split_str = \"201910\""
   ]
  },
  {
   "cell_type": "code",
   "execution_count": 92,
   "metadata": {},
   "outputs": [
    {
     "name": "stdout",
     "output_type": "stream",
     "text": [
      "reverse=1\n",
      "reverse=1\n",
      "reverse=1\n",
      "reverse=1\n",
      "reverse=1\n",
      "reverse=1\n",
      "Wall time: 12min 27s\n"
     ]
    }
   ],
   "source": [
    "%%time\n",
    "for product in product_list:\n",
    "    spread = product_info[product][\"spread\"]\n",
    "    tranct_ratio = product_info[product][\"tranct.ratio\"]\n",
    "    tranct = product_info[product][\"tranct\"]\n",
    "    evaluate_signal(\"one\", all_dates, product, 2, 20,\n",
    "                    CORE_NUM,  HEAD_PATH, SAVE_PATH, period=4096, split_str=split_str, tranct=tranct, \n",
    "                    max_spread=spread*1.1, tranct_ratio=tranct_ratio, atr_filter=0.01, save_path=\"signal result atr\",reverse=1)\n",
    "\n",
    "# reverse=1\n",
    "# reverse=1\n",
    "# reverse=1\n",
    "# reverse=1\n",
    "# reverse=1\n",
    "# reverse=1\n",
    "# Wall time: 12min 27s\n"
   ]
  },
  {
   "cell_type": "code",
   "execution_count": 93,
   "metadata": {},
   "outputs": [
    {
     "name": "stdout",
     "output_type": "stream",
     "text": [
      "bu train sharpe  0.672979102972284 test sharpe  0.056383247539606204\n",
      "ru train sharpe  0.9406806051228079 test sharpe  0.5878175599298712\n",
      "v train sharpe  nan test sharpe  nan\n",
      "pp train sharpe  0.26310465890314816 test sharpe  0.4003352160515478\n",
      "l train sharpe  0.5912639260492314 test sharpe  0.6073373034256005\n",
      "jd train sharpe  0.6744496122726259 test sharpe  0.15391138094784199\n"
     ]
    }
   ],
   "source": [
    "for product in product_list:\n",
    "    spread = product_info[product][\"spread\"]\n",
    "    signal_stat = load(HEAD_PATH+\"/signal result atr/\"+product+\".\"+\"one.4096\"+\".trend.pkl\")\n",
    "    train_stat = signal_stat[\"train.stat\"]\n",
    "    good_strat = (train_stat[\"final.result\"][\"avg.pnl\"]>spread*2)\n",
    "    train_pnl = train_stat[\"daily.ret\"].loc[:, good_strat].sum(axis=1)/sum(good_strat)\n",
    "    test_stat = signal_stat[\"test.stat\"]\n",
    "    test_pnl = test_stat[\"daily.ret\"].loc[:, good_strat].sum(axis=1)/sum(good_strat)\n",
    "    print(product, \"train sharpe \", sharpe(train_pnl), \"test sharpe \", sharpe(test_pnl))\n",
    "\n",
    "# bu train sharpe  0.672979102972284 test sharpe  0.056383247539606204\n",
    "# ru train sharpe  0.9406806051228079 test sharpe  0.5878175599298712\n",
    "# v train sharpe  nan test sharpe  nan\n",
    "# pp train sharpe  0.26310465890314816 test sharpe  0.4003352160515478\n",
    "# l train sharpe  0.5912639260492314 test sharpe  0.6073373034256005\n",
    "# jd train sharpe  0.6744496122726259 test sharpe  0.15391138094784199\n",
    "\n"
   ]
  },
  {
   "cell_type": "markdown",
   "metadata": {},
   "source": [
    "- then we work similar to previous common signals"
   ]
  },
  {
   "cell_type": "markdown",
   "metadata": {},
   "source": [
    "- now we try to add a few new signal"
   ]
  },
  {
   "cell_type": "code",
   "execution_count": 94,
   "metadata": {},
   "outputs": [
    {
     "data": {
      "text/plain": [
       "\"train_mat['ret.4096'] ~ +train_mat['dbook.range.4096']+train_mat['range.pos.range.4096']+0\""
      ]
     },
     "execution_count": 94,
     "metadata": {},
     "output_type": "execute_result"
    }
   ],
   "source": [
    "y_signal = \"ret.\"+str(period)\n",
    "formula = \"train_mat['\" + y_signal+\"'] ~ \"\n",
    "n_signal = int(len(result[\"chosen.signals\"])/2)\n",
    "for signal in result[\"chosen.signals\"][:n_signal]:\n",
    "    formula = formula+\"+train_mat['\"+signal+\"']\"\n",
    "formula+=\"+0\"\n",
    "formula\n",
    "\n",
    "## \"train_mat['ret.4096'] ~ +train_mat['dbook.range.4096']+train_mat['range.pos.range.4096']+0\"\n"
   ]
  },
  {
   "cell_type": "code",
   "execution_count": 95,
   "metadata": {},
   "outputs": [
    {
     "name": "stdout",
     "output_type": "stream",
     "text": [
      "                                  OLS Regression Results                                  \n",
      "==========================================================================================\n",
      "Dep. Variable:     train_mat['ret.4096']   R-squared (uncentered):                   0.001\n",
      "Model:                               OLS   Adj. R-squared (uncentered):              0.001\n",
      "Method:                    Least Squares   F-statistic:                              6.766\n",
      "Date:                   Tue, 12 Apr 2022   Prob (F-statistic):                     0.00116\n",
      "Time:                           22:34:23   Log-Likelihood:                         -22830.\n",
      "No. Observations:                  16094   AIC:                                  4.566e+04\n",
      "Df Residuals:                      16092   BIC:                                  4.568e+04\n",
      "Df Model:                              2                                                  \n",
      "Covariance Type:               nonrobust                                                  \n",
      "=====================================================================================================\n",
      "                                        coef    std err          t      P>|t|      [0.025      0.975]\n",
      "-----------------------------------------------------------------------------------------------------\n",
      "train_mat['dbook.range.4096']        -0.0267      0.008     -3.387      0.001      -0.042      -0.011\n",
      "train_mat['range.pos.range.4096']    -0.0131      0.008     -1.660      0.097      -0.029       0.002\n",
      "==============================================================================\n",
      "Omnibus:                     2338.900   Durbin-Watson:                   1.977\n",
      "Prob(Omnibus):                  0.000   Jarque-Bera (JB):            33517.204\n",
      "Skew:                          -0.166   Prob(JB):                         0.00\n",
      "Kurtosis:                      10.062   Cond. No.                         1.07\n",
      "==============================================================================\n",
      "\n",
      "Notes:\n",
      "[1] R² is computed without centering (uncentered) since the model does not contain a constant.\n",
      "[2] Standard Errors assume that the covariance matrix of the errors is correctly specified.\n"
     ]
    }
   ],
   "source": [
    "fit_half_lm  = smf.ols(formula=formula, data=train_mat[train_mat.columns[:-3]]).fit()\n",
    "print(fit_half_lm.summary())\n",
    "\n",
    "#                                  OLS Regression Results                                  \n",
    "# ==========================================================================================\n",
    "# Dep. Variable:     train_mat['ret.4096']   R-squared (uncentered):                   0.001\n",
    "# Model:                               OLS   Adj. R-squared (uncentered):              0.001\n",
    "# Method:                    Least Squares   F-statistic:                              6.766\n",
    "# Date:                   Tue, 12 Apr 2022   Prob (F-statistic):                     0.00116\n",
    "# Time:                           22:34:23   Log-Likelihood:                         -22830.\n",
    "# No. Observations:                  16094   AIC:                                  4.566e+04\n",
    "# Df Residuals:                      16092   BIC:                                  4.568e+04\n",
    "# Df Model:                              2                                                  \n",
    "# Covariance Type:               nonrobust                                                  \n",
    "# =====================================================================================================\n",
    "#                                         coef    std err          t      P>|t|      [0.025      0.975]\n",
    "# -----------------------------------------------------------------------------------------------------\n",
    "# train_mat['dbook.range.4096']        -0.0267      0.008     -3.387      0.001      -0.042      -0.011\n",
    "# train_mat['range.pos.range.4096']    -0.0131      0.008     -1.660      0.097      -0.029       0.002\n",
    "# ==============================================================================\n",
    "# Omnibus:                     2338.900   Durbin-Watson:                   1.977\n",
    "# Prob(Omnibus):                  0.000   Jarque-Bera (JB):            33517.204\n",
    "# Skew:                          -0.166   Prob(JB):                         0.00\n",
    "# Kurtosis:                      10.062   Cond. No.                         1.07\n",
    "# ==============================================================================\n",
    "\n",
    "# Notes:\n",
    "# [1] R² is computed without centering (uncentered) since the model does not contain a constant.\n",
    "# [2] Standard Errors assume that the covariance matrix of the errors is correctly specified."
   ]
  },
  {
   "cell_type": "code",
   "execution_count": 96,
   "metadata": {},
   "outputs": [
    {
     "data": {
      "text/plain": [
       "array([-0.0267492 , -0.01311105])"
      ]
     },
     "execution_count": 96,
     "metadata": {},
     "output_type": "execute_result"
    }
   ],
   "source": [
    "strat = \"half.\"+str(period)\n",
    "os.makedirs(HEAD_PATH+\"/tmp pkl/\"+product+\"/\"+strat, exist_ok=True)\n",
    "fit_coef = fit_half_lm.params.values\n",
    "fit_coef\n",
    "\n",
    "## array([-0.0267492 , -0.01311105])"
   ]
  },
  {
   "cell_type": "code",
   "execution_count": 97,
   "metadata": {},
   "outputs": [],
   "source": [
    "train_std_mat = dict([])\n",
    "for product in product_list:\n",
    "    cur_mat = load(HEAD_PATH+\"/train test mat/\"+product+\".train.mat.pkl\")\n",
    "    train_std_mat[product] = np.std(cur_mat)"
   ]
  },
  {
   "cell_type": "code",
   "execution_count": 98,
   "metadata": {},
   "outputs": [],
   "source": [
    "for product in product_list:\n",
    "    os.makedirs(SAVE_PATH+\"/tmp pkl/\"+product+\"/\"+strat, exist_ok=True)"
   ]
  },
  {
   "cell_type": "code",
   "execution_count": 99,
   "metadata": {},
   "outputs": [
    {
     "name": "stdout",
     "output_type": "stream",
     "text": [
      "Wall time: 4min 24s\n"
     ]
    },
    {
     "data": {
      "text/plain": [
       "''"
      ]
     },
     "execution_count": 99,
     "metadata": {},
     "output_type": "execute_result"
    }
   ],
   "source": [
    "%%time\n",
    "for product in product_list:\n",
    "    coef = fit_coef*train_std_mat[product][y_signal]/train_std_mat[product][result[\"chosen.signals\"][:n_signal]]\n",
    "    parLapply(CORE_NUM, all_dates, get_daily_pred, \n",
    "              product=product, signal_list=result[\"chosen.signals\"][:n_signal], coef=coef, strat=strat, HEAD_PATH=SAVE_PATH)\n",
    ";\n",
    "# Wall time:  4min 24s"
   ]
  },
  {
   "cell_type": "code",
   "execution_count": 100,
   "metadata": {},
   "outputs": [
    {
     "name": "stdout",
     "output_type": "stream",
     "text": [
      "Wall time: 1min 12s\n"
     ]
    }
   ],
   "source": [
    "%%time\n",
    "for product in product_list:\n",
    "    par_get_all_signal(\"half.4096\", all_dates, product, 4096, SAVE_PATH=\"e:/intern\")\n",
    "## Wall time: 1min 12s"
   ]
  },
  {
   "cell_type": "code",
   "execution_count": 101,
   "metadata": {},
   "outputs": [
    {
     "name": "stdout",
     "output_type": "stream",
     "text": [
      "reverse=1\n",
      "reverse=1\n",
      "reverse=1\n",
      "reverse=1\n",
      "reverse=1\n",
      "reverse=1\n",
      "Wall time: 11min 7s\n"
     ]
    }
   ],
   "source": [
    "%%time\n",
    "SAVE_PATH = \"e:/intern\"\n",
    "for product in product_list:\n",
    "    spread = product_info[product][\"spread\"]\n",
    "    tranct = product_info[product][\"tranct\"]\n",
    "    tranct_ratio = product_info[product][\"tranct.ratio\"]\n",
    "    evaluate_signal(\"half\", all_dates, product, 2, 20, \n",
    "                    CORE_NUM, HEAD_PATH, SAVE_PATH, period=4096, split_str=split_str, tranct=tranct, \n",
    "                    max_spread=spread*1.1, tranct_ratio=tranct_ratio, atr_filter=0.01, save_path=\"signal result atr\",reverse=1)\n",
    "\n",
    "# reverse=1\n",
    "# reverse=1\n",
    "# reverse=1\n",
    "# reverse=1\n",
    "# reverse=1\n",
    "# Wall time: 11min 7s\n",
    "\n"
   ]
  },
  {
   "cell_type": "code",
   "execution_count": 102,
   "metadata": {},
   "outputs": [
    {
     "name": "stdout",
     "output_type": "stream",
     "text": [
      "bu train sharpe  0.43817596490067273 test sharpe  0.628307725141792\n",
      "ru train sharpe  nan test sharpe  nan\n",
      "v train sharpe  1.1205019701169054 test sharpe  -0.4491225015697962\n",
      "pp train sharpe  0.4626626737423966 test sharpe  0.5939394015436092\n",
      "l train sharpe  1.0864850804229067 test sharpe  0.5486840702209966\n",
      "jd train sharpe  1.2065495105699926 test sharpe  1.3177101831777271\n"
     ]
    }
   ],
   "source": [
    "for product in product_list:\n",
    "    spread = product_info[product][\"spread\"]\n",
    "    signal_stat = load(HEAD_PATH+\"/signal result atr/\"+product+\".\"+\"half.4096\"+\".trend.pkl\")\n",
    "    train_stat = signal_stat[\"train.stat\"]\n",
    "    good_strat = (train_stat[\"final.result\"][\"avg.pnl\"]>2*spread)\n",
    "    train_pnl = train_stat[\"daily.ret\"].loc[:, good_strat].sum(axis=1)/sum(good_strat)\n",
    "    test_stat = signal_stat[\"test.stat\"]\n",
    "    test_pnl = test_stat[\"daily.ret\"].loc[:, good_strat].sum(axis=1)/sum(good_strat)\n",
    "    print(product, \"train sharpe \", sharpe(train_pnl), \"test sharpe \", sharpe(test_pnl))\n",
    "\n",
    "# bu train sharpe  0.43817596490067273 test sharpe  0.628307725141792\n",
    "# ru train sharpe  nan test sharpe  nan\n",
    "# v train sharpe  1.1205019701169054 test sharpe  -0.4491225015697962\n",
    "# pp train sharpe  0.4626626737423966 test sharpe  0.5939394015436092\n",
    "# l train sharpe  1.0864850804229067 test sharpe  0.5486840702209966\n",
    "# jd train sharpe  1.2065495105699926 test sharpe  1.3177101831777271\n"
   ]
  },
  {
   "cell_type": "code",
   "execution_count": 103,
   "metadata": {},
   "outputs": [
    {
     "data": {
      "text/plain": [
       "\"train_mat['ret.4096'] ~ +train_mat['dbook.range.4096']+train_mat['range.pos.range.4096']+train_mat['ma.dif.10.trend.index.4096']+train_mat['price.osci.4096']+0\""
      ]
     },
     "execution_count": 103,
     "metadata": {},
     "output_type": "execute_result"
    }
   ],
   "source": [
    "y_signal = \"ret.\"+str(period)\n",
    "formula = \"train_mat['\" + y_signal+\"'] ~ \"\n",
    "for signal in result[\"chosen.signals\"]:\n",
    "    formula = formula+\"+train_mat['\"+signal+\"']\"\n",
    "formula+=\"+0\"\n",
    "formula\n",
    "\n",
    "# \"train_mat['ret.4096'] ~ +train_mat['dbook.range.4096']+train_mat['range.pos.range.4096']+train_mat['ma.dif.10.trend.index.4096']+train_mat['price.osci.4096']+0\""
   ]
  },
  {
   "cell_type": "code",
   "execution_count": 104,
   "metadata": {},
   "outputs": [
    {
     "data": {
      "text/plain": [
       "(16094, 49)"
      ]
     },
     "execution_count": 104,
     "metadata": {},
     "output_type": "execute_result"
    }
   ],
   "source": [
    "np.shape(train_mat)"
   ]
  },
  {
   "cell_type": "markdown",
   "metadata": {},
   "source": [
    "- now we look at the full model"
   ]
  },
  {
   "cell_type": "code",
   "execution_count": 105,
   "metadata": {},
   "outputs": [
    {
     "name": "stdout",
     "output_type": "stream",
     "text": [
      "                                  OLS Regression Results                                  \n",
      "==========================================================================================\n",
      "Dep. Variable:     train_mat['ret.4096']   R-squared (uncentered):                   0.002\n",
      "Model:                               OLS   Adj. R-squared (uncentered):              0.002\n",
      "Method:                    Least Squares   F-statistic:                              7.652\n",
      "Date:                   Tue, 12 Apr 2022   Prob (F-statistic):                    3.73e-06\n",
      "Time:                           22:51:08   Log-Likelihood:                         -22821.\n",
      "No. Observations:                  16094   AIC:                                  4.565e+04\n",
      "Df Residuals:                      16090   BIC:                                  4.568e+04\n",
      "Df Model:                              4                                                  \n",
      "Covariance Type:               nonrobust                                                  \n",
      "===========================================================================================================\n",
      "                                              coef    std err          t      P>|t|      [0.025      0.975]\n",
      "-----------------------------------------------------------------------------------------------------------\n",
      "train_mat['dbook.range.4096']              -0.0265      0.008     -3.351      0.001      -0.042      -0.011\n",
      "train_mat['range.pos.range.4096']          -0.0641      0.015     -4.215      0.000      -0.094      -0.034\n",
      "train_mat['ma.dif.10.trend.index.4096']     0.0397      0.015      2.591      0.010       0.010       0.070\n",
      "train_mat['price.osci.4096']                0.0262      0.011      2.376      0.018       0.005       0.048\n",
      "==============================================================================\n",
      "Omnibus:                     2327.611   Durbin-Watson:                   1.997\n",
      "Prob(Omnibus):                  0.000   Jarque-Bera (JB):            33110.602\n",
      "Skew:                          -0.164   Prob(JB):                         0.00\n",
      "Kurtosis:                      10.019   Cond. No.                         3.99\n",
      "==============================================================================\n",
      "\n",
      "Notes:\n",
      "[1] R² is computed without centering (uncentered) since the model does not contain a constant.\n",
      "[2] Standard Errors assume that the covariance matrix of the errors is correctly specified.\n"
     ]
    }
   ],
   "source": [
    "fit_full_lm  = smf.ols(formula=formula, data=train_mat[train_mat.columns[:-3]]).fit()\n",
    "print(fit_full_lm.summary())\n",
    "\n",
    "#                                   OLS Regression Results                                  \n",
    "# ==========================================================================================\n",
    "# Dep. Variable:     train_mat['ret.4096']   R-squared (uncentered):                   0.002\n",
    "# Model:                               OLS   Adj. R-squared (uncentered):              0.002\n",
    "# Method:                    Least Squares   F-statistic:                              7.652\n",
    "# Date:                   Tue, 12 Apr 2022   Prob (F-statistic):                    3.73e-06\n",
    "# Time:                           22:51:08   Log-Likelihood:                         -22821.\n",
    "# No. Observations:                  16094   AIC:                                  4.565e+04\n",
    "# Df Residuals:                      16090   BIC:                                  4.568e+04\n",
    "# Df Model:                              4                                                  \n",
    "# Covariance Type:               nonrobust                                                  \n",
    "# ===========================================================================================================\n",
    "#                                               coef    std err          t      P>|t|      [0.025      0.975]\n",
    "# -----------------------------------------------------------------------------------------------------------\n",
    "# train_mat['dbook.range.4096']              -0.0265      0.008     -3.351      0.001      -0.042      -0.011\n",
    "# train_mat['range.pos.range.4096']          -0.0641      0.015     -4.215      0.000      -0.094      -0.034\n",
    "# train_mat['ma.dif.10.trend.index.4096']     0.0397      0.015      2.591      0.010       0.010       0.070\n",
    "# train_mat['price.osci.4096']                0.0262      0.011      2.376      0.018       0.005       0.048\n",
    "# ==============================================================================\n",
    "# Omnibus:                     2327.611   Durbin-Watson:                   1.997\n",
    "# Prob(Omnibus):                  0.000   Jarque-Bera (JB):            33110.602\n",
    "# Skew:                          -0.164   Prob(JB):                         0.00\n",
    "# Kurtosis:                      10.019   Cond. No.                         3.99\n",
    "# ==============================================================================\n",
    "\n",
    "# Notes:\n",
    "# [1] R² is computed without centering (uncentered) since the model does not contain a constant.\n",
    "# [2] Standard Errors assume that the covariance matrix of the errors is correctly specified."
   ]
  },
  {
   "cell_type": "code",
   "execution_count": 106,
   "metadata": {},
   "outputs": [
    {
     "data": {
      "text/plain": [
       "array([-0.02645155, -0.06413054,  0.03972938,  0.02615397])"
      ]
     },
     "execution_count": 106,
     "metadata": {},
     "output_type": "execute_result"
    }
   ],
   "source": [
    "strat = \"full.\"+str(period)\n",
    "os.makedirs(SAVE_PATH+\"/tmp pkl/\"+product+\"/\"+strat, exist_ok=True)\n",
    "fit_coef = fit_full_lm.params.values\n",
    "fit_coef\n",
    "\n",
    "## array([-0.02645155, -0.06413054,  0.03972938,  0.02615397])"
   ]
  },
  {
   "cell_type": "code",
   "execution_count": 107,
   "metadata": {},
   "outputs": [],
   "source": [
    "for product in product_list:\n",
    "    os.makedirs(SAVE_PATH+\"/tmp pkl/\"+product+\"/\"+strat, exist_ok=True)"
   ]
  },
  {
   "cell_type": "code",
   "execution_count": 108,
   "metadata": {},
   "outputs": [
    {
     "name": "stdout",
     "output_type": "stream",
     "text": [
      "bu\n",
      "ru\n",
      "v\n",
      "pp\n",
      "l\n",
      "jd\n",
      "Wall time: 4min 54s\n"
     ]
    }
   ],
   "source": [
    "%%time\n",
    "for product in product_list:\n",
    "    print(product)\n",
    "    coef = fit_coef*train_std_mat[product][y_signal]/train_std_mat[product][result[\"chosen.signals\"]]\n",
    "    parLapply(CORE_NUM, all_dates, get_daily_pred, \n",
    "              product=product, signal_list=result[\"chosen.signals\"], coef=coef, strat=\"full.4096\", HEAD_PATH=SAVE_PATH)\n",
    "    \n",
    "# bu\n",
    "# ru\n",
    "# v\n",
    "# pp\n",
    "# l\n",
    "# jd\n",
    "# Wall time: 4min 54s\n",
    "\n"
   ]
  },
  {
   "cell_type": "code",
   "execution_count": 109,
   "metadata": {},
   "outputs": [
    {
     "name": "stdout",
     "output_type": "stream",
     "text": [
      "Wall time: 2min 3s\n"
     ]
    }
   ],
   "source": [
    "%%time\n",
    "for product in product_list:\n",
    "    par_get_all_signal(\"full.4096\", all_dates, product, 4096, SAVE_PATH=SAVE_PATH)\n",
    "## Wall time: 2min 3s\n"
   ]
  },
  {
   "cell_type": "code",
   "execution_count": 110,
   "metadata": {},
   "outputs": [
    {
     "name": "stdout",
     "output_type": "stream",
     "text": [
      "reverse=1\n",
      "reverse=1\n",
      "reverse=1\n",
      "reverse=1\n",
      "reverse=1\n",
      "reverse=1\n",
      "Wall time: 11min 14s\n"
     ]
    }
   ],
   "source": [
    "%%time\n",
    "for product in product_list:\n",
    "    spread = product_info[product][\"spread\"]\n",
    "    tranct = product_info[product][\"tranct\"]\n",
    "    tranct_ratio = product_info[product][\"tranct.ratio\"] \n",
    "    evaluate_signal(\"full\", all_dates, product, 2, 20, \n",
    "                    CORE_NUM, HEAD_PATH, SAVE_PATH,period=4096, split_str=split_str, tranct=tranct, \n",
    "                    max_spread=spread*1.1, tranct_ratio=tranct_ratio, atr_filter=0.01, save_path=\"signal result atr\",reverse=1)\n",
    "\n",
    "# reverse=1\n",
    "# reverse=1\n",
    "# reverse=1\n",
    "# reverse=1\n",
    "# reverse=1\n",
    "# reverse=1\n",
    "# Wall time: 11min 14s\n",
    "\n",
    "\n"
   ]
  },
  {
   "cell_type": "code",
   "execution_count": 111,
   "metadata": {
    "scrolled": true
   },
   "outputs": [
    {
     "name": "stdout",
     "output_type": "stream",
     "text": [
      "bu train sharpe  0.7172191381865617 test sharpe  -0.2308105525621993\n",
      "ru train sharpe  0.628249848461226 test sharpe  0.601750093257452\n",
      "v train sharpe  nan test sharpe  nan\n",
      "pp train sharpe  0.6679313573252557 test sharpe  1.4530948529559495\n",
      "l train sharpe  1.0076431862232569 test sharpe  1.3435249569722751\n",
      "jd train sharpe  0.8289148284993739 test sharpe  1.360221006710771\n"
     ]
    }
   ],
   "source": [
    "for product in product_list:\n",
    "    spread = product_info[product][\"spread\"]\n",
    "    signal_stat = load(HEAD_PATH+\"/signal result atr/\"+product+\".\"+\"full.4096\"+\".trend.pkl\")\n",
    "    train_stat = signal_stat[\"train.stat\"]\n",
    "    good_strat = (train_stat[\"final.result\"][\"avg.pnl\"]>2*spread)\n",
    "    train_pnl = train_stat[\"daily.ret\"].loc[:, good_strat].sum(axis=1)/sum(good_strat)\n",
    "    test_stat = signal_stat[\"test.stat\"]\n",
    "    test_pnl = test_stat[\"daily.ret\"].loc[:, good_strat].sum(axis=1)/sum(good_strat)\n",
    "    print(product, \"train sharpe \", sharpe(train_pnl), \"test sharpe \", sharpe(test_pnl))\n",
    "\n",
    "# bu train sharpe  0.7172191381865617 test sharpe  -0.2308105525621993\n",
    "# ru train sharpe  0.628249848461226 test sharpe  0.601750093257452\n",
    "# v train sharpe  nan test sharpe  nan\n",
    "# pp train sharpe  0.6679313573252557 test sharpe  1.4530948529559495\n",
    "# l train sharpe  1.0076431862232569 test sharpe  1.3435249569722751\n",
    "# jd train sharpe  0.8289148284993739 test sharpe  1.360221006710771\n"
   ]
  },
  {
   "cell_type": "code",
   "execution_count": 112,
   "metadata": {},
   "outputs": [
    {
     "data": {
      "text/plain": [
       "\"train_mat['ret.4096.004'] ~ +train_mat['dbook.range.4096']+train_mat['range.pos.range.4096']+0\""
      ]
     },
     "execution_count": 112,
     "metadata": {},
     "output_type": "execute_result"
    }
   ],
   "source": [
    "y_signal = \"ret.\"+str(period)+\".004\"\n",
    "formula = \"train_mat['\" + y_signal+\"'] ~ \"\n",
    "n_signal = int(len(result[\"chosen.signals\"])/2)\n",
    "for signal in result[\"chosen.signals\"][:n_signal]:\n",
    "    formula = formula+\"+train_mat['\"+signal+\"']\"\n",
    "formula+=\"+0\"\n",
    "formula\n",
    "\n",
    "# \"train_mat['ret.4096.004'] ~ +train_mat['dbook.range.4096']+train_mat['range.pos.range.4096']+0\""
   ]
  },
  {
   "cell_type": "code",
   "execution_count": 113,
   "metadata": {},
   "outputs": [
    {
     "data": {
      "text/plain": [
       "array([-0.02814504, -0.01527528])"
      ]
     },
     "execution_count": 113,
     "metadata": {},
     "output_type": "execute_result"
    }
   ],
   "source": [
    "fit_004_lm  = smf.ols(formula=formula, data=train_mat[train_mat.columns[:-3]]).fit()\n",
    "strat = \"half.004.\"+str(period)\n",
    "for product in product_list:\n",
    "    os.makedirs(SAVE_PATH+\"/tmp pkl/\"+product+\"/\"+strat, exist_ok=True)\n",
    "fit_coef = fit_004_lm.params.values\n",
    "fit_coef\n",
    "\n",
    "## array([-0.02814504, -0.01527528])"
   ]
  },
  {
   "cell_type": "code",
   "execution_count": 114,
   "metadata": {
    "scrolled": true
   },
   "outputs": [
    {
     "name": "stdout",
     "output_type": "stream",
     "text": [
      "bu\n",
      "dbook.range.4096       -0.000113\n",
      "range.pos.range.4096   -0.000021\n",
      "dtype: float64\n",
      "ru\n",
      "dbook.range.4096       -0.000042\n",
      "range.pos.range.4096   -0.000005\n",
      "dtype: float64\n",
      "v\n",
      "dbook.range.4096       -0.000047\n",
      "range.pos.range.4096   -0.000010\n",
      "dtype: float64\n",
      "pp\n",
      "dbook.range.4096       -0.000088\n",
      "range.pos.range.4096   -0.000007\n",
      "dtype: float64\n",
      "l\n",
      "dbook.range.4096       -0.000047\n",
      "range.pos.range.4096   -0.000007\n",
      "dtype: float64\n",
      "jd\n",
      "dbook.range.4096       -0.000114\n",
      "range.pos.range.4096   -0.000017\n",
      "dtype: float64\n",
      "Wall time: 3min 33s\n"
     ]
    }
   ],
   "source": [
    "%%time\n",
    "for product in product_list:\n",
    "    print(product)\n",
    "    coef = fit_coef*train_std_mat[product][y_signal]/train_std_mat[product][result[\"chosen.signals\"][:n_signal]]\n",
    "    print(coef)\n",
    "    parLapply(CORE_NUM, all_dates, get_daily_pred, \n",
    "              product=product, signal_list=result[\"chosen.signals\"][:n_signal], \n",
    "              coef=coef, strat=strat, HEAD_PATH=SAVE_PATH)\n",
    "    \n",
    "# bu\n",
    "# dbook.range.4096       -0.000113\n",
    "# range.pos.range.4096   -0.000021\n",
    "# dtype: float64\n",
    "# ru\n",
    "# dbook.range.4096       -0.000042\n",
    "# range.pos.range.4096   -0.000005\n",
    "# dtype: float64\n",
    "# v\n",
    "# dbook.range.4096       -0.000047\n",
    "# range.pos.range.4096   -0.000010\n",
    "# dtype: float64\n",
    "# pp\n",
    "# dbook.range.4096       -0.000088\n",
    "# range.pos.range.4096   -0.000007\n",
    "# dtype: float64\n",
    "# l\n",
    "# dbook.range.4096       -0.000047\n",
    "# range.pos.range.4096   -0.000007\n",
    "# dtype: float64\n",
    "# jd\n",
    "# dbook.range.4096       -0.000114\n",
    "# range.pos.range.4096   -0.000017\n",
    "# dtype: float64\n",
    "# Wall time: 3min 33s"
   ]
  },
  {
   "cell_type": "code",
   "execution_count": 115,
   "metadata": {},
   "outputs": [
    {
     "name": "stdout",
     "output_type": "stream",
     "text": [
      "Wall time: 1min 30s\n"
     ]
    }
   ],
   "source": [
    "%%time\n",
    "for product in product_list:\n",
    "    par_get_all_signal(\"half.004.4096\", all_dates, product, 4096)\n",
    "\n",
    "## Wall time: 1min 30s"
   ]
  },
  {
   "cell_type": "code",
   "execution_count": 116,
   "metadata": {},
   "outputs": [
    {
     "name": "stdout",
     "output_type": "stream",
     "text": [
      "reverse=1\n",
      "reverse=1\n",
      "reverse=1\n",
      "reverse=1\n",
      "reverse=1\n",
      "reverse=1\n",
      "Wall time: 10min 29s\n"
     ]
    }
   ],
   "source": [
    "%%time\n",
    "for product in product_list:\n",
    "    spread = product_info[product][\"spread\"]\n",
    "    tranct = product_info[product][\"tranct\"]\n",
    "    tranct_ratio = product_info[product][\"tranct.ratio\"] \n",
    "    evaluate_signal(\"half.004\", all_dates, product, 2, 20, \n",
    "                    CORE_NUM, HEAD_PATH, SAVE_PATH,period=4096, split_str=split_str, tranct=tranct, \n",
    "                    max_spread=spread*1.1, tranct_ratio=tranct_ratio, atr_filter=0.01, save_path=\"signal result atr\",reverse=1)\n",
    "    \n",
    "# reverse=1\n",
    "# reverse=1\n",
    "# reverse=1\n",
    "# reverse=1\n",
    "# reverse=1\n",
    "# reverse=1\n",
    "# Wall time: 10min 29s\n",
    "\n"
   ]
  },
  {
   "cell_type": "code",
   "execution_count": 117,
   "metadata": {},
   "outputs": [
    {
     "name": "stdout",
     "output_type": "stream",
     "text": [
      "bu train sharpe  0.4621005654521839 test sharpe  0.5570063043177045\n",
      "ru train sharpe  nan test sharpe  nan\n",
      "v train sharpe  1.2678449636536868 test sharpe  -0.43923842839585603\n",
      "pp train sharpe  0.4059299953175997 test sharpe  0.5363045476854569\n",
      "l train sharpe  1.0895352166919277 test sharpe  0.5433211851314367\n",
      "jd train sharpe  1.1337739876116921 test sharpe  1.4460603419396234\n"
     ]
    }
   ],
   "source": [
    "for product in product_list:\n",
    "    spread = product_info[product][\"spread\"]\n",
    "    signal_stat = load(HEAD_PATH+\"/signal result atr/\"+product+\".\"+\"half.004.4096\"+\".trend.pkl\")\n",
    "    train_stat = signal_stat[\"train.stat\"]\n",
    "    good_strat = (train_stat[\"final.result\"][\"avg.pnl\"]>2*spread)\n",
    "    train_pnl = train_stat[\"daily.ret\"].loc[:, good_strat].sum(axis=1)/sum(good_strat)\n",
    "    train_std = np.std(train_pnl)\n",
    "    train_pnl = train_pnl/train_std\n",
    "    test_stat = signal_stat[\"test.stat\"]\n",
    "    test_pnl = test_stat[\"daily.ret\"].loc[:, good_strat].sum(axis=1)/sum(good_strat)/train_std\n",
    "    print(product, \"train sharpe \", sharpe(train_pnl), \"test sharpe \", sharpe(test_pnl))\n",
    "\n",
    "# bu train sharpe  0.4621005654521839 test sharpe  0.5570063043177045\n",
    "# ru train sharpe  nan test sharpe  nan\n",
    "# v train sharpe  1.2678449636536868 test sharpe  -0.43923842839585603\n",
    "# pp train sharpe  0.4059299953175997 test sharpe  0.5363045476854569\n",
    "# l train sharpe  1.0895352166919277 test sharpe  0.5433211851314367\n",
    "# jd train sharpe  1.1337739876116921 test sharpe  1.4460603419396234"
   ]
  },
  {
   "cell_type": "code",
   "execution_count": 118,
   "metadata": {},
   "outputs": [
    {
     "data": {
      "text/plain": [
       "\"train_mat['ret.4096.002'] ~ +train_mat['dbook.range.4096']+train_mat['range.pos.range.4096']+0\""
      ]
     },
     "execution_count": 118,
     "metadata": {},
     "output_type": "execute_result"
    }
   ],
   "source": [
    "y_signal = \"ret.\"+str(period)+\".002\"\n",
    "formula = \"train_mat['\" + y_signal+\"'] ~ \"\n",
    "for signal in result[\"chosen.signals\"][:n_signal]:\n",
    "    formula = formula+\"+train_mat['\"+signal+\"']\"\n",
    "formula+=\"+0\"\n",
    "formula\n",
    "# \"train_mat['ret.4096.002'] ~ +train_mat['dbook.range.4096']+train_mat['range.pos.range.4096']+0\""
   ]
  },
  {
   "cell_type": "code",
   "execution_count": 119,
   "metadata": {},
   "outputs": [
    {
     "data": {
      "text/plain": [
       "array([-0.03086827, -0.02167165])"
      ]
     },
     "execution_count": 119,
     "metadata": {},
     "output_type": "execute_result"
    }
   ],
   "source": [
    "fit_002_lm  = smf.ols(formula=formula, data=train_mat[train_mat.columns[:-2]]).fit()\n",
    "strat = \"half.002.\"+str(period)\n",
    "for product in product_list:\n",
    "    os.makedirs(SAVE_PATH+\"/tmp pkl/\"+product+\"/\"+strat, exist_ok=True)\n",
    "fit_coef = fit_002_lm.params.values\n",
    "fit_coef\n",
    "\n",
    "## array([-0.03086827, -0.02167165])"
   ]
  },
  {
   "cell_type": "code",
   "execution_count": 120,
   "metadata": {
    "scrolled": false
   },
   "outputs": [
    {
     "name": "stdout",
     "output_type": "stream",
     "text": [
      "bu\n",
      "dbook.range.4096       -0.000114\n",
      "range.pos.range.4096   -0.000028\n",
      "dtype: float64\n",
      "ru\n",
      "dbook.range.4096       -0.000043\n",
      "range.pos.range.4096   -0.000007\n",
      "dtype: float64\n",
      "v\n",
      "dbook.range.4096       -0.000047\n",
      "range.pos.range.4096   -0.000012\n",
      "dtype: float64\n",
      "pp\n",
      "dbook.range.4096       -0.000094\n",
      "range.pos.range.4096   -0.000010\n",
      "dtype: float64\n",
      "l\n",
      "dbook.range.4096       -0.000051\n",
      "range.pos.range.4096   -0.000010\n",
      "dtype: float64\n",
      "jd\n",
      "dbook.range.4096       -0.000114\n",
      "range.pos.range.4096   -0.000022\n",
      "dtype: float64\n",
      "Wall time: 3min 31s\n"
     ]
    },
    {
     "data": {
      "text/plain": [
       "''"
      ]
     },
     "execution_count": 120,
     "metadata": {},
     "output_type": "execute_result"
    }
   ],
   "source": [
    "%%time\n",
    "for product in product_list:\n",
    "    print(product)\n",
    "    coef = fit_coef*train_std_mat[product][y_signal]/train_std_mat[product][result[\"chosen.signals\"][:n_signal]]\n",
    "    print(coef)\n",
    "    parLapply(CORE_NUM, all_dates, get_daily_pred, \n",
    "              product=product, signal_list=result[\"chosen.signals\"][:n_signal], \n",
    "              coef=coef, strat=strat, HEAD_PATH=SAVE_PATH)\n",
    ";\n",
    "\n",
    "# bu\n",
    "# dbook.range.4096       -0.000114\n",
    "# range.pos.range.4096   -0.000028\n",
    "# dtype: float64\n",
    "# ru\n",
    "# dbook.range.4096       -0.000043\n",
    "# range.pos.range.4096   -0.000007\n",
    "# dtype: float64\n",
    "# v\n",
    "# dbook.range.4096       -0.000047\n",
    "# range.pos.range.4096   -0.000012\n",
    "# dtype: float64\n",
    "# pp\n",
    "# dbook.range.4096       -0.000094\n",
    "# range.pos.range.4096   -0.000010\n",
    "# dtype: float64\n",
    "# l\n",
    "# dbook.range.4096       -0.000051\n",
    "# range.pos.range.4096   -0.000010\n",
    "# dtype: float64\n",
    "# jd\n",
    "# dbook.range.4096       -0.000114\n",
    "# range.pos.range.4096   -0.000022\n",
    "# dtype: float64\n",
    "# Wall time: 3min 31s"
   ]
  },
  {
   "cell_type": "markdown",
   "metadata": {},
   "source": [
    "- now we try the ret.4096.002 as response"
   ]
  },
  {
   "cell_type": "code",
   "execution_count": 121,
   "metadata": {},
   "outputs": [
    {
     "name": "stdout",
     "output_type": "stream",
     "text": [
      "Wall time: 1min 21s\n"
     ]
    }
   ],
   "source": [
    "%%time\n",
    "for product in product_list:\n",
    "    par_get_all_signal(\"half.002.4096\", all_dates, product, 4096)\n",
    "    \n",
    "## Wall time: 1min 21s\n"
   ]
  },
  {
   "cell_type": "code",
   "execution_count": 122,
   "metadata": {},
   "outputs": [
    {
     "name": "stdout",
     "output_type": "stream",
     "text": [
      "reverse=1\n",
      "reverse=1\n",
      "reverse=1\n",
      "reverse=1\n",
      "reverse=1\n",
      "reverse=1\n",
      "Wall time: 10min 27s\n"
     ]
    }
   ],
   "source": [
    "%%time\n",
    "for product in product_list:\n",
    "    spread = product_info[product][\"spread\"]\n",
    "    tranct = product_info[product][\"tranct\"]\n",
    "    tranct_ratio = product_info[product][\"tranct.ratio\"] \n",
    "    evaluate_signal(\"half.002\", all_dates, product, 2, 20, \n",
    "                    CORE_NUM, HEAD_PATH, SAVE_PATH,period=4096, split_str=split_str, tranct=tranct, \n",
    "                    max_spread=spread*1.1, tranct_ratio=tranct_ratio, atr_filter=0.01, save_path=\"signal result atr\",reverse=1)\n",
    "\n",
    "\n",
    "# reverse=1\n",
    "# reverse=1\n",
    "# reverse=1\n",
    "# reverse=1\n",
    "# reverse=1\n",
    "# reverse=1\n",
    "# Wall time: 10min 27s\n"
   ]
  },
  {
   "cell_type": "code",
   "execution_count": 123,
   "metadata": {},
   "outputs": [
    {
     "name": "stdout",
     "output_type": "stream",
     "text": [
      "bu train sharpe  0.5506804491998092 test sharpe  0.17652790367886956\n",
      "ru train sharpe  nan test sharpe  nan\n",
      "v train sharpe  1.1361263526091239 test sharpe  -0.5447240303453196\n",
      "pp train sharpe  0.43069122696230144 test sharpe  0.5574532344130251\n",
      "l train sharpe  1.0637506643849761 test sharpe  0.6512056005100697\n",
      "jd train sharpe  0.8983699118256893 test sharpe  1.2846101269009733\n"
     ]
    }
   ],
   "source": [
    "for product in product_list:\n",
    "    spread = product_info[product][\"spread\"]\n",
    "    signal_stat = load(HEAD_PATH+\"/signal result atr/\"+product+\".\"+\"half.002.4096\"+\".trend.pkl\")\n",
    "    train_stat = signal_stat[\"train.stat\"]\n",
    "    good_strat = (train_stat[\"final.result\"][\"avg.pnl\"]>2*spread)\n",
    "    train_pnl = train_stat[\"daily.ret\"].loc[:, good_strat].sum(axis=1)/sum(good_strat)\n",
    "    test_stat = signal_stat[\"test.stat\"]\n",
    "    test_pnl = test_stat[\"daily.ret\"].loc[:, good_strat].sum(axis=1)/sum(good_strat)\n",
    "    print(product, \"train sharpe \", sharpe(train_pnl), \"test sharpe \", sharpe(test_pnl))\n",
    "\n",
    "## half.002\n",
    "# bu train sharpe  0.5506804491998092 test sharpe  0.17652790367886956\n",
    "# ru train sharpe  nan test sharpe  nan\n",
    "# v train sharpe  1.1361263526091239 test sharpe  -0.5447240303453196\n",
    "# pp train sharpe  0.43069122696230144 test sharpe  0.5574532344130251\n",
    "# l train sharpe  1.0637506643849761 test sharpe  0.6512056005100697\n",
    "# jd train sharpe  0.8983699118256893 test sharpe  1.2846101269009733\n"
   ]
  },
  {
   "cell_type": "markdown",
   "metadata": {},
   "source": [
    "- now we try to use ret.001"
   ]
  },
  {
   "cell_type": "code",
   "execution_count": 124,
   "metadata": {},
   "outputs": [
    {
     "data": {
      "text/plain": [
       "array([-0.02368258, -0.04917941])"
      ]
     },
     "execution_count": 124,
     "metadata": {},
     "output_type": "execute_result"
    }
   ],
   "source": [
    "y_signal = \"ret.\"+str(period)+\".001\"\n",
    "formula = \"train_mat['\" + y_signal+\"'] ~ \"\n",
    "for signal in result[\"chosen.signals\"][:n_signal]:\n",
    "    formula = formula+\"+train_mat['\"+signal+\"']\"\n",
    "formula+=\"+0\"\n",
    "formula\n",
    "fit_001_lm  = smf.ols(formula=formula, data=train_mat[train_mat.columns[:-2]]).fit()\n",
    "strat = \"half.001.\"+str(period)\n",
    "for product in product_list:\n",
    "    os.makedirs(SAVE_PATH+\"/tmp pkl/\"+product+\"/\"+strat, exist_ok=True)\n",
    "fit_coef = fit_001_lm.params.values\n",
    "fit_coef\n",
    "\n",
    "## array([-0.02368258, -0.04917941])"
   ]
  },
  {
   "cell_type": "code",
   "execution_count": 125,
   "metadata": {},
   "outputs": [
    {
     "data": {
      "text/plain": [
       "array([-0.02368258, -0.04917941])"
      ]
     },
     "execution_count": 125,
     "metadata": {},
     "output_type": "execute_result"
    }
   ],
   "source": [
    "strat = \"half.001.\"+str(period)\n",
    "for product in product_list:\n",
    "    os.makedirs(SAVE_PATH+\"/tmp pkl/\"+product+\"/\"+strat, exist_ok=True)\n",
    "fit_coef = fit_001_lm.params.values\n",
    "fit_coef\n",
    "\n",
    "## array([-0.02368258, -0.04917941])"
   ]
  },
  {
   "cell_type": "code",
   "execution_count": 126,
   "metadata": {
    "scrolled": false
   },
   "outputs": [
    {
     "name": "stdout",
     "output_type": "stream",
     "text": [
      "bu\n",
      "dbook.range.4096       -0.000069\n",
      "range.pos.range.4096   -0.000049\n",
      "dtype: float64\n",
      "ru\n",
      "dbook.range.4096       -0.000027\n",
      "range.pos.range.4096   -0.000013\n",
      "dtype: float64\n",
      "v\n",
      "dbook.range.4096       -0.000030\n",
      "range.pos.range.4096   -0.000023\n",
      "dtype: float64\n",
      "pp\n",
      "dbook.range.4096       -0.000061\n",
      "range.pos.range.4096   -0.000019\n",
      "dtype: float64\n",
      "l\n",
      "dbook.range.4096       -0.000035\n",
      "range.pos.range.4096   -0.000021\n",
      "dtype: float64\n",
      "jd\n",
      "dbook.range.4096       -0.000068\n",
      "range.pos.range.4096   -0.000039\n",
      "dtype: float64\n",
      "Wall time: 3min 34s\n"
     ]
    },
    {
     "data": {
      "text/plain": [
       "''"
      ]
     },
     "execution_count": 126,
     "metadata": {},
     "output_type": "execute_result"
    }
   ],
   "source": [
    "%%time\n",
    "for product in product_list:\n",
    "    print(product)\n",
    "    coef = fit_coef*train_std_mat[product][y_signal]/train_std_mat[product][result[\"chosen.signals\"][:n_signal]]\n",
    "    print(coef)\n",
    "    parLapply(CORE_NUM, all_dates, get_daily_pred, \n",
    "              product=product, signal_list=result[\"chosen.signals\"][:n_signal], \n",
    "              coef=coef, strat=strat, HEAD_PATH=SAVE_PATH)\n",
    ";\n",
    "\n",
    "# bu\n",
    "# dbook.range.4096       -0.000069\n",
    "# range.pos.range.4096   -0.000049\n",
    "# dtype: float64\n",
    "# ru\n",
    "# dbook.range.4096       -0.000027\n",
    "# range.pos.range.4096   -0.000013\n",
    "# dtype: float64\n",
    "# v\n",
    "# dbook.range.4096       -0.000030\n",
    "# range.pos.range.4096   -0.000023\n",
    "# dtype: float64\n",
    "# pp\n",
    "# dbook.range.4096       -0.000061\n",
    "# range.pos.range.4096   -0.000019\n",
    "# dtype: float64\n",
    "# l\n",
    "# dbook.range.4096       -0.000035\n",
    "# range.pos.range.4096   -0.000021\n",
    "# dtype: float64\n",
    "# jd\n",
    "# dbook.range.4096       -0.000068\n",
    "# range.pos.range.4096   -0.000039\n",
    "# dtype: float64\n",
    "# Wall time: 3min 34s"
   ]
  },
  {
   "cell_type": "code",
   "execution_count": 127,
   "metadata": {},
   "outputs": [
    {
     "name": "stdout",
     "output_type": "stream",
     "text": [
      "Wall time: 1min 27s\n"
     ]
    }
   ],
   "source": [
    "%%time\n",
    "for product in product_list:\n",
    "    par_get_all_signal(\"half.001.4096\", all_dates, product, 4096)\n",
    "\n",
    "## Wall time: 1min 27s"
   ]
  },
  {
   "cell_type": "code",
   "execution_count": 128,
   "metadata": {},
   "outputs": [
    {
     "name": "stdout",
     "output_type": "stream",
     "text": [
      "reverse=1\n",
      "reverse=1\n",
      "reverse=1\n",
      "reverse=1\n",
      "reverse=1\n",
      "reverse=1\n",
      "Wall time: 10min 11s\n"
     ]
    }
   ],
   "source": [
    "%%time\n",
    "for product in product_list:\n",
    "    spread = product_info[product][\"spread\"]\n",
    "    tranct = product_info[product][\"tranct\"]\n",
    "    tranct_ratio = product_info[product][\"tranct.ratio\"] \n",
    "    evaluate_signal(\"half.001\", all_dates, product, 2, 20, \n",
    "                    CORE_NUM, HEAD_PATH, SAVE_PATH,period=4096, split_str=\"201804\", tranct=tranct, \n",
    "                    max_spread=spread*1.1, tranct_ratio=tranct_ratio, atr_filter=0.01, save_path=\"signal result atr\",reverse=1)\n",
    "    \n",
    "# reverse=1\n",
    "# reverse=1\n",
    "# reverse=1\n",
    "# reverse=1\n",
    "# reverse=1\n",
    "# reverse=1\n",
    "# Wall time: 10min 11s\n",
    "\n",
    "\n"
   ]
  },
  {
   "cell_type": "code",
   "execution_count": 129,
   "metadata": {},
   "outputs": [
    {
     "name": "stdout",
     "output_type": "stream",
     "text": [
      "bu train sharpe  1.4494275891311272 test sharpe  0.17941068250859332\n",
      "ru train sharpe  nan test sharpe  nan\n",
      "v train sharpe  nan test sharpe  nan\n",
      "pp train sharpe  nan test sharpe  nan\n",
      "l train sharpe  1.4494275891311206 test sharpe  0.7557963951575527\n",
      "jd train sharpe  nan test sharpe  nan\n",
      "Wall time: 156 ms\n"
     ]
    }
   ],
   "source": [
    "%%time\n",
    "for product in product_list:\n",
    "    spread = product_info[product][\"spread\"]\n",
    "    signal_stat = load(HEAD_PATH+\"/signal result atr/\"+product+\".\"+\"half.001.4096\"+\".trend.pkl\")\n",
    "    train_stat = signal_stat[\"train.stat\"]\n",
    "    good_strat = (train_stat[\"final.result\"][\"avg.pnl\"]>6*spread)\n",
    "    train_pnl = train_stat[\"daily.ret\"].loc[:, good_strat].sum(axis=1)/sum(good_strat)\n",
    "    test_stat = signal_stat[\"test.stat\"]\n",
    "    test_pnl = test_stat[\"daily.ret\"].loc[:, good_strat].sum(axis=1)/sum(good_strat)\n",
    "    print(product, \"train sharpe \", sharpe(train_pnl), \"test sharpe \", sharpe(test_pnl))\n",
    "\n",
    "## half.001\n",
    "# bu train sharpe  1.4494275891311272 test sharpe  0.17941068250859332\n",
    "# ru train sharpe  nan test sharpe  nan\n",
    "# v train sharpe  nan test sharpe  nan\n",
    "# pp train sharpe  nan test sharpe  nan\n",
    "# l train sharpe  1.4494275891311206 test sharpe  0.7557963951575527\n",
    "# jd train sharpe  nan test sharpe  nan\n",
    "#Wall time: 156 ms\n",
    "\n",
    "\n"
   ]
  },
  {
   "cell_type": "code",
   "execution_count": 130,
   "metadata": {},
   "outputs": [],
   "source": [
    "\n",
    "import statsmodels.formula.api as smf\n",
    "def step_aic(model, exog, endog, **kwargs):\n",
    "    \"\"\"\n",
    "    This select the best exogenous variables with AIC\n",
    "    Both exog and endog values can be either str or list.\n",
    "    (Endog list is for the Binomial family.)\n",
    "\n",
    "    Note: This adopt only \"forward\" selection\n",
    "\n",
    "    Args:\n",
    "        model: model from statsmodels.formula.api\n",
    "        exog (str or list): exogenous variables\n",
    "        endog (str or list): endogenous variables\n",
    "        kwargs: extra keyword argments for model (e.g., data, family)\n",
    "\n",
    "    Returns:\n",
    "        model: a model that seems to have the smallest AIC\n",
    "    \"\"\"\n",
    "    for key in kwargs.keys():\n",
    "        df = kwargs[key]\n",
    "    df_name = \"df\"    \n",
    "    remaining = set(exog)\n",
    "    \n",
    "    exog = [df_name+\"['\"+s+\"']\" for s in exog]\n",
    "    endog = [df_name+\"['\"+s+\"']\" for s in endog]\n",
    "    \n",
    "        \n",
    "    # exog, endogは強制的にリスト形式に変換しておく\n",
    "    exog = np.r_[[exog]].flatten()\n",
    "    endog = np.r_[[endog]].flatten()\n",
    "    selected = []  # 採用が確定された要因\n",
    "    chosen_signals = []\n",
    "    # 定数項のみのAICを計算\n",
    "    formula_head = ' + '.join(endog) + ' ~ '\n",
    "    formula = formula_head + '1'\n",
    "    #aic = model(formula=formula, **kwargs).fit().aic\n",
    "    aic = model(formula=formula, data=df).fit().aic\n",
    "    print('AIC: {}, formula: {}'.format(round(aic, 3), formula))\n",
    "\n",
    "    current_score, best_new_score = np.ones(2) * aic\n",
    "\n",
    "    # 全要因を採択するか，どの要因を追加してもAICが上がらなければ終了\n",
    "    while remaining and current_score == best_new_score:\n",
    "        scores_with_candidates = []\n",
    "        for candidate in remaining:\n",
    "\n",
    "            # 残っている要因を1つずつ追加したときのAICを計算\n",
    "            formula_tail = ' + '.join(selected + [df_name+\"['\"+candidate+\"']\"])\n",
    "            formula = formula_head + formula_tail\n",
    "            #aic = model(formula=formula, **kwargs).fit().aic\n",
    "            aic = model(formula=formula, data=df).fit().aic\n",
    "            print('AIC: {}, formula: {}'.format(round(aic, 3), formula))\n",
    "\n",
    "            scores_with_candidates.append((aic, candidate))\n",
    "\n",
    "        # 最もAICが小さかった要因をbest_candidateとする\n",
    "        scores_with_candidates.sort()\n",
    "        scores_with_candidates.reverse()\n",
    "        best_new_score, best_candidate = scores_with_candidates.pop()\n",
    "\n",
    "        # 候補要因追加でAICが下がったならば，それを確定要因として追加する\n",
    "        \n",
    "        if best_new_score < current_score:\n",
    "            remaining.remove(best_candidate)\n",
    "            selected.append(df_name+\"['\"+best_candidate+\"']\")\n",
    "            chosen_signals.append(best_candidate)\n",
    "            current_score = best_new_score\n",
    "\n",
    "    formula = formula_head + ' + '.join(selected)\n",
    "    print('The best formula: {}'.format(formula))\n",
    "    #return model(formula, **kwargs).fit()\n",
    "    result = OrderedDict([(\"model\", model), (\"chosen.signals\", chosen_signals)])\n",
    "    #return model(formula, data=df).fit()\n",
    "    return result"
   ]
  },
  {
   "cell_type": "code",
   "execution_count": 131,
   "metadata": {},
   "outputs": [
    {
     "name": "stdout",
     "output_type": "stream",
     "text": [
      "AIC: 45674.794, formula: df['ret.4096'] ~ 1\n",
      "AIC: 45676.623, formula: df['ret.4096'] ~ df['total.trade.imb.trend.index.4096']\n",
      "AIC: 45676.481, formula: df['ret.4096'] ~ df['range.pos.4096']\n",
      "AIC: 45676.756, formula: df['ret.4096'] ~ df['kdj.j.trend.index.4096']\n",
      "AIC: 45675.714, formula: df['ret.4096'] ~ df['range.pos.volume.open.ratio.4096']\n",
      "AIC: 45676.741, formula: df['ret.4096'] ~ df['nr.volume.open.ratio.4096']\n",
      "AIC: 45674.808, formula: df['ret.4096'] ~ df['price.osci.trend.index.4096']\n",
      "AIC: 45672.672, formula: df['ret.4096'] ~ df['trade.imb.4096']\n",
      "AIC: 45674.635, formula: df['ret.4096'] ~ df['price.osci.4096']\n",
      "AIC: 45676.544, formula: df['ret.4096'] ~ df['total.trade.imb.std.4096']\n",
      "AIC: 45676.793, formula: df['ret.4096'] ~ df['kdj.k.volume.open.ratio.4096']\n",
      "AIC: 45676.787, formula: df['ret.4096'] ~ df['total.trade.imb.4096']\n",
      "AIC: 45676.656, formula: df['ret.4096'] ~ df['total.trade.imb.range.4096']\n",
      "AIC: 45668.45, formula: df['ret.4096'] ~ df['dbook.4096']\n",
      "AIC: 45669.918, formula: df['ret.4096'] ~ df['dbook.trend.index.4096']\n",
      "AIC: 45676.5, formula: df['ret.4096'] ~ df['kdj.j.volume.open.ratio.4096']\n",
      "AIC: 45666.846, formula: df['ret.4096'] ~ df['dbook.std.4096']\n",
      "AIC: 45676.653, formula: df['ret.4096'] ~ df['nr.std.4096']\n",
      "AIC: 45676.493, formula: df['ret.4096'] ~ df['ma.dif.10.std.4096']\n",
      "AIC: 45676.731, formula: df['ret.4096'] ~ df['range.pos.trend.index.4096']\n",
      "AIC: 45675.944, formula: df['ret.4096'] ~ df['kdj.j.range.4096']\n",
      "AIC: 45676.426, formula: df['ret.4096'] ~ df['kdj.j.4096']\n",
      "AIC: 45676.555, formula: df['ret.4096'] ~ df['price.osci.volume.open.ratio.4096']\n",
      "AIC: 45676.419, formula: df['ret.4096'] ~ df['nr.trend.index.4096']\n",
      "AIC: 45676.711, formula: df['ret.4096'] ~ df['nr.range.4096']\n",
      "AIC: 45674.204, formula: df['ret.4096'] ~ df['trade.imb.volume.open.ratio.4096']\n",
      "AIC: 45676.763, formula: df['ret.4096'] ~ df['price.osci.std.4096']\n",
      "AIC: 45676.788, formula: df['ret.4096'] ~ df['ma.dif.10.volume.open.ratio.4096']\n",
      "AIC: 45674.735, formula: df['ret.4096'] ~ df['range.pos.range.4096']\n",
      "AIC: 45667.993, formula: df['ret.4096'] ~ df['dbook.volume.open.ratio.4096']\n",
      "AIC: 45674.435, formula: df['ret.4096'] ~ df['trade.imb.std.4096']\n",
      "AIC: 45676.68, formula: df['ret.4096'] ~ df['kdj.k.range.4096']\n",
      "AIC: 45676.746, formula: df['ret.4096'] ~ df['ma.dif.10.4096']\n",
      "AIC: 45676.439, formula: df['ret.4096'] ~ df['ma.dif.10.trend.index.4096']\n",
      "AIC: 45676.744, formula: df['ret.4096'] ~ df['kdj.k.trend.index.4096']\n",
      "AIC: 45674.207, formula: df['ret.4096'] ~ df['trade.imb.range.4096']\n",
      "AIC: 45666.022, formula: df['ret.4096'] ~ df['dbook.range.4096']\n",
      "AIC: 45676.707, formula: df['ret.4096'] ~ df['price.osci.range.4096']\n",
      "AIC: 45676.08, formula: df['ret.4096'] ~ df['kdj.j.std.4096']\n",
      "AIC: 45671.772, formula: df['ret.4096'] ~ df['trade.imb.trend.index.4096']\n",
      "AIC: 45674.832, formula: df['ret.4096'] ~ df['range.pos.std.4096']\n",
      "AIC: 45676.179, formula: df['ret.4096'] ~ df['nr.4096']\n",
      "AIC: 45676.734, formula: df['ret.4096'] ~ df['kdj.k.std.4096']\n",
      "AIC: 45676.74, formula: df['ret.4096'] ~ df['total.trade.imb.volume.open.ratio.4096']\n",
      "AIC: 45676.747, formula: df['ret.4096'] ~ df['kdj.k.4096']\n",
      "AIC: 45676.446, formula: df['ret.4096'] ~ df['ma.dif.10.range.4096']\n",
      "AIC: 45667.909, formula: df['ret.4096'] ~ df['dbook.range.4096'] + df['total.trade.imb.trend.index.4096']\n",
      "AIC: 45667.369, formula: df['ret.4096'] ~ df['dbook.range.4096'] + df['range.pos.4096']\n",
      "AIC: 45668.021, formula: df['ret.4096'] ~ df['dbook.range.4096'] + df['kdj.j.trend.index.4096']\n",
      "AIC: 45666.235, formula: df['ret.4096'] ~ df['dbook.range.4096'] + df['range.pos.volume.open.ratio.4096']\n",
      "AIC: 45668.02, formula: df['ret.4096'] ~ df['dbook.range.4096'] + df['nr.volume.open.ratio.4096']\n",
      "AIC: 45666.474, formula: df['ret.4096'] ~ df['dbook.range.4096'] + df['price.osci.trend.index.4096']\n",
      "AIC: 45668.016, formula: df['ret.4096'] ~ df['dbook.range.4096'] + df['trade.imb.4096']\n",
      "AIC: 45666.356, formula: df['ret.4096'] ~ df['dbook.range.4096'] + df['price.osci.4096']\n",
      "AIC: 45667.545, formula: df['ret.4096'] ~ df['dbook.range.4096'] + df['total.trade.imb.std.4096']\n",
      "AIC: 45667.941, formula: df['ret.4096'] ~ df['dbook.range.4096'] + df['kdj.k.volume.open.ratio.4096']\n",
      "AIC: 45668.021, formula: df['ret.4096'] ~ df['dbook.range.4096'] + df['total.trade.imb.4096']\n",
      "AIC: 45667.73, formula: df['ret.4096'] ~ df['dbook.range.4096'] + df['total.trade.imb.range.4096']\n",
      "AIC: 45667.997, formula: df['ret.4096'] ~ df['dbook.range.4096'] + df['dbook.4096']\n",
      "AIC: 45668.02, formula: df['ret.4096'] ~ df['dbook.range.4096'] + df['dbook.trend.index.4096']\n",
      "AIC: 45667.229, formula: df['ret.4096'] ~ df['dbook.range.4096'] + df['kdj.j.volume.open.ratio.4096']\n",
      "AIC: 45667.948, formula: df['ret.4096'] ~ df['dbook.range.4096'] + df['dbook.std.4096']\n",
      "AIC: 45667.761, formula: df['ret.4096'] ~ df['dbook.range.4096'] + df['nr.std.4096']\n",
      "AIC: 45667.547, formula: df['ret.4096'] ~ df['dbook.range.4096'] + df['ma.dif.10.std.4096']\n",
      "AIC: 45668.021, formula: df['ret.4096'] ~ df['dbook.range.4096'] + df['range.pos.trend.index.4096']\n",
      "AIC: 45666.535, formula: df['ret.4096'] ~ df['dbook.range.4096'] + df['kdj.j.range.4096']\n",
      "AIC: 45667.244, formula: df['ret.4096'] ~ df['dbook.range.4096'] + df['kdj.j.4096']\n",
      "AIC: 45667.975, formula: df['ret.4096'] ~ df['dbook.range.4096'] + df['price.osci.volume.open.ratio.4096']\n",
      "AIC: 45667.75, formula: df['ret.4096'] ~ df['dbook.range.4096'] + df['nr.trend.index.4096']\n",
      "AIC: 45667.871, formula: df['ret.4096'] ~ df['dbook.range.4096'] + df['nr.range.4096']\n",
      "AIC: 45667.225, formula: df['ret.4096'] ~ df['dbook.range.4096'] + df['trade.imb.volume.open.ratio.4096']\n",
      "AIC: 45668.013, formula: df['ret.4096'] ~ df['dbook.range.4096'] + df['price.osci.std.4096']\n",
      "AIC: 45668.009, formula: df['ret.4096'] ~ df['dbook.range.4096'] + df['ma.dif.10.volume.open.ratio.4096']\n",
      "AIC: 45665.266, formula: df['ret.4096'] ~ df['dbook.range.4096'] + df['range.pos.range.4096']\n",
      "AIC: 45667.799, formula: df['ret.4096'] ~ df['dbook.range.4096'] + df['dbook.volume.open.ratio.4096']\n",
      "AIC: 45666.993, formula: df['ret.4096'] ~ df['dbook.range.4096'] + df['trade.imb.std.4096']\n",
      "AIC: 45667.677, formula: df['ret.4096'] ~ df['dbook.range.4096'] + df['kdj.k.range.4096']\n",
      "AIC: 45668.021, formula: df['ret.4096'] ~ df['dbook.range.4096'] + df['ma.dif.10.4096']\n",
      "AIC: 45667.857, formula: df['ret.4096'] ~ df['dbook.range.4096'] + df['ma.dif.10.trend.index.4096']\n",
      "AIC: 45668.017, formula: df['ret.4096'] ~ df['dbook.range.4096'] + df['kdj.k.trend.index.4096']\n",
      "AIC: 45667.11, formula: df['ret.4096'] ~ df['dbook.range.4096'] + df['trade.imb.range.4096']\n",
      "AIC: 45668.021, formula: df['ret.4096'] ~ df['dbook.range.4096'] + df['price.osci.range.4096']\n",
      "AIC: 45666.666, formula: df['ret.4096'] ~ df['dbook.range.4096'] + df['kdj.j.std.4096']\n",
      "AIC: 45667.85, formula: df['ret.4096'] ~ df['dbook.range.4096'] + df['trade.imb.trend.index.4096']\n",
      "AIC: 45665.315, formula: df['ret.4096'] ~ df['dbook.range.4096'] + df['range.pos.std.4096']\n",
      "AIC: 45667.577, formula: df['ret.4096'] ~ df['dbook.range.4096'] + df['nr.4096']\n",
      "AIC: 45667.741, formula: df['ret.4096'] ~ df['dbook.range.4096'] + df['kdj.k.std.4096']\n",
      "AIC: 45667.847, formula: df['ret.4096'] ~ df['dbook.range.4096'] + df['total.trade.imb.volume.open.ratio.4096']\n",
      "AIC: 45667.879, formula: df['ret.4096'] ~ df['dbook.range.4096'] + df['kdj.k.4096']\n",
      "AIC: 45667.514, formula: df['ret.4096'] ~ df['dbook.range.4096'] + df['ma.dif.10.range.4096']\n",
      "AIC: 45663.281, formula: df['ret.4096'] ~ df['dbook.range.4096'] + df['range.pos.range.4096'] + df['total.trade.imb.trend.index.4096']\n",
      "AIC: 45665.998, formula: df['ret.4096'] ~ df['dbook.range.4096'] + df['range.pos.range.4096'] + df['range.pos.4096']\n",
      "AIC: 45663.423, formula: df['ret.4096'] ~ df['dbook.range.4096'] + df['range.pos.range.4096'] + df['kdj.j.trend.index.4096']\n",
      "AIC: 45666.551, formula: df['ret.4096'] ~ df['dbook.range.4096'] + df['range.pos.range.4096'] + df['range.pos.volume.open.ratio.4096']\n",
      "AIC: 45658.77, formula: df['ret.4096'] ~ df['dbook.range.4096'] + df['range.pos.range.4096'] + df['nr.volume.open.ratio.4096']\n",
      "AIC: 45656.233, formula: df['ret.4096'] ~ df['dbook.range.4096'] + df['range.pos.range.4096'] + df['price.osci.trend.index.4096']\n",
      "AIC: 45667.26, formula: df['ret.4096'] ~ df['dbook.range.4096'] + df['range.pos.range.4096'] + df['trade.imb.4096']\n",
      "AIC: 45656.923, formula: df['ret.4096'] ~ df['dbook.range.4096'] + df['range.pos.range.4096'] + df['price.osci.4096']\n",
      "AIC: 45666.304, formula: df['ret.4096'] ~ df['dbook.range.4096'] + df['range.pos.range.4096'] + df['total.trade.imb.std.4096']\n",
      "AIC: 45663.444, formula: df['ret.4096'] ~ df['dbook.range.4096'] + df['range.pos.range.4096'] + df['kdj.k.volume.open.ratio.4096']\n",
      "AIC: 45664.885, formula: df['ret.4096'] ~ df['dbook.range.4096'] + df['range.pos.range.4096'] + df['total.trade.imb.4096']\n",
      "AIC: 45665.611, formula: df['ret.4096'] ~ df['dbook.range.4096'] + df['range.pos.range.4096'] + df['total.trade.imb.range.4096']\n",
      "AIC: 45667.233, formula: df['ret.4096'] ~ df['dbook.range.4096'] + df['range.pos.range.4096'] + df['dbook.4096']\n",
      "AIC: 45667.266, formula: df['ret.4096'] ~ df['dbook.range.4096'] + df['range.pos.range.4096'] + df['dbook.trend.index.4096']\n",
      "AIC: 45665.045, formula: df['ret.4096'] ~ df['dbook.range.4096'] + df['range.pos.range.4096'] + df['kdj.j.volume.open.ratio.4096']\n",
      "AIC: 45667.225, formula: df['ret.4096'] ~ df['dbook.range.4096'] + df['range.pos.range.4096'] + df['dbook.std.4096']\n",
      "AIC: 45664.904, formula: df['ret.4096'] ~ df['dbook.range.4096'] + df['range.pos.range.4096'] + df['nr.std.4096']\n",
      "AIC: 45665.905, formula: df['ret.4096'] ~ df['dbook.range.4096'] + df['range.pos.range.4096'] + df['ma.dif.10.std.4096']\n",
      "AIC: 45660.421, formula: df['ret.4096'] ~ df['dbook.range.4096'] + df['range.pos.range.4096'] + df['range.pos.trend.index.4096']\n",
      "AIC: 45666.289, formula: df['ret.4096'] ~ df['dbook.range.4096'] + df['range.pos.range.4096'] + df['kdj.j.range.4096']\n",
      "AIC: 45666.838, formula: df['ret.4096'] ~ df['dbook.range.4096'] + df['range.pos.range.4096'] + df['kdj.j.4096']\n",
      "AIC: 45659.391, formula: df['ret.4096'] ~ df['dbook.range.4096'] + df['range.pos.range.4096'] + df['price.osci.volume.open.ratio.4096']\n",
      "AIC: 45660.122, formula: df['ret.4096'] ~ df['dbook.range.4096'] + df['range.pos.range.4096'] + df['nr.trend.index.4096']\n",
      "AIC: 45663.483, formula: df['ret.4096'] ~ df['dbook.range.4096'] + df['range.pos.range.4096'] + df['nr.range.4096']\n",
      "AIC: 45666.635, formula: df['ret.4096'] ~ df['dbook.range.4096'] + df['range.pos.range.4096'] + df['trade.imb.volume.open.ratio.4096']\n",
      "AIC: 45659.259, formula: df['ret.4096'] ~ df['dbook.range.4096'] + df['range.pos.range.4096'] + df['price.osci.std.4096']\n",
      "AIC: 45661.645, formula: df['ret.4096'] ~ df['dbook.range.4096'] + df['range.pos.range.4096'] + df['ma.dif.10.volume.open.ratio.4096']\n",
      "AIC: 45667.168, formula: df['ret.4096'] ~ df['dbook.range.4096'] + df['range.pos.range.4096'] + df['dbook.volume.open.ratio.4096']\n",
      "AIC: 45666.378, formula: df['ret.4096'] ~ df['dbook.range.4096'] + df['range.pos.range.4096'] + df['trade.imb.std.4096']\n",
      "AIC: 45665.001, formula: df['ret.4096'] ~ df['dbook.range.4096'] + df['range.pos.range.4096'] + df['kdj.k.range.4096']\n",
      "AIC: 45655.935, formula: df['ret.4096'] ~ df['dbook.range.4096'] + df['range.pos.range.4096'] + df['ma.dif.10.4096']\n",
      "AIC: 45655.852, formula: df['ret.4096'] ~ df['dbook.range.4096'] + df['range.pos.range.4096'] + df['ma.dif.10.trend.index.4096']\n",
      "AIC: 45664.39, formula: df['ret.4096'] ~ df['dbook.range.4096'] + df['range.pos.range.4096'] + df['kdj.k.trend.index.4096']\n",
      "AIC: 45666.485, formula: df['ret.4096'] ~ df['dbook.range.4096'] + df['range.pos.range.4096'] + df['trade.imb.range.4096']\n",
      "AIC: 45656.416, formula: df['ret.4096'] ~ df['dbook.range.4096'] + df['range.pos.range.4096'] + df['price.osci.range.4096']\n",
      "AIC: 45666.446, formula: df['ret.4096'] ~ df['dbook.range.4096'] + df['range.pos.range.4096'] + df['kdj.j.std.4096']\n",
      "AIC: 45667.098, formula: df['ret.4096'] ~ df['dbook.range.4096'] + df['range.pos.range.4096'] + df['trade.imb.trend.index.4096']\n",
      "AIC: 45667.255, formula: df['ret.4096'] ~ df['dbook.range.4096'] + df['range.pos.range.4096'] + df['range.pos.std.4096']\n",
      "AIC: 45658.062, formula: df['ret.4096'] ~ df['dbook.range.4096'] + df['range.pos.range.4096'] + df['nr.4096']\n",
      "AIC: 45665.015, formula: df['ret.4096'] ~ df['dbook.range.4096'] + df['range.pos.range.4096'] + df['kdj.k.std.4096']\n",
      "AIC: 45665.063, formula: df['ret.4096'] ~ df['dbook.range.4096'] + df['range.pos.range.4096'] + df['total.trade.imb.volume.open.ratio.4096']\n",
      "AIC: 45666.19, formula: df['ret.4096'] ~ df['dbook.range.4096'] + df['range.pos.range.4096'] + df['kdj.k.4096']\n",
      "AIC: 45665.511, formula: df['ret.4096'] ~ df['dbook.range.4096'] + df['range.pos.range.4096'] + df['ma.dif.10.range.4096']\n",
      "AIC: 45657.362, formula: df['ret.4096'] ~ df['dbook.range.4096'] + df['range.pos.range.4096'] + df['ma.dif.10.trend.index.4096'] + df['total.trade.imb.trend.index.4096']\n",
      "AIC: 45655.566, formula: df['ret.4096'] ~ df['dbook.range.4096'] + df['range.pos.range.4096'] + df['ma.dif.10.trend.index.4096'] + df['range.pos.4096']\n",
      "AIC: 45657.338, formula: df['ret.4096'] ~ df['dbook.range.4096'] + df['range.pos.range.4096'] + df['ma.dif.10.trend.index.4096'] + df['kdj.j.trend.index.4096']\n",
      "AIC: 45657.653, formula: df['ret.4096'] ~ df['dbook.range.4096'] + df['range.pos.range.4096'] + df['ma.dif.10.trend.index.4096'] + df['range.pos.volume.open.ratio.4096']\n",
      "AIC: 45657.06, formula: df['ret.4096'] ~ df['dbook.range.4096'] + df['range.pos.range.4096'] + df['ma.dif.10.trend.index.4096'] + df['nr.volume.open.ratio.4096']\n",
      "AIC: 45655.75, formula: df['ret.4096'] ~ df['dbook.range.4096'] + df['range.pos.range.4096'] + df['ma.dif.10.trend.index.4096'] + df['price.osci.trend.index.4096']\n",
      "AIC: 45657.852, formula: df['ret.4096'] ~ df['dbook.range.4096'] + df['range.pos.range.4096'] + df['ma.dif.10.trend.index.4096'] + df['trade.imb.4096']\n",
      "AIC: 45652.208, formula: df['ret.4096'] ~ df['dbook.range.4096'] + df['range.pos.range.4096'] + df['ma.dif.10.trend.index.4096'] + df['price.osci.4096']\n",
      "AIC: 45657.842, formula: df['ret.4096'] ~ df['dbook.range.4096'] + df['range.pos.range.4096'] + df['ma.dif.10.trend.index.4096'] + df['total.trade.imb.std.4096']\n",
      "AIC: 45657.301, formula: df['ret.4096'] ~ df['dbook.range.4096'] + df['range.pos.range.4096'] + df['ma.dif.10.trend.index.4096'] + df['kdj.k.volume.open.ratio.4096']\n",
      "AIC: 45656.871, formula: df['ret.4096'] ~ df['dbook.range.4096'] + df['range.pos.range.4096'] + df['ma.dif.10.trend.index.4096'] + df['total.trade.imb.4096']\n",
      "AIC: 45657.754, formula: df['ret.4096'] ~ df['dbook.range.4096'] + df['range.pos.range.4096'] + df['ma.dif.10.trend.index.4096'] + df['total.trade.imb.range.4096']\n",
      "AIC: 45657.808, formula: df['ret.4096'] ~ df['dbook.range.4096'] + df['range.pos.range.4096'] + df['ma.dif.10.trend.index.4096'] + df['dbook.4096']\n",
      "AIC: 45657.843, formula: df['ret.4096'] ~ df['dbook.range.4096'] + df['range.pos.range.4096'] + df['ma.dif.10.trend.index.4096'] + df['dbook.trend.index.4096']\n",
      "AIC: 45657.221, formula: df['ret.4096'] ~ df['dbook.range.4096'] + df['range.pos.range.4096'] + df['ma.dif.10.trend.index.4096'] + df['kdj.j.volume.open.ratio.4096']\n",
      "AIC: 45657.771, formula: df['ret.4096'] ~ df['dbook.range.4096'] + df['range.pos.range.4096'] + df['ma.dif.10.trend.index.4096'] + df['dbook.std.4096']\n",
      "AIC: 45657.797, formula: df['ret.4096'] ~ df['dbook.range.4096'] + df['range.pos.range.4096'] + df['ma.dif.10.trend.index.4096'] + df['nr.std.4096']\n",
      "AIC: 45657.739, formula: df['ret.4096'] ~ df['dbook.range.4096'] + df['range.pos.range.4096'] + df['ma.dif.10.trend.index.4096'] + df['ma.dif.10.std.4096']\n",
      "AIC: 45656.038, formula: df['ret.4096'] ~ df['dbook.range.4096'] + df['range.pos.range.4096'] + df['ma.dif.10.trend.index.4096'] + df['range.pos.trend.index.4096']\n",
      "AIC: 45657.641, formula: df['ret.4096'] ~ df['dbook.range.4096'] + df['range.pos.range.4096'] + df['ma.dif.10.trend.index.4096'] + df['kdj.j.range.4096']\n",
      "AIC: 45657.221, formula: df['ret.4096'] ~ df['dbook.range.4096'] + df['range.pos.range.4096'] + df['ma.dif.10.trend.index.4096'] + df['kdj.j.4096']\n",
      "AIC: 45656.498, formula: df['ret.4096'] ~ df['dbook.range.4096'] + df['range.pos.range.4096'] + df['ma.dif.10.trend.index.4096'] + df['price.osci.volume.open.ratio.4096']\n",
      "AIC: 45657.648, formula: df['ret.4096'] ~ df['dbook.range.4096'] + df['range.pos.range.4096'] + df['ma.dif.10.trend.index.4096'] + df['nr.trend.index.4096']\n",
      "AIC: 45657.851, formula: df['ret.4096'] ~ df['dbook.range.4096'] + df['range.pos.range.4096'] + df['ma.dif.10.trend.index.4096'] + df['nr.range.4096']\n",
      "AIC: 45657.325, formula: df['ret.4096'] ~ df['dbook.range.4096'] + df['range.pos.range.4096'] + df['ma.dif.10.trend.index.4096'] + df['trade.imb.volume.open.ratio.4096']\n",
      "AIC: 45656.743, formula: df['ret.4096'] ~ df['dbook.range.4096'] + df['range.pos.range.4096'] + df['ma.dif.10.trend.index.4096'] + df['price.osci.std.4096']\n",
      "AIC: 45657.644, formula: df['ret.4096'] ~ df['dbook.range.4096'] + df['range.pos.range.4096'] + df['ma.dif.10.trend.index.4096'] + df['ma.dif.10.volume.open.ratio.4096']\n",
      "AIC: 45657.772, formula: df['ret.4096'] ~ df['dbook.range.4096'] + df['range.pos.range.4096'] + df['ma.dif.10.trend.index.4096'] + df['dbook.volume.open.ratio.4096']\n",
      "AIC: 45657.214, formula: df['ret.4096'] ~ df['dbook.range.4096'] + df['range.pos.range.4096'] + df['ma.dif.10.trend.index.4096'] + df['trade.imb.std.4096']\n",
      "AIC: 45657.658, formula: df['ret.4096'] ~ df['dbook.range.4096'] + df['range.pos.range.4096'] + df['ma.dif.10.trend.index.4096'] + df['kdj.k.range.4096']\n",
      "AIC: 45655.314, formula: df['ret.4096'] ~ df['dbook.range.4096'] + df['range.pos.range.4096'] + df['ma.dif.10.trend.index.4096'] + df['ma.dif.10.4096']\n",
      "AIC: 45657.793, formula: df['ret.4096'] ~ df['dbook.range.4096'] + df['range.pos.range.4096'] + df['ma.dif.10.trend.index.4096'] + df['kdj.k.trend.index.4096']\n",
      "AIC: 45657.227, formula: df['ret.4096'] ~ df['dbook.range.4096'] + df['range.pos.range.4096'] + df['ma.dif.10.trend.index.4096'] + df['trade.imb.range.4096']\n",
      "AIC: 45655.615, formula: df['ret.4096'] ~ df['dbook.range.4096'] + df['range.pos.range.4096'] + df['ma.dif.10.trend.index.4096'] + df['price.osci.range.4096']\n",
      "AIC: 45657.774, formula: df['ret.4096'] ~ df['dbook.range.4096'] + df['range.pos.range.4096'] + df['ma.dif.10.trend.index.4096'] + df['kdj.j.std.4096']\n",
      "AIC: 45657.711, formula: df['ret.4096'] ~ df['dbook.range.4096'] + df['range.pos.range.4096'] + df['ma.dif.10.trend.index.4096'] + df['trade.imb.trend.index.4096']\n",
      "AIC: 45657.665, formula: df['ret.4096'] ~ df['dbook.range.4096'] + df['range.pos.range.4096'] + df['ma.dif.10.trend.index.4096'] + df['range.pos.std.4096']\n",
      "AIC: 45654.661, formula: df['ret.4096'] ~ df['dbook.range.4096'] + df['range.pos.range.4096'] + df['ma.dif.10.trend.index.4096'] + df['nr.4096']\n",
      "AIC: 45657.699, formula: df['ret.4096'] ~ df['dbook.range.4096'] + df['range.pos.range.4096'] + df['ma.dif.10.trend.index.4096'] + df['kdj.k.std.4096']\n",
      "AIC: 45657.605, formula: df['ret.4096'] ~ df['dbook.range.4096'] + df['range.pos.range.4096'] + df['ma.dif.10.trend.index.4096'] + df['total.trade.imb.volume.open.ratio.4096']\n",
      "AIC: 45657.546, formula: df['ret.4096'] ~ df['dbook.range.4096'] + df['range.pos.range.4096'] + df['ma.dif.10.trend.index.4096'] + df['kdj.k.4096']\n",
      "AIC: 45657.567, formula: df['ret.4096'] ~ df['dbook.range.4096'] + df['range.pos.range.4096'] + df['ma.dif.10.trend.index.4096'] + df['ma.dif.10.range.4096']\n",
      "AIC: 45654.163, formula: df['ret.4096'] ~ df['dbook.range.4096'] + df['range.pos.range.4096'] + df['ma.dif.10.trend.index.4096'] + df['price.osci.4096'] + df['total.trade.imb.trend.index.4096']\n",
      "AIC: 45654.099, formula: df['ret.4096'] ~ df['dbook.range.4096'] + df['range.pos.range.4096'] + df['ma.dif.10.trend.index.4096'] + df['price.osci.4096'] + df['range.pos.4096']\n",
      "AIC: 45654.185, formula: df['ret.4096'] ~ df['dbook.range.4096'] + df['range.pos.range.4096'] + df['ma.dif.10.trend.index.4096'] + df['price.osci.4096'] + df['kdj.j.trend.index.4096']\n",
      "AIC: 45654.154, formula: df['ret.4096'] ~ df['dbook.range.4096'] + df['range.pos.range.4096'] + df['ma.dif.10.trend.index.4096'] + df['price.osci.4096'] + df['range.pos.volume.open.ratio.4096']\n",
      "AIC: 45653.977, formula: df['ret.4096'] ~ df['dbook.range.4096'] + df['range.pos.range.4096'] + df['ma.dif.10.trend.index.4096'] + df['price.osci.4096'] + df['nr.volume.open.ratio.4096']\n",
      "AIC: 45653.729, formula: df['ret.4096'] ~ df['dbook.range.4096'] + df['range.pos.range.4096'] + df['ma.dif.10.trend.index.4096'] + df['price.osci.4096'] + df['price.osci.trend.index.4096']\n",
      "AIC: 45654.206, formula: df['ret.4096'] ~ df['dbook.range.4096'] + df['range.pos.range.4096'] + df['ma.dif.10.trend.index.4096'] + df['price.osci.4096'] + df['trade.imb.4096']\n",
      "AIC: 45654.065, formula: df['ret.4096'] ~ df['dbook.range.4096'] + df['range.pos.range.4096'] + df['ma.dif.10.trend.index.4096'] + df['price.osci.4096'] + df['total.trade.imb.std.4096']\n",
      "AIC: 45653.839, formula: df['ret.4096'] ~ df['dbook.range.4096'] + df['range.pos.range.4096'] + df['ma.dif.10.trend.index.4096'] + df['price.osci.4096'] + df['kdj.k.volume.open.ratio.4096']\n",
      "AIC: 45653.906, formula: df['ret.4096'] ~ df['dbook.range.4096'] + df['range.pos.range.4096'] + df['ma.dif.10.trend.index.4096'] + df['price.osci.4096'] + df['total.trade.imb.4096']\n",
      "AIC: 45654.194, formula: df['ret.4096'] ~ df['dbook.range.4096'] + df['range.pos.range.4096'] + df['ma.dif.10.trend.index.4096'] + df['price.osci.4096'] + df['total.trade.imb.range.4096']\n",
      "AIC: 45654.19, formula: df['ret.4096'] ~ df['dbook.range.4096'] + df['range.pos.range.4096'] + df['ma.dif.10.trend.index.4096'] + df['price.osci.4096'] + df['dbook.4096']\n",
      "AIC: 45654.203, formula: df['ret.4096'] ~ df['dbook.range.4096'] + df['range.pos.range.4096'] + df['ma.dif.10.trend.index.4096'] + df['price.osci.4096'] + df['dbook.trend.index.4096']\n",
      "AIC: 45653.703, formula: df['ret.4096'] ~ df['dbook.range.4096'] + df['range.pos.range.4096'] + df['ma.dif.10.trend.index.4096'] + df['price.osci.4096'] + df['kdj.j.volume.open.ratio.4096']\n",
      "AIC: 45654.16, formula: df['ret.4096'] ~ df['dbook.range.4096'] + df['range.pos.range.4096'] + df['ma.dif.10.trend.index.4096'] + df['price.osci.4096'] + df['dbook.std.4096']\n",
      "AIC: 45654.199, formula: df['ret.4096'] ~ df['dbook.range.4096'] + df['range.pos.range.4096'] + df['ma.dif.10.trend.index.4096'] + df['price.osci.4096'] + df['nr.std.4096']\n",
      "AIC: 45654.034, formula: df['ret.4096'] ~ df['dbook.range.4096'] + df['range.pos.range.4096'] + df['ma.dif.10.trend.index.4096'] + df['price.osci.4096'] + df['ma.dif.10.std.4096']\n",
      "AIC: 45654.015, formula: df['ret.4096'] ~ df['dbook.range.4096'] + df['range.pos.range.4096'] + df['ma.dif.10.trend.index.4096'] + df['price.osci.4096'] + df['range.pos.trend.index.4096']\n",
      "AIC: 45653.534, formula: df['ret.4096'] ~ df['dbook.range.4096'] + df['range.pos.range.4096'] + df['ma.dif.10.trend.index.4096'] + df['price.osci.4096'] + df['kdj.j.range.4096']\n",
      "AIC: 45654.171, formula: df['ret.4096'] ~ df['dbook.range.4096'] + df['range.pos.range.4096'] + df['ma.dif.10.trend.index.4096'] + df['price.osci.4096'] + df['kdj.j.4096']\n",
      "AIC: 45653.517, formula: df['ret.4096'] ~ df['dbook.range.4096'] + df['range.pos.range.4096'] + df['ma.dif.10.trend.index.4096'] + df['price.osci.4096'] + df['price.osci.volume.open.ratio.4096']\n",
      "AIC: 45653.896, formula: df['ret.4096'] ~ df['dbook.range.4096'] + df['range.pos.range.4096'] + df['ma.dif.10.trend.index.4096'] + df['price.osci.4096'] + df['nr.trend.index.4096']\n",
      "AIC: 45654.205, formula: df['ret.4096'] ~ df['dbook.range.4096'] + df['range.pos.range.4096'] + df['ma.dif.10.trend.index.4096'] + df['price.osci.4096'] + df['nr.range.4096']\n",
      "AIC: 45653.7, formula: df['ret.4096'] ~ df['dbook.range.4096'] + df['range.pos.range.4096'] + df['ma.dif.10.trend.index.4096'] + df['price.osci.4096'] + df['trade.imb.volume.open.ratio.4096']\n",
      "AIC: 45654.16, formula: df['ret.4096'] ~ df['dbook.range.4096'] + df['range.pos.range.4096'] + df['ma.dif.10.trend.index.4096'] + df['price.osci.4096'] + df['price.osci.std.4096']\n",
      "AIC: 45653.225, formula: df['ret.4096'] ~ df['dbook.range.4096'] + df['range.pos.range.4096'] + df['ma.dif.10.trend.index.4096'] + df['price.osci.4096'] + df['ma.dif.10.volume.open.ratio.4096']\n",
      "AIC: 45654.133, formula: df['ret.4096'] ~ df['dbook.range.4096'] + df['range.pos.range.4096'] + df['ma.dif.10.trend.index.4096'] + df['price.osci.4096'] + df['dbook.volume.open.ratio.4096']\n",
      "AIC: 45653.749, formula: df['ret.4096'] ~ df['dbook.range.4096'] + df['range.pos.range.4096'] + df['ma.dif.10.trend.index.4096'] + df['price.osci.4096'] + df['trade.imb.std.4096']\n",
      "AIC: 45653.962, formula: df['ret.4096'] ~ df['dbook.range.4096'] + df['range.pos.range.4096'] + df['ma.dif.10.trend.index.4096'] + df['price.osci.4096'] + df['kdj.k.range.4096']\n",
      "AIC: 45654.138, formula: df['ret.4096'] ~ df['dbook.range.4096'] + df['range.pos.range.4096'] + df['ma.dif.10.trend.index.4096'] + df['price.osci.4096'] + df['ma.dif.10.4096']\n",
      "AIC: 45654.039, formula: df['ret.4096'] ~ df['dbook.range.4096'] + df['range.pos.range.4096'] + df['ma.dif.10.trend.index.4096'] + df['price.osci.4096'] + df['kdj.k.trend.index.4096']\n",
      "AIC: 45653.763, formula: df['ret.4096'] ~ df['dbook.range.4096'] + df['range.pos.range.4096'] + df['ma.dif.10.trend.index.4096'] + df['price.osci.4096'] + df['trade.imb.range.4096']\n",
      "AIC: 45654.129, formula: df['ret.4096'] ~ df['dbook.range.4096'] + df['range.pos.range.4096'] + df['ma.dif.10.trend.index.4096'] + df['price.osci.4096'] + df['price.osci.range.4096']\n",
      "AIC: 45653.747, formula: df['ret.4096'] ~ df['dbook.range.4096'] + df['range.pos.range.4096'] + df['ma.dif.10.trend.index.4096'] + df['price.osci.4096'] + df['kdj.j.std.4096']\n",
      "AIC: 45653.991, formula: df['ret.4096'] ~ df['dbook.range.4096'] + df['range.pos.range.4096'] + df['ma.dif.10.trend.index.4096'] + df['price.osci.4096'] + df['trade.imb.trend.index.4096']\n",
      "AIC: 45654.18, formula: df['ret.4096'] ~ df['dbook.range.4096'] + df['range.pos.range.4096'] + df['ma.dif.10.trend.index.4096'] + df['price.osci.4096'] + df['range.pos.std.4096']\n",
      "AIC: 45654.205, formula: df['ret.4096'] ~ df['dbook.range.4096'] + df['range.pos.range.4096'] + df['ma.dif.10.trend.index.4096'] + df['price.osci.4096'] + df['nr.4096']\n",
      "AIC: 45653.966, formula: df['ret.4096'] ~ df['dbook.range.4096'] + df['range.pos.range.4096'] + df['ma.dif.10.trend.index.4096'] + df['price.osci.4096'] + df['kdj.k.std.4096']\n",
      "AIC: 45654.17, formula: df['ret.4096'] ~ df['dbook.range.4096'] + df['range.pos.range.4096'] + df['ma.dif.10.trend.index.4096'] + df['price.osci.4096'] + df['total.trade.imb.volume.open.ratio.4096']\n",
      "AIC: 45654.067, formula: df['ret.4096'] ~ df['dbook.range.4096'] + df['range.pos.range.4096'] + df['ma.dif.10.trend.index.4096'] + df['price.osci.4096'] + df['kdj.k.4096']\n",
      "AIC: 45654.133, formula: df['ret.4096'] ~ df['dbook.range.4096'] + df['range.pos.range.4096'] + df['ma.dif.10.trend.index.4096'] + df['price.osci.4096'] + df['ma.dif.10.range.4096']\n",
      "The best formula: df['ret.4096'] ~ df['dbook.range.4096'] + df['range.pos.range.4096'] + df['ma.dif.10.trend.index.4096'] + df['price.osci.4096']\n"
     ]
    }
   ],
   "source": [
    "fwd_model = step_aic(smf.ols, train_mat.columns[:-4], [\"ret.\"+str(period)], data=train_mat)\n",
    "# The best formula: df['ret.4096'] ~ df['dbook.range.4096'] + df['range.pos.range.4096'] + df['ma.dif.10.trend.index.4096'] + df['price.osci.4096']"
   ]
  },
  {
   "cell_type": "code",
   "execution_count": 132,
   "metadata": {},
   "outputs": [
    {
     "data": {
      "text/plain": [
       "\"train_mat['ret.4096'] ~ +train_mat['dbook.range.4096']+train_mat['range.pos.range.4096']+train_mat['ma.dif.10.trend.index.4096']+train_mat['price.osci.4096']+0\""
      ]
     },
     "execution_count": 132,
     "metadata": {},
     "output_type": "execute_result"
    }
   ],
   "source": [
    "y_signal = \"ret.\"+str(period)\n",
    "formula = \"train_mat['\" + y_signal+\"'] ~ \"\n",
    "for signal in fwd_model[\"chosen.signals\"]:\n",
    "    formula = formula+\"+train_mat['\"+signal+\"']\"\n",
    "formula+=\"+0\"\n",
    "formula\n",
    "\n",
    "# \"train_mat['ret.4096'] ~ +train_mat['dbook.range.4096']+train_mat['range.pos.range.4096']+train_mat['ma.dif.10.trend.index.4096']+train_mat['price.osci.4096']+0\"\n"
   ]
  },
  {
   "cell_type": "code",
   "execution_count": 133,
   "metadata": {},
   "outputs": [
    {
     "name": "stdout",
     "output_type": "stream",
     "text": [
      "                                  OLS Regression Results                                  \n",
      "==========================================================================================\n",
      "Dep. Variable:     train_mat['ret.4096']   R-squared (uncentered):                   0.002\n",
      "Model:                               OLS   Adj. R-squared (uncentered):              0.002\n",
      "Method:                    Least Squares   F-statistic:                              7.652\n",
      "Date:                   Tue, 12 Apr 2022   Prob (F-statistic):                    3.73e-06\n",
      "Time:                           23:55:37   Log-Likelihood:                         -22821.\n",
      "No. Observations:                  16094   AIC:                                  4.565e+04\n",
      "Df Residuals:                      16090   BIC:                                  4.568e+04\n",
      "Df Model:                              4                                                  \n",
      "Covariance Type:               nonrobust                                                  \n",
      "===========================================================================================================\n",
      "                                              coef    std err          t      P>|t|      [0.025      0.975]\n",
      "-----------------------------------------------------------------------------------------------------------\n",
      "train_mat['dbook.range.4096']              -0.0265      0.008     -3.351      0.001      -0.042      -0.011\n",
      "train_mat['range.pos.range.4096']          -0.0641      0.015     -4.215      0.000      -0.094      -0.034\n",
      "train_mat['ma.dif.10.trend.index.4096']     0.0397      0.015      2.591      0.010       0.010       0.070\n",
      "train_mat['price.osci.4096']                0.0262      0.011      2.376      0.018       0.005       0.048\n",
      "==============================================================================\n",
      "Omnibus:                     2327.611   Durbin-Watson:                   1.997\n",
      "Prob(Omnibus):                  0.000   Jarque-Bera (JB):            33110.602\n",
      "Skew:                          -0.164   Prob(JB):                         0.00\n",
      "Kurtosis:                      10.019   Cond. No.                         3.99\n",
      "==============================================================================\n",
      "\n",
      "Notes:\n",
      "[1] R² is computed without centering (uncentered) since the model does not contain a constant.\n",
      "[2] Standard Errors assume that the covariance matrix of the errors is correctly specified.\n"
     ]
    }
   ],
   "source": [
    "formula\n",
    "fit_lm  = smf.ols(formula=formula, data=train_mat[train_mat.columns]).fit()\n",
    "print(fit_lm.summary())\n",
    "\n",
    "#                                   OLS Regression Results                                  \n",
    "# ==========================================================================================\n",
    "# Dep. Variable:     train_mat['ret.4096']   R-squared (uncentered):                   0.002\n",
    "# Model:                               OLS   Adj. R-squared (uncentered):              0.002\n",
    "# Method:                    Least Squares   F-statistic:                              7.652\n",
    "# Date:                   Tue, 12 Apr 2022   Prob (F-statistic):                    3.73e-06\n",
    "# Time:                           23:55:37   Log-Likelihood:                         -22821.\n",
    "# No. Observations:                  16094   AIC:                                  4.565e+04\n",
    "# Df Residuals:                      16090   BIC:                                  4.568e+04\n",
    "# Df Model:                              4                                                  \n",
    "# Covariance Type:               nonrobust                                                  \n",
    "# ===========================================================================================================\n",
    "#                                               coef    std err          t      P>|t|      [0.025      0.975]\n",
    "# -----------------------------------------------------------------------------------------------------------\n",
    "# train_mat['dbook.range.4096']              -0.0265      0.008     -3.351      0.001      -0.042      -0.011\n",
    "# train_mat['range.pos.range.4096']          -0.0641      0.015     -4.215      0.000      -0.094      -0.034\n",
    "# train_mat['ma.dif.10.trend.index.4096']     0.0397      0.015      2.591      0.010       0.010       0.070\n",
    "# train_mat['price.osci.4096']                0.0262      0.011      2.376      0.018       0.005       0.048\n",
    "# ==============================================================================\n",
    "# Omnibus:                     2327.611   Durbin-Watson:                   1.997\n",
    "# Prob(Omnibus):                  0.000   Jarque-Bera (JB):            33110.602\n",
    "# Skew:                          -0.164   Prob(JB):                         0.00\n",
    "# Kurtosis:                      10.019   Cond. No.                         3.99\n",
    "# ==============================================================================\n",
    "\n",
    "# Notes:\n",
    "# [1] R² is computed without centering (uncentered) since the model does not contain a constant.\n",
    "# [2] Standard Errors assume that the covariance matrix of the errors is correctly specified."
   ]
  },
  {
   "cell_type": "code",
   "execution_count": 134,
   "metadata": {},
   "outputs": [
    {
     "data": {
      "text/plain": [
       "array([-0.02645155, -0.06413054,  0.03972938,  0.02615397])"
      ]
     },
     "execution_count": 134,
     "metadata": {},
     "output_type": "execute_result"
    }
   ],
   "source": [
    "strat = \"aic.\"+str(period)\n",
    "for product in product_list:\n",
    "    os.makedirs(SAVE_PATH+\"/tmp pkl/\"+product+\"/\"+strat, exist_ok=True)\n",
    "fit_coef = fit_lm.params.values\n",
    "fit_coef\n",
    "\n",
    "## array([-0.02645155, -0.06413054,  0.03972938,  0.02615397])"
   ]
  },
  {
   "cell_type": "code",
   "execution_count": 135,
   "metadata": {},
   "outputs": [
    {
     "name": "stdout",
     "output_type": "stream",
     "text": [
      "bu\n",
      "dbook.range.4096             -0.000109\n",
      "range.pos.range.4096         -0.000091\n",
      "ma.dif.10.trend.index.4096    0.069193\n",
      "price.osci.4096               0.000283\n",
      "dtype: float64\n",
      "ru\n",
      "dbook.range.4096             -0.000041\n",
      "range.pos.range.4096         -0.000023\n",
      "ma.dif.10.trend.index.4096    0.081304\n",
      "price.osci.4096               0.000270\n",
      "dtype: float64\n",
      "v\n",
      "dbook.range.4096             -0.000044\n",
      "range.pos.range.4096         -0.000040\n",
      "ma.dif.10.trend.index.4096    0.076032\n",
      "price.osci.4096               0.000303\n",
      "dtype: float64\n",
      "pp\n",
      "dbook.range.4096             -0.000083\n",
      "range.pos.range.4096         -0.000031\n",
      "ma.dif.10.trend.index.4096    0.074773\n",
      "price.osci.4096               0.000245\n",
      "dtype: float64\n",
      "l\n",
      "dbook.range.4096             -0.000044\n",
      "range.pos.range.4096         -0.000031\n",
      "ma.dif.10.trend.index.4096    0.078101\n",
      "price.osci.4096               0.000242\n",
      "dtype: float64\n",
      "jd\n",
      "dbook.range.4096             -0.000107\n",
      "range.pos.range.4096         -0.000072\n",
      "ma.dif.10.trend.index.4096    0.076865\n",
      "price.osci.4096               0.000308\n",
      "dtype: float64\n",
      "Wall time: 6min 3s\n"
     ]
    },
    {
     "data": {
      "text/plain": [
       "''"
      ]
     },
     "execution_count": 135,
     "metadata": {},
     "output_type": "execute_result"
    }
   ],
   "source": [
    "%%time\n",
    "for product in product_list:\n",
    "    print(product)\n",
    "    coef = fit_coef*train_std_mat[product][y_signal]/train_std_mat[product][fwd_model[\"chosen.signals\"]]\n",
    "    print(coef)\n",
    "    parLapply(CORE_NUM, all_dates, get_daily_pred, \n",
    "              product=product, signal_list=fwd_model[\"chosen.signals\"], \n",
    "              coef=coef, strat=strat, HEAD_PATH=SAVE_PATH)\n",
    ";\n",
    "\n",
    "# bu\n",
    "# dbook.range.4096             -0.000109\n",
    "# range.pos.range.4096         -0.000091\n",
    "# ma.dif.10.trend.index.4096    0.069193\n",
    "# price.osci.4096               0.000283\n",
    "# dtype: float64\n",
    "# ru\n",
    "# dbook.range.4096             -0.000041\n",
    "# range.pos.range.4096         -0.000023\n",
    "# ma.dif.10.trend.index.4096    0.081304\n",
    "# price.osci.4096               0.000270\n",
    "# dtype: float64\n",
    "# v\n",
    "# dbook.range.4096             -0.000044\n",
    "# range.pos.range.4096         -0.000040\n",
    "# ma.dif.10.trend.index.4096    0.076032\n",
    "# price.osci.4096               0.000303\n",
    "# dtype: float64\n",
    "# pp\n",
    "# dbook.range.4096             -0.000083\n",
    "# range.pos.range.4096         -0.000031\n",
    "# ma.dif.10.trend.index.4096    0.074773\n",
    "# price.osci.4096               0.000245\n",
    "# dtype: float64\n",
    "# l\n",
    "# dbook.range.4096             -0.000044\n",
    "# range.pos.range.4096         -0.000031\n",
    "# ma.dif.10.trend.index.4096    0.078101\n",
    "# price.osci.4096               0.000242\n",
    "# dtype: float64\n",
    "# jd\n",
    "# dbook.range.4096             -0.000107\n",
    "# range.pos.range.4096         -0.000072\n",
    "# ma.dif.10.trend.index.4096    0.076865\n",
    "# price.osci.4096               0.000308\n",
    "# dtype: float64\n",
    "# Wall time: 6min 3s"
   ]
  },
  {
   "cell_type": "markdown",
   "metadata": {},
   "source": [
    "- the result is worse than original ret.4096\n",
    "- we can use machine learning models next week\n"
   ]
  },
  {
   "cell_type": "code",
   "execution_count": 136,
   "metadata": {},
   "outputs": [
    {
     "name": "stdout",
     "output_type": "stream",
     "text": [
      "Wall time: 1min 52s\n"
     ]
    }
   ],
   "source": [
    "%%time\n",
    "for product in product_list:\n",
    "    par_get_all_signal(\"aic.4096\", all_dates, product, 4096)\n",
    "\n",
    "# Wall time: 1min 52s\n",
    "    "
   ]
  },
  {
   "cell_type": "code",
   "execution_count": 137,
   "metadata": {},
   "outputs": [
    {
     "name": "stdout",
     "output_type": "stream",
     "text": [
      "reverse=1\n",
      "reverse=1\n",
      "reverse=1\n",
      "reverse=1\n",
      "reverse=1\n",
      "reverse=1\n",
      "Wall time: 12min 33s\n"
     ]
    }
   ],
   "source": [
    "%%time\n",
    "for product in product_list:\n",
    "    spread = product_info[product][\"spread\"]\n",
    "    tranct = product_info[product][\"tranct\"]\n",
    "    tranct_ratio = product_info[product][\"tranct.ratio\"] \n",
    "    evaluate_signal(\"aic\", all_dates, product, 2, 20, \n",
    "                    CORE_NUM, HEAD_PATH, SAVE_PATH,period=4096, split_str=split_str, tranct=tranct, \n",
    "                    max_spread=spread*1.1, tranct_ratio=tranct_ratio, atr_filter=0.01, save_path=\"signal result atr\",reverse=1)\n",
    "    \n",
    "# reverse=1\n",
    "# reverse=1\n",
    "# reverse=1\n",
    "# reverse=1\n",
    "# reverse=1\n",
    "# Wall time:12min 33s\n",
    "\n"
   ]
  },
  {
   "cell_type": "code",
   "execution_count": 138,
   "metadata": {},
   "outputs": [
    {
     "name": "stdout",
     "output_type": "stream",
     "text": [
      "bu train sharpe  0.7172191381865617 test sharpe  -0.2308105525621993\n",
      "ru train sharpe  0.628249848461226 test sharpe  0.601750093257452\n",
      "v train sharpe  nan test sharpe  nan\n",
      "pp train sharpe  0.6679313573252557 test sharpe  1.4530948529559495\n",
      "l train sharpe  1.0076431862232569 test sharpe  1.3435249569722751\n",
      "jd train sharpe  0.8289148284993739 test sharpe  1.360221006710771\n"
     ]
    }
   ],
   "source": [
    "for product in product_list:\n",
    "    spread = product_info[product][\"spread\"]\n",
    "    signal_stat = load(HEAD_PATH+\"/signal result atr/\"+product+\".\"+\"aic.4096\"+\".trend.pkl\")\n",
    "    train_stat = signal_stat[\"train.stat\"]\n",
    "    good_strat = (train_stat[\"final.result\"][\"avg.pnl\"]>2*spread)\n",
    "    train_pnl = train_stat[\"daily.ret\"].loc[:, good_strat].sum(axis=1)/sum(good_strat)\n",
    "    test_stat = signal_stat[\"test.stat\"]\n",
    "    test_pnl = test_stat[\"daily.ret\"].loc[:, good_strat].sum(axis=1)/sum(good_strat)\n",
    "    print(product, \"train sharpe \", sharpe(train_pnl), \"test sharpe \", sharpe(test_pnl))\n",
    "    \n",
    "# bu train sharpe  0.7172191381865617 test sharpe  -0.2308105525621993\n",
    "# ru train sharpe  0.628249848461226 test sharpe  0.601750093257452\n",
    "# v train sharpe  nan test sharpe  nan\n",
    "# pp train sharpe  0.6679313573252557 test sharpe  1.4530948529559495\n",
    "# l train sharpe  1.0076431862232569 test sharpe  1.3435249569722751\n",
    "# jd train sharpe  0.8289148284993739 test sharpe  1.360221006710771\n",
    "\n",
    "\n"
   ]
  },
  {
   "cell_type": "markdown",
   "metadata": {},
   "source": [
    "- The result is not good\n",
    "- Now we use another method of training\n",
    "- we train each product with separate models\n"
   ]
  },
  {
   "cell_type": "code",
   "execution_count": 139,
   "metadata": {},
   "outputs": [],
   "source": [
    "coef_list = dict([])\n",
    "each_signal = dict([])\n",
    "for product in product_list:\n",
    "    train_mat = load(HEAD_PATH+\"/train test mat/\"+product+\".train.mat.pkl\")\n",
    "    result = forward_selected(train_mat[train_mat.columns[:-3]], \"ret.\"+str(period))\n",
    "    y_signal = \"ret.\"+str(period)\n",
    "    formula = \"train_mat['\" + y_signal+\"'] ~ \"\n",
    "    for signal in result[\"chosen.signals\"]:\n",
    "        formula = formula+\"+train_mat['\"+signal+\"']\"\n",
    "    formula+=\"+0\"\n",
    "    fit_lm = smf.ols(formula=formula, data=train_mat[train_mat.columns[:-3]]).fit()\n",
    "    coef = fit_lm.params.values\n",
    "    coef_list[product] = coef\n",
    "    each_signal[product] = result[\"chosen.signals\"]\n",
    "    "
   ]
  },
  {
   "cell_type": "code",
   "execution_count": 140,
   "metadata": {},
   "outputs": [],
   "source": [
    "save([coef_list, each_signal], HEAD_PATH+\"/energy.each_coef.pkl\")"
   ]
  },
  {
   "cell_type": "code",
   "execution_count": 141,
   "metadata": {},
   "outputs": [],
   "source": [
    "coef_list, each_signal = load(HEAD_PATH+\"/energy.each_coef.pkl\")"
   ]
  },
  {
   "cell_type": "code",
   "execution_count": 142,
   "metadata": {
    "scrolled": false
   },
   "outputs": [
    {
     "name": "stdout",
     "output_type": "stream",
     "text": [
      "bu\n",
      "[ 0.00091892 -0.00802624 -0.00899413  0.00481296 -0.00103872]\n",
      "ru\n",
      "[-2.87180807e-04 -5.07374112e-02  4.65863931e-01 -2.29611619e-04\n",
      " -2.15138064e-01 -4.65209445e-03  3.15663036e+00  4.74733086e-04\n",
      "  3.39616006e-05 -1.41627900e-02  7.26636843e-04 -2.77184857e-02\n",
      "  1.60088537e-02]\n",
      "v\n",
      "[-1.53283107e-04  6.60368971e-04 -2.09007365e-03  4.47756453e-04\n",
      " -1.96411640e-04  8.47508904e-04 -5.20152965e-04  1.04611097e-04\n",
      "  3.86056316e-01]\n",
      "pp\n",
      "[-0.00171969  0.02078896  0.00966522 -0.0006732  -0.02027991  0.17739688]\n",
      "l\n",
      "[ 6.40057804e-03 -3.62033643e-04  3.30081569e-02 -1.76175243e-02\n",
      "  8.35097295e-02  1.14898516e-02 -1.92182727e-03  1.12420564e+00\n",
      " -4.05953440e-02 -1.30383793e-02 -2.68388161e-03  3.29643459e-04\n",
      " -9.44148740e-04  5.22522651e-05  8.62364258e-03 -1.36626644e-03]\n",
      "jd\n",
      "[-0.02726014  0.00182737  0.52427828 -0.00055992  0.00098545 -0.12496558]\n",
      "Wall time: 11min 31s\n"
     ]
    },
    {
     "data": {
      "text/plain": [
       "''"
      ]
     },
     "execution_count": 142,
     "metadata": {},
     "output_type": "execute_result"
    }
   ],
   "source": [
    "%%time\n",
    "strat = \"each.4096\"\n",
    "\n",
    "for product in product_list:\n",
    "    os.makedirs(SAVE_PATH+\"/tmp pkl/\"+product+\"/\"+strat, exist_ok=True)\n",
    "    print(product)\n",
    "    coef = coef_list[product]\n",
    "    print(coef)\n",
    "    parLapply(CORE_NUM, all_dates, get_daily_pred, product=product, signal_list=each_signal[product], \n",
    "              coef=coef, strat=strat, HEAD_PATH=SAVE_PATH)\n",
    ";\n",
    "\n",
    "# bu\n",
    "# [ 0.00091892 -0.00802624 -0.00899413  0.00481296 -0.00103872]\n",
    "# ru\n",
    "# [-2.87180807e-04 -5.07374112e-02  4.65863931e-01 -2.29611619e-04\n",
    "#  -2.15138064e-01 -4.65209445e-03  3.15663036e+00  4.74733086e-04\n",
    "#   3.39616006e-05 -1.41627900e-02  7.26636843e-04 -2.77184857e-02\n",
    "#   1.60088537e-02]\n",
    "# v\n",
    "# [-1.53283107e-04  6.60368971e-04 -2.09007365e-03  4.47756453e-04\n",
    "#  -1.96411640e-04  8.47508904e-04 -5.20152965e-04  1.04611097e-04\n",
    "#   3.86056316e-01]\n",
    "# pp\n",
    "# [-0.00171969  0.02078896  0.00966522 -0.0006732  -0.02027991  0.17739688]\n",
    "# l\n",
    "# [ 6.40057804e-03 -3.62033643e-04  3.30081569e-02 -1.76175243e-02\n",
    "#   8.35097295e-02  1.14898516e-02 -1.92182727e-03  1.12420564e+00\n",
    "#  -4.05953440e-02 -1.30383793e-02 -2.68388161e-03  3.29643459e-04\n",
    "#  -9.44148740e-04  5.22522651e-05  8.62364258e-03 -1.36626644e-03]\n",
    "# jd\n",
    "# [-0.02726014  0.00182737  0.52427828 -0.00055992  0.00098545 -0.12496558]\n",
    "# Wall time: 11min 31s\n"
   ]
  },
  {
   "cell_type": "code",
   "execution_count": 143,
   "metadata": {},
   "outputs": [
    {
     "name": "stdout",
     "output_type": "stream",
     "text": [
      "Wall time: 1min 51s\n"
     ]
    }
   ],
   "source": [
    "%%time\n",
    "for product in product_list:\n",
    "    par_get_all_signal(\"each.4096\", all_dates, product, 4096)\n",
    "# Wall time: 1min 51s"
   ]
  },
  {
   "cell_type": "code",
   "execution_count": 144,
   "metadata": {},
   "outputs": [
    {
     "name": "stdout",
     "output_type": "stream",
     "text": [
      "reverse=1\n",
      "reverse=1\n",
      "reverse=1\n",
      "reverse=1\n",
      "reverse=1\n",
      "reverse=1\n",
      "Wall time: 15min 27s\n"
     ]
    }
   ],
   "source": [
    "%%time\n",
    "for product in product_list:\n",
    "    spread = product_info[product][\"spread\"]\n",
    "    tranct = product_info[product][\"tranct\"]\n",
    "    tranct_ratio = product_info[product][\"tranct.ratio\"] \n",
    "    evaluate_signal(\"each\", all_dates, product, 2, 20, \n",
    "                    CORE_NUM, HEAD_PATH, SAVE_PATH,period=4096, split_str=split_str, tranct=tranct, \n",
    "                    max_spread=spread*1.1, tranct_ratio=tranct_ratio, atr_filter=0.01, save_path=\"signal result atr\",reverse=1)\n",
    "    \n",
    "# reverse=1\n",
    "# reverse=1\n",
    "# reverse=1\n",
    "# reverse=1\n",
    "# reverse=1\n",
    "# reverse=1\n",
    "# Wall time: 15min 27s\n",
    "\n",
    "\n"
   ]
  },
  {
   "cell_type": "code",
   "execution_count": 145,
   "metadata": {
    "scrolled": true
   },
   "outputs": [
    {
     "name": "stdout",
     "output_type": "stream",
     "text": [
      "bu train sharpe  0.9114715490412441 test sharpe  0.19020977295067365\n",
      "ru train sharpe  nan test sharpe  nan\n",
      "v train sharpe  1.1277688443302778 test sharpe  0.08901173631779753\n",
      "pp train sharpe  0.7963821885207889 test sharpe  1.248891565982823\n",
      "l train sharpe  1.5527422479349964 test sharpe  0.31636803344640524\n",
      "jd train sharpe  nan test sharpe  nan\n"
     ]
    }
   ],
   "source": [
    "for product in product_list:\n",
    "    spread = product_info[product][\"spread\"]\n",
    "    signal_stat = load(HEAD_PATH+\"/signal result atr/\"+product+\".\"+\"each.4096\"+\".trend.pkl\")\n",
    "    train_stat = signal_stat[\"train.stat\"]\n",
    "    good_strat = (train_stat[\"final.result\"][\"avg.pnl\"]>6*spread)\n",
    "    train_pnl = train_stat[\"daily.ret\"].loc[:, good_strat].sum(axis=1)/sum(good_strat)\n",
    "    test_stat = signal_stat[\"test.stat\"]\n",
    "    test_pnl = test_stat[\"daily.ret\"].loc[:, good_strat].sum(axis=1)/sum(good_strat)\n",
    "    print(product, \"train sharpe \", sharpe(train_pnl), \"test sharpe \", sharpe(test_pnl))\n",
    "\n",
    "    \n",
    "# bu train sharpe  0.9114715490412441 test sharpe  0.19020977295067365\n",
    "# ru train sharpe  nan test sharpe  nan\n",
    "# v train sharpe  1.1277688443302778 test sharpe  0.08901173631779753\n",
    "# pp train sharpe  0.7963821885207889 test sharpe  1.248891565982823\n",
    "# l train sharpe  1.5527422479349964 test sharpe  0.31636803344640524\n",
    "# jd train sharpe  nan test sharpe  nan\n",
    "\n",
    "\n",
    "\n",
    "\n"
   ]
  },
  {
   "cell_type": "markdown",
   "metadata": {},
   "source": [
    "Conclusion\n",
    "\n",
    "- we can use a linear model for T,TF\n"
   ]
  },
  {
   "cell_type": "code",
   "execution_count": null,
   "metadata": {},
   "outputs": [],
   "source": []
  }
 ],
 "metadata": {
  "kernelspec": {
   "display_name": "Python 3 (ipykernel)",
   "language": "python",
   "name": "python3"
  },
  "language_info": {
   "codemirror_mode": {
    "name": "ipython",
    "version": 3
   },
   "file_extension": ".py",
   "mimetype": "text/x-python",
   "name": "python",
   "nbconvert_exporter": "python",
   "pygments_lexer": "ipython3",
   "version": "3.8.12"
  }
 },
 "nbformat": 4,
 "nbformat_minor": 2
}
